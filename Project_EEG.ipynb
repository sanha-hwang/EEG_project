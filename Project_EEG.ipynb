{
  "nbformat": 4,
  "nbformat_minor": 0,
  "metadata": {
    "colab": {
      "name": "Project_EEG",
      "provenance": [],
      "collapsed_sections": [],
      "include_colab_link": true
    },
    "kernelspec": {
      "display_name": "Python 3",
      "name": "python3"
    }
  },
  "cells": [
    {
      "cell_type": "markdown",
      "metadata": {
        "id": "view-in-github",
        "colab_type": "text"
      },
      "source": [
        "<a href=\"https://colab.research.google.com/github/sanha-hwang/EEG_project/blob/main/Project_EEG.ipynb\" target=\"_parent\"><img src=\"https://colab.research.google.com/assets/colab-badge.svg\" alt=\"Open In Colab\"/></a>"
      ]
    },
    {
      "cell_type": "markdown",
      "metadata": {
        "id": "OfwiuHU8_NdF"
      },
      "source": [
        "<H1>Project : EEG signal 분석 </H1>\n",
        "\n",
        "[datasetLink](https://www.kaggle.com/wanghaohan/confused-eeg)\n",
        "\n",
        "1. EEG 신호란 electroencephalography의 약자이며 '뇌전도'라고 번역된다.  전극을 통해 뇌의 전기적인 활동을 기록하는 전기생리학적 측정방법을 말한다. 뇌의 활동은 뇌파라는 전기신호를 방출하게 되고 EEG을 통해 뇌파의 스펙트럼 밀도를 분석하게 된다.    \n",
        "\n",
        "2. 데이터는 10명의 대학생을 대상으로 여러 카테고리별로 10개씩 총 20개의 동영상을 시청하면서 전두엽의 활동을 측정하여, 혼란스러울 때의 뇌파상태와 평온할 때의 뇌파상태를 측정하였습니다. 동영상에는 혼란스럽지않을 기초대수학 또는 기하학을 소개하는 온라인 교육영상이 있으며, 반대로 익숙치 않으면 혼란스러울 양자역학, 줄기세포 연구 등 과 같은 주제의 교육영상이 있습니다. 동영상 길이는 약 2분이며, 영상을 조금 더 혼란스럽게 만들기 위해 주제 중간에 2분클립을 잘랐습니다.\n",
        "\n",
        "\n",
        "3. 학생들은 전두엽의 활동을 측정하는 단일 무선채널의 mindset을 착용하였으며, Mindset은 이마에 있는 전극과 귀에 각각 접촉하는 두 개의 전극 사이의 전압을 측정하였습니다.    \n",
        "\n",
        "4. 각 학생들은 세션이 끝난 후, 자신의 혼란 정도를 1-7의 척도로 평가하였으며, 1은 최저, 7은 최고 레벨입니다. 혼란정도는 정규화되어 labeling 되었다.\n",
        "\n",
        "\n",
        "\n"
      ]
    },
    {
      "cell_type": "code",
      "metadata": {
        "id": "p2gMZTla2KHn",
        "colab": {
          "base_uri": "https://localhost:8080/"
        },
        "outputId": "efdd77d2-c1ae-46f9-868d-e4c97f726141"
      },
      "source": [
        "from google.colab import drive\n",
        "drive.mount('/content/drive')"
      ],
      "execution_count": 1,
      "outputs": [
        {
          "output_type": "stream",
          "text": [
            "Mounted at /content/drive\n"
          ],
          "name": "stdout"
        }
      ]
    },
    {
      "cell_type": "code",
      "metadata": {
        "id": "BXRC2qyx2Xp7"
      },
      "source": [
        "import pandas as pd\n",
        "import numpy as np\n",
        "\n",
        "EEG_data = pd.read_csv(\"/content/drive/MyDrive/EEG_data.csv\") # EEG 데이터 불러오기\n",
        "person_info = pd.read_csv(\"/content/drive/MyDrive/demographic_info.csv\") #실험군 데이터"
      ],
      "execution_count": 2,
      "outputs": []
    },
    {
      "cell_type": "code",
      "metadata": {
        "id": "4UuY1BNp2hDL",
        "colab": {
          "base_uri": "https://localhost:8080/",
          "height": 243
        },
        "outputId": "bf6bed1d-27bd-4bcd-94ee-ae07a9fcec74"
      },
      "source": [
        "EEG_data.head()"
      ],
      "execution_count": 3,
      "outputs": [
        {
          "output_type": "execute_result",
          "data": {
            "text/html": [
              "<div>\n",
              "<style scoped>\n",
              "    .dataframe tbody tr th:only-of-type {\n",
              "        vertical-align: middle;\n",
              "    }\n",
              "\n",
              "    .dataframe tbody tr th {\n",
              "        vertical-align: top;\n",
              "    }\n",
              "\n",
              "    .dataframe thead th {\n",
              "        text-align: right;\n",
              "    }\n",
              "</style>\n",
              "<table border=\"1\" class=\"dataframe\">\n",
              "  <thead>\n",
              "    <tr style=\"text-align: right;\">\n",
              "      <th></th>\n",
              "      <th>SubjectID</th>\n",
              "      <th>VideoID</th>\n",
              "      <th>Attention</th>\n",
              "      <th>Mediation</th>\n",
              "      <th>Raw</th>\n",
              "      <th>Delta</th>\n",
              "      <th>Theta</th>\n",
              "      <th>Alpha1</th>\n",
              "      <th>Alpha2</th>\n",
              "      <th>Beta1</th>\n",
              "      <th>Beta2</th>\n",
              "      <th>Gamma1</th>\n",
              "      <th>Gamma2</th>\n",
              "      <th>predefinedlabel</th>\n",
              "      <th>user-definedlabeln</th>\n",
              "    </tr>\n",
              "  </thead>\n",
              "  <tbody>\n",
              "    <tr>\n",
              "      <th>0</th>\n",
              "      <td>0.0</td>\n",
              "      <td>0.0</td>\n",
              "      <td>56.0</td>\n",
              "      <td>43.0</td>\n",
              "      <td>278.0</td>\n",
              "      <td>301963.0</td>\n",
              "      <td>90612.0</td>\n",
              "      <td>33735.0</td>\n",
              "      <td>23991.0</td>\n",
              "      <td>27946.0</td>\n",
              "      <td>45097.0</td>\n",
              "      <td>33228.0</td>\n",
              "      <td>8293.0</td>\n",
              "      <td>0.0</td>\n",
              "      <td>0.0</td>\n",
              "    </tr>\n",
              "    <tr>\n",
              "      <th>1</th>\n",
              "      <td>0.0</td>\n",
              "      <td>0.0</td>\n",
              "      <td>40.0</td>\n",
              "      <td>35.0</td>\n",
              "      <td>-50.0</td>\n",
              "      <td>73787.0</td>\n",
              "      <td>28083.0</td>\n",
              "      <td>1439.0</td>\n",
              "      <td>2240.0</td>\n",
              "      <td>2746.0</td>\n",
              "      <td>3687.0</td>\n",
              "      <td>5293.0</td>\n",
              "      <td>2740.0</td>\n",
              "      <td>0.0</td>\n",
              "      <td>0.0</td>\n",
              "    </tr>\n",
              "    <tr>\n",
              "      <th>2</th>\n",
              "      <td>0.0</td>\n",
              "      <td>0.0</td>\n",
              "      <td>47.0</td>\n",
              "      <td>48.0</td>\n",
              "      <td>101.0</td>\n",
              "      <td>758353.0</td>\n",
              "      <td>383745.0</td>\n",
              "      <td>201999.0</td>\n",
              "      <td>62107.0</td>\n",
              "      <td>36293.0</td>\n",
              "      <td>130536.0</td>\n",
              "      <td>57243.0</td>\n",
              "      <td>25354.0</td>\n",
              "      <td>0.0</td>\n",
              "      <td>0.0</td>\n",
              "    </tr>\n",
              "    <tr>\n",
              "      <th>3</th>\n",
              "      <td>0.0</td>\n",
              "      <td>0.0</td>\n",
              "      <td>47.0</td>\n",
              "      <td>57.0</td>\n",
              "      <td>-5.0</td>\n",
              "      <td>2012240.0</td>\n",
              "      <td>129350.0</td>\n",
              "      <td>61236.0</td>\n",
              "      <td>17084.0</td>\n",
              "      <td>11488.0</td>\n",
              "      <td>62462.0</td>\n",
              "      <td>49960.0</td>\n",
              "      <td>33932.0</td>\n",
              "      <td>0.0</td>\n",
              "      <td>0.0</td>\n",
              "    </tr>\n",
              "    <tr>\n",
              "      <th>4</th>\n",
              "      <td>0.0</td>\n",
              "      <td>0.0</td>\n",
              "      <td>44.0</td>\n",
              "      <td>53.0</td>\n",
              "      <td>-8.0</td>\n",
              "      <td>1005145.0</td>\n",
              "      <td>354328.0</td>\n",
              "      <td>37102.0</td>\n",
              "      <td>88881.0</td>\n",
              "      <td>45307.0</td>\n",
              "      <td>99603.0</td>\n",
              "      <td>44790.0</td>\n",
              "      <td>29749.0</td>\n",
              "      <td>0.0</td>\n",
              "      <td>0.0</td>\n",
              "    </tr>\n",
              "  </tbody>\n",
              "</table>\n",
              "</div>"
            ],
            "text/plain": [
              "   SubjectID  VideoID  Attention  ...   Gamma2  predefinedlabel  user-definedlabeln\n",
              "0        0.0      0.0       56.0  ...   8293.0              0.0                 0.0\n",
              "1        0.0      0.0       40.0  ...   2740.0              0.0                 0.0\n",
              "2        0.0      0.0       47.0  ...  25354.0              0.0                 0.0\n",
              "3        0.0      0.0       47.0  ...  33932.0              0.0                 0.0\n",
              "4        0.0      0.0       44.0  ...  29749.0              0.0                 0.0\n",
              "\n",
              "[5 rows x 15 columns]"
            ]
          },
          "metadata": {
            "tags": []
          },
          "execution_count": 3
        }
      ]
    },
    {
      "cell_type": "code",
      "metadata": {
        "id": "vgoeypYD2-I5",
        "colab": {
          "base_uri": "https://localhost:8080/"
        },
        "outputId": "1072f97d-d92a-4ba8-8aa9-2cfcbcd70799"
      },
      "source": [
        "EEG_data.dtypes"
      ],
      "execution_count": 5,
      "outputs": [
        {
          "output_type": "execute_result",
          "data": {
            "text/plain": [
              "SubjectID             float64\n",
              "VideoID               float64\n",
              "Attention             float64\n",
              "Mediation             float64\n",
              "Raw                   float64\n",
              "Delta                 float64\n",
              "Theta                 float64\n",
              "Alpha1                float64\n",
              "Alpha2                float64\n",
              "Beta1                 float64\n",
              "Beta2                 float64\n",
              "Gamma1                float64\n",
              "Gamma2                float64\n",
              "predefinedlabel       float64\n",
              "user-definedlabeln    float64\n",
              "dtype: object"
            ]
          },
          "metadata": {
            "tags": []
          },
          "execution_count": 5
        }
      ]
    },
    {
      "cell_type": "code",
      "metadata": {
        "id": "R_7pW8af3Hcz"
      },
      "source": [
        "EEG_data[['SubjectID','VideoID']] = EEG_data[['SubjectID','VideoID']].astype(int)"
      ],
      "execution_count": 6,
      "outputs": []
    },
    {
      "cell_type": "code",
      "metadata": {
        "id": "-chjoiDO9_cQ",
        "colab": {
          "base_uri": "https://localhost:8080/"
        },
        "outputId": "692d54ea-73ed-48b4-8c46-69c8381439e4"
      },
      "source": [
        "EEG_data.dtypes"
      ],
      "execution_count": 7,
      "outputs": [
        {
          "output_type": "execute_result",
          "data": {
            "text/plain": [
              "SubjectID               int64\n",
              "VideoID                 int64\n",
              "Attention             float64\n",
              "Mediation             float64\n",
              "Raw                   float64\n",
              "Delta                 float64\n",
              "Theta                 float64\n",
              "Alpha1                float64\n",
              "Alpha2                float64\n",
              "Beta1                 float64\n",
              "Beta2                 float64\n",
              "Gamma1                float64\n",
              "Gamma2                float64\n",
              "predefinedlabel       float64\n",
              "user-definedlabeln    float64\n",
              "dtype: object"
            ]
          },
          "metadata": {
            "tags": []
          },
          "execution_count": 7
        }
      ]
    },
    {
      "cell_type": "code",
      "metadata": {
        "id": "LZYUS8Rd-Avu"
      },
      "source": [
        ""
      ],
      "execution_count": null,
      "outputs": []
    }
  ]
}