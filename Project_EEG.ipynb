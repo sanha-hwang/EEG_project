{
  "nbformat": 4,
  "nbformat_minor": 0,
  "metadata": {
    "colab": {
      "name": "Project_EEG",
      "provenance": [],
      "collapsed_sections": [],
      "include_colab_link": true
    },
    "kernelspec": {
      "display_name": "Python 3",
      "name": "python3"
    }
  },
  "cells": [
    {
      "cell_type": "markdown",
      "metadata": {
        "id": "view-in-github",
        "colab_type": "text"
      },
      "source": [
        "<a href=\"https://colab.research.google.com/github/sanha-hwang/EEG_project/blob/workspace/Project_EEG.ipynb\" target=\"_parent\"><img src=\"https://colab.research.google.com/assets/colab-badge.svg\" alt=\"Open In Colab\"/></a>"
      ]
    },
    {
      "cell_type": "markdown",
      "metadata": {
        "id": "OfwiuHU8_NdF"
      },
      "source": [
        "<H1>Project : EEG signal 분석 </H1>\n",
        "\n",
        "[datasetLink](https://www.kaggle.com/wanghaohan/confused-eeg)\n",
        "\n",
        "1. EEG 신호란 electroencephalography의 약자이며 '뇌전도'라고 번역된다.  전극을 통해 뇌의 전기적인 활동을 기록하는 전기생리학적 측정방법을 말한다. 뇌의 활동은 뇌파라는 전기신호를 방출하게 되고 EEG을 통해 뇌파의 스펙트럼 밀도를 분석하게 된다.    \n",
        "\n",
        "2. 데이터는 10명의 대학생을 대상으로 여러 카테고리별로 10개씩 총 20개의 동영상을 시청하면서 전두엽의 활동을 측정하여, 혼란스러울 때의 뇌파상태와 평온할 때의 뇌파상태를 측정하였습니다. 동영상에는 혼란스럽지않을 기초대수학 또는 기하학을 소개하는 온라인 교육영상이 있으며, 반대로 익숙치 않으면 혼란스러울 양자역학, 줄기세포 연구 등 과 같은 주제의 교육영상이 있습니다. 동영상 길이는 약 2분이며, 영상을 조금 더 혼란스럽게 만들기 위해 주제 중간에 2분클립을 잘랐습니다.\n",
        "\n",
        "\n",
        "3. 학생들은 전두엽의 활동을 측정하는 단일 무선채널의 mindset을 착용하였으며, Mindset은 이마에 있는 전극과 귀에 각각 접촉하는 두 개의 전극 사이의 전압을 측정하였습니다.    \n",
        "\n",
        "4. 각 학생들은 세션이 끝난 후, 자신의 혼란 정도를 1-7의 척도로 평가하였으며, 1은 최저, 7은 최고 레벨입니다. 혼란정도는 정규화되어 labeling 되었다.\n",
        "\n",
        "5. column 분석\n",
        "  - 'SubjectID': 피실험자 ID\n",
        "  - ' age': 피실험자 나이\n",
        "  - ' ethnicity' :피실험자 민족\n",
        "  - ' gender': 피실험자 성별\n",
        "  -  'VideoID': 시청한 비디오영상번호\n",
        "  - 'Attention': 집중도 수치\n",
        "  - 'Mediation': 평온함 수치\n",
        "  - 'Raw': EEG 장비로 측정하여 나온 수치\n",
        "  - 'Delta': Raw를 가공하여 나온 1-3Hz Power Spectrum\n",
        "  - 'Theta': Raw를 가공하여 나온 4-7Hz Power Spectrum\n",
        "  - 'Alpha1': Raw를 가공하여 나온 Lower 8-11Hz Power Spectrum\n",
        "  - 'Alpha2': Raw를 가공하여 나온 High 8-11Hz Power Spectrum\n",
        "  - 'Beta1': Raw를 가공하여 나온 Lower 12-29Hz Power Spectrum\n",
        "  - 'Beta2': Raw를 가공하여 나온 High 12-29Hz Power Spectrum\n",
        "  - 'Gamma1': Raw를 가공하여 나온 Lower 30-100Hz Power Spectrum\n",
        "  - 'Gamma2': Raw를 가공하여 나온 High 30-100Hz Power Spectrum\n",
        "  - 'predefinedlabel': Subject의 expected confusion level\n",
        "  - 'user-definedlabeln': Subject의 actually confusion level\n",
        "\n",
        "6. Brain wave 정리   \n",
        "  - Delta wave: 깊은 수면을 취할 때, 약하게 깨어 있을 때 혹은 무의식 일 때의 뇌파, 잠잘 때 장기기억, 해마가 작용할 때나오는 뇌파    \n",
        "부족한 경우- 불면증,세타파가 나오게 되면 깊은 수면을 취할 수 없음, 과할 경우 - 늘 뇌가 피곤해 있고 무기력해질 우려가 있음\n",
        "\n",
        "  - Theta wave:  꾸벅꾸벅 조는 상태, - 여명상태, 내면의식, 기억력, 창의력, 명상, 퍼포먼스 ,신비하고 미묘한  것이어서 실험자들이 연구하기 어려웟음, 세타파에 있는 동안, 의식을 유지하기 어렵기 때문   \n",
        "부족한 경우- 창의력부족, 예민, 과할 경우- 안정성이 없음,늘 에너지가 없어보임\n",
        "\n",
        "  - Alpha wave : 눈을 감고 편안한 상태, 집중하지 않은 상태일 때, 뇌파활동은 느려짐, 아주 편안하게 이완되고 정신적으로 집중되지 않는 상태, 알파상태에는 두뇌의 '중립' 또는 한가한 상태처럼 보이나, 건강하고 스트레스에 지배받지 않는 사람들은 많은 양의 알파파를 만들어냄,\n",
        "알파파의 결핍: 불안, 스트레스, 뇌 활성 저하, 과도한 의식활동(산만함)에 노출, 이완능력, 에너지, 기억력, 창의력 강화훈련 필요\n",
        "SM알파파: 알파파 끝부분, 생리적으로 이완 상태, 의식적으로 각성된 상태, 면역력이나 스트레스에 대한 저항능력\n",
        "각성능력을 보여주는 지표, 두뇌활동에 가장 중심적 뇌파\n",
        "오감에서 들어오는 외부의 감각센서와 운동능력    \n",
        "부족한 경우-긴장과 불안에 매일 수 있음, 과한경우-급한 것이 없음, 일처리에 맺고 끊는 맛이 없음\n",
        "\n",
        "  - Beta wave: 일반적으로 외부세계에 꺠어 있을 때, 눈을 뜨고 집중하는 상태, 구체적이고특별한 문제를 다루고 있을 때, 상대방이 어떻게 나올지 집중하는 상태\n",
        "특히 14-40, 두뇌에서 가장 지배적이고 강력하게 활동, 민첩성, 각성 ,집중, 인식력과 관련, 과도할 경우 불안 유발   \n",
        "부족한 경우-매사에 의욕이 없음, 과한 경우- 산만한 활동, 행동의 자제가 되지 않아 함부로 행동\n",
        "\n",
        "\n",
        "\n",
        "\n",
        "\n"
      ]
    },
    {
      "cell_type": "markdown",
      "metadata": {
        "id": "uy7X76B-QT2_"
      },
      "source": [
        ""
      ]
    },
    {
      "cell_type": "code",
      "metadata": {
        "id": "2VxIQhjjtRh_",
        "colab": {
          "base_uri": "https://localhost:8080/"
        },
        "outputId": "a1524ee0-d45a-4a30-b909-95ea93a8875b"
      },
      "source": [
        "!pip install eli5\n",
        "!pip install category_encoders"
      ],
      "execution_count": 1,
      "outputs": [
        {
          "output_type": "stream",
          "text": [
            "Collecting eli5\n",
            "  Downloading eli5-0.11.0-py2.py3-none-any.whl (106 kB)\n",
            "\u001b[?25l\r\u001b[K     |███                             | 10 kB 25.6 MB/s eta 0:00:01\r\u001b[K     |██████▏                         | 20 kB 28.6 MB/s eta 0:00:01\r\u001b[K     |█████████▎                      | 30 kB 32.1 MB/s eta 0:00:01\r\u001b[K     |████████████▍                   | 40 kB 23.7 MB/s eta 0:00:01\r\u001b[K     |███████████████▌                | 51 kB 18.3 MB/s eta 0:00:01\r\u001b[K     |██████████████████▌             | 61 kB 14.4 MB/s eta 0:00:01\r\u001b[K     |█████████████████████▋          | 71 kB 14.6 MB/s eta 0:00:01\r\u001b[K     |████████████████████████▊       | 81 kB 16.0 MB/s eta 0:00:01\r\u001b[K     |███████████████████████████▉    | 92 kB 16.5 MB/s eta 0:00:01\r\u001b[K     |███████████████████████████████ | 102 kB 15.3 MB/s eta 0:00:01\r\u001b[K     |████████████████████████████████| 106 kB 15.3 MB/s \n",
            "\u001b[?25hRequirement already satisfied: tabulate>=0.7.7 in /usr/local/lib/python3.7/dist-packages (from eli5) (0.8.9)\n",
            "Requirement already satisfied: scikit-learn>=0.20 in /usr/local/lib/python3.7/dist-packages (from eli5) (0.22.2.post1)\n",
            "Requirement already satisfied: graphviz in /usr/local/lib/python3.7/dist-packages (from eli5) (0.10.1)\n",
            "Requirement already satisfied: scipy in /usr/local/lib/python3.7/dist-packages (from eli5) (1.4.1)\n",
            "Requirement already satisfied: six in /usr/local/lib/python3.7/dist-packages (from eli5) (1.15.0)\n",
            "Requirement already satisfied: jinja2 in /usr/local/lib/python3.7/dist-packages (from eli5) (2.11.3)\n",
            "Requirement already satisfied: attrs>16.0.0 in /usr/local/lib/python3.7/dist-packages (from eli5) (21.2.0)\n",
            "Requirement already satisfied: numpy>=1.9.0 in /usr/local/lib/python3.7/dist-packages (from eli5) (1.19.5)\n",
            "Requirement already satisfied: joblib>=0.11 in /usr/local/lib/python3.7/dist-packages (from scikit-learn>=0.20->eli5) (1.0.1)\n",
            "Requirement already satisfied: MarkupSafe>=0.23 in /usr/local/lib/python3.7/dist-packages (from jinja2->eli5) (2.0.1)\n",
            "Installing collected packages: eli5\n",
            "Successfully installed eli5-0.11.0\n",
            "Collecting category_encoders\n",
            "  Downloading category_encoders-2.2.2-py2.py3-none-any.whl (80 kB)\n",
            "\u001b[K     |████████████████████████████████| 80 kB 5.4 MB/s \n",
            "\u001b[?25hRequirement already satisfied: patsy>=0.5.1 in /usr/local/lib/python3.7/dist-packages (from category_encoders) (0.5.1)\n",
            "Requirement already satisfied: scikit-learn>=0.20.0 in /usr/local/lib/python3.7/dist-packages (from category_encoders) (0.22.2.post1)\n",
            "Requirement already satisfied: statsmodels>=0.9.0 in /usr/local/lib/python3.7/dist-packages (from category_encoders) (0.10.2)\n",
            "Requirement already satisfied: scipy>=1.0.0 in /usr/local/lib/python3.7/dist-packages (from category_encoders) (1.4.1)\n",
            "Requirement already satisfied: pandas>=0.21.1 in /usr/local/lib/python3.7/dist-packages (from category_encoders) (1.1.5)\n",
            "Requirement already satisfied: numpy>=1.14.0 in /usr/local/lib/python3.7/dist-packages (from category_encoders) (1.19.5)\n",
            "Requirement already satisfied: pytz>=2017.2 in /usr/local/lib/python3.7/dist-packages (from pandas>=0.21.1->category_encoders) (2018.9)\n",
            "Requirement already satisfied: python-dateutil>=2.7.3 in /usr/local/lib/python3.7/dist-packages (from pandas>=0.21.1->category_encoders) (2.8.1)\n",
            "Requirement already satisfied: six in /usr/local/lib/python3.7/dist-packages (from patsy>=0.5.1->category_encoders) (1.15.0)\n",
            "Requirement already satisfied: joblib>=0.11 in /usr/local/lib/python3.7/dist-packages (from scikit-learn>=0.20.0->category_encoders) (1.0.1)\n",
            "Installing collected packages: category-encoders\n",
            "Successfully installed category-encoders-2.2.2\n"
          ],
          "name": "stdout"
        }
      ]
    },
    {
      "cell_type": "code",
      "metadata": {
        "id": "p2gMZTla2KHn",
        "colab": {
          "base_uri": "https://localhost:8080/"
        },
        "outputId": "032d6a8d-cf0f-4f0d-a9c6-7196c47033a6"
      },
      "source": [
        "from google.colab import drive\n",
        "drive.mount('/content/drive')"
      ],
      "execution_count": 2,
      "outputs": [
        {
          "output_type": "stream",
          "text": [
            "Mounted at /content/drive\n"
          ],
          "name": "stdout"
        }
      ]
    },
    {
      "cell_type": "code",
      "metadata": {
        "id": "BXRC2qyx2Xp7"
      },
      "source": [
        "import pandas as pd\n",
        "import numpy as np\n",
        "\n",
        "import matplotlib.pyplot as plt\n",
        "import seaborn as sns\n",
        "\n",
        "EEG_data = pd.read_csv(\"/content/drive/MyDrive/EEG_data.csv\") # EEG 데이터 불러오기\n",
        "person_info = pd.read_csv(\"/content/drive/MyDrive/demographic_info.csv\") #실험군 데이터"
      ],
      "execution_count": 3,
      "outputs": []
    },
    {
      "cell_type": "code",
      "metadata": {
        "id": "ljvaZNYWH6cN"
      },
      "source": [
        "# data정리\n",
        "EEG_data[['SubjectID','VideoID', 'user-definedlabeln']] = EEG_data[['SubjectID','VideoID', 'user-definedlabeln']].astype(int)\n",
        "person_info.rename(columns={'subject ID':'SubjectID'}, inplace= True)\n",
        "data = person_info.merge(EEG_data,on ='SubjectID')\n",
        "data.rename(columns={' age':'age'}, inplace= True)\n",
        "data.rename(columns={' ethnicity':'ethnicity'}, inplace= True)\n",
        "data.rename(columns={' gender':'gender'}, inplace= True)\n",
        "data.rename(columns={'user-definedlabeln':'Label'}, inplace= True)\n"
      ],
      "execution_count": 4,
      "outputs": []
    },
    {
      "cell_type": "code",
      "metadata": {
        "id": "nPYJOvmvVS4S"
      },
      "source": [
        "data.isnull().sum()"
      ],
      "execution_count": null,
      "outputs": []
    },
    {
      "cell_type": "code",
      "metadata": {
        "id": "QhSNN_5IVWum"
      },
      "source": [
        "data.duplicated().sum()"
      ],
      "execution_count": null,
      "outputs": []
    },
    {
      "cell_type": "code",
      "metadata": {
        "id": "kf9D0V_0UHdm",
        "colab": {
          "base_uri": "https://localhost:8080/"
        },
        "outputId": "4385a34f-29f7-456e-c060-5d46c3f28a2d"
      },
      "source": [
        "data.columns"
      ],
      "execution_count": null,
      "outputs": [
        {
          "output_type": "execute_result",
          "data": {
            "text/plain": [
              "Index(['SubjectID', 'age', 'ethnicity', 'gender', 'VideoID', 'Attention',\n",
              "       'Mediation', 'Raw', 'Delta', 'Theta', 'Alpha1', 'Alpha2', 'Beta1',\n",
              "       'Beta2', 'Gamma1', 'Gamma2', 'predefinedlabel', 'Label'],\n",
              "      dtype='object')"
            ]
          },
          "metadata": {
            "tags": []
          },
          "execution_count": 42
        }
      ]
    },
    {
      "cell_type": "code",
      "metadata": {
        "id": "IqjpCYz2TCn6"
      },
      "source": [
        "# EDA\n",
        "data.drop(columns=['SubjectID', 'age', 'ethnicity', 'VideoID', 'Raw','predefinedlabel', 'VideoID'], inplace=True)\n"
      ],
      "execution_count": 5,
      "outputs": []
    },
    {
      "cell_type": "code",
      "metadata": {
        "id": "CxLnqNoQVKBB",
        "colab": {
          "base_uri": "https://localhost:8080/",
          "height": 206
        },
        "outputId": "6b902067-cb0b-4b9e-deba-604531ad9fde"
      },
      "source": [
        "data.head()"
      ],
      "execution_count": null,
      "outputs": [
        {
          "output_type": "execute_result",
          "data": {
            "text/html": [
              "<div>\n",
              "<style scoped>\n",
              "    .dataframe tbody tr th:only-of-type {\n",
              "        vertical-align: middle;\n",
              "    }\n",
              "\n",
              "    .dataframe tbody tr th {\n",
              "        vertical-align: top;\n",
              "    }\n",
              "\n",
              "    .dataframe thead th {\n",
              "        text-align: right;\n",
              "    }\n",
              "</style>\n",
              "<table border=\"1\" class=\"dataframe\">\n",
              "  <thead>\n",
              "    <tr style=\"text-align: right;\">\n",
              "      <th></th>\n",
              "      <th>gender</th>\n",
              "      <th>Attention</th>\n",
              "      <th>Mediation</th>\n",
              "      <th>Delta</th>\n",
              "      <th>Theta</th>\n",
              "      <th>Alpha1</th>\n",
              "      <th>Alpha2</th>\n",
              "      <th>Beta1</th>\n",
              "      <th>Beta2</th>\n",
              "      <th>Gamma1</th>\n",
              "      <th>Gamma2</th>\n",
              "      <th>Label</th>\n",
              "    </tr>\n",
              "  </thead>\n",
              "  <tbody>\n",
              "    <tr>\n",
              "      <th>0</th>\n",
              "      <td>M</td>\n",
              "      <td>56.0</td>\n",
              "      <td>43.0</td>\n",
              "      <td>301963.0</td>\n",
              "      <td>90612.0</td>\n",
              "      <td>33735.0</td>\n",
              "      <td>23991.0</td>\n",
              "      <td>27946.0</td>\n",
              "      <td>45097.0</td>\n",
              "      <td>33228.0</td>\n",
              "      <td>8293.0</td>\n",
              "      <td>0</td>\n",
              "    </tr>\n",
              "    <tr>\n",
              "      <th>1</th>\n",
              "      <td>M</td>\n",
              "      <td>40.0</td>\n",
              "      <td>35.0</td>\n",
              "      <td>73787.0</td>\n",
              "      <td>28083.0</td>\n",
              "      <td>1439.0</td>\n",
              "      <td>2240.0</td>\n",
              "      <td>2746.0</td>\n",
              "      <td>3687.0</td>\n",
              "      <td>5293.0</td>\n",
              "      <td>2740.0</td>\n",
              "      <td>0</td>\n",
              "    </tr>\n",
              "    <tr>\n",
              "      <th>2</th>\n",
              "      <td>M</td>\n",
              "      <td>47.0</td>\n",
              "      <td>48.0</td>\n",
              "      <td>758353.0</td>\n",
              "      <td>383745.0</td>\n",
              "      <td>201999.0</td>\n",
              "      <td>62107.0</td>\n",
              "      <td>36293.0</td>\n",
              "      <td>130536.0</td>\n",
              "      <td>57243.0</td>\n",
              "      <td>25354.0</td>\n",
              "      <td>0</td>\n",
              "    </tr>\n",
              "    <tr>\n",
              "      <th>3</th>\n",
              "      <td>M</td>\n",
              "      <td>47.0</td>\n",
              "      <td>57.0</td>\n",
              "      <td>2012240.0</td>\n",
              "      <td>129350.0</td>\n",
              "      <td>61236.0</td>\n",
              "      <td>17084.0</td>\n",
              "      <td>11488.0</td>\n",
              "      <td>62462.0</td>\n",
              "      <td>49960.0</td>\n",
              "      <td>33932.0</td>\n",
              "      <td>0</td>\n",
              "    </tr>\n",
              "    <tr>\n",
              "      <th>4</th>\n",
              "      <td>M</td>\n",
              "      <td>44.0</td>\n",
              "      <td>53.0</td>\n",
              "      <td>1005145.0</td>\n",
              "      <td>354328.0</td>\n",
              "      <td>37102.0</td>\n",
              "      <td>88881.0</td>\n",
              "      <td>45307.0</td>\n",
              "      <td>99603.0</td>\n",
              "      <td>44790.0</td>\n",
              "      <td>29749.0</td>\n",
              "      <td>0</td>\n",
              "    </tr>\n",
              "  </tbody>\n",
              "</table>\n",
              "</div>"
            ],
            "text/plain": [
              "  gender  Attention  Mediation      Delta  ...     Beta2   Gamma1   Gamma2  Label\n",
              "0      M       56.0       43.0   301963.0  ...   45097.0  33228.0   8293.0      0\n",
              "1      M       40.0       35.0    73787.0  ...    3687.0   5293.0   2740.0      0\n",
              "2      M       47.0       48.0   758353.0  ...  130536.0  57243.0  25354.0      0\n",
              "3      M       47.0       57.0  2012240.0  ...   62462.0  49960.0  33932.0      0\n",
              "4      M       44.0       53.0  1005145.0  ...   99603.0  44790.0  29749.0      0\n",
              "\n",
              "[5 rows x 12 columns]"
            ]
          },
          "metadata": {
            "tags": []
          },
          "execution_count": 5
        }
      ]
    },
    {
      "cell_type": "code",
      "metadata": {
        "id": "s5lmAqnGfNKq",
        "colab": {
          "base_uri": "https://localhost:8080/"
        },
        "outputId": "b69a2c0e-0a65-40fa-84fb-97899f85478b"
      },
      "source": [
        "data.shape"
      ],
      "execution_count": null,
      "outputs": [
        {
          "output_type": "execute_result",
          "data": {
            "text/plain": [
              "(12811, 15)"
            ]
          },
          "metadata": {
            "tags": []
          },
          "execution_count": 6
        }
      ]
    },
    {
      "cell_type": "code",
      "metadata": {
        "id": "fbBtg9K-XPRu"
      },
      "source": [
        "#혹시 모르니 깊은 복사로 진행\n",
        "y = data['Label'].copy()\n",
        "X = data.drop('Label', axis=1).copy()"
      ],
      "execution_count": 6,
      "outputs": []
    },
    {
      "cell_type": "code",
      "metadata": {
        "id": "RUc09Yh2X7V_"
      },
      "source": [
        "from category_encoders import OneHotEncoder\n",
        "from sklearn.pipeline import make_pipeline\n",
        "from sklearn.preprocessing import StandardScaler, MinMaxScaler\n",
        "from sklearn.model_selection import train_test_split\n",
        "from sklearn.model_selection import GridSearchCV\n",
        "from sklearn.metrics import accuracy_score, precision_score, recall_score, roc_auc_score, f1_score, confusion_matrix\n",
        "\n",
        "def eval(test, pred= None, proba=None):\n",
        "  confusion = confusion_matrix(test, pred)\n",
        "  accuracy = accuracy_score(test, pred)\n",
        "  precision = precision_score(test,pred)\n",
        "  recall = recall_score(test, pred)\n",
        "  roc_auc = roc_auc_score(test, proba)\n",
        "  F1 = f1_score(test, pred)\n",
        "\n",
        "  print('오차행렬')\n",
        "  print(confusion)\n",
        "\n",
        "  print('정확도: {0:.4f}, 정밀도: {1:.4f}, 재현율: {2:.4f}, F1: {3:.4f}, AUC: {4:.4f}'.format(accuracy, precision, recall, F1, roc_auc))\n",
        "\n",
        "\n"
      ],
      "execution_count": 8,
      "outputs": []
    },
    {
      "cell_type": "code",
      "metadata": {
        "id": "BbWavrzqjdT8",
        "colab": {
          "base_uri": "https://localhost:8080/"
        },
        "outputId": "44b99dda-b8bd-4d78-869b-f89fd4eabb2b"
      },
      "source": [
        "#OneHotencoding, MinMaxscaler\n",
        "pipe = make_pipeline (\n",
        "    OneHotEncoder(use_cat_names=True),\n",
        "    StandardScaler() #MinMaxScaler()\n",
        ")\n",
        "\n",
        "X = pipe.fit_transform(X)"
      ],
      "execution_count": 9,
      "outputs": [
        {
          "output_type": "stream",
          "text": [
            "/usr/local/lib/python3.7/dist-packages/statsmodels/tools/_testing.py:19: FutureWarning: pandas.util.testing is deprecated. Use the functions in the public API at pandas.testing instead.\n",
            "  import pandas.util.testing as tm\n",
            "/usr/local/lib/python3.7/dist-packages/category_encoders/utils.py:21: FutureWarning: is_categorical is deprecated and will be removed in a future version.  Use is_categorical_dtype instead\n",
            "  elif pd.api.types.is_categorical(cols):\n"
          ],
          "name": "stderr"
        }
      ]
    },
    {
      "cell_type": "code",
      "metadata": {
        "id": "v56RWj89fHY2",
        "colab": {
          "base_uri": "https://localhost:8080/"
        },
        "outputId": "1f4b4036-7ed6-4a21-8f7f-5766cade5a3b"
      },
      "source": [
        "X.shape"
      ],
      "execution_count": null,
      "outputs": [
        {
          "output_type": "execute_result",
          "data": {
            "text/plain": [
              "(12811, 12)"
            ]
          },
          "metadata": {
            "tags": []
          },
          "execution_count": 10
        }
      ]
    },
    {
      "cell_type": "code",
      "metadata": {
        "id": "eaHkEcLDfAcW"
      },
      "source": [
        "X_train, X_test, y_train, y_test = train_test_split(X, y, test_size= 0.2, random_state=42)\n",
        "X_train, X_val, y_train, y_val = train_test_split(X_train, y_train, test_size=0.2, random_state= 42)"
      ],
      "execution_count": 10,
      "outputs": []
    },
    {
      "cell_type": "code",
      "metadata": {
        "id": "VBFuNUj0bVnc",
        "colab": {
          "base_uri": "https://localhost:8080/"
        },
        "outputId": "4dc520d3-39ed-400f-954d-e3356886b6b0"
      },
      "source": [
        "#base\n",
        "y_base1 = [1] * len(y_val)\n",
        "\n",
        "confusion = confusion_matrix(y_val, y_base1)\n",
        "accuracy = accuracy_score(y_val, y_base1)\n",
        "precision = precision_score(y_val, y_base1)\n",
        "recall = recall_score(y_val, y_base1)\n",
        "F1 = f1_score(y_val, y_base1)\n",
        "roc_auc = roc_auc_score(y_val, y_base1)\n",
        "\n",
        "print('오차행렬')\n",
        "print(confusion)\n",
        "\n",
        "print('정확도: {0}, 정밀도: {1}, 재현율: {2}, F1: {3}, auc:{4}'.format(accuracy, precision, recall, F1, roc_auc))"
      ],
      "execution_count": null,
      "outputs": [
        {
          "output_type": "stream",
          "text": [
            "오차행렬\n",
            "[[   0 1023]\n",
            " [   0 1027]]\n",
            "정확도: 0.5009756097560976, 정밀도: 0.5009756097560976, 재현율: 1.0, F1: 0.6675333116672083, auc:0.5\n"
          ],
          "name": "stdout"
        }
      ]
    },
    {
      "cell_type": "code",
      "metadata": {
        "id": "QD-ho4dSftDF"
      },
      "source": [
        "# 여러 ML 사용해보기- > 트리 계열은 과적합이 나옴 그나마 랜덤포레스트 모델, XGBoost, LGBM 이 70퍼센트 나옴"
      ],
      "execution_count": null,
      "outputs": []
    },
    {
      "cell_type": "code",
      "metadata": {
        "id": "hlWu9HukgaXA",
        "colab": {
          "base_uri": "https://localhost:8080/"
        },
        "outputId": "24ea3b4f-0a17-4044-c60d-ed6b7b888a3d"
      },
      "source": [
        "from sklearn.ensemble import RandomForestClassifier\n",
        "\n",
        "forest_model = RandomForestClassifier()\n",
        "forest_model.fit(X_train, y_train)\n",
        "y_pred = forest_model.predict(X_val)\n",
        "y_proba = forest_model.predict_proba(X_val)[:,1]\n",
        "\n",
        "eval(y_val, y_pred, y_proba)"
      ],
      "execution_count": null,
      "outputs": [
        {
          "output_type": "stream",
          "text": [
            "오차행렬\n",
            "[[647 376]\n",
            " [327 700]]\n",
            "정확도: 0.6571, 정밀도: 0.6506, 재현율: 0.6816, F1: 0.6657, AUC: 0.7209\n"
          ],
          "name": "stdout"
        }
      ]
    },
    {
      "cell_type": "code",
      "metadata": {
        "id": "n1xtzrI-deRy",
        "colab": {
          "base_uri": "https://localhost:8080/"
        },
        "outputId": "0b707f1e-0ce4-4999-e06d-21d5cb4b48f8"
      },
      "source": [
        "forest_param ={   'n_estimators':[10,50,100,200] ,\n",
        "                  'criterion': ['gini', 'entropy'], \n",
        "                  'max_depth':[5, 10, 20, 30, 50, None]\n",
        "                }\n",
        "\n",
        "grid_search_forest = GridSearchCV(forest_model, forest_param, cv =10, scoring='roc_auc')\n",
        "grid_search_forest.fit(X_train, y_train)"
      ],
      "execution_count": null,
      "outputs": [
        {
          "output_type": "execute_result",
          "data": {
            "text/plain": [
              "GridSearchCV(cv=10, error_score=nan,\n",
              "             estimator=RandomForestClassifier(bootstrap=True, ccp_alpha=0.0,\n",
              "                                              class_weight=None,\n",
              "                                              criterion='gini', max_depth=None,\n",
              "                                              max_features='auto',\n",
              "                                              max_leaf_nodes=None,\n",
              "                                              max_samples=None,\n",
              "                                              min_impurity_decrease=0.0,\n",
              "                                              min_impurity_split=None,\n",
              "                                              min_samples_leaf=1,\n",
              "                                              min_samples_split=2,\n",
              "                                              min_weight_fraction_leaf=0.0,\n",
              "                                              n_estimators=100, n_jobs=None,\n",
              "                                              oob_score=False,\n",
              "                                              random_state=None, verbose=0,\n",
              "                                              warm_start=False),\n",
              "             iid='deprecated', n_jobs=None,\n",
              "             param_grid={'criterion': ['gini', 'entropy'],\n",
              "                         'max_depth': [5, 10, 20, 30, 50, None],\n",
              "                         'n_estimators': [10, 50, 100, 200]},\n",
              "             pre_dispatch='2*n_jobs', refit=True, return_train_score=False,\n",
              "             scoring='roc_auc', verbose=0)"
            ]
          },
          "metadata": {
            "tags": []
          },
          "execution_count": 16
        }
      ]
    },
    {
      "cell_type": "code",
      "metadata": {
        "id": "i9yxQbm_tVze",
        "colab": {
          "base_uri": "https://localhost:8080/"
        },
        "outputId": "8670e527-5c94-4e20-d9c9-c3be3148a3e2"
      },
      "source": [
        "grid_search_forest.best_estimator_"
      ],
      "execution_count": null,
      "outputs": [
        {
          "output_type": "execute_result",
          "data": {
            "text/plain": [
              "RandomForestClassifier(bootstrap=True, ccp_alpha=0.0, class_weight=None,\n",
              "                       criterion='entropy', max_depth=30, max_features='auto',\n",
              "                       max_leaf_nodes=None, max_samples=None,\n",
              "                       min_impurity_decrease=0.0, min_impurity_split=None,\n",
              "                       min_samples_leaf=1, min_samples_split=2,\n",
              "                       min_weight_fraction_leaf=0.0, n_estimators=200,\n",
              "                       n_jobs=None, oob_score=False, random_state=None,\n",
              "                       verbose=0, warm_start=False)"
            ]
          },
          "metadata": {
            "tags": []
          },
          "execution_count": 17
        }
      ]
    },
    {
      "cell_type": "code",
      "metadata": {
        "id": "eMw4ZiyBtl5T",
        "colab": {
          "base_uri": "https://localhost:8080/"
        },
        "outputId": "b04eabb2-ed61-439d-aa98-62584067404d"
      },
      "source": [
        "grid_search_forest.best_params_"
      ],
      "execution_count": null,
      "outputs": [
        {
          "output_type": "execute_result",
          "data": {
            "text/plain": [
              "{'criterion': 'entropy', 'max_depth': 30, 'n_estimators': 200}"
            ]
          },
          "metadata": {
            "tags": []
          },
          "execution_count": 18
        }
      ]
    },
    {
      "cell_type": "code",
      "metadata": {
        "id": "ERuyYjVjtrWJ",
        "colab": {
          "base_uri": "https://localhost:8080/"
        },
        "outputId": "d9779357-5d8d-4aac-d290-63f642fa09cc"
      },
      "source": [
        "grid_search_forest.best_score_"
      ],
      "execution_count": null,
      "outputs": [
        {
          "output_type": "execute_result",
          "data": {
            "text/plain": [
              "0.714160038601507"
            ]
          },
          "metadata": {
            "tags": []
          },
          "execution_count": 19
        }
      ]
    },
    {
      "cell_type": "code",
      "metadata": {
        "id": "JbYds5S3tyyS",
        "colab": {
          "base_uri": "https://localhost:8080/"
        },
        "outputId": "39d7ed2d-e81c-4475-c853-9b6f65222f01"
      },
      "source": [
        "#fine tunning forest\n",
        "opforest_model = RandomForestClassifier(criterion= 'entropy', max_depth= 30, n_estimators= 200)\n",
        "opforest_model.fit(X_train, y_train)\n",
        "y_pred = opforest_model.predict(X_val)\n",
        "y_proba = opforest_model.predict_proba(X_val)[:,1]\n",
        "\n",
        "eval(y_val, y_pred, y_proba)\n",
        "\n",
        "# forest_model : 0.7185, 정밀도: 0.7103, 재현율: 0.7400, F1: 0.7248, AUC: 0.7908 -> critical하게 변하지 않았다."
      ],
      "execution_count": null,
      "outputs": [
        {
          "output_type": "stream",
          "text": [
            "오차행렬\n",
            "[[646 377]\n",
            " [321 706]]\n",
            "정확도: 0.6595, 정밀도: 0.6519, 재현율: 0.6874, F1: 0.6692, AUC: 0.7204\n"
          ],
          "name": "stdout"
        }
      ]
    },
    {
      "cell_type": "code",
      "metadata": {
        "id": "FYTAQ0u-t_HD",
        "colab": {
          "base_uri": "https://localhost:8080/"
        },
        "outputId": "903481f0-5b7b-46be-c87b-75dad2b7010c"
      },
      "source": [
        "# permuter 정의\n",
        "import eli5\n",
        "from eli5.sklearn import PermutationImportance\n",
        "\n",
        "permuter = PermutationImportance(\n",
        "    forest_model, # model\n",
        "    scoring='accuracy', # metric\n",
        "    n_iter=5, # 다른 random seed를 사용하여 5번 반복\n",
        "    random_state=2\n",
        ")\n",
        "\n",
        "# 실제로 fit 의미보다는 스코어를 다시 계산하는 작업입니다\n",
        "permuter.fit(X_val, y_val);"
      ],
      "execution_count": null,
      "outputs": [
        {
          "output_type": "stream",
          "text": [
            "/usr/local/lib/python3.7/dist-packages/sklearn/utils/deprecation.py:144: FutureWarning: The sklearn.feature_selection.base module is  deprecated in version 0.22 and will be removed in version 0.24. The corresponding classes / functions should instead be imported from sklearn.feature_selection. Anything that cannot be imported from sklearn.feature_selection is now part of the private API.\n",
            "  warnings.warn(message, FutureWarning)\n"
          ],
          "name": "stderr"
        }
      ]
    },
    {
      "cell_type": "code",
      "metadata": {
        "id": "90Xv_e3JuDyh",
        "colab": {
          "base_uri": "https://localhost:8080/"
        },
        "outputId": "d34d36e8-4bc4-40ea-ede3-0a7cbb214910"
      },
      "source": [
        "feature_names = X_val.columns.tolist()\n",
        "pd.Series(permuter.feature_importances_, feature_names).sort_values()"
      ],
      "execution_count": null,
      "outputs": [
        {
          "output_type": "execute_result",
          "data": {
            "text/plain": [
              "gender       0.009463\n",
              "Raw          0.011902\n",
              "Alpha1       0.012000\n",
              "Beta1        0.012390\n",
              "Theta        0.013463\n",
              "Alpha2       0.016585\n",
              "Beta2        0.026927\n",
              "Mediation    0.028000\n",
              "Delta        0.036683\n",
              "age          0.040878\n",
              "Gamma1       0.043512\n",
              "SubjectID    0.053366\n",
              "Gamma2       0.063805\n",
              "Attention    0.074049\n",
              "dtype: float64"
            ]
          },
          "metadata": {
            "tags": []
          },
          "execution_count": 13
        }
      ]
    },
    {
      "cell_type": "code",
      "metadata": {
        "id": "gQ3PoiiZgozo",
        "colab": {
          "base_uri": "https://localhost:8080/"
        },
        "outputId": "64e8510c-3316-4b76-f2ec-854c3e230e3b"
      },
      "source": [
        "from xgboost import XGBClassifier\n",
        "\n",
        "XG_model = XGBClassifier()\n",
        "XG_model.fit(X_train, y_train)\n",
        "\n",
        "y_pred = XG_model.predict(X_val)\n",
        "y_proba = XG_model.predict_proba(X_val)[:,1]\n",
        "\n",
        "eval(y_val, y_pred, y_proba)"
      ],
      "execution_count": 11,
      "outputs": [
        {
          "output_type": "stream",
          "text": [
            "오차행렬\n",
            "[[653 370]\n",
            " [365 662]]\n",
            "정확도: 0.6415, 정밀도: 0.6415, 재현율: 0.6446, F1: 0.6430, AUC: 0.6834\n"
          ],
          "name": "stdout"
        }
      ]
    },
    {
      "cell_type": "code",
      "metadata": {
        "id": "fycyLtTNfhU9",
        "outputId": "42b6f276-8bd6-4ca7-a8f0-564551adc287",
        "colab": {
          "base_uri": "https://localhost:8080/"
        }
      },
      "source": [
        "XGB_params ={'n_estimators':[10,50,100,200] ,\n",
        "            'criterion': ['gini', 'entropy'], \n",
        "            'max_depth':[5, 10, 20, 30, 50, None],\n",
        "            'learning_rate' : [0.05 , 0.1, 0.2],\n",
        "            'subsample' : [0.7]\n",
        "                }\n",
        "\n",
        "grid_search_XGB = GridSearchCV(XG_model, XGB_params, cv =5, scoring='roc_auc')\n",
        "grid_search_XGB.fit(X_train, y_train)"
      ],
      "execution_count": 12,
      "outputs": [
        {
          "output_type": "stream",
          "text": [
            "/usr/local/lib/python3.7/dist-packages/sklearn/model_selection/_validation.py:536: FitFailedWarning: Estimator fit failed. The score on this train-test partition for these parameters will be set to nan. Details: \n",
            "xgboost.core.XGBoostError: Invalid Parameter format for max_depth expect int but value='None'\n",
            "\n",
            "  FitFailedWarning)\n",
            "/usr/local/lib/python3.7/dist-packages/sklearn/model_selection/_validation.py:536: FitFailedWarning: Estimator fit failed. The score on this train-test partition for these parameters will be set to nan. Details: \n",
            "xgboost.core.XGBoostError: Invalid Parameter format for max_depth expect int but value='None'\n",
            "\n",
            "  FitFailedWarning)\n",
            "/usr/local/lib/python3.7/dist-packages/sklearn/model_selection/_validation.py:536: FitFailedWarning: Estimator fit failed. The score on this train-test partition for these parameters will be set to nan. Details: \n",
            "xgboost.core.XGBoostError: Invalid Parameter format for max_depth expect int but value='None'\n",
            "\n",
            "  FitFailedWarning)\n",
            "/usr/local/lib/python3.7/dist-packages/sklearn/model_selection/_validation.py:536: FitFailedWarning: Estimator fit failed. The score on this train-test partition for these parameters will be set to nan. Details: \n",
            "xgboost.core.XGBoostError: Invalid Parameter format for max_depth expect int but value='None'\n",
            "\n",
            "  FitFailedWarning)\n",
            "/usr/local/lib/python3.7/dist-packages/sklearn/model_selection/_validation.py:536: FitFailedWarning: Estimator fit failed. The score on this train-test partition for these parameters will be set to nan. Details: \n",
            "xgboost.core.XGBoostError: Invalid Parameter format for max_depth expect int but value='None'\n",
            "\n",
            "  FitFailedWarning)\n",
            "/usr/local/lib/python3.7/dist-packages/sklearn/model_selection/_validation.py:536: FitFailedWarning: Estimator fit failed. The score on this train-test partition for these parameters will be set to nan. Details: \n",
            "xgboost.core.XGBoostError: Invalid Parameter format for max_depth expect int but value='None'\n",
            "\n",
            "  FitFailedWarning)\n"
          ],
          "name": "stderr"
        },
        {
          "output_type": "execute_result",
          "data": {
            "text/plain": [
              "GridSearchCV(cv=5, error_score=nan,\n",
              "             estimator=XGBClassifier(base_score=0.5, booster='gbtree',\n",
              "                                     colsample_bylevel=1, colsample_bynode=1,\n",
              "                                     colsample_bytree=1, gamma=0,\n",
              "                                     learning_rate=0.1, max_delta_step=0,\n",
              "                                     max_depth=3, min_child_weight=1,\n",
              "                                     missing=None, n_estimators=100, n_jobs=1,\n",
              "                                     nthread=None, objective='binary:logistic',\n",
              "                                     random_state=0, reg_alpha=0, reg_lambda=1,\n",
              "                                     scale_pos_weight=1, seed=None, silent=None,\n",
              "                                     subsample=1, verbosity=1),\n",
              "             iid='deprecated', n_jobs=None,\n",
              "             param_grid={'criterion': ['gini', 'entropy'],\n",
              "                         'learning_rate': [0.05, 0.1, 0.2],\n",
              "                         'max_depth': [5, 10, 20, 30, 50, None],\n",
              "                         'n_estimators': [10, 50, 100, 200],\n",
              "                         'subsample': [0.7]},\n",
              "             pre_dispatch='2*n_jobs', refit=True, return_train_score=False,\n",
              "             scoring='roc_auc', verbose=0)"
            ]
          },
          "metadata": {
            "tags": []
          },
          "execution_count": 12
        }
      ]
    },
    {
      "cell_type": "code",
      "metadata": {
        "id": "IAId3oe3pQN6",
        "outputId": "9e03e3c7-59ef-44a8-f866-1d2bf1131036",
        "colab": {
          "base_uri": "https://localhost:8080/"
        }
      },
      "source": [
        "grid_search_XGB.best_estimator_"
      ],
      "execution_count": 13,
      "outputs": [
        {
          "output_type": "execute_result",
          "data": {
            "text/plain": [
              "XGBClassifier(base_score=0.5, booster='gbtree', colsample_bylevel=1,\n",
              "              colsample_bynode=1, colsample_bytree=1, criterion='gini', gamma=0,\n",
              "              learning_rate=0.05, max_delta_step=0, max_depth=30,\n",
              "              min_child_weight=1, missing=None, n_estimators=200, n_jobs=1,\n",
              "              nthread=None, objective='binary:logistic', random_state=0,\n",
              "              reg_alpha=0, reg_lambda=1, scale_pos_weight=1, seed=None,\n",
              "              silent=None, subsample=0.7, verbosity=1)"
            ]
          },
          "metadata": {
            "tags": []
          },
          "execution_count": 13
        }
      ]
    },
    {
      "cell_type": "code",
      "metadata": {
        "id": "7fCJBMw3pVXw",
        "outputId": "ceb63057-5cda-44e6-84dc-0a4e6a3dc4d4",
        "colab": {
          "base_uri": "https://localhost:8080/"
        }
      },
      "source": [
        "grid_search_XGB.best_params_"
      ],
      "execution_count": 14,
      "outputs": [
        {
          "output_type": "execute_result",
          "data": {
            "text/plain": [
              "{'criterion': 'gini',\n",
              " 'learning_rate': 0.05,\n",
              " 'max_depth': 30,\n",
              " 'n_estimators': 200,\n",
              " 'subsample': 0.7}"
            ]
          },
          "metadata": {
            "tags": []
          },
          "execution_count": 14
        }
      ]
    },
    {
      "cell_type": "code",
      "metadata": {
        "id": "TsKfCz4GpZDE",
        "outputId": "e4107122-05a6-4f5a-f2a7-2cfbfe41ffe2",
        "colab": {
          "base_uri": "https://localhost:8080/"
        }
      },
      "source": [
        "grid_search_XGB.best_score_"
      ],
      "execution_count": 15,
      "outputs": [
        {
          "output_type": "execute_result",
          "data": {
            "text/plain": [
              "0.7014610183329114"
            ]
          },
          "metadata": {
            "tags": []
          },
          "execution_count": 15
        }
      ]
    },
    {
      "cell_type": "code",
      "metadata": {
        "id": "A0fDQkUKpkTM",
        "colab": {
          "base_uri": "https://localhost:8080/"
        },
        "outputId": "9c0c48e1-8ece-4ce5-b54e-e6c799fbc050"
      },
      "source": [
        "opXG_model = XGBClassifier(criterion = 'gini', learning_rate = 0.05, max_depth = 30, n_estimators = 200, subsample = 0.7)\n",
        "opXG_model.fit(X_train, y_train)\n",
        "\n",
        "y_pred = opXG_model.predict(X_val)\n",
        "y_proba = opXG_model.predict_proba(X_val)[:,1]\n",
        "\n",
        "eval(y_val, y_pred, y_proba)\n",
        "# 정확도: 0.6844, 정밀도: 0.6734, 재현율: 0.7186, F1: 0.6952, AUC: 0.7562 -> 전반적으로 개선이 됨"
      ],
      "execution_count": 21,
      "outputs": [
        {
          "output_type": "stream",
          "text": [
            "오차행렬\n",
            "[[633 390]\n",
            " [327 700]]\n",
            "정확도: 0.6502, 정밀도: 0.6422, 재현율: 0.6816, F1: 0.6613, AUC: 0.7094\n"
          ],
          "name": "stdout"
        }
      ]
    },
    {
      "cell_type": "code",
      "metadata": {
        "id": "FAC4UGcbirMl",
        "colab": {
          "base_uri": "https://localhost:8080/"
        },
        "outputId": "3256aa14-dc78-4d48-8648-112be2050852"
      },
      "source": [
        "from lightgbm import LGBMClassifier\n",
        "\n",
        "light_model = LGBMClassifier()\n",
        "light_model.fit(X_train, y_train)\n",
        "y_pred = light_model.predict(X_val)\n",
        "y_proba = light_model.predict_proba(X_val)[:,1]\n",
        "\n",
        "eval(y_val, y_pred, y_proba)"
      ],
      "execution_count": 16,
      "outputs": [
        {
          "output_type": "stream",
          "text": [
            "오차행렬\n",
            "[[642 381]\n",
            " [338 689]]\n",
            "정확도: 0.6493, 정밀도: 0.6439, 재현율: 0.6709, F1: 0.6571, AUC: 0.7002\n"
          ],
          "name": "stdout"
        }
      ]
    },
    {
      "cell_type": "code",
      "metadata": {
        "id": "o5z9JLnNjC89",
        "outputId": "edccf5de-c8f6-4fb6-f0d3-61bce7905e31",
        "colab": {
          "base_uri": "https://localhost:8080/"
        }
      },
      "source": [
        "light_params ={'n_estimators':[10,50,100,200],\n",
        "               'criterion': ['gini', 'entropy'], \n",
        "               'max_depth':[5, 10, 20, 30, 50, None],\n",
        "               'learning_rate' : [0.05 , 0.1, 0.2]\n",
        "                }\n",
        "\n",
        "grid_search_light = GridSearchCV(light_model, light_params, cv =5, scoring='roc_auc')\n",
        "grid_search_light.fit(X_train, y_train)"
      ],
      "execution_count": 17,
      "outputs": [
        {
          "output_type": "execute_result",
          "data": {
            "text/plain": [
              "GridSearchCV(cv=5, error_score=nan,\n",
              "             estimator=LGBMClassifier(boosting_type='gbdt', class_weight=None,\n",
              "                                      colsample_bytree=1.0,\n",
              "                                      importance_type='split',\n",
              "                                      learning_rate=0.1, max_depth=-1,\n",
              "                                      min_child_samples=20,\n",
              "                                      min_child_weight=0.001,\n",
              "                                      min_split_gain=0.0, n_estimators=100,\n",
              "                                      n_jobs=-1, num_leaves=31, objective=None,\n",
              "                                      random_state=None, reg_alpha=0.0,\n",
              "                                      reg_lambda=0.0, silent=True,\n",
              "                                      subsample=1.0, subsample_for_bin=200000,\n",
              "                                      subsample_freq=0),\n",
              "             iid='deprecated', n_jobs=None,\n",
              "             param_grid={'criterion': ['gini', 'entropy'],\n",
              "                         'learning_rate': [0.05, 0.1, 0.2],\n",
              "                         'max_depth': [5, 10, 20, 30, 50, None],\n",
              "                         'n_estimators': [10, 50, 100, 200]},\n",
              "             pre_dispatch='2*n_jobs', refit=True, return_train_score=False,\n",
              "             scoring='roc_auc', verbose=0)"
            ]
          },
          "metadata": {
            "tags": []
          },
          "execution_count": 17
        }
      ]
    },
    {
      "cell_type": "code",
      "metadata": {
        "id": "8XWIOjt9qRs1",
        "outputId": "aaa30c7c-1e45-4103-8d42-e273b98605ff",
        "colab": {
          "base_uri": "https://localhost:8080/"
        }
      },
      "source": [
        "grid_search_light.best_estimator_"
      ],
      "execution_count": 18,
      "outputs": [
        {
          "output_type": "execute_result",
          "data": {
            "text/plain": [
              "LGBMClassifier(boosting_type='gbdt', class_weight=None, colsample_bytree=1.0,\n",
              "               criterion='gini', importance_type='split', learning_rate=0.05,\n",
              "               max_depth=10, min_child_samples=20, min_child_weight=0.001,\n",
              "               min_split_gain=0.0, n_estimators=200, n_jobs=-1, num_leaves=31,\n",
              "               objective=None, random_state=None, reg_alpha=0.0, reg_lambda=0.0,\n",
              "               silent=True, subsample=1.0, subsample_for_bin=200000,\n",
              "               subsample_freq=0)"
            ]
          },
          "metadata": {
            "tags": []
          },
          "execution_count": 18
        }
      ]
    },
    {
      "cell_type": "code",
      "metadata": {
        "id": "9X5EUKXKqWw9",
        "outputId": "a75a4ca0-ce86-4b00-8c83-ca62058809a4",
        "colab": {
          "base_uri": "https://localhost:8080/"
        }
      },
      "source": [
        "grid_search_light.best_params_"
      ],
      "execution_count": 19,
      "outputs": [
        {
          "output_type": "execute_result",
          "data": {
            "text/plain": [
              "{'criterion': 'gini',\n",
              " 'learning_rate': 0.05,\n",
              " 'max_depth': 10,\n",
              " 'n_estimators': 200}"
            ]
          },
          "metadata": {
            "tags": []
          },
          "execution_count": 19
        }
      ]
    },
    {
      "cell_type": "code",
      "metadata": {
        "id": "I8l-B1bzqYla",
        "outputId": "c5d9b21a-006f-452b-bc3b-7f0a8e71a079",
        "colab": {
          "base_uri": "https://localhost:8080/"
        }
      },
      "source": [
        "grid_search_light.best_score_"
      ],
      "execution_count": 20,
      "outputs": [
        {
          "output_type": "execute_result",
          "data": {
            "text/plain": [
              "0.6930215313077964"
            ]
          },
          "metadata": {
            "tags": []
          },
          "execution_count": 20
        }
      ]
    },
    {
      "cell_type": "code",
      "metadata": {
        "id": "ZTvkThDyqfPT",
        "colab": {
          "base_uri": "https://localhost:8080/"
        },
        "outputId": "1c5c2317-69a3-4d7e-e138-059824af01d4"
      },
      "source": [
        "oplight_model = LGBMClassifier(criterion = 'gini', learning_rate = 0.05, max_depth = 10, n_estimators = 200)\n",
        "oplight_model.fit(X_train, y_train)\n",
        "y_pred = oplight_model.predict(X_val)\n",
        "y_proba = oplight_model.predict_proba(X_val)[:,1]\n",
        "\n",
        "eval(y_val, y_pred, y_proba)\n",
        "\n",
        "#정확도: 0.6966, 정밀도: 0.6894, 재현율: 0.7176, F1: 0.7032, AUC: 0.7827 -> 크리티컬한 변화는 없었다."
      ],
      "execution_count": 22,
      "outputs": [
        {
          "output_type": "stream",
          "text": [
            "오차행렬\n",
            "[[626 397]\n",
            " [343 684]]\n",
            "정확도: 0.6390, 정밀도: 0.6327, 재현율: 0.6660, F1: 0.6490, AUC: 0.7003\n"
          ],
          "name": "stdout"
        }
      ]
    },
    {
      "cell_type": "markdown",
      "metadata": {
        "id": "QaLgmrxZjpNq"
      },
      "source": [
        "RandomForest, XGBoost, LGBM 3가지 머신러닝 모델에 대해 그리드서치 후 최적의 파라미터를 조정하였다. \n",
        "딥러닝 모델또한 적용해보고 결과를 비교 후 피쳐엔지니어링을 조금 더 생각해볼 것"
      ]
    }
  ]
}