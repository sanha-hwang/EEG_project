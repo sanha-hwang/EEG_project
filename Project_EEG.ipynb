{
  "nbformat": 4,
  "nbformat_minor": 0,
  "metadata": {
    "colab": {
      "name": "Project_EEG",
      "provenance": [],
      "collapsed_sections": [],
      "include_colab_link": true
    },
    "kernelspec": {
      "display_name": "Python 3",
      "name": "python3"
    }
  },
  "cells": [
    {
      "cell_type": "markdown",
      "metadata": {
        "id": "view-in-github",
        "colab_type": "text"
      },
      "source": [
        "<a href=\"https://colab.research.google.com/github/sanha-hwang/EEG_project/blob/workspace/Project_EEG.ipynb\" target=\"_parent\"><img src=\"https://colab.research.google.com/assets/colab-badge.svg\" alt=\"Open In Colab\"/></a>"
      ]
    },
    {
      "cell_type": "markdown",
      "metadata": {
        "id": "OfwiuHU8_NdF"
      },
      "source": [
        "<H1>Project : EEG signal 분석 </H1>\n",
        "\n",
        "[datasetLink](https://www.kaggle.com/wanghaohan/confused-eeg)\n",
        "\n",
        "1. EEG 신호란 electroencephalography의 약자이며 '뇌전도'라고 번역된다.  전극을 통해 뇌의 전기적인 활동을 기록하는 전기생리학적 측정방법을 말한다. 뇌의 활동은 뇌파라는 전기신호를 방출하게 되고 EEG을 통해 뇌파의 스펙트럼 밀도를 분석하게 된다.    \n",
        "\n",
        "2. 데이터는 10명의 대학생을 대상으로 여러 카테고리별로 10개씩 총 20개의 동영상을 시청하면서 전두엽의 활동을 측정하여, 혼란스러울 때의 뇌파상태와 평온할 때의 뇌파상태를 측정하였습니다. 동영상에는 혼란스럽지않을 기초대수학 또는 기하학을 소개하는 온라인 교육영상이 있으며, 반대로 익숙치 않으면 혼란스러울 양자역학, 줄기세포 연구 등 과 같은 주제의 교육영상이 있습니다. 동영상 길이는 약 2분이며, 영상을 조금 더 혼란스럽게 만들기 위해 주제 중간에 2분클립을 잘랐습니다.\n",
        "\n",
        "\n",
        "3. 학생들은 전두엽의 활동을 측정하는 단일 무선채널의 mindset을 착용하였으며, Mindset은 이마에 있는 전극과 귀에 각각 접촉하는 두 개의 전극 사이의 전압을 측정하였습니다.    \n",
        "\n",
        "4. 각 학생들은 세션이 끝난 후, 자신의 혼란 정도를 1-7의 척도로 평가하였으며, 1은 최저, 7은 최고 레벨입니다. 혼란정도는 정규화되어 labeling 되었다.\n",
        "\n",
        "5. column 분석\n",
        "  - 'SubjectID': 피실험자 ID\n",
        "  - ' age': 피실험자 나이\n",
        "  - ' ethnicity' :피실험자 민족\n",
        "  - ' gender': 피실험자 성별\n",
        "  -  'VideoID': 시청한 비디오영상번호\n",
        "  - 'Attention': 집중도 수치\n",
        "  - 'Mediation': 평온함 수치\n",
        "  - 'Raw': EEG 장비로 측정하여 나온 수치\n",
        "  - 'Delta': Raw를 가공하여 나온 1-3Hz Power Spectrum\n",
        "  - 'Theta': Raw를 가공하여 나온 4-7Hz Power Spectrum\n",
        "  - 'Alpha1': Raw를 가공하여 나온 Lower 8-11Hz Power Spectrum\n",
        "  - 'Alpha2': Raw를 가공하여 나온 High 8-11Hz Power Spectrum\n",
        "  - 'Beta1': Raw를 가공하여 나온 Lower 12-29Hz Power Spectrum\n",
        "  - 'Beta2': Raw를 가공하여 나온 High 12-29Hz Power Spectrum\n",
        "  - 'Gamma1': Raw를 가공하여 나온 Lower 30-100Hz Power Spectrum\n",
        "  - 'Gamma2': Raw를 가공하여 나온 High 30-100Hz Power Spectrum\n",
        "  - 'predefinedlabel': Subject의 expected confusion level\n",
        "  - 'user-definedlabeln': Subject의 actually confusion level\n",
        "\n",
        "6. Brain wave 정리   \n",
        "  - Delta wave: 깊은 수면을 취할 때, 약하게 깨어 있을 때 혹은 무의식 일 때의 뇌파, 잠잘 때 장기기억, 해마가 작용할 때나오는 뇌파    \n",
        "부족한 경우- 불면증,세타파가 나오게 되면 깊은 수면을 취할 수 없음, 과할 경우 - 늘 뇌가 피곤해 있고 무기력해질 우려가 있음\n",
        "\n",
        "  - Theta wave:  꾸벅꾸벅 조는 상태, - 여명상태, 내면의식, 기억력, 창의력, 명상, 퍼포먼스 ,신비하고 미묘한  것이어서 실험자들이 연구하기 어려웟음, 세타파에 있는 동안, 의식을 유지하기 어렵기 때문   \n",
        "부족한 경우- 창의력부족, 예민, 과할 경우- 안정성이 없음,늘 에너지가 없어보임\n",
        "\n",
        "  - Alpha wave : 눈을 감고 편안한 상태, 집중하지 않은 상태일 때, 뇌파활동은 느려짐, 아주 편안하게 이완되고 정신적으로 집중되지 않는 상태, 알파상태에는 두뇌의 '중립' 또는 한가한 상태처럼 보이나, 건강하고 스트레스에 지배받지 않는 사람들은 많은 양의 알파파를 만들어냄,\n",
        "알파파의 결핍: 불안, 스트레스, 뇌 활성 저하, 과도한 의식활동(산만함)에 노출, 이완능력, 에너지, 기억력, 창의력 강화훈련 필요\n",
        "SM알파파: 알파파 끝부분, 생리적으로 이완 상태, 의식적으로 각성된 상태, 면역력이나 스트레스에 대한 저항능력\n",
        "각성능력을 보여주는 지표, 두뇌활동에 가장 중심적 뇌파\n",
        "오감에서 들어오는 외부의 감각센서와 운동능력    \n",
        "부족한 경우-긴장과 불안에 매일 수 있음, 과한경우-급한 것이 없음, 일처리에 맺고 끊는 맛이 없음\n",
        "\n",
        "  - Beta wave: 일반적으로 외부세계에 꺠어 있을 때, 눈을 뜨고 집중하는 상태, 구체적이고특별한 문제를 다루고 있을 때, 상대방이 어떻게 나올지 집중하는 상태\n",
        "특히 14-40, 두뇌에서 가장 지배적이고 강력하게 활동, 민첩성, 각성 ,집중, 인식력과 관련, 과도할 경우 불안 유발   \n",
        "부족한 경우-매사에 의욕이 없음, 과한 경우- 산만한 활동, 행동의 자제가 되지 않아 함부로 행동\n",
        "\n",
        "\n",
        "\n",
        "\n",
        "\n"
      ]
    },
    {
      "cell_type": "markdown",
      "metadata": {
        "id": "uy7X76B-QT2_"
      },
      "source": [
        ""
      ]
    },
    {
      "cell_type": "code",
      "metadata": {
        "id": "saV8zf42MDRh"
      },
      "source": [
        "# feature 하나씩  \n",
        "# import matplotlib.pyplot as plt\n",
        "# plt.rcParams['figure.dpi'] = 144\n",
        "\n",
        "# from pdpbox.pdp import pdp_isolate, pdp_plot\n",
        "\n",
        "# feature = 'annual_inc'\n",
        "\n",
        "# isolated = pdp_isolate(\n",
        "#     model=linear, \n",
        "#     dataset=X_val, \n",
        "#     model_features=X_val.columns, \n",
        "#     feature=feature,\n",
        "#     grid_type='percentile', # default='percentile', or 'equal'\n",
        "#     num_grid_points=10 # default=10\n",
        "# )\n",
        "# pdp_plot(isolated, feature_name=feature);"
      ],
      "execution_count": null,
      "outputs": []
    },
    {
      "cell_type": "code",
      "metadata": {
        "id": "2VxIQhjjtRh_",
        "colab": {
          "base_uri": "https://localhost:8080/"
        },
        "outputId": "895853eb-4ec6-4e6c-d546-e1c178133a69"
      },
      "source": [
        "!pip install eli5\n",
        "!pip install category_encoders\n",
        "!pip install pdpbox\n",
        "!pip install shap"
      ],
      "execution_count": 1,
      "outputs": [
        {
          "output_type": "stream",
          "text": [
            "Requirement already satisfied: eli5 in /usr/local/lib/python3.7/dist-packages (0.11.0)\n",
            "Requirement already satisfied: scipy in /usr/local/lib/python3.7/dist-packages (from eli5) (1.4.1)\n",
            "Requirement already satisfied: scikit-learn>=0.20 in /usr/local/lib/python3.7/dist-packages (from eli5) (0.22.2.post1)\n",
            "Requirement already satisfied: numpy>=1.9.0 in /usr/local/lib/python3.7/dist-packages (from eli5) (1.19.5)\n",
            "Requirement already satisfied: jinja2 in /usr/local/lib/python3.7/dist-packages (from eli5) (2.11.3)\n",
            "Requirement already satisfied: graphviz in /usr/local/lib/python3.7/dist-packages (from eli5) (0.10.1)\n",
            "Requirement already satisfied: tabulate>=0.7.7 in /usr/local/lib/python3.7/dist-packages (from eli5) (0.8.9)\n",
            "Requirement already satisfied: six in /usr/local/lib/python3.7/dist-packages (from eli5) (1.15.0)\n",
            "Requirement already satisfied: attrs>16.0.0 in /usr/local/lib/python3.7/dist-packages (from eli5) (21.2.0)\n",
            "Requirement already satisfied: joblib>=0.11 in /usr/local/lib/python3.7/dist-packages (from scikit-learn>=0.20->eli5) (1.0.1)\n",
            "Requirement already satisfied: MarkupSafe>=0.23 in /usr/local/lib/python3.7/dist-packages (from jinja2->eli5) (2.0.1)\n",
            "Requirement already satisfied: category_encoders in /usr/local/lib/python3.7/dist-packages (2.2.2)\n",
            "Requirement already satisfied: pandas>=0.21.1 in /usr/local/lib/python3.7/dist-packages (from category_encoders) (1.1.5)\n",
            "Requirement already satisfied: scikit-learn>=0.20.0 in /usr/local/lib/python3.7/dist-packages (from category_encoders) (0.22.2.post1)\n",
            "Requirement already satisfied: scipy>=1.0.0 in /usr/local/lib/python3.7/dist-packages (from category_encoders) (1.4.1)\n",
            "Requirement already satisfied: statsmodels>=0.9.0 in /usr/local/lib/python3.7/dist-packages (from category_encoders) (0.10.2)\n",
            "Requirement already satisfied: patsy>=0.5.1 in /usr/local/lib/python3.7/dist-packages (from category_encoders) (0.5.1)\n",
            "Requirement already satisfied: numpy>=1.14.0 in /usr/local/lib/python3.7/dist-packages (from category_encoders) (1.19.5)\n",
            "Requirement already satisfied: pytz>=2017.2 in /usr/local/lib/python3.7/dist-packages (from pandas>=0.21.1->category_encoders) (2018.9)\n",
            "Requirement already satisfied: python-dateutil>=2.7.3 in /usr/local/lib/python3.7/dist-packages (from pandas>=0.21.1->category_encoders) (2.8.1)\n",
            "Requirement already satisfied: six in /usr/local/lib/python3.7/dist-packages (from patsy>=0.5.1->category_encoders) (1.15.0)\n",
            "Requirement already satisfied: joblib>=0.11 in /usr/local/lib/python3.7/dist-packages (from scikit-learn>=0.20.0->category_encoders) (1.0.1)\n",
            "Requirement already satisfied: pdpbox in /usr/local/lib/python3.7/dist-packages (0.2.1)\n",
            "Requirement already satisfied: psutil in /usr/local/lib/python3.7/dist-packages (from pdpbox) (5.4.8)\n",
            "Requirement already satisfied: sklearn in /usr/local/lib/python3.7/dist-packages (from pdpbox) (0.0)\n",
            "Requirement already satisfied: pandas in /usr/local/lib/python3.7/dist-packages (from pdpbox) (1.1.5)\n",
            "Requirement already satisfied: numpy in /usr/local/lib/python3.7/dist-packages (from pdpbox) (1.19.5)\n",
            "Requirement already satisfied: joblib in /usr/local/lib/python3.7/dist-packages (from pdpbox) (1.0.1)\n",
            "Requirement already satisfied: matplotlib==3.1.1 in /usr/local/lib/python3.7/dist-packages (from pdpbox) (3.1.1)\n",
            "Requirement already satisfied: scipy in /usr/local/lib/python3.7/dist-packages (from pdpbox) (1.4.1)\n",
            "Requirement already satisfied: pyparsing!=2.0.4,!=2.1.2,!=2.1.6,>=2.0.1 in /usr/local/lib/python3.7/dist-packages (from matplotlib==3.1.1->pdpbox) (2.4.7)\n",
            "Requirement already satisfied: cycler>=0.10 in /usr/local/lib/python3.7/dist-packages (from matplotlib==3.1.1->pdpbox) (0.10.0)\n",
            "Requirement already satisfied: python-dateutil>=2.1 in /usr/local/lib/python3.7/dist-packages (from matplotlib==3.1.1->pdpbox) (2.8.1)\n",
            "Requirement already satisfied: kiwisolver>=1.0.1 in /usr/local/lib/python3.7/dist-packages (from matplotlib==3.1.1->pdpbox) (1.3.1)\n",
            "Requirement already satisfied: six in /usr/local/lib/python3.7/dist-packages (from cycler>=0.10->matplotlib==3.1.1->pdpbox) (1.15.0)\n",
            "Requirement already satisfied: pytz>=2017.2 in /usr/local/lib/python3.7/dist-packages (from pandas->pdpbox) (2018.9)\n",
            "Requirement already satisfied: scikit-learn in /usr/local/lib/python3.7/dist-packages (from sklearn->pdpbox) (0.22.2.post1)\n",
            "Requirement already satisfied: shap in /usr/local/lib/python3.7/dist-packages (0.39.0)\n",
            "Requirement already satisfied: slicer==0.0.7 in /usr/local/lib/python3.7/dist-packages (from shap) (0.0.7)\n",
            "Requirement already satisfied: numpy in /usr/local/lib/python3.7/dist-packages (from shap) (1.19.5)\n",
            "Requirement already satisfied: scikit-learn in /usr/local/lib/python3.7/dist-packages (from shap) (0.22.2.post1)\n",
            "Requirement already satisfied: cloudpickle in /usr/local/lib/python3.7/dist-packages (from shap) (1.3.0)\n",
            "Requirement already satisfied: pandas in /usr/local/lib/python3.7/dist-packages (from shap) (1.1.5)\n",
            "Requirement already satisfied: tqdm>4.25.0 in /usr/local/lib/python3.7/dist-packages (from shap) (4.41.1)\n",
            "Requirement already satisfied: scipy in /usr/local/lib/python3.7/dist-packages (from shap) (1.4.1)\n",
            "Requirement already satisfied: numba in /usr/local/lib/python3.7/dist-packages (from shap) (0.51.2)\n",
            "Requirement already satisfied: setuptools in /usr/local/lib/python3.7/dist-packages (from numba->shap) (57.2.0)\n",
            "Requirement already satisfied: llvmlite<0.35,>=0.34.0.dev0 in /usr/local/lib/python3.7/dist-packages (from numba->shap) (0.34.0)\n",
            "Requirement already satisfied: pytz>=2017.2 in /usr/local/lib/python3.7/dist-packages (from pandas->shap) (2018.9)\n",
            "Requirement already satisfied: python-dateutil>=2.7.3 in /usr/local/lib/python3.7/dist-packages (from pandas->shap) (2.8.1)\n",
            "Requirement already satisfied: six>=1.5 in /usr/local/lib/python3.7/dist-packages (from python-dateutil>=2.7.3->pandas->shap) (1.15.0)\n",
            "Requirement already satisfied: joblib>=0.11 in /usr/local/lib/python3.7/dist-packages (from scikit-learn->shap) (1.0.1)\n"
          ],
          "name": "stdout"
        }
      ]
    },
    {
      "cell_type": "code",
      "metadata": {
        "id": "p2gMZTla2KHn",
        "colab": {
          "base_uri": "https://localhost:8080/"
        },
        "outputId": "44fe06ef-781d-4a78-aba0-dcf2982d34d2"
      },
      "source": [
        "from google.colab import drive\n",
        "drive.mount('/content/drive')"
      ],
      "execution_count": 2,
      "outputs": [
        {
          "output_type": "stream",
          "text": [
            "Drive already mounted at /content/drive; to attempt to forcibly remount, call drive.mount(\"/content/drive\", force_remount=True).\n"
          ],
          "name": "stdout"
        }
      ]
    },
    {
      "cell_type": "code",
      "metadata": {
        "id": "BXRC2qyx2Xp7"
      },
      "source": [
        "import pandas as pd\n",
        "import numpy as np\n",
        "\n",
        "import matplotlib.pyplot as plt\n",
        "import seaborn as sns\n",
        "\n",
        "EEG_data = pd.read_csv(\"/content/drive/MyDrive/EEG_data.csv\") # EEG 데이터 불러오기\n",
        "person_info = pd.read_csv(\"/content/drive/MyDrive/demographic_info.csv\") #실험군 데이터"
      ],
      "execution_count": 3,
      "outputs": []
    },
    {
      "cell_type": "code",
      "metadata": {
        "id": "ljvaZNYWH6cN"
      },
      "source": [
        "# data정리\n",
        "EEG_data[['SubjectID','VideoID', 'user-definedlabeln']] = EEG_data[['SubjectID','VideoID', 'user-definedlabeln']].astype(int)\n",
        "person_info.rename(columns={'subject ID':'SubjectID'}, inplace= True)\n",
        "data = person_info.merge(EEG_data,on ='SubjectID')\n",
        "data.rename(columns={' age':'age'}, inplace= True)\n",
        "data.rename(columns={' ethnicity':'ethnicity'}, inplace= True)\n",
        "data.rename(columns={' gender':'gender'}, inplace= True)\n",
        "data.rename(columns={'user-definedlabeln':'Label'}, inplace= True)\n"
      ],
      "execution_count": 4,
      "outputs": []
    },
    {
      "cell_type": "code",
      "metadata": {
        "id": "nPYJOvmvVS4S",
        "colab": {
          "base_uri": "https://localhost:8080/"
        },
        "outputId": "3f82de5d-3ab7-4447-a5c3-ee85e2db7df9"
      },
      "source": [
        "data.isnull().sum()"
      ],
      "execution_count": 5,
      "outputs": [
        {
          "output_type": "execute_result",
          "data": {
            "text/plain": [
              "SubjectID          0\n",
              "age                0\n",
              "ethnicity          0\n",
              "gender             0\n",
              "VideoID            0\n",
              "Attention          0\n",
              "Mediation          0\n",
              "Raw                0\n",
              "Delta              0\n",
              "Theta              0\n",
              "Alpha1             0\n",
              "Alpha2             0\n",
              "Beta1              0\n",
              "Beta2              0\n",
              "Gamma1             0\n",
              "Gamma2             0\n",
              "predefinedlabel    0\n",
              "Label              0\n",
              "dtype: int64"
            ]
          },
          "metadata": {
            "tags": []
          },
          "execution_count": 5
        }
      ]
    },
    {
      "cell_type": "code",
      "metadata": {
        "id": "QhSNN_5IVWum",
        "colab": {
          "base_uri": "https://localhost:8080/"
        },
        "outputId": "585fbf80-b055-44b8-bddc-ac6d2e38bbc6"
      },
      "source": [
        "data.duplicated().sum()"
      ],
      "execution_count": 6,
      "outputs": [
        {
          "output_type": "execute_result",
          "data": {
            "text/plain": [
              "0"
            ]
          },
          "metadata": {
            "tags": []
          },
          "execution_count": 6
        }
      ]
    },
    {
      "cell_type": "code",
      "metadata": {
        "id": "kf9D0V_0UHdm",
        "colab": {
          "base_uri": "https://localhost:8080/"
        },
        "outputId": "0d2fc7bf-b2a3-490c-bc53-cf90cafed2ce"
      },
      "source": [
        "data.columns"
      ],
      "execution_count": 7,
      "outputs": [
        {
          "output_type": "execute_result",
          "data": {
            "text/plain": [
              "Index(['SubjectID', 'age', 'ethnicity', 'gender', 'VideoID', 'Attention',\n",
              "       'Mediation', 'Raw', 'Delta', 'Theta', 'Alpha1', 'Alpha2', 'Beta1',\n",
              "       'Beta2', 'Gamma1', 'Gamma2', 'predefinedlabel', 'Label'],\n",
              "      dtype='object')"
            ]
          },
          "metadata": {
            "tags": []
          },
          "execution_count": 7
        }
      ]
    },
    {
      "cell_type": "code",
      "metadata": {
        "id": "IqjpCYz2TCn6"
      },
      "source": [
        "# EDA\n",
        "data.drop(columns=['SubjectID', 'VideoID','Raw', 'predefinedlabel'], inplace=True) # 'Raw','predefinedlabel',\n"
      ],
      "execution_count": 8,
      "outputs": []
    },
    {
      "cell_type": "code",
      "metadata": {
        "id": "CxLnqNoQVKBB",
        "colab": {
          "base_uri": "https://localhost:8080/",
          "height": 206
        },
        "outputId": "227085e8-c818-46ab-f057-882c2dec9296"
      },
      "source": [
        "data.head()"
      ],
      "execution_count": 9,
      "outputs": [
        {
          "output_type": "execute_result",
          "data": {
            "text/html": [
              "<div>\n",
              "<style scoped>\n",
              "    .dataframe tbody tr th:only-of-type {\n",
              "        vertical-align: middle;\n",
              "    }\n",
              "\n",
              "    .dataframe tbody tr th {\n",
              "        vertical-align: top;\n",
              "    }\n",
              "\n",
              "    .dataframe thead th {\n",
              "        text-align: right;\n",
              "    }\n",
              "</style>\n",
              "<table border=\"1\" class=\"dataframe\">\n",
              "  <thead>\n",
              "    <tr style=\"text-align: right;\">\n",
              "      <th></th>\n",
              "      <th>age</th>\n",
              "      <th>ethnicity</th>\n",
              "      <th>gender</th>\n",
              "      <th>Attention</th>\n",
              "      <th>Mediation</th>\n",
              "      <th>Delta</th>\n",
              "      <th>Theta</th>\n",
              "      <th>Alpha1</th>\n",
              "      <th>Alpha2</th>\n",
              "      <th>Beta1</th>\n",
              "      <th>Beta2</th>\n",
              "      <th>Gamma1</th>\n",
              "      <th>Gamma2</th>\n",
              "      <th>Label</th>\n",
              "    </tr>\n",
              "  </thead>\n",
              "  <tbody>\n",
              "    <tr>\n",
              "      <th>0</th>\n",
              "      <td>25</td>\n",
              "      <td>Han Chinese</td>\n",
              "      <td>M</td>\n",
              "      <td>56.0</td>\n",
              "      <td>43.0</td>\n",
              "      <td>301963.0</td>\n",
              "      <td>90612.0</td>\n",
              "      <td>33735.0</td>\n",
              "      <td>23991.0</td>\n",
              "      <td>27946.0</td>\n",
              "      <td>45097.0</td>\n",
              "      <td>33228.0</td>\n",
              "      <td>8293.0</td>\n",
              "      <td>0</td>\n",
              "    </tr>\n",
              "    <tr>\n",
              "      <th>1</th>\n",
              "      <td>25</td>\n",
              "      <td>Han Chinese</td>\n",
              "      <td>M</td>\n",
              "      <td>40.0</td>\n",
              "      <td>35.0</td>\n",
              "      <td>73787.0</td>\n",
              "      <td>28083.0</td>\n",
              "      <td>1439.0</td>\n",
              "      <td>2240.0</td>\n",
              "      <td>2746.0</td>\n",
              "      <td>3687.0</td>\n",
              "      <td>5293.0</td>\n",
              "      <td>2740.0</td>\n",
              "      <td>0</td>\n",
              "    </tr>\n",
              "    <tr>\n",
              "      <th>2</th>\n",
              "      <td>25</td>\n",
              "      <td>Han Chinese</td>\n",
              "      <td>M</td>\n",
              "      <td>47.0</td>\n",
              "      <td>48.0</td>\n",
              "      <td>758353.0</td>\n",
              "      <td>383745.0</td>\n",
              "      <td>201999.0</td>\n",
              "      <td>62107.0</td>\n",
              "      <td>36293.0</td>\n",
              "      <td>130536.0</td>\n",
              "      <td>57243.0</td>\n",
              "      <td>25354.0</td>\n",
              "      <td>0</td>\n",
              "    </tr>\n",
              "    <tr>\n",
              "      <th>3</th>\n",
              "      <td>25</td>\n",
              "      <td>Han Chinese</td>\n",
              "      <td>M</td>\n",
              "      <td>47.0</td>\n",
              "      <td>57.0</td>\n",
              "      <td>2012240.0</td>\n",
              "      <td>129350.0</td>\n",
              "      <td>61236.0</td>\n",
              "      <td>17084.0</td>\n",
              "      <td>11488.0</td>\n",
              "      <td>62462.0</td>\n",
              "      <td>49960.0</td>\n",
              "      <td>33932.0</td>\n",
              "      <td>0</td>\n",
              "    </tr>\n",
              "    <tr>\n",
              "      <th>4</th>\n",
              "      <td>25</td>\n",
              "      <td>Han Chinese</td>\n",
              "      <td>M</td>\n",
              "      <td>44.0</td>\n",
              "      <td>53.0</td>\n",
              "      <td>1005145.0</td>\n",
              "      <td>354328.0</td>\n",
              "      <td>37102.0</td>\n",
              "      <td>88881.0</td>\n",
              "      <td>45307.0</td>\n",
              "      <td>99603.0</td>\n",
              "      <td>44790.0</td>\n",
              "      <td>29749.0</td>\n",
              "      <td>0</td>\n",
              "    </tr>\n",
              "  </tbody>\n",
              "</table>\n",
              "</div>"
            ],
            "text/plain": [
              "   age    ethnicity gender  Attention  ...     Beta2   Gamma1   Gamma2  Label\n",
              "0   25  Han Chinese      M       56.0  ...   45097.0  33228.0   8293.0      0\n",
              "1   25  Han Chinese      M       40.0  ...    3687.0   5293.0   2740.0      0\n",
              "2   25  Han Chinese      M       47.0  ...  130536.0  57243.0  25354.0      0\n",
              "3   25  Han Chinese      M       47.0  ...   62462.0  49960.0  33932.0      0\n",
              "4   25  Han Chinese      M       44.0  ...   99603.0  44790.0  29749.0      0\n",
              "\n",
              "[5 rows x 14 columns]"
            ]
          },
          "metadata": {
            "tags": []
          },
          "execution_count": 9
        }
      ]
    },
    {
      "cell_type": "code",
      "metadata": {
        "id": "s5lmAqnGfNKq",
        "colab": {
          "base_uri": "https://localhost:8080/"
        },
        "outputId": "f677bb71-464a-4cd9-864a-727313fc2c70"
      },
      "source": [
        "data.shape"
      ],
      "execution_count": 10,
      "outputs": [
        {
          "output_type": "execute_result",
          "data": {
            "text/plain": [
              "(12811, 14)"
            ]
          },
          "metadata": {
            "tags": []
          },
          "execution_count": 10
        }
      ]
    },
    {
      "cell_type": "code",
      "metadata": {
        "id": "fbBtg9K-XPRu"
      },
      "source": [
        "#혹시 모르니 깊은 복사로 진행\n",
        "y = data['Label'].copy()\n",
        "X = data.drop('Label', axis=1).copy()"
      ],
      "execution_count": 26,
      "outputs": []
    },
    {
      "cell_type": "code",
      "metadata": {
        "id": "RUc09Yh2X7V_"
      },
      "source": [
        "from category_encoders import OneHotEncoder\n",
        "from sklearn.pipeline import make_pipeline\n",
        "from sklearn.preprocessing import StandardScaler, MinMaxScaler\n",
        "from sklearn.model_selection import train_test_split\n",
        "from sklearn.model_selection import GridSearchCV\n",
        "\n",
        "from sklearn.metrics import accuracy_score, precision_score, recall_score, roc_auc_score, f1_score, confusion_matrix, classification_report\n",
        "\n",
        "\n",
        "def eval(test, pred= None, proba=None):\n",
        "  confusion = confusion_matrix(test, pred)\n",
        "  accuracy = accuracy_score(test, pred)\n",
        "  precision = precision_score(test,pred)\n",
        "  recall = recall_score(test, pred)\n",
        "  roc_auc = roc_auc_score(test, proba)\n",
        "  F1 = f1_score(test, pred)\n",
        "\n",
        "  cm = confusion_matrix(test, pred)\n",
        "  plt.figure(figsize=(4, 4))\n",
        "  sns.heatmap(cm, annot=True, fmt='g', vmin=0, cbar=False)\n",
        "\n",
        "  plt.xlabel(\"Predicted\")\n",
        "  plt.ylabel(\"Actual\")\n",
        "  plt.title(\"Confusion Matrix\")\n",
        "\n",
        "  print(classification_report(test, pred))\n",
        "\n",
        "  print('정확도: {0:.4f}, 정밀도: {1:.4f}, 재현율: {2:.4f}, F1: {3:.4f}, AUC: {4:.4f}'.format(accuracy, precision, recall, F1, roc_auc))\n",
        "  \n",
        "  plt.show()\n",
        "  \n"
      ],
      "execution_count": 72,
      "outputs": []
    },
    {
      "cell_type": "code",
      "metadata": {
        "id": "BbWavrzqjdT8",
        "colab": {
          "base_uri": "https://localhost:8080/"
        },
        "outputId": "3980d112-0f27-4924-eaf3-aeab74ff292d"
      },
      "source": [
        "#OneHotencoding, MinMaxscaler\n",
        "\n",
        "encoder = OneHotEncoder(use_cat_names=True)\n",
        "scaler = StandardScaler()\n",
        "\n",
        "X = encoder.fit_transform(X)\n",
        "Xcolumns = X.columns\n",
        "\n",
        "X = scaler.fit_transform(X) # X는 현재 np.array형태 ->tensor에는 이대로 입력\n",
        "X_data = pd.DataFrame(X, columns= Xcolumns) # ML에는 feature분석을 위해 dataframe화\n"
      ],
      "execution_count": 28,
      "outputs": [
        {
          "output_type": "stream",
          "text": [
            "/usr/local/lib/python3.7/dist-packages/category_encoders/utils.py:21: FutureWarning: is_categorical is deprecated and will be removed in a future version.  Use is_categorical_dtype instead\n",
            "  elif pd.api.types.is_categorical(cols):\n"
          ],
          "name": "stderr"
        }
      ]
    },
    {
      "cell_type": "code",
      "metadata": {
        "id": "eaHkEcLDfAcW"
      },
      "source": [
        "X_train, X_test, y_train, y_test = train_test_split(X_data, y, test_size= 0.2, random_state=42)\n",
        "X_train, X_val, y_train, y_val = train_test_split(X_train, y_train, test_size=0.2, random_state= 42)"
      ],
      "execution_count": 29,
      "outputs": []
    },
    {
      "cell_type": "code",
      "metadata": {
        "id": "wqpDG6lZDQeE",
        "colab": {
          "base_uri": "https://localhost:8080/"
        },
        "outputId": "aae1862f-6a83-407c-82e7-eae32e26f332"
      },
      "source": [
        "X_train.shape"
      ],
      "execution_count": 30,
      "outputs": [
        {
          "output_type": "execute_result",
          "data": {
            "text/plain": [
              "(8198, 16)"
            ]
          },
          "metadata": {
            "tags": []
          },
          "execution_count": 30
        }
      ]
    },
    {
      "cell_type": "code",
      "metadata": {
        "id": "VBFuNUj0bVnc",
        "colab": {
          "base_uri": "https://localhost:8080/",
          "height": 539
        },
        "outputId": "b0d27e84-a271-4a16-bc6f-fd0094f2a0f5"
      },
      "source": [
        "#base\n",
        "y_base1 = [1] * len(y_val)\n",
        "\n",
        "confusion = confusion_matrix(y_val, y_base1)\n",
        "accuracy = accuracy_score(y_val, y_base1)\n",
        "precision = precision_score(y_val, y_base1)\n",
        "recall = recall_score(y_val, y_base1)\n",
        "F1 = f1_score(y_val, y_base1)\n",
        "roc_auc = roc_auc_score(y_val, y_base1)\n",
        "\n",
        "cm = confusion_matrix(y_val, y_base1)\n",
        "plt.figure(figsize=(4, 4))\n",
        "sns.heatmap(cm, annot=True, fmt='g', vmin=0, cbar=False)\n",
        "\n",
        "plt.xlabel(\"Predicted\")\n",
        "plt.ylabel(\"Actual\")\n",
        "plt.title(\"Confusion Matrix\")\n",
        "\n",
        "plt.show()\n",
        "\n",
        "print(classification_report(y_val, y_base1))\n",
        "\n",
        "print('정확도: {0:.4f}, 정밀도: {1:.4f}, 재현율: {2:.4f}, F1: {3:.4f}, AUC: {4:.4f}'.format(accuracy, precision, recall, F1, roc_auc))\n",
        "\n",
        "\n"
      ],
      "execution_count": 76,
      "outputs": [
        {
          "output_type": "display_data",
          "data": {
            "image/png": "[encoded data removed]",
            "text/plain": [
              "<Figure size 288x288 with 1 Axes>"
            ]
          },
          "metadata": {
            "tags": [],
            "needs_background": "light"
          }
        },
        {
          "output_type": "stream",
          "text": [
            "              precision    recall  f1-score   support\n",
            "\n",
            "           0       0.00      0.00      0.00      1023\n",
            "           1       0.50      1.00      0.67      1027\n",
            "\n",
            "    accuracy                           0.50      2050\n",
            "   macro avg       0.25      0.50      0.33      2050\n",
            "weighted avg       0.25      0.50      0.33      2050\n",
            "\n",
            "정확도: 0.5010, 정밀도: 0.5010, 재현율: 1.0000, F1: 0.6675, AUC: 0.5000\n"
          ],
          "name": "stdout"
        },
        {
          "output_type": "stream",
          "text": [
            "/usr/local/lib/python3.7/dist-packages/sklearn/metrics/_classification.py:1272: UndefinedMetricWarning: Precision and F-score are ill-defined and being set to 0.0 in labels with no predicted samples. Use `zero_division` parameter to control this behavior.\n",
            "  _warn_prf(average, modifier, msg_start, len(result))\n"
          ],
          "name": "stderr"
        }
      ]
    },
    {
      "cell_type": "code",
      "metadata": {
        "id": "QD-ho4dSftDF"
      },
      "source": [
        "# 여러 ML 사용해보기- > 트리 계열은 과적합이 나옴 그나마 랜덤포레스트 모델, XGBoost, LGBM 이 70퍼센트 나옴"
      ],
      "execution_count": null,
      "outputs": []
    },
    {
      "cell_type": "code",
      "metadata": {
        "id": "hlWu9HukgaXA",
        "colab": {
          "base_uri": "https://localhost:8080/",
          "height": 482
        },
        "outputId": "84eacd2a-1ad8-44cf-bb7d-f5b1de695dd7"
      },
      "source": [
        "from sklearn.ensemble import RandomForestClassifier\n",
        "\n",
        "forest_model = RandomForestClassifier()\n",
        "forest_model.fit(X_train, y_train)\n",
        "y_pred = forest_model.predict(X_val)\n",
        "y_proba = forest_model.predict_proba(X_val)[:,1]\n",
        "\n",
        "eval(y_val, y_pred, y_proba)"
      ],
      "execution_count": 77,
      "outputs": [
        {
          "output_type": "stream",
          "text": [
            "              precision    recall  f1-score   support\n",
            "\n",
            "           0       0.70      0.66      0.68      1023\n",
            "           1       0.68      0.72      0.70      1027\n",
            "\n",
            "    accuracy                           0.69      2050\n",
            "   macro avg       0.69      0.69      0.69      2050\n",
            "weighted avg       0.69      0.69      0.69      2050\n",
            "\n",
            "정확도: 0.6863, 정밀도: 0.6765, 재현율: 0.7167, F1: 0.6960, AUC: 0.7607\n"
          ],
          "name": "stdout"
        },
        {
          "output_type": "display_data",
          "data": {
            "image/png": "[encoded data removed]",
            "text/plain": [
              "<Figure size 288x288 with 1 Axes>"
            ]
          },
          "metadata": {
            "tags": [],
            "needs_background": "light"
          }
        }
      ]
    },
    {
      "cell_type": "code",
      "metadata": {
        "id": "AY7pOxfnOH8Y"
      },
      "source": [
        "# import shap\n",
        "\n",
        "# explainer = shap.TreeExplainer(forest_model)\n",
        "# shap_values = explainer.shap_values(X_data)\n",
        "\n",
        "# # row = X_data.iloc[[200]]\n",
        "\n",
        "# # Shap value, 특성이름, 특성값을 가지는 Series를 만듭니다\n",
        "# feature_names = X_data.columns\n",
        "# feature_values = X_data.values[0]\n",
        "# shaps = pd.Series(shap_values[0], zip(feature_names, feature_values))\n",
        "\n",
        "# shap.initjs()\n",
        "# shap.force_plot(\n",
        "#     base_value= explainer.expected_value, \n",
        "#     shap_values= shap_values,\n",
        "#     features=X_data\n",
        "# )"
      ],
      "execution_count": null,
      "outputs": []
    },
    {
      "cell_type": "code",
      "metadata": {
        "id": "n1xtzrI-deRy",
        "colab": {
          "base_uri": "https://localhost:8080/"
        },
        "outputId": "41346d84-5a9d-4835-b2b4-b4580818ce1a"
      },
      "source": [
        "forest_param ={   'n_estimators':[10,50,100,200] ,\n",
        "                  'criterion': ['gini', 'entropy'], \n",
        "                  'max_depth':[5, 10, 20, 30, 50],\n",
        "                  'min_samples_leaf' :[1,2,4],\n",
        "                  'max_features' : [8, 12, 16]\n",
        "               \n",
        "                }\n",
        "\n",
        "grid_search_forest = GridSearchCV(forest_model, forest_param, cv =5, scoring='roc_auc')\n",
        "grid_search_forest.fit(X_train, y_train)"
      ],
      "execution_count": 37,
      "outputs": [
        {
          "output_type": "execute_result",
          "data": {
            "text/plain": [
              "GridSearchCV(cv=5, error_score=nan,\n",
              "             estimator=RandomForestClassifier(bootstrap=True, ccp_alpha=0.0,\n",
              "                                              class_weight=None,\n",
              "                                              criterion='gini', max_depth=None,\n",
              "                                              max_features='auto',\n",
              "                                              max_leaf_nodes=None,\n",
              "                                              max_samples=None,\n",
              "                                              min_impurity_decrease=0.0,\n",
              "                                              min_impurity_split=None,\n",
              "                                              min_samples_leaf=1,\n",
              "                                              min_samples_split=2,\n",
              "                                              min_weight_fraction_leaf=0.0,\n",
              "                                              n_estimators=100, n_jobs=None,\n",
              "                                              oob_score=False,\n",
              "                                              random_state=None, verbose=0,\n",
              "                                              warm_start=False),\n",
              "             iid='deprecated', n_jobs=None,\n",
              "             param_grid={'criterion': ['gini', 'entropy'],\n",
              "                         'max_depth': [5, 10, 20, 30, 50],\n",
              "                         'max_features': [8, 12, 16],\n",
              "                         'min_samples_leaf': [1, 2, 4],\n",
              "                         'n_estimators': [10, 50, 100, 200]},\n",
              "             pre_dispatch='2*n_jobs', refit=True, return_train_score=False,\n",
              "             scoring='roc_auc', verbose=0)"
            ]
          },
          "metadata": {
            "tags": []
          },
          "execution_count": 37
        }
      ]
    },
    {
      "cell_type": "code",
      "metadata": {
        "id": "i9yxQbm_tVze",
        "colab": {
          "base_uri": "https://localhost:8080/"
        },
        "outputId": "885a5596-49ed-4fe0-ef2d-0afacb33c2e7"
      },
      "source": [
        "grid_search_forest.best_estimator_"
      ],
      "execution_count": 38,
      "outputs": [
        {
          "output_type": "execute_result",
          "data": {
            "text/plain": [
              "RandomForestClassifier(bootstrap=True, ccp_alpha=0.0, class_weight=None,\n",
              "                       criterion='gini', max_depth=50, max_features=8,\n",
              "                       max_leaf_nodes=None, max_samples=None,\n",
              "                       min_impurity_decrease=0.0, min_impurity_split=None,\n",
              "                       min_samples_leaf=1, min_samples_split=2,\n",
              "                       min_weight_fraction_leaf=0.0, n_estimators=200,\n",
              "                       n_jobs=None, oob_score=False, random_state=None,\n",
              "                       verbose=0, warm_start=False)"
            ]
          },
          "metadata": {
            "tags": []
          },
          "execution_count": 38
        }
      ]
    },
    {
      "cell_type": "code",
      "metadata": {
        "id": "eMw4ZiyBtl5T",
        "colab": {
          "base_uri": "https://localhost:8080/"
        },
        "outputId": "29053d50-aee9-41eb-f438-8d6afde58a6a"
      },
      "source": [
        "grid_search_forest.best_params_"
      ],
      "execution_count": 39,
      "outputs": [
        {
          "output_type": "execute_result",
          "data": {
            "text/plain": [
              "{'criterion': 'gini',\n",
              " 'max_depth': 50,\n",
              " 'max_features': 8,\n",
              " 'min_samples_leaf': 1,\n",
              " 'n_estimators': 200}"
            ]
          },
          "metadata": {
            "tags": []
          },
          "execution_count": 39
        }
      ]
    },
    {
      "cell_type": "code",
      "metadata": {
        "id": "ERuyYjVjtrWJ",
        "colab": {
          "base_uri": "https://localhost:8080/"
        },
        "outputId": "898c084d-a923-41ad-dfdc-08ade875df1f"
      },
      "source": [
        "grid_search_forest.best_score_"
      ],
      "execution_count": 40,
      "outputs": [
        {
          "output_type": "execute_result",
          "data": {
            "text/plain": [
              "0.7430784205737273"
            ]
          },
          "metadata": {
            "tags": []
          },
          "execution_count": 40
        }
      ]
    },
    {
      "cell_type": "code",
      "metadata": {
        "id": "JbYds5S3tyyS",
        "colab": {
          "base_uri": "https://localhost:8080/",
          "height": 482
        },
        "outputId": "e02ae66a-2616-4df2-9969-4dbbd22b97f5"
      },
      "source": [
        "#fine tunning forest\n",
        "opforest_model = RandomForestClassifier(criterion= 'gini', max_depth= 50, n_estimators= 200, max_features = 8, min_samples_leaf=1)\n",
        "opforest_model.fit(X_train, y_train)\n",
        "y_pred = opforest_model.predict(X_val)\n",
        "y_proba = opforest_model.predict_proba(X_val)[:,1]\n",
        "\n",
        "eval(y_val, y_pred, y_proba)  \n",
        "\n",
        "# forest_model : 정확도: 0.6946, 정밀도: 0.6821, 재현율: 0.7313, F1: 0.7058, AUC: 0.7584 -> critical하게 변하지 않았다."
      ],
      "execution_count": 42,
      "outputs": [
        {
          "output_type": "stream",
          "text": [
            "              precision    recall  f1-score   support\n",
            "\n",
            "           0       0.71      0.66      0.68      1023\n",
            "           1       0.68      0.73      0.70      1027\n",
            "\n",
            "    accuracy                           0.69      2050\n",
            "   macro avg       0.69      0.69      0.69      2050\n",
            "weighted avg       0.69      0.69      0.69      2050\n",
            "\n",
            "정확도: 0.6941, 정밀도: 0.6832, 재현율: 0.7264, F1: 0.7041, AUC: 0.7671\n"
          ],
          "name": "stdout"
        },
        {
          "output_type": "display_data",
          "data": {
            "image/png": "[encoded data removed]",
            "text/plain": [
              "<Figure size 288x288 with 1 Axes>"
            ]
          },
          "metadata": {
            "tags": [],
            "needs_background": "light"
          }
        }
      ]
    },
    {
      "cell_type": "code",
      "metadata": {
        "id": "FYTAQ0u-t_HD",
        "colab": {
          "base_uri": "https://localhost:8080/",
          "height": 607
        },
        "outputId": "3a781084-2a63-4d62-8df9-e753137beed9"
      },
      "source": [
        "# permuter 정의\n",
        "import eli5\n",
        "from eli5.sklearn import PermutationImportance\n",
        "\n",
        "permuter = PermutationImportance(\n",
        "    opforest_model, # model\n",
        "    scoring='accuracy', # metric\n",
        "    n_iter=5, # 다른 random seed를 사용하여 5번 반복\n",
        "    random_state=2\n",
        ")\n",
        "\n",
        "# 실제로 fit 의미보다는 스코어를 다시 계산하는 작업입니다\n",
        "permuter.fit(X_val, y_val);\n",
        "\n",
        "feature_names = X_val.columns.tolist()\n",
        "permute_importance = pd.Series(permuter.feature_importances_, feature_names)\n",
        "\n",
        "%matplotlib inline\n",
        "\n",
        "n = 20\n",
        "plt.figure(figsize=(10,n/2))\n",
        "plt.title(f'Top {n} permute_features')\n",
        "permute_importance.sort_values()[-n:].plot.barh();"
      ],
      "execution_count": 43,
      "outputs": [
        {
          "output_type": "display_data",
          "data": {
            "image/png": "[encoded data removed]",
            "text/plain": [
              "<Figure size 720x720 with 1 Axes>"
            ]
          },
          "metadata": {
            "tags": [],
            "needs_background": "light"
          }
        }
      ]
    },
    {
      "cell_type": "code",
      "metadata": {
        "id": "1gFaPftvE_kg",
        "colab": {
          "base_uri": "https://localhost:8080/",
          "height": 607
        },
        "outputId": "af6f0c90-4a86-4ae7-cf68-c32db8a3d701"
      },
      "source": [
        "importances = pd.Series(opforest_model.feature_importances_, X_train.columns)\n",
        "\n",
        "%matplotlib inline\n",
        "\n",
        "\n",
        "n = 20\n",
        "plt.figure(figsize=(10,n/2))\n",
        "plt.title(f'Top {n} features')\n",
        "importances.sort_values()[-n:].plot.barh();"
      ],
      "execution_count": 44,
      "outputs": [
        {
          "output_type": "display_data",
          "data": {
            "image/png": "[encoded data removed]",
            "text/plain": [
              "<Figure size 720x720 with 1 Axes>"
            ]
          },
          "metadata": {
            "tags": [],
            "needs_background": "light"
          }
        }
      ]
    },
    {
      "cell_type": "code",
      "metadata": {
        "id": "gQ3PoiiZgozo",
        "colab": {
          "base_uri": "https://localhost:8080/",
          "height": 482
        },
        "outputId": "5d2b0cf2-0faa-4ea6-8570-170ce3b1ab27"
      },
      "source": [
        "from xgboost import XGBClassifier\n",
        "\n",
        "XG_model = XGBClassifier()\n",
        "XG_model.fit(X_train, y_train)\n",
        "\n",
        "y_pred = XG_model.predict(X_val)\n",
        "y_proba = XG_model.predict_proba(X_val)[:,1]\n",
        "\n",
        "eval(y_val, y_pred, y_proba)"
      ],
      "execution_count": 45,
      "outputs": [
        {
          "output_type": "stream",
          "text": [
            "              precision    recall  f1-score   support\n",
            "\n",
            "           0       0.67      0.61      0.64      1023\n",
            "           1       0.64      0.70      0.67      1027\n",
            "\n",
            "    accuracy                           0.66      2050\n",
            "   macro avg       0.66      0.66      0.65      2050\n",
            "weighted avg       0.66      0.66      0.65      2050\n",
            "\n",
            "정확도: 0.6556, 정밀도: 0.6439, 재현율: 0.6991, F1: 0.6704, AUC: 0.7245\n"
          ],
          "name": "stdout"
        },
        {
          "output_type": "display_data",
          "data": {
            "image/png": "[encoded data removed]",
            "text/plain": [
              "<Figure size 288x288 with 1 Axes>"
            ]
          },
          "metadata": {
            "tags": [],
            "needs_background": "light"
          }
        }
      ]
    },
    {
      "cell_type": "code",
      "metadata": {
        "id": "fycyLtTNfhU9",
        "colab": {
          "base_uri": "https://localhost:8080/"
        },
        "outputId": "e0a81a78-9b2c-4254-e37f-1fb14a5a914c"
      },
      "source": [
        "XGB_params ={'n_estimators':[10,50,100,200] ,\n",
        "            'criterion': ['gini', 'entropy'], \n",
        "            'max_depth':[5, 10, 20, 30, 50],\n",
        "            'learning_rate' : [0.01, 0.05 , 0.1, 0.2]\n",
        "                }\n",
        "\n",
        "grid_search_XGB = GridSearchCV(XG_model, XGB_params, cv =5, scoring='roc_auc')\n",
        "grid_search_XGB.fit(X_train, y_train)"
      ],
      "execution_count": 46,
      "outputs": [
        {
          "output_type": "execute_result",
          "data": {
            "text/plain": [
              "GridSearchCV(cv=5, error_score=nan,\n",
              "             estimator=XGBClassifier(base_score=0.5, booster='gbtree',\n",
              "                                     colsample_bylevel=1, colsample_bynode=1,\n",
              "                                     colsample_bytree=1, gamma=0,\n",
              "                                     learning_rate=0.1, max_delta_step=0,\n",
              "                                     max_depth=3, min_child_weight=1,\n",
              "                                     missing=None, n_estimators=100, n_jobs=1,\n",
              "                                     nthread=None, objective='binary:logistic',\n",
              "                                     random_state=0, reg_alpha=0, reg_lambda=1,\n",
              "                                     scale_pos_weight=1, seed=None, silent=None,\n",
              "                                     subsample=1, verbosity=1),\n",
              "             iid='deprecated', n_jobs=None,\n",
              "             param_grid={'criterion': ['gini', 'entropy'],\n",
              "                         'learning_rate': [0.01, 0.05, 0.1, 0.2],\n",
              "                         'max_depth': [5, 10, 20, 30, 50],\n",
              "                         'n_estimators': [10, 50, 100, 200]},\n",
              "             pre_dispatch='2*n_jobs', refit=True, return_train_score=False,\n",
              "             scoring='roc_auc', verbose=0)"
            ]
          },
          "metadata": {
            "tags": []
          },
          "execution_count": 46
        }
      ]
    },
    {
      "cell_type": "code",
      "metadata": {
        "id": "IAId3oe3pQN6",
        "colab": {
          "base_uri": "https://localhost:8080/"
        },
        "outputId": "5ddb4bc8-151f-4069-cfa5-d5a6894cafa0"
      },
      "source": [
        "grid_search_XGB.best_estimator_"
      ],
      "execution_count": 47,
      "outputs": [
        {
          "output_type": "execute_result",
          "data": {
            "text/plain": [
              "XGBClassifier(base_score=0.5, booster='gbtree', colsample_bylevel=1,\n",
              "              colsample_bynode=1, colsample_bytree=1, criterion='gini', gamma=0,\n",
              "              learning_rate=0.1, max_delta_step=0, max_depth=50,\n",
              "              min_child_weight=1, missing=None, n_estimators=200, n_jobs=1,\n",
              "              nthread=None, objective='binary:logistic', random_state=0,\n",
              "              reg_alpha=0, reg_lambda=1, scale_pos_weight=1, seed=None,\n",
              "              silent=None, subsample=1, verbosity=1)"
            ]
          },
          "metadata": {
            "tags": []
          },
          "execution_count": 47
        }
      ]
    },
    {
      "cell_type": "code",
      "metadata": {
        "id": "7fCJBMw3pVXw",
        "colab": {
          "base_uri": "https://localhost:8080/"
        },
        "outputId": "54ef7aa5-f9a4-4d9e-f174-7e8a7e4f7585"
      },
      "source": [
        "grid_search_XGB.best_params_"
      ],
      "execution_count": 48,
      "outputs": [
        {
          "output_type": "execute_result",
          "data": {
            "text/plain": [
              "{'criterion': 'gini',\n",
              " 'learning_rate': 0.1,\n",
              " 'max_depth': 50,\n",
              " 'n_estimators': 200}"
            ]
          },
          "metadata": {
            "tags": []
          },
          "execution_count": 48
        }
      ]
    },
    {
      "cell_type": "code",
      "metadata": {
        "id": "TsKfCz4GpZDE",
        "colab": {
          "base_uri": "https://localhost:8080/"
        },
        "outputId": "823cd58a-d438-4c50-ea55-0a3d6d8c5af1"
      },
      "source": [
        "grid_search_XGB.best_score_"
      ],
      "execution_count": 49,
      "outputs": [
        {
          "output_type": "execute_result",
          "data": {
            "text/plain": [
              "0.7370184659404045"
            ]
          },
          "metadata": {
            "tags": []
          },
          "execution_count": 49
        }
      ]
    },
    {
      "cell_type": "code",
      "metadata": {
        "id": "A0fDQkUKpkTM",
        "colab": {
          "base_uri": "https://localhost:8080/",
          "height": 482
        },
        "outputId": "68e49082-fc52-4918-a353-36e1ee33ab42"
      },
      "source": [
        "opXG_model = XGBClassifier(criterion = 'gini', learning_rate = 0.1, max_depth = 50, n_estimators = 200)\n",
        "opXG_model.fit(X_train, y_train)\n",
        "\n",
        "y_pred = opXG_model.predict(X_val)\n",
        "y_proba = opXG_model.predict_proba(X_val)[:,1]\n",
        "\n",
        "eval(y_val, y_pred, y_proba)\n",
        "# 정확도: 0.6556, 정밀도: 0.6439, 재현율: 0.6991, F1: 0.6704, AUC: 0.7245 -> 전반적으로 개선이 됨"
      ],
      "execution_count": 51,
      "outputs": [
        {
          "output_type": "stream",
          "text": [
            "              precision    recall  f1-score   support\n",
            "\n",
            "           0       0.69      0.65      0.67      1023\n",
            "           1       0.67      0.71      0.69      1027\n",
            "\n",
            "    accuracy                           0.68      2050\n",
            "   macro avg       0.68      0.68      0.68      2050\n",
            "weighted avg       0.68      0.68      0.68      2050\n",
            "\n",
            "정확도: 0.6824, 정밀도: 0.6722, 재현율: 0.7147, F1: 0.6928, AUC: 0.7504\n"
          ],
          "name": "stdout"
        },
        {
          "output_type": "display_data",
          "data": {
            "image/png": "[encoded data removed]",
            "text/plain": [
              "<Figure size 288x288 with 1 Axes>"
            ]
          },
          "metadata": {
            "tags": [],
            "needs_background": "light"
          }
        }
      ]
    },
    {
      "cell_type": "code",
      "metadata": {
        "id": "IYTnJs1OEeJ7",
        "colab": {
          "base_uri": "https://localhost:8080/",
          "height": 607
        },
        "outputId": "46e2e60f-ac2a-4f88-9873-eb6bc70224d7"
      },
      "source": [
        "permuter = PermutationImportance(\n",
        "    opXG_model, # model\n",
        "    scoring='accuracy', # metric\n",
        "    n_iter=5, # 다른 random seed를 사용하여 5번 반복\n",
        "    random_state=2\n",
        ")\n",
        "\n",
        "# 실제로 fit 의미보다는 스코어를 다시 계산하는 작업입니다\n",
        "permuter.fit(X_val, y_val)\n",
        "\n",
        "feature_names = X_val.columns.tolist()\n",
        "permute_importance = pd.Series(permuter.feature_importances_, feature_names)\n",
        "\n",
        "%matplotlib inline\n",
        "\n",
        "n = 20\n",
        "plt.figure(figsize=(10,n/2))\n",
        "plt.title(f'Top {n} permute_features')\n",
        "permute_importance.sort_values()[-n:].plot.barh();"
      ],
      "execution_count": 52,
      "outputs": [
        {
          "output_type": "display_data",
          "data": {
            "image/png": "[encoded data removed]",
            "text/plain": [
              "<Figure size 720x720 with 1 Axes>"
            ]
          },
          "metadata": {
            "tags": [],
            "needs_background": "light"
          }
        }
      ]
    },
    {
      "cell_type": "code",
      "metadata": {
        "id": "3UKV0v26IqwI",
        "colab": {
          "base_uri": "https://localhost:8080/",
          "height": 607
        },
        "outputId": "57a83661-3f89-419e-d151-fa15ef328e84"
      },
      "source": [
        "importances = pd.Series(opXG_model.feature_importances_, X_train.columns)\n",
        "\n",
        "%matplotlib inline\n",
        "\n",
        "\n",
        "n = 20\n",
        "plt.figure(figsize=(10,n/2))\n",
        "plt.title(f'Top {n} features')\n",
        "importances.sort_values()[-n:].plot.barh();"
      ],
      "execution_count": 54,
      "outputs": [
        {
          "output_type": "display_data",
          "data": {
            "image/png": "[encoded data removed]",
            "text/plain": [
              "<Figure size 720x720 with 1 Axes>"
            ]
          },
          "metadata": {
            "tags": [],
            "needs_background": "light"
          }
        }
      ]
    },
    {
      "cell_type": "code",
      "metadata": {
        "id": "FAC4UGcbirMl",
        "colab": {
          "base_uri": "https://localhost:8080/",
          "height": 482
        },
        "outputId": "90f00722-d506-4852-ba0b-b0b6a57d041a"
      },
      "source": [
        "from lightgbm import LGBMClassifier\n",
        "\n",
        "light_model = LGBMClassifier()\n",
        "light_model.fit(X_train, y_train)\n",
        "y_pred = light_model.predict(X_val)\n",
        "y_proba = light_model.predict_proba(X_val)[:,1]\n",
        "\n",
        "eval(y_val, y_pred, y_proba)"
      ],
      "execution_count": 55,
      "outputs": [
        {
          "output_type": "stream",
          "text": [
            "              precision    recall  f1-score   support\n",
            "\n",
            "           0       0.68      0.65      0.66      1023\n",
            "           1       0.67      0.70      0.68      1027\n",
            "\n",
            "    accuracy                           0.67      2050\n",
            "   macro avg       0.67      0.67      0.67      2050\n",
            "weighted avg       0.67      0.67      0.67      2050\n",
            "\n",
            "정확도: 0.6737, 정밀도: 0.6651, 재현율: 0.7020, F1: 0.6831, AUC: 0.7441\n"
          ],
          "name": "stdout"
        },
        {
          "output_type": "display_data",
          "data": {
            "image/png": "[encoded data removed]",
            "text/plain": [
              "<Figure size 288x288 with 1 Axes>"
            ]
          },
          "metadata": {
            "tags": [],
            "needs_background": "light"
          }
        }
      ]
    },
    {
      "cell_type": "code",
      "metadata": {
        "id": "o5z9JLnNjC89",
        "colab": {
          "base_uri": "https://localhost:8080/"
        },
        "outputId": "febada52-1862-4323-941f-cdb94e4e9e97"
      },
      "source": [
        "light_params ={'n_estimators':[10,50,100,200],\n",
        "               'criterion': ['gini', 'entropy'], \n",
        "               'max_depth':[5, 10, 20, 30, 50,100],\n",
        "               'learning_rate' : [0.01, 0.05 , 0.1, 0.2]\n",
        "                }\n",
        "\n",
        "grid_search_light = GridSearchCV(light_model, light_params, cv =5, scoring='roc_auc')\n",
        "grid_search_light.fit(X_train, y_train)"
      ],
      "execution_count": 56,
      "outputs": [
        {
          "output_type": "execute_result",
          "data": {
            "text/plain": [
              "GridSearchCV(cv=5, error_score=nan,\n",
              "             estimator=LGBMClassifier(boosting_type='gbdt', class_weight=None,\n",
              "                                      colsample_bytree=1.0,\n",
              "                                      importance_type='split',\n",
              "                                      learning_rate=0.1, max_depth=-1,\n",
              "                                      min_child_samples=20,\n",
              "                                      min_child_weight=0.001,\n",
              "                                      min_split_gain=0.0, n_estimators=100,\n",
              "                                      n_jobs=-1, num_leaves=31, objective=None,\n",
              "                                      random_state=None, reg_alpha=0.0,\n",
              "                                      reg_lambda=0.0, silent=True,\n",
              "                                      subsample=1.0, subsample_for_bin=200000,\n",
              "                                      subsample_freq=0),\n",
              "             iid='deprecated', n_jobs=None,\n",
              "             param_grid={'criterion': ['gini', 'entropy'],\n",
              "                         'learning_rate': [0.01, 0.05, 0.1, 0.2],\n",
              "                         'max_depth': [5, 10, 20, 30, 50, 100],\n",
              "                         'n_estimators': [10, 50, 100, 200]},\n",
              "             pre_dispatch='2*n_jobs', refit=True, return_train_score=False,\n",
              "             scoring='roc_auc', verbose=0)"
            ]
          },
          "metadata": {
            "tags": []
          },
          "execution_count": 56
        }
      ]
    },
    {
      "cell_type": "code",
      "metadata": {
        "id": "8XWIOjt9qRs1",
        "colab": {
          "base_uri": "https://localhost:8080/"
        },
        "outputId": "30dbe345-2185-40d7-e202-ad218af1a6c1"
      },
      "source": [
        "grid_search_light.best_estimator_"
      ],
      "execution_count": 57,
      "outputs": [
        {
          "output_type": "execute_result",
          "data": {
            "text/plain": [
              "LGBMClassifier(boosting_type='gbdt', class_weight=None, colsample_bytree=1.0,\n",
              "               criterion='gini', importance_type='split', learning_rate=0.05,\n",
              "               max_depth=20, min_child_samples=20, min_child_weight=0.001,\n",
              "               min_split_gain=0.0, n_estimators=200, n_jobs=-1, num_leaves=31,\n",
              "               objective=None, random_state=None, reg_alpha=0.0, reg_lambda=0.0,\n",
              "               silent=True, subsample=1.0, subsample_for_bin=200000,\n",
              "               subsample_freq=0)"
            ]
          },
          "metadata": {
            "tags": []
          },
          "execution_count": 57
        }
      ]
    },
    {
      "cell_type": "code",
      "metadata": {
        "id": "9X5EUKXKqWw9",
        "colab": {
          "base_uri": "https://localhost:8080/"
        },
        "outputId": "d557c490-ae1a-4a79-f4b5-1903e4de8d32"
      },
      "source": [
        "grid_search_light.best_params_"
      ],
      "execution_count": 58,
      "outputs": [
        {
          "output_type": "execute_result",
          "data": {
            "text/plain": [
              "{'criterion': 'gini',\n",
              " 'learning_rate': 0.05,\n",
              " 'max_depth': 20,\n",
              " 'n_estimators': 200}"
            ]
          },
          "metadata": {
            "tags": []
          },
          "execution_count": 58
        }
      ]
    },
    {
      "cell_type": "code",
      "metadata": {
        "id": "I8l-B1bzqYla",
        "colab": {
          "base_uri": "https://localhost:8080/"
        },
        "outputId": "2c746dd6-2f31-4890-d71b-57aec16e6510"
      },
      "source": [
        "grid_search_light.best_score_"
      ],
      "execution_count": 59,
      "outputs": [
        {
          "output_type": "execute_result",
          "data": {
            "text/plain": [
              "0.730099452452788"
            ]
          },
          "metadata": {
            "tags": []
          },
          "execution_count": 59
        }
      ]
    },
    {
      "cell_type": "code",
      "metadata": {
        "id": "ZTvkThDyqfPT",
        "colab": {
          "base_uri": "https://localhost:8080/",
          "height": 482
        },
        "outputId": "2b854924-aeef-48e1-fa1f-d4e1fb9a3071"
      },
      "source": [
        "oplight_model = LGBMClassifier(criterion = 'gini', learning_rate = 0.05, max_depth = 20, n_estimators = 200)\n",
        "oplight_model.fit(X_train, y_train)\n",
        "y_pred = oplight_model.predict(X_val)\n",
        "y_proba = oplight_model.predict_proba(X_val)[:,1]\n",
        "\n",
        "eval(y_val, y_pred, y_proba)\n",
        "\n",
        "#정확도: 0.6737, 정밀도: 0.6651, 재현율: 0.7020, F1: 0.6831, AUC: 0.7441 -> 크리티컬한 변화는 없었다."
      ],
      "execution_count": 60,
      "outputs": [
        {
          "output_type": "stream",
          "text": [
            "              precision    recall  f1-score   support\n",
            "\n",
            "           0       0.70      0.64      0.67      1023\n",
            "           1       0.67      0.73      0.70      1027\n",
            "\n",
            "    accuracy                           0.68      2050\n",
            "   macro avg       0.69      0.68      0.68      2050\n",
            "weighted avg       0.69      0.68      0.68      2050\n",
            "\n",
            "정확도: 0.6849, 정밀도: 0.6699, 재현율: 0.7313, F1: 0.6993, AUC: 0.7541\n"
          ],
          "name": "stdout"
        },
        {
          "output_type": "display_data",
          "data": {
            "image/png": "[encoded data removed]",
            "text/plain": [
              "<Figure size 288x288 with 1 Axes>"
            ]
          },
          "metadata": {
            "tags": [],
            "needs_background": "light"
          }
        }
      ]
    },
    {
      "cell_type": "code",
      "metadata": {
        "id": "81YSavWfEt4X",
        "colab": {
          "base_uri": "https://localhost:8080/",
          "height": 607
        },
        "outputId": "4a760cfb-31a8-4677-9db4-cd4c5b8d681e"
      },
      "source": [
        "permuter = PermutationImportance(\n",
        "    oplight_model, # model\n",
        "    scoring='accuracy', # metric\n",
        "    n_iter=5, # 다른 random seed를 사용하여 5번 반복\n",
        "    random_state=2\n",
        ")\n",
        "\n",
        "# 실제로 fit 의미보다는 스코어를 다시 계산하는 작업입니다\n",
        "permuter.fit(X_val, y_val);\n",
        "\n",
        "feature_names = X_val.columns.tolist()\n",
        "permute_importance = pd.Series(permuter.feature_importances_, feature_names)\n",
        "\n",
        "%matplotlib inline\n",
        "\n",
        "n = 20\n",
        "plt.figure(figsize=(10,n/2))\n",
        "plt.title(f'Top {n} permute_features')\n",
        "permute_importance.sort_values()[-n:].plot.barh();"
      ],
      "execution_count": 61,
      "outputs": [
        {
          "output_type": "display_data",
          "data": {
            "image/png": "[encoded data removed]",
            "text/plain": [
              "<Figure size 720x720 with 1 Axes>"
            ]
          },
          "metadata": {
            "tags": [],
            "needs_background": "light"
          }
        }
      ]
    },
    {
      "cell_type": "code",
      "metadata": {
        "id": "Dt7xyE0qI7Vr",
        "colab": {
          "base_uri": "https://localhost:8080/",
          "height": 607
        },
        "outputId": "513ecb5a-1797-49d4-ae27-f323fb77e2cb"
      },
      "source": [
        "importances = pd.Series(opforest_model.feature_importances_, X_train.columns)\n",
        "\n",
        "%matplotlib inline\n",
        "\n",
        "\n",
        "n = 20\n",
        "plt.figure(figsize=(10,n/2))\n",
        "plt.title(f'Top {n} features')\n",
        "importances.sort_values()[-n:].plot.barh();"
      ],
      "execution_count": 62,
      "outputs": [
        {
          "output_type": "display_data",
          "data": {
            "image/png": "[encoded data removed]",
            "text/plain": [
              "<Figure size 720x720 with 1 Axes>"
            ]
          },
          "metadata": {
            "tags": [],
            "needs_background": "light"
          }
        }
      ]
    },
    {
      "cell_type": "markdown",
      "metadata": {
        "id": "QaLgmrxZjpNq"
      },
      "source": [
        "RandomForest, XGBoost, LGBM 3가지 머신러닝 모델에 대해 그리드서치 후 최적의 파라미터를 조정하였다. \n",
        "딥러닝 모델또한 적용해보고 결과를 비교 후 피쳐엔지니어링을 조금 더 생각해볼 것"
      ]
    },
    {
      "cell_type": "code",
      "metadata": {
        "id": "SJhZ3AAK_jCo"
      },
      "source": [
        "#DL modeling"
      ],
      "execution_count": null,
      "outputs": []
    },
    {
      "cell_type": "code",
      "metadata": {
        "id": "TbQektPvlvn5"
      },
      "source": [
        "X_train, X_test, y_train, y_test = train_test_split(X, y, test_size= 0.2, random_state=42)\n",
        "X_train, X_val, y_train, y_val = train_test_split(X_train, y_train, test_size=0.2, random_state= 42)"
      ],
      "execution_count": 64,
      "outputs": []
    },
    {
      "cell_type": "code",
      "metadata": {
        "id": "MQ3WhZu9ly60",
        "outputId": "0e0c4af2-4342-4c7f-bbba-80c397fc20b9",
        "colab": {
          "base_uri": "https://localhost:8080/"
        }
      },
      "source": [
        "X.shape"
      ],
      "execution_count": 65,
      "outputs": [
        {
          "output_type": "execute_result",
          "data": {
            "text/plain": [
              "(12811, 16)"
            ]
          },
          "metadata": {
            "tags": []
          },
          "execution_count": 65
        }
      ]
    },
    {
      "cell_type": "code",
      "metadata": {
        "id": "6X15J584-gJX",
        "outputId": "5659d14c-74df-45dd-8fd3-2c590426241a",
        "colab": {
          "base_uri": "https://localhost:8080/"
        }
      },
      "source": [
        "import tensorflow as tf\n",
        "from tensorflow import keras\n",
        "from keras.layers import Dense, Dropout\n",
        "from keras.models import Sequential\n",
        "from keras.callbacks import ModelCheckpoint,  EarlyStopping\n",
        "\n",
        "np.random.seed(3)\n",
        "tf.random.set_seed(3)\n",
        "\n",
        "#callback function\n",
        "save_best = ModelCheckpoint( filepath ='./result_model.h5', \n",
        "                            monitor = 'val_loss', \n",
        "                            save_best_only = True, \n",
        "                            save_weights_only=True,\n",
        "                            verbose = 1, \n",
        "                            mode='auto',\n",
        "                            save_freq = 'epoch'\n",
        "                            )\n",
        "\n",
        "early_stop = EarlyStopping(\n",
        "                            monitor = 'accuracy',\n",
        "                            patience = 20,\n",
        "                            restore_best_weights=True\n",
        "                )\n",
        "\n",
        "#make model\n",
        "model = Sequential([\n",
        "    Dense(32, activation = 'relu', input_shape = (16,)),\n",
        "    Dropout(0.3),\n",
        "    Dense(64, activation = 'relu'),\n",
        "    Dropout(0.3),\n",
        "    Dense(128, activation='relu'),\n",
        "    Dropout(0.3),\n",
        "    Dense(256, activation = 'relu'),\n",
        "    Dropout(0.3),\n",
        "    Dense(128, activation='relu'),\n",
        "    Dropout(0.3),\n",
        "    Dense(64, activation = 'relu'),\n",
        "    Dropout(0.5),\n",
        "    Dense(1, activation='sigmoid')\n",
        "]\n",
        ")\n",
        "\n",
        "\n",
        "model.compile(optimizer='adam' , loss='binary_crossentropy' ,metrics=['accuracy', 'AUC'])\n",
        "model.summary()"
      ],
      "execution_count": 66,
      "outputs": [
        {
          "output_type": "stream",
          "text": [
            "Model: \"sequential_1\"\n",
            "_________________________________________________________________\n",
            "Layer (type)                 Output Shape              Param #   \n",
            "=================================================================\n",
            "dense_7 (Dense)              (None, 32)                544       \n",
            "_________________________________________________________________\n",
            "dropout_6 (Dropout)          (None, 32)                0         \n",
            "_________________________________________________________________\n",
            "dense_8 (Dense)              (None, 64)                2112      \n",
            "_________________________________________________________________\n",
            "dropout_7 (Dropout)          (None, 64)                0         \n",
            "_________________________________________________________________\n",
            "dense_9 (Dense)              (None, 128)               8320      \n",
            "_________________________________________________________________\n",
            "dropout_8 (Dropout)          (None, 128)               0         \n",
            "_________________________________________________________________\n",
            "dense_10 (Dense)             (None, 256)               33024     \n",
            "_________________________________________________________________\n",
            "dropout_9 (Dropout)          (None, 256)               0         \n",
            "_________________________________________________________________\n",
            "dense_11 (Dense)             (None, 128)               32896     \n",
            "_________________________________________________________________\n",
            "dropout_10 (Dropout)         (None, 128)               0         \n",
            "_________________________________________________________________\n",
            "dense_12 (Dense)             (None, 64)                8256      \n",
            "_________________________________________________________________\n",
            "dropout_11 (Dropout)         (None, 64)                0         \n",
            "_________________________________________________________________\n",
            "dense_13 (Dense)             (None, 1)                 65        \n",
            "=================================================================\n",
            "Total params: 85,217\n",
            "Trainable params: 85,217\n",
            "Non-trainable params: 0\n",
            "_________________________________________________________________\n"
          ],
          "name": "stdout"
        }
      ]
    },
    {
      "cell_type": "code",
      "metadata": {
        "id": "wUEgJu09Hlyp",
        "outputId": "8f464700-a807-40fa-fc49-56ffde93ae54",
        "colab": {
          "base_uri": "https://localhost:8080/"
        }
      },
      "source": [
        "history = model.fit(X_train, y_train, validation_data=(X_val,y_val),verbose=2, epochs=200, batch_size=32, callbacks = [save_best,  early_stop])"
      ],
      "execution_count": 67,
      "outputs": [
        {
          "output_type": "stream",
          "text": [
            "Epoch 1/200\n",
            "257/257 - 21s - loss: 0.6852 - accuracy: 0.5484 - auc: 0.5677 - val_loss: 0.6570 - val_accuracy: 0.6059 - val_auc: 0.6542\n",
            "\n",
            "Epoch 00001: val_loss improved from inf to 0.65698, saving model to ./result_model.h5\n",
            "Epoch 2/200\n",
            "257/257 - 1s - loss: 0.6718 - accuracy: 0.5881 - auc: 0.6173 - val_loss: 0.6536 - val_accuracy: 0.6302 - val_auc: 0.6738\n",
            "\n",
            "Epoch 00002: val_loss improved from 0.65698 to 0.65359, saving model to ./result_model.h5\n",
            "Epoch 3/200\n",
            "257/257 - 1s - loss: 0.6700 - accuracy: 0.5939 - auc: 0.6212 - val_loss: 0.6567 - val_accuracy: 0.6229 - val_auc: 0.6772\n",
            "\n",
            "Epoch 00003: val_loss did not improve from 0.65359\n",
            "Epoch 4/200\n",
            "257/257 - 1s - loss: 0.6621 - accuracy: 0.6092 - auc: 0.6432 - val_loss: 0.6464 - val_accuracy: 0.6283 - val_auc: 0.6804\n",
            "\n",
            "Epoch 00004: val_loss improved from 0.65359 to 0.64642, saving model to ./result_model.h5\n",
            "Epoch 5/200\n",
            "257/257 - 1s - loss: 0.6605 - accuracy: 0.6115 - auc: 0.6449 - val_loss: 0.6458 - val_accuracy: 0.6302 - val_auc: 0.6822\n",
            "\n",
            "Epoch 00005: val_loss improved from 0.64642 to 0.64578, saving model to ./result_model.h5\n",
            "Epoch 6/200\n",
            "257/257 - 1s - loss: 0.6566 - accuracy: 0.6178 - auc: 0.6569 - val_loss: 0.6482 - val_accuracy: 0.6366 - val_auc: 0.6851\n",
            "\n",
            "Epoch 00006: val_loss did not improve from 0.64578\n",
            "Epoch 7/200\n",
            "257/257 - 1s - loss: 0.6545 - accuracy: 0.6234 - auc: 0.6568 - val_loss: 0.6447 - val_accuracy: 0.6380 - val_auc: 0.6811\n",
            "\n",
            "Epoch 00007: val_loss improved from 0.64578 to 0.64470, saving model to ./result_model.h5\n",
            "Epoch 8/200\n",
            "257/257 - 1s - loss: 0.6543 - accuracy: 0.6265 - auc: 0.6598 - val_loss: 0.6454 - val_accuracy: 0.6244 - val_auc: 0.6840\n",
            "\n",
            "Epoch 00008: val_loss did not improve from 0.64470\n",
            "Epoch 9/200\n",
            "257/257 - 1s - loss: 0.6519 - accuracy: 0.6252 - auc: 0.6641 - val_loss: 0.6424 - val_accuracy: 0.6249 - val_auc: 0.6912\n",
            "\n",
            "Epoch 00009: val_loss improved from 0.64470 to 0.64235, saving model to ./result_model.h5\n",
            "Epoch 10/200\n",
            "257/257 - 1s - loss: 0.6529 - accuracy: 0.6291 - auc: 0.6617 - val_loss: 0.6420 - val_accuracy: 0.6249 - val_auc: 0.6908\n",
            "\n",
            "Epoch 00010: val_loss improved from 0.64235 to 0.64195, saving model to ./result_model.h5\n",
            "Epoch 11/200\n",
            "257/257 - 1s - loss: 0.6524 - accuracy: 0.6216 - auc: 0.6615 - val_loss: 0.6435 - val_accuracy: 0.6337 - val_auc: 0.6884\n",
            "\n",
            "Epoch 00011: val_loss did not improve from 0.64195\n",
            "Epoch 12/200\n",
            "257/257 - 1s - loss: 0.6478 - accuracy: 0.6300 - auc: 0.6705 - val_loss: 0.6398 - val_accuracy: 0.6376 - val_auc: 0.6935\n",
            "\n",
            "Epoch 00012: val_loss improved from 0.64195 to 0.63984, saving model to ./result_model.h5\n",
            "Epoch 13/200\n",
            "257/257 - 1s - loss: 0.6465 - accuracy: 0.6313 - auc: 0.6711 - val_loss: 0.6437 - val_accuracy: 0.6376 - val_auc: 0.6925\n",
            "\n",
            "Epoch 00013: val_loss did not improve from 0.63984\n",
            "Epoch 14/200\n",
            "257/257 - 1s - loss: 0.6477 - accuracy: 0.6323 - auc: 0.6706 - val_loss: 0.6386 - val_accuracy: 0.6361 - val_auc: 0.6913\n",
            "\n",
            "Epoch 00014: val_loss improved from 0.63984 to 0.63863, saving model to ./result_model.h5\n",
            "Epoch 15/200\n",
            "257/257 - 1s - loss: 0.6475 - accuracy: 0.6306 - auc: 0.6685 - val_loss: 0.6376 - val_accuracy: 0.6395 - val_auc: 0.7001\n",
            "\n",
            "Epoch 00015: val_loss improved from 0.63863 to 0.63765, saving model to ./result_model.h5\n",
            "Epoch 16/200\n",
            "257/257 - 1s - loss: 0.6417 - accuracy: 0.6365 - auc: 0.6791 - val_loss: 0.6405 - val_accuracy: 0.6205 - val_auc: 0.6992\n",
            "\n",
            "Epoch 00016: val_loss did not improve from 0.63765\n",
            "Epoch 17/200\n",
            "257/257 - 1s - loss: 0.6438 - accuracy: 0.6299 - auc: 0.6744 - val_loss: 0.6379 - val_accuracy: 0.6356 - val_auc: 0.7001\n",
            "\n",
            "Epoch 00017: val_loss did not improve from 0.63765\n",
            "Epoch 18/200\n",
            "257/257 - 1s - loss: 0.6438 - accuracy: 0.6316 - auc: 0.6739 - val_loss: 0.6326 - val_accuracy: 0.6361 - val_auc: 0.6981\n",
            "\n",
            "Epoch 00018: val_loss improved from 0.63765 to 0.63262, saving model to ./result_model.h5\n",
            "Epoch 19/200\n",
            "257/257 - 1s - loss: 0.6452 - accuracy: 0.6302 - auc: 0.6759 - val_loss: 0.6414 - val_accuracy: 0.6259 - val_auc: 0.7007\n",
            "\n",
            "Epoch 00019: val_loss did not improve from 0.63262\n",
            "Epoch 20/200\n",
            "257/257 - 1s - loss: 0.6426 - accuracy: 0.6331 - auc: 0.6784 - val_loss: 0.6431 - val_accuracy: 0.6283 - val_auc: 0.7028\n",
            "\n",
            "Epoch 00020: val_loss did not improve from 0.63262\n",
            "Epoch 21/200\n",
            "257/257 - 1s - loss: 0.6437 - accuracy: 0.6363 - auc: 0.6772 - val_loss: 0.6374 - val_accuracy: 0.6307 - val_auc: 0.7017\n",
            "\n",
            "Epoch 00021: val_loss did not improve from 0.63262\n",
            "Epoch 22/200\n",
            "257/257 - 1s - loss: 0.6424 - accuracy: 0.6331 - auc: 0.6790 - val_loss: 0.6327 - val_accuracy: 0.6380 - val_auc: 0.7019\n",
            "\n",
            "Epoch 00022: val_loss did not improve from 0.63262\n",
            "Epoch 23/200\n",
            "257/257 - 1s - loss: 0.6396 - accuracy: 0.6383 - auc: 0.6826 - val_loss: 0.6399 - val_accuracy: 0.6400 - val_auc: 0.7013\n",
            "\n",
            "Epoch 00023: val_loss did not improve from 0.63262\n",
            "Epoch 24/200\n",
            "257/257 - 1s - loss: 0.6423 - accuracy: 0.6386 - auc: 0.6795 - val_loss: 0.6315 - val_accuracy: 0.6380 - val_auc: 0.7077\n",
            "\n",
            "Epoch 00024: val_loss improved from 0.63262 to 0.63150, saving model to ./result_model.h5\n",
            "Epoch 25/200\n",
            "257/257 - 1s - loss: 0.6414 - accuracy: 0.6389 - auc: 0.6818 - val_loss: 0.6321 - val_accuracy: 0.6478 - val_auc: 0.7074\n",
            "\n",
            "Epoch 00025: val_loss did not improve from 0.63150\n",
            "Epoch 26/200\n",
            "257/257 - 1s - loss: 0.6395 - accuracy: 0.6432 - auc: 0.6820 - val_loss: 0.6319 - val_accuracy: 0.6473 - val_auc: 0.7077\n",
            "\n",
            "Epoch 00026: val_loss did not improve from 0.63150\n",
            "Epoch 27/200\n",
            "257/257 - 1s - loss: 0.6410 - accuracy: 0.6365 - auc: 0.6780 - val_loss: 0.6358 - val_accuracy: 0.6517 - val_auc: 0.7105\n",
            "\n",
            "Epoch 00027: val_loss did not improve from 0.63150\n",
            "Epoch 28/200\n",
            "257/257 - 1s - loss: 0.6397 - accuracy: 0.6378 - auc: 0.6810 - val_loss: 0.6227 - val_accuracy: 0.6459 - val_auc: 0.7138\n",
            "\n",
            "Epoch 00028: val_loss improved from 0.63150 to 0.62275, saving model to ./result_model.h5\n",
            "Epoch 29/200\n",
            "257/257 - 1s - loss: 0.6371 - accuracy: 0.6399 - auc: 0.6841 - val_loss: 0.6324 - val_accuracy: 0.6493 - val_auc: 0.7103\n",
            "\n",
            "Epoch 00029: val_loss did not improve from 0.62275\n",
            "Epoch 30/200\n",
            "257/257 - 1s - loss: 0.6394 - accuracy: 0.6397 - auc: 0.6818 - val_loss: 0.6244 - val_accuracy: 0.6532 - val_auc: 0.7142\n",
            "\n",
            "Epoch 00030: val_loss did not improve from 0.62275\n",
            "Epoch 31/200\n",
            "257/257 - 1s - loss: 0.6326 - accuracy: 0.6480 - auc: 0.6960 - val_loss: 0.6229 - val_accuracy: 0.6498 - val_auc: 0.7151\n",
            "\n",
            "Epoch 00031: val_loss did not improve from 0.62275\n",
            "Epoch 32/200\n",
            "257/257 - 1s - loss: 0.6358 - accuracy: 0.6456 - auc: 0.6904 - val_loss: 0.6248 - val_accuracy: 0.6517 - val_auc: 0.7148\n",
            "\n",
            "Epoch 00032: val_loss did not improve from 0.62275\n",
            "Epoch 33/200\n",
            "257/257 - 1s - loss: 0.6334 - accuracy: 0.6444 - auc: 0.6920 - val_loss: 0.6294 - val_accuracy: 0.6366 - val_auc: 0.7144\n",
            "\n",
            "Epoch 00033: val_loss did not improve from 0.62275\n",
            "Epoch 34/200\n",
            "257/257 - 1s - loss: 0.6343 - accuracy: 0.6453 - auc: 0.6900 - val_loss: 0.6258 - val_accuracy: 0.6532 - val_auc: 0.7146\n",
            "\n",
            "Epoch 00034: val_loss did not improve from 0.62275\n",
            "Epoch 35/200\n",
            "257/257 - 1s - loss: 0.6304 - accuracy: 0.6477 - auc: 0.6948 - val_loss: 0.6236 - val_accuracy: 0.6566 - val_auc: 0.7152\n",
            "\n",
            "Epoch 00035: val_loss did not improve from 0.62275\n",
            "Epoch 36/200\n",
            "257/257 - 1s - loss: 0.6317 - accuracy: 0.6463 - auc: 0.6966 - val_loss: 0.6208 - val_accuracy: 0.6566 - val_auc: 0.7188\n",
            "\n",
            "Epoch 00036: val_loss improved from 0.62275 to 0.62083, saving model to ./result_model.h5\n",
            "Epoch 37/200\n",
            "257/257 - 1s - loss: 0.6361 - accuracy: 0.6463 - auc: 0.6902 - val_loss: 0.6247 - val_accuracy: 0.6512 - val_auc: 0.7170\n",
            "\n",
            "Epoch 00037: val_loss did not improve from 0.62083\n",
            "Epoch 38/200\n",
            "257/257 - 1s - loss: 0.6312 - accuracy: 0.6495 - auc: 0.6969 - val_loss: 0.6300 - val_accuracy: 0.6376 - val_auc: 0.7121\n",
            "\n",
            "Epoch 00038: val_loss did not improve from 0.62083\n",
            "Epoch 39/200\n",
            "257/257 - 1s - loss: 0.6291 - accuracy: 0.6526 - auc: 0.7005 - val_loss: 0.6214 - val_accuracy: 0.6517 - val_auc: 0.7225\n",
            "\n",
            "Epoch 00039: val_loss did not improve from 0.62083\n",
            "Epoch 40/200\n",
            "257/257 - 1s - loss: 0.6324 - accuracy: 0.6460 - auc: 0.6925 - val_loss: 0.6233 - val_accuracy: 0.6541 - val_auc: 0.7159\n",
            "\n",
            "Epoch 00040: val_loss did not improve from 0.62083\n",
            "Epoch 41/200\n",
            "257/257 - 1s - loss: 0.6306 - accuracy: 0.6425 - auc: 0.6973 - val_loss: 0.6261 - val_accuracy: 0.6556 - val_auc: 0.7199\n",
            "\n",
            "Epoch 00041: val_loss did not improve from 0.62083\n",
            "Epoch 42/200\n",
            "257/257 - 1s - loss: 0.6308 - accuracy: 0.6430 - auc: 0.6947 - val_loss: 0.6216 - val_accuracy: 0.6663 - val_auc: 0.7215\n",
            "\n",
            "Epoch 00042: val_loss did not improve from 0.62083\n",
            "Epoch 43/200\n",
            "257/257 - 1s - loss: 0.6297 - accuracy: 0.6489 - auc: 0.6980 - val_loss: 0.6264 - val_accuracy: 0.6493 - val_auc: 0.7221\n",
            "\n",
            "Epoch 00043: val_loss did not improve from 0.62083\n",
            "Epoch 44/200\n",
            "257/257 - 1s - loss: 0.6275 - accuracy: 0.6485 - auc: 0.7011 - val_loss: 0.6133 - val_accuracy: 0.6639 - val_auc: 0.7220\n",
            "\n",
            "Epoch 00044: val_loss improved from 0.62083 to 0.61326, saving model to ./result_model.h5\n",
            "Epoch 45/200\n",
            "257/257 - 1s - loss: 0.6338 - accuracy: 0.6487 - auc: 0.6937 - val_loss: 0.6271 - val_accuracy: 0.6502 - val_auc: 0.7218\n",
            "\n",
            "Epoch 00045: val_loss did not improve from 0.61326\n",
            "Epoch 46/200\n",
            "257/257 - 1s - loss: 0.6270 - accuracy: 0.6476 - auc: 0.7028 - val_loss: 0.6342 - val_accuracy: 0.6385 - val_auc: 0.7177\n",
            "\n",
            "Epoch 00046: val_loss did not improve from 0.61326\n",
            "Epoch 47/200\n",
            "257/257 - 1s - loss: 0.6292 - accuracy: 0.6493 - auc: 0.7021 - val_loss: 0.6169 - val_accuracy: 0.6668 - val_auc: 0.7205\n",
            "\n",
            "Epoch 00047: val_loss did not improve from 0.61326\n",
            "Epoch 48/200\n",
            "257/257 - 1s - loss: 0.6281 - accuracy: 0.6467 - auc: 0.7008 - val_loss: 0.6207 - val_accuracy: 0.6444 - val_auc: 0.7181\n",
            "\n",
            "Epoch 00048: val_loss did not improve from 0.61326\n",
            "Epoch 49/200\n",
            "257/257 - 1s - loss: 0.6244 - accuracy: 0.6480 - auc: 0.7061 - val_loss: 0.6192 - val_accuracy: 0.6551 - val_auc: 0.7183\n",
            "\n",
            "Epoch 00049: val_loss did not improve from 0.61326\n",
            "Epoch 50/200\n",
            "257/257 - 1s - loss: 0.6257 - accuracy: 0.6494 - auc: 0.7053 - val_loss: 0.6195 - val_accuracy: 0.6566 - val_auc: 0.7281\n",
            "\n",
            "Epoch 00050: val_loss did not improve from 0.61326\n",
            "Epoch 51/200\n",
            "257/257 - 1s - loss: 0.6283 - accuracy: 0.6452 - auc: 0.7000 - val_loss: 0.6170 - val_accuracy: 0.6576 - val_auc: 0.7223\n",
            "\n",
            "Epoch 00051: val_loss did not improve from 0.61326\n",
            "Epoch 52/200\n",
            "257/257 - 1s - loss: 0.6244 - accuracy: 0.6559 - auc: 0.7074 - val_loss: 0.6174 - val_accuracy: 0.6620 - val_auc: 0.7214\n",
            "\n",
            "Epoch 00052: val_loss did not improve from 0.61326\n",
            "Epoch 53/200\n",
            "257/257 - 1s - loss: 0.6212 - accuracy: 0.6560 - auc: 0.7072 - val_loss: 0.6191 - val_accuracy: 0.6634 - val_auc: 0.7225\n",
            "\n",
            "Epoch 00053: val_loss did not improve from 0.61326\n",
            "Epoch 54/200\n",
            "257/257 - 1s - loss: 0.6266 - accuracy: 0.6466 - auc: 0.7036 - val_loss: 0.6131 - val_accuracy: 0.6590 - val_auc: 0.7253\n",
            "\n",
            "Epoch 00054: val_loss improved from 0.61326 to 0.61312, saving model to ./result_model.h5\n",
            "Epoch 55/200\n",
            "257/257 - 1s - loss: 0.6217 - accuracy: 0.6582 - auc: 0.7098 - val_loss: 0.6166 - val_accuracy: 0.6615 - val_auc: 0.7224\n",
            "\n",
            "Epoch 00055: val_loss did not improve from 0.61312\n",
            "Epoch 56/200\n",
            "257/257 - 1s - loss: 0.6229 - accuracy: 0.6597 - auc: 0.7106 - val_loss: 0.6154 - val_accuracy: 0.6590 - val_auc: 0.7269\n",
            "\n",
            "Epoch 00056: val_loss did not improve from 0.61312\n",
            "Epoch 57/200\n",
            "257/257 - 1s - loss: 0.6249 - accuracy: 0.6469 - auc: 0.7038 - val_loss: 0.6212 - val_accuracy: 0.6634 - val_auc: 0.7293\n",
            "\n",
            "Epoch 00057: val_loss did not improve from 0.61312\n",
            "Epoch 58/200\n",
            "257/257 - 1s - loss: 0.6216 - accuracy: 0.6566 - auc: 0.7104 - val_loss: 0.6057 - val_accuracy: 0.6751 - val_auc: 0.7337\n",
            "\n",
            "Epoch 00058: val_loss improved from 0.61312 to 0.60567, saving model to ./result_model.h5\n",
            "Epoch 59/200\n",
            "257/257 - 1s - loss: 0.6233 - accuracy: 0.6522 - auc: 0.7075 - val_loss: 0.6087 - val_accuracy: 0.6620 - val_auc: 0.7340\n",
            "\n",
            "Epoch 00059: val_loss did not improve from 0.60567\n",
            "Epoch 60/200\n",
            "257/257 - 1s - loss: 0.6217 - accuracy: 0.6577 - auc: 0.7111 - val_loss: 0.6121 - val_accuracy: 0.6649 - val_auc: 0.7264\n",
            "\n",
            "Epoch 00060: val_loss did not improve from 0.60567\n",
            "Epoch 61/200\n",
            "257/257 - 1s - loss: 0.6234 - accuracy: 0.6537 - auc: 0.7077 - val_loss: 0.6100 - val_accuracy: 0.6644 - val_auc: 0.7311\n",
            "\n",
            "Epoch 00061: val_loss did not improve from 0.60567\n",
            "Epoch 62/200\n",
            "257/257 - 1s - loss: 0.6247 - accuracy: 0.6548 - auc: 0.7069 - val_loss: 0.6157 - val_accuracy: 0.6634 - val_auc: 0.7295\n",
            "\n",
            "Epoch 00062: val_loss did not improve from 0.60567\n",
            "Epoch 63/200\n",
            "257/257 - 1s - loss: 0.6184 - accuracy: 0.6605 - auc: 0.7155 - val_loss: 0.6080 - val_accuracy: 0.6707 - val_auc: 0.7336\n",
            "\n",
            "Epoch 00063: val_loss did not improve from 0.60567\n",
            "Epoch 64/200\n",
            "257/257 - 1s - loss: 0.6171 - accuracy: 0.6613 - auc: 0.7156 - val_loss: 0.6105 - val_accuracy: 0.6693 - val_auc: 0.7360\n",
            "\n",
            "Epoch 00064: val_loss did not improve from 0.60567\n",
            "Epoch 65/200\n",
            "257/257 - 1s - loss: 0.6222 - accuracy: 0.6539 - auc: 0.7089 - val_loss: 0.6043 - val_accuracy: 0.6727 - val_auc: 0.7343\n",
            "\n",
            "Epoch 00065: val_loss improved from 0.60567 to 0.60429, saving model to ./result_model.h5\n",
            "Epoch 66/200\n",
            "257/257 - 1s - loss: 0.6222 - accuracy: 0.6560 - auc: 0.7095 - val_loss: 0.6114 - val_accuracy: 0.6610 - val_auc: 0.7307\n",
            "\n",
            "Epoch 00066: val_loss did not improve from 0.60429\n",
            "Epoch 67/200\n",
            "257/257 - 1s - loss: 0.6225 - accuracy: 0.6506 - auc: 0.7057 - val_loss: 0.6097 - val_accuracy: 0.6722 - val_auc: 0.7290\n",
            "\n",
            "Epoch 00067: val_loss did not improve from 0.60429\n",
            "Epoch 68/200\n",
            "257/257 - 1s - loss: 0.6187 - accuracy: 0.6583 - auc: 0.7135 - val_loss: 0.6153 - val_accuracy: 0.6649 - val_auc: 0.7214\n",
            "\n",
            "Epoch 00068: val_loss did not improve from 0.60429\n",
            "Epoch 69/200\n",
            "257/257 - 1s - loss: 0.6218 - accuracy: 0.6537 - auc: 0.7105 - val_loss: 0.6114 - val_accuracy: 0.6644 - val_auc: 0.7312\n",
            "\n",
            "Epoch 00069: val_loss did not improve from 0.60429\n",
            "Epoch 70/200\n",
            "257/257 - 1s - loss: 0.6181 - accuracy: 0.6577 - auc: 0.7125 - val_loss: 0.6030 - val_accuracy: 0.6688 - val_auc: 0.7340\n",
            "\n",
            "Epoch 00070: val_loss improved from 0.60429 to 0.60299, saving model to ./result_model.h5\n",
            "Epoch 71/200\n",
            "257/257 - 1s - loss: 0.6199 - accuracy: 0.6577 - auc: 0.7135 - val_loss: 0.6100 - val_accuracy: 0.6639 - val_auc: 0.7272\n",
            "\n",
            "Epoch 00071: val_loss did not improve from 0.60299\n",
            "Epoch 72/200\n",
            "257/257 - 1s - loss: 0.6217 - accuracy: 0.6528 - auc: 0.7091 - val_loss: 0.6067 - val_accuracy: 0.6766 - val_auc: 0.7311\n",
            "\n",
            "Epoch 00072: val_loss did not improve from 0.60299\n",
            "Epoch 73/200\n",
            "257/257 - 1s - loss: 0.6201 - accuracy: 0.6574 - auc: 0.7141 - val_loss: 0.6118 - val_accuracy: 0.6595 - val_auc: 0.7268\n",
            "\n",
            "Epoch 00073: val_loss did not improve from 0.60299\n",
            "Epoch 74/200\n",
            "257/257 - 1s - loss: 0.6193 - accuracy: 0.6547 - auc: 0.7132 - val_loss: 0.6085 - val_accuracy: 0.6683 - val_auc: 0.7326\n",
            "\n",
            "Epoch 00074: val_loss did not improve from 0.60299\n",
            "Epoch 75/200\n",
            "257/257 - 1s - loss: 0.6143 - accuracy: 0.6594 - auc: 0.7166 - val_loss: 0.6129 - val_accuracy: 0.6717 - val_auc: 0.7322\n",
            "\n",
            "Epoch 00075: val_loss did not improve from 0.60299\n",
            "Epoch 76/200\n",
            "257/257 - 1s - loss: 0.6175 - accuracy: 0.6543 - auc: 0.7157 - val_loss: 0.6025 - val_accuracy: 0.6712 - val_auc: 0.7324\n",
            "\n",
            "Epoch 00076: val_loss improved from 0.60299 to 0.60247, saving model to ./result_model.h5\n",
            "Epoch 77/200\n",
            "257/257 - 1s - loss: 0.6224 - accuracy: 0.6536 - auc: 0.7079 - val_loss: 0.6165 - val_accuracy: 0.6644 - val_auc: 0.7315\n",
            "\n",
            "Epoch 00077: val_loss did not improve from 0.60247\n",
            "Epoch 78/200\n",
            "257/257 - 1s - loss: 0.6163 - accuracy: 0.6606 - auc: 0.7160 - val_loss: 0.6065 - val_accuracy: 0.6683 - val_auc: 0.7357\n",
            "\n",
            "Epoch 00078: val_loss did not improve from 0.60247\n",
            "Epoch 79/200\n",
            "257/257 - 1s - loss: 0.6125 - accuracy: 0.6660 - auc: 0.7245 - val_loss: 0.6081 - val_accuracy: 0.6663 - val_auc: 0.7327\n",
            "\n",
            "Epoch 00079: val_loss did not improve from 0.60247\n",
            "Epoch 80/200\n",
            "257/257 - 1s - loss: 0.6122 - accuracy: 0.6603 - auc: 0.7221 - val_loss: 0.6164 - val_accuracy: 0.6644 - val_auc: 0.7317\n",
            "\n",
            "Epoch 00080: val_loss did not improve from 0.60247\n",
            "Epoch 81/200\n",
            "257/257 - 1s - loss: 0.6189 - accuracy: 0.6641 - auc: 0.7188 - val_loss: 0.6088 - val_accuracy: 0.6688 - val_auc: 0.7339\n",
            "\n",
            "Epoch 00081: val_loss did not improve from 0.60247\n",
            "Epoch 82/200\n",
            "257/257 - 1s - loss: 0.6174 - accuracy: 0.6577 - auc: 0.7148 - val_loss: 0.6083 - val_accuracy: 0.6678 - val_auc: 0.7317\n",
            "\n",
            "Epoch 00082: val_loss did not improve from 0.60247\n",
            "Epoch 83/200\n",
            "257/257 - 1s - loss: 0.6183 - accuracy: 0.6576 - auc: 0.7125 - val_loss: 0.6083 - val_accuracy: 0.6737 - val_auc: 0.7365\n",
            "\n",
            "Epoch 00083: val_loss did not improve from 0.60247\n",
            "Epoch 84/200\n",
            "257/257 - 1s - loss: 0.6156 - accuracy: 0.6510 - auc: 0.7169 - val_loss: 0.6112 - val_accuracy: 0.6634 - val_auc: 0.7282\n",
            "\n",
            "Epoch 00084: val_loss did not improve from 0.60247\n",
            "Epoch 85/200\n",
            "257/257 - 1s - loss: 0.6162 - accuracy: 0.6554 - auc: 0.7159 - val_loss: 0.6133 - val_accuracy: 0.6634 - val_auc: 0.7255\n",
            "\n",
            "Epoch 00085: val_loss did not improve from 0.60247\n",
            "Epoch 86/200\n",
            "257/257 - 1s - loss: 0.6200 - accuracy: 0.6535 - auc: 0.7122 - val_loss: 0.6113 - val_accuracy: 0.6717 - val_auc: 0.7281\n",
            "\n",
            "Epoch 00086: val_loss did not improve from 0.60247\n",
            "Epoch 87/200\n",
            "257/257 - 1s - loss: 0.6141 - accuracy: 0.6598 - auc: 0.7203 - val_loss: 0.6048 - val_accuracy: 0.6649 - val_auc: 0.7316\n",
            "\n",
            "Epoch 00087: val_loss did not improve from 0.60247\n",
            "Epoch 88/200\n",
            "257/257 - 1s - loss: 0.6154 - accuracy: 0.6635 - auc: 0.7194 - val_loss: 0.6014 - val_accuracy: 0.6732 - val_auc: 0.7339\n",
            "\n",
            "Epoch 00088: val_loss improved from 0.60247 to 0.60138, saving model to ./result_model.h5\n",
            "Epoch 89/200\n",
            "257/257 - 1s - loss: 0.6148 - accuracy: 0.6589 - auc: 0.7186 - val_loss: 0.6053 - val_accuracy: 0.6663 - val_auc: 0.7315\n",
            "\n",
            "Epoch 00089: val_loss did not improve from 0.60138\n",
            "Epoch 90/200\n",
            "257/257 - 1s - loss: 0.6172 - accuracy: 0.6598 - auc: 0.7161 - val_loss: 0.6119 - val_accuracy: 0.6620 - val_auc: 0.7224\n",
            "\n",
            "Epoch 00090: val_loss did not improve from 0.60138\n",
            "Epoch 91/200\n",
            "257/257 - 1s - loss: 0.6163 - accuracy: 0.6605 - auc: 0.7201 - val_loss: 0.6103 - val_accuracy: 0.6712 - val_auc: 0.7333\n",
            "\n",
            "Epoch 00091: val_loss did not improve from 0.60138\n",
            "Epoch 92/200\n",
            "257/257 - 1s - loss: 0.6132 - accuracy: 0.6627 - auc: 0.7209 - val_loss: 0.6039 - val_accuracy: 0.6737 - val_auc: 0.7356\n",
            "\n",
            "Epoch 00092: val_loss did not improve from 0.60138\n",
            "Epoch 93/200\n",
            "257/257 - 1s - loss: 0.6112 - accuracy: 0.6659 - auc: 0.7213 - val_loss: 0.6110 - val_accuracy: 0.6668 - val_auc: 0.7245\n",
            "\n",
            "Epoch 00093: val_loss did not improve from 0.60138\n",
            "Epoch 94/200\n",
            "257/257 - 1s - loss: 0.6161 - accuracy: 0.6669 - auc: 0.7199 - val_loss: 0.6169 - val_accuracy: 0.6649 - val_auc: 0.7309\n",
            "\n",
            "Epoch 00094: val_loss did not improve from 0.60138\n",
            "Epoch 95/200\n",
            "257/257 - 1s - loss: 0.6162 - accuracy: 0.6592 - auc: 0.7182 - val_loss: 0.6033 - val_accuracy: 0.6659 - val_auc: 0.7360\n",
            "\n",
            "Epoch 00095: val_loss did not improve from 0.60138\n",
            "Epoch 96/200\n",
            "257/257 - 1s - loss: 0.6118 - accuracy: 0.6649 - auc: 0.7226 - val_loss: 0.6095 - val_accuracy: 0.6683 - val_auc: 0.7245\n",
            "\n",
            "Epoch 00096: val_loss did not improve from 0.60138\n",
            "Epoch 97/200\n",
            "257/257 - 1s - loss: 0.6123 - accuracy: 0.6641 - auc: 0.7233 - val_loss: 0.5977 - val_accuracy: 0.6800 - val_auc: 0.7385\n",
            "\n",
            "Epoch 00097: val_loss improved from 0.60138 to 0.59771, saving model to ./result_model.h5\n",
            "Epoch 98/200\n",
            "257/257 - 1s - loss: 0.6128 - accuracy: 0.6611 - auc: 0.7192 - val_loss: 0.6161 - val_accuracy: 0.6644 - val_auc: 0.7230\n",
            "\n",
            "Epoch 00098: val_loss did not improve from 0.59771\n",
            "Epoch 99/200\n",
            "257/257 - 1s - loss: 0.6156 - accuracy: 0.6622 - auc: 0.7204 - val_loss: 0.6022 - val_accuracy: 0.6780 - val_auc: 0.7354\n",
            "\n",
            "Epoch 00099: val_loss did not improve from 0.59771\n",
            "Epoch 100/200\n",
            "257/257 - 1s - loss: 0.6146 - accuracy: 0.6627 - auc: 0.7205 - val_loss: 0.6016 - val_accuracy: 0.6771 - val_auc: 0.7342\n",
            "\n",
            "Epoch 00100: val_loss did not improve from 0.59771\n",
            "Epoch 101/200\n",
            "257/257 - 1s - loss: 0.6157 - accuracy: 0.6586 - auc: 0.7176 - val_loss: 0.6017 - val_accuracy: 0.6727 - val_auc: 0.7341\n",
            "\n",
            "Epoch 00101: val_loss did not improve from 0.59771\n",
            "Epoch 102/200\n",
            "257/257 - 1s - loss: 0.6127 - accuracy: 0.6588 - auc: 0.7219 - val_loss: 0.6022 - val_accuracy: 0.6659 - val_auc: 0.7338\n",
            "\n",
            "Epoch 00102: val_loss did not improve from 0.59771\n",
            "Epoch 103/200\n",
            "257/257 - 1s - loss: 0.6118 - accuracy: 0.6642 - auc: 0.7222 - val_loss: 0.6034 - val_accuracy: 0.6751 - val_auc: 0.7333\n",
            "\n",
            "Epoch 00103: val_loss did not improve from 0.59771\n",
            "Epoch 104/200\n",
            "257/257 - 1s - loss: 0.6129 - accuracy: 0.6657 - auc: 0.7228 - val_loss: 0.5987 - val_accuracy: 0.6766 - val_auc: 0.7389\n",
            "\n",
            "Epoch 00104: val_loss did not improve from 0.59771\n",
            "Epoch 105/200\n",
            "257/257 - 1s - loss: 0.6137 - accuracy: 0.6617 - auc: 0.7182 - val_loss: 0.6055 - val_accuracy: 0.6673 - val_auc: 0.7338\n",
            "\n",
            "Epoch 00105: val_loss did not improve from 0.59771\n",
            "Epoch 106/200\n",
            "257/257 - 1s - loss: 0.6167 - accuracy: 0.6638 - auc: 0.7203 - val_loss: 0.6015 - val_accuracy: 0.6756 - val_auc: 0.7385\n",
            "\n",
            "Epoch 00106: val_loss did not improve from 0.59771\n",
            "Epoch 107/200\n",
            "257/257 - 1s - loss: 0.6129 - accuracy: 0.6657 - auc: 0.7229 - val_loss: 0.6007 - val_accuracy: 0.6790 - val_auc: 0.7372\n",
            "\n",
            "Epoch 00107: val_loss did not improve from 0.59771\n",
            "Epoch 108/200\n",
            "257/257 - 1s - loss: 0.6094 - accuracy: 0.6698 - auc: 0.7314 - val_loss: 0.6028 - val_accuracy: 0.6707 - val_auc: 0.7328\n",
            "\n",
            "Epoch 00108: val_loss did not improve from 0.59771\n",
            "Epoch 109/200\n",
            "257/257 - 1s - loss: 0.6106 - accuracy: 0.6654 - auc: 0.7245 - val_loss: 0.6033 - val_accuracy: 0.6741 - val_auc: 0.7358\n",
            "\n",
            "Epoch 00109: val_loss did not improve from 0.59771\n",
            "Epoch 110/200\n",
            "257/257 - 1s - loss: 0.6096 - accuracy: 0.6650 - auc: 0.7250 - val_loss: 0.6034 - val_accuracy: 0.6722 - val_auc: 0.7350\n",
            "\n",
            "Epoch 00110: val_loss did not improve from 0.59771\n",
            "Epoch 111/200\n",
            "257/257 - 1s - loss: 0.6121 - accuracy: 0.6566 - auc: 0.7199 - val_loss: 0.6112 - val_accuracy: 0.6688 - val_auc: 0.7258\n",
            "\n",
            "Epoch 00111: val_loss did not improve from 0.59771\n",
            "Epoch 112/200\n",
            "257/257 - 1s - loss: 0.6112 - accuracy: 0.6717 - auc: 0.7257 - val_loss: 0.6058 - val_accuracy: 0.6707 - val_auc: 0.7353\n",
            "\n",
            "Epoch 00112: val_loss did not improve from 0.59771\n",
            "Epoch 113/200\n",
            "257/257 - 1s - loss: 0.6093 - accuracy: 0.6600 - auc: 0.7231 - val_loss: 0.6010 - val_accuracy: 0.6820 - val_auc: 0.7363\n",
            "\n",
            "Epoch 00113: val_loss did not improve from 0.59771\n",
            "Epoch 114/200\n",
            "257/257 - 1s - loss: 0.6067 - accuracy: 0.6670 - auc: 0.7272 - val_loss: 0.6063 - val_accuracy: 0.6810 - val_auc: 0.7339\n",
            "\n",
            "Epoch 00114: val_loss did not improve from 0.59771\n",
            "Epoch 115/200\n",
            "257/257 - 1s - loss: 0.6114 - accuracy: 0.6622 - auc: 0.7227 - val_loss: 0.6071 - val_accuracy: 0.6790 - val_auc: 0.7351\n",
            "\n",
            "Epoch 00115: val_loss did not improve from 0.59771\n",
            "Epoch 116/200\n",
            "257/257 - 1s - loss: 0.6094 - accuracy: 0.6689 - auc: 0.7276 - val_loss: 0.6054 - val_accuracy: 0.6756 - val_auc: 0.7348\n",
            "\n",
            "Epoch 00116: val_loss did not improve from 0.59771\n",
            "Epoch 117/200\n",
            "257/257 - 1s - loss: 0.6096 - accuracy: 0.6687 - auc: 0.7258 - val_loss: 0.6037 - val_accuracy: 0.6707 - val_auc: 0.7326\n",
            "\n",
            "Epoch 00117: val_loss did not improve from 0.59771\n",
            "Epoch 118/200\n",
            "257/257 - 1s - loss: 0.6110 - accuracy: 0.6702 - auc: 0.7225 - val_loss: 0.6096 - val_accuracy: 0.6712 - val_auc: 0.7255\n",
            "\n",
            "Epoch 00118: val_loss did not improve from 0.59771\n",
            "Epoch 119/200\n",
            "257/257 - 1s - loss: 0.6084 - accuracy: 0.6671 - auc: 0.7265 - val_loss: 0.6090 - val_accuracy: 0.6698 - val_auc: 0.7308\n",
            "\n",
            "Epoch 00119: val_loss did not improve from 0.59771\n",
            "Epoch 120/200\n",
            "257/257 - 1s - loss: 0.6100 - accuracy: 0.6689 - auc: 0.7259 - val_loss: 0.6061 - val_accuracy: 0.6741 - val_auc: 0.7333\n",
            "\n",
            "Epoch 00120: val_loss did not improve from 0.59771\n",
            "Epoch 121/200\n",
            "257/257 - 1s - loss: 0.6083 - accuracy: 0.6666 - auc: 0.7261 - val_loss: 0.6041 - val_accuracy: 0.6702 - val_auc: 0.7326\n",
            "\n",
            "Epoch 00121: val_loss did not improve from 0.59771\n",
            "Epoch 122/200\n",
            "257/257 - 1s - loss: 0.6101 - accuracy: 0.6692 - auc: 0.7238 - val_loss: 0.6074 - val_accuracy: 0.6717 - val_auc: 0.7352\n",
            "\n",
            "Epoch 00122: val_loss did not improve from 0.59771\n",
            "Epoch 123/200\n",
            "257/257 - 1s - loss: 0.6077 - accuracy: 0.6714 - auc: 0.7254 - val_loss: 0.6043 - val_accuracy: 0.6780 - val_auc: 0.7281\n",
            "\n",
            "Epoch 00123: val_loss did not improve from 0.59771\n",
            "Epoch 124/200\n",
            "257/257 - 1s - loss: 0.6035 - accuracy: 0.6716 - auc: 0.7332 - val_loss: 0.6070 - val_accuracy: 0.6737 - val_auc: 0.7307\n",
            "\n",
            "Epoch 00124: val_loss did not improve from 0.59771\n",
            "Epoch 125/200\n",
            "257/257 - 1s - loss: 0.6050 - accuracy: 0.6707 - auc: 0.7311 - val_loss: 0.6033 - val_accuracy: 0.6751 - val_auc: 0.7323\n",
            "\n",
            "Epoch 00125: val_loss did not improve from 0.59771\n",
            "Epoch 126/200\n",
            "257/257 - 1s - loss: 0.6067 - accuracy: 0.6681 - auc: 0.7282 - val_loss: 0.6142 - val_accuracy: 0.6663 - val_auc: 0.7205\n",
            "\n",
            "Epoch 00126: val_loss did not improve from 0.59771\n",
            "Epoch 127/200\n",
            "257/257 - 1s - loss: 0.6116 - accuracy: 0.6675 - auc: 0.7257 - val_loss: 0.6070 - val_accuracy: 0.6668 - val_auc: 0.7295\n",
            "\n",
            "Epoch 00127: val_loss did not improve from 0.59771\n",
            "Epoch 128/200\n",
            "257/257 - 1s - loss: 0.6040 - accuracy: 0.6661 - auc: 0.7290 - val_loss: 0.6024 - val_accuracy: 0.6717 - val_auc: 0.7324\n",
            "\n",
            "Epoch 00128: val_loss did not improve from 0.59771\n",
            "Epoch 129/200\n",
            "257/257 - 1s - loss: 0.6074 - accuracy: 0.6716 - auc: 0.7296 - val_loss: 0.6013 - val_accuracy: 0.6751 - val_auc: 0.7355\n",
            "\n",
            "Epoch 00129: val_loss did not improve from 0.59771\n",
            "Epoch 130/200\n",
            "257/257 - 1s - loss: 0.6068 - accuracy: 0.6691 - auc: 0.7312 - val_loss: 0.6001 - val_accuracy: 0.6751 - val_auc: 0.7355\n",
            "\n",
            "Epoch 00130: val_loss did not improve from 0.59771\n",
            "Epoch 131/200\n",
            "257/257 - 1s - loss: 0.6103 - accuracy: 0.6599 - auc: 0.7272 - val_loss: 0.6077 - val_accuracy: 0.6717 - val_auc: 0.7335\n",
            "\n",
            "Epoch 00131: val_loss did not improve from 0.59771\n",
            "Epoch 132/200\n",
            "257/257 - 1s - loss: 0.6062 - accuracy: 0.6657 - auc: 0.7275 - val_loss: 0.6111 - val_accuracy: 0.6717 - val_auc: 0.7317\n",
            "\n",
            "Epoch 00132: val_loss did not improve from 0.59771\n"
          ],
          "name": "stdout"
        }
      ]
    },
    {
      "cell_type": "code",
      "metadata": {
        "id": "HfwFWO23ucIL",
        "colab": {
          "base_uri": "https://localhost:8080/",
          "height": 365
        },
        "outputId": "eae8c512-b4cb-4d27-c78d-e2c18a7c9aec"
      },
      "source": [
        "plt.figure(figsize = (20,5))\n",
        "plt.subplot(1,2,1)\n",
        "plt.plot(history.history['accuracy'])\n",
        "plt.plot(history.history['val_accuracy'])\n",
        "plt.title('Accuracy (training and validation) vs Epochs')\n",
        "plt.legend(['training accuracy' , 'validation accuracy'])\n",
        "plt.xlabel('Epochs')\n",
        "plt.ylabel('acccuracy')\n",
        "\n",
        "plt.subplot(1,2,2)\n",
        "plt.plot(history.history['loss'])\n",
        "plt.plot(history.history['val_loss'])\n",
        "plt.title('Loss (training and validation) vs Epochs')\n",
        "plt.legend(['training loss', 'validation loss'])\n",
        "plt.xlabel('Epochs')\n",
        "plt.ylabel('losses')"
      ],
      "execution_count": 68,
      "outputs": [
        {
          "output_type": "execute_result",
          "data": {
            "text/plain": [
              "Text(0, 0.5, 'losses')"
            ]
          },
          "metadata": {
            "tags": []
          },
          "execution_count": 68
        },
        {
          "output_type": "display_data",
          "data": {
            "image/png": "[encoded data removed]",
            "text/plain": [
              "<Figure size 1440x360 with 2 Axes>"
            ]
          },
          "metadata": {
            "tags": [],
            "needs_background": "light"
          }
        }
      ]
    },
    {
      "cell_type": "code",
      "metadata": {
        "id": "Ug2Fzc3j3_Yk"
      },
      "source": [
        "y_true=np.array(y_val) # one dimension\n",
        "y_pred=np.squeeze(model.predict(X_val))#2dimension so write np.squeeze to amke it one dimension\n",
        "y_pred=np.array(y_pred>=0.5,dtype=np.int)"
      ],
      "execution_count": 69,
      "outputs": []
    },
    {
      "cell_type": "code",
      "metadata": {
        "id": "rQJqDcj84NoV",
        "colab": {
          "base_uri": "https://localhost:8080/",
          "height": 482
        },
        "outputId": "e53d469a-f657-46f2-d2f1-28fec0b57205"
      },
      "source": [
        "y_pred = oplight_model.predict(X_val)\n",
        "y_proba = oplight_model.predict_proba(X_val)[:,1]\n",
        "\n",
        "eval(y_val, y_pred, y_proba)"
      ],
      "execution_count": 70,
      "outputs": [
        {
          "output_type": "stream",
          "text": [
            "              precision    recall  f1-score   support\n",
            "\n",
            "           0       0.70      0.64      0.67      1023\n",
            "           1       0.67      0.73      0.70      1027\n",
            "\n",
            "    accuracy                           0.68      2050\n",
            "   macro avg       0.69      0.68      0.68      2050\n",
            "weighted avg       0.69      0.68      0.68      2050\n",
            "\n",
            "정확도: 0.6849, 정밀도: 0.6699, 재현율: 0.7313, F1: 0.6993, AUC: 0.7541\n"
          ],
          "name": "stdout"
        },
        {
          "output_type": "display_data",
          "data": {
            "image/png": "[encoded data removed]",
            "text/plain": [
              "<Figure size 288x288 with 1 Axes>"
            ]
          },
          "metadata": {
            "tags": [],
            "needs_background": "light"
          }
        }
      ]
    }
  ]
}