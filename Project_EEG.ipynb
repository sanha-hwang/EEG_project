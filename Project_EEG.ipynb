{
  "nbformat": 4,
  "nbformat_minor": 0,
  "metadata": {
    "colab": {
      "name": "Project_EEG",
      "provenance": [],
      "collapsed_sections": [],
      "include_colab_link": true
    },
    "kernelspec": {
      "display_name": "Python 3",
      "name": "python3"
    }
  },
  "cells": [
    {
      "cell_type": "markdown",
      "metadata": {
        "id": "view-in-github",
        "colab_type": "text"
      },
      "source": [
        "<a href=\"https://colab.research.google.com/github/sanha-hwang/EEG_project/blob/workspace/Project_EEG.ipynb\" target=\"_parent\"><img src=\"https://colab.research.google.com/assets/colab-badge.svg\" alt=\"Open In Colab\"/></a>"
      ]
    },
    {
      "cell_type": "markdown",
      "metadata": {
        "id": "OfwiuHU8_NdF"
      },
      "source": [
        "<H1>Project : EEG signal 분석 </H1>\n",
        "\n",
        "[datasetLink](https://www.kaggle.com/wanghaohan/confused-eeg)\n",
        "\n",
        "1. EEG 신호란 electroencephalography의 약자이며 '뇌전도'라고 번역된다.  전극을 통해 뇌의 전기적인 활동을 기록하는 전기생리학적 측정방법을 말한다. 뇌의 활동은 뇌파라는 전기신호를 방출하게 되고 EEG을 통해 뇌파의 스펙트럼 밀도를 분석하게 된다.    \n",
        "\n",
        "2. 데이터는 10명의 대학생을 대상으로 여러 카테고리별로 10개씩 총 20개의 동영상을 시청하면서 전두엽의 활동을 측정하여, 혼란스러울 때의 뇌파상태와 평온할 때의 뇌파상태를 측정하였습니다. 동영상에는 혼란스럽지않을 기초대수학 또는 기하학을 소개하는 온라인 교육영상이 있으며, 반대로 익숙치 않으면 혼란스러울 양자역학, 줄기세포 연구 등 과 같은 주제의 교육영상이 있습니다. 동영상 길이는 약 2분이며, 영상을 조금 더 혼란스럽게 만들기 위해 주제 중간에 2분클립을 잘랐습니다.\n",
        "\n",
        "\n",
        "3. 학생들은 전두엽의 활동을 측정하는 단일 무선채널의 mindset을 착용하였으며, Mindset은 이마에 있는 전극과 귀에 각각 접촉하는 두 개의 전극 사이의 전압을 측정하였습니다.    \n",
        "\n",
        "4. 각 학생들은 세션이 끝난 후, 자신의 혼란 정도를 1-7의 척도로 평가하였으며, 1은 최저, 7은 최고 레벨입니다. 혼란정도는 정규화되어 labeling 되었다.\n",
        "\n",
        "5. column 분석\n",
        "  - 'SubjectID': 피실험자 ID\n",
        "  - ' age': 피실험자 나이\n",
        "  - ' ethnicity' :피실험자 민족\n",
        "  - ' gender': 피실험자 성별\n",
        "  -  'VideoID': 시청한 비디오영상번호\n",
        "  - 'Attention': 집중도 수치\n",
        "  - 'Mediation': 평온함 수치\n",
        "  - 'Raw': EEG 장비로 측정하여 나온 수치\n",
        "  - 'Delta': Raw를 가공하여 나온 1-3Hz Power Spectrum\n",
        "  - 'Theta': Raw를 가공하여 나온 4-7Hz Power Spectrum\n",
        "  - 'Alpha1': Raw를 가공하여 나온 Lower 8-11Hz Power Spectrum\n",
        "  - 'Alpha2': Raw를 가공하여 나온 High 8-11Hz Power Spectrum\n",
        "  - 'Beta1': Raw를 가공하여 나온 Lower 12-29Hz Power Spectrum\n",
        "  - 'Beta2': Raw를 가공하여 나온 High 12-29Hz Power Spectrum\n",
        "  - 'Gamma1': Raw를 가공하여 나온 Lower 30-100Hz Power Spectrum\n",
        "  - 'Gamma2': Raw를 가공하여 나온 High 30-100Hz Power Spectrum\n",
        "  - 'predefinedlabel': Subject의 expected confusion level\n",
        "  - 'user-definedlabeln': Subject의 actually confusion level\n",
        "\n",
        "6. Brain wave 정리   \n",
        "  - Delta wave: 깊은 수면을 취할 때, 약하게 깨어 있을 때 혹은 무의식 일 때의 뇌파, 잠잘 때 장기기억, 해마가 작용할 때나오는 뇌파    \n",
        "부족한 경우- 불면증,세타파가 나오게 되면 깊은 수면을 취할 수 없음, 과할 경우 - 늘 뇌가 피곤해 있고 무기력해질 우려가 있음\n",
        "\n",
        "  - Theta wave:  꾸벅꾸벅 조는 상태, - 여명상태, 내면의식, 기억력, 창의력, 명상, 퍼포먼스 ,신비하고 미묘한  것이어서 실험자들이 연구하기 어려웟음, 세타파에 있는 동안, 의식을 유지하기 어렵기 때문   \n",
        "부족한 경우- 창의력부족, 예민, 과할 경우- 안정성이 없음,늘 에너지가 없어보임\n",
        "\n",
        "  - Alpha wave : 눈을 감고 편안한 상태, 집중하지 않은 상태일 때, 뇌파활동은 느려짐, 아주 편안하게 이완되고 정신적으로 집중되지 않는 상태, 알파상태에는 두뇌의 '중립' 또는 한가한 상태처럼 보이나, 건강하고 스트레스에 지배받지 않는 사람들은 많은 양의 알파파를 만들어냄,\n",
        "알파파의 결핍: 불안, 스트레스, 뇌 활성 저하, 과도한 의식활동(산만함)에 노출, 이완능력, 에너지, 기억력, 창의력 강화훈련 필요\n",
        "SM알파파: 알파파 끝부분, 생리적으로 이완 상태, 의식적으로 각성된 상태, 면역력이나 스트레스에 대한 저항능력\n",
        "각성능력을 보여주는 지표, 두뇌활동에 가장 중심적 뇌파\n",
        "오감에서 들어오는 외부의 감각센서와 운동능력    \n",
        "부족한 경우-긴장과 불안에 매일 수 있음, 과한경우-급한 것이 없음, 일처리에 맺고 끊는 맛이 없음\n",
        "\n",
        "  - Beta wave: 일반적으로 외부세계에 꺠어 있을 때, 눈을 뜨고 집중하는 상태, 구체적이고특별한 문제를 다루고 있을 때, 상대방이 어떻게 나올지 집중하는 상태\n",
        "특히 14-40, 두뇌에서 가장 지배적이고 강력하게 활동, 민첩성, 각성 ,집중, 인식력과 관련, 과도할 경우 불안 유발   \n",
        "부족한 경우-매사에 의욕이 없음, 과한 경우- 산만한 활동, 행동의 자제가 되지 않아 함부로 행동\n",
        "\n",
        "\n",
        "\n",
        "\n",
        "\n"
      ]
    },
    {
      "cell_type": "markdown",
      "metadata": {
        "id": "uy7X76B-QT2_"
      },
      "source": [
        ""
      ]
    },
    {
      "cell_type": "code",
      "metadata": {
        "id": "saV8zf42MDRh"
      },
      "source": [
        "# feature 하나씩  \n",
        "# import matplotlib.pyplot as plt\n",
        "# plt.rcParams['figure.dpi'] = 144\n",
        "\n",
        "# from pdpbox.pdp import pdp_isolate, pdp_plot\n",
        "\n",
        "# feature = 'annual_inc'\n",
        "\n",
        "# isolated = pdp_isolate(\n",
        "#     model=linear, \n",
        "#     dataset=X_val, \n",
        "#     model_features=X_val.columns, \n",
        "#     feature=feature,\n",
        "#     grid_type='percentile', # default='percentile', or 'equal'\n",
        "#     num_grid_points=10 # default=10\n",
        "# )\n",
        "# pdp_plot(isolated, feature_name=feature);"
      ],
      "execution_count": null,
      "outputs": []
    },
    {
      "cell_type": "code",
      "metadata": {
        "id": "2VxIQhjjtRh_",
        "colab": {
          "base_uri": "https://localhost:8080/",
          "height": 1000
        },
        "outputId": "8178547f-917e-461f-fb8d-11b314e08be3"
      },
      "source": [
        "!pip install eli5\n",
        "!pip install category_encoders\n",
        "!pip install pdpbox\n",
        "!pip install shap"
      ],
      "execution_count": 1,
      "outputs": [
        {
          "output_type": "stream",
          "text": [
            "Requirement already satisfied: eli5 in /usr/local/lib/python3.7/dist-packages (0.11.0)\n",
            "Requirement already satisfied: six in /usr/local/lib/python3.7/dist-packages (from eli5) (1.15.0)\n",
            "Requirement already satisfied: graphviz in /usr/local/lib/python3.7/dist-packages (from eli5) (0.10.1)\n",
            "Requirement already satisfied: tabulate>=0.7.7 in /usr/local/lib/python3.7/dist-packages (from eli5) (0.8.9)\n",
            "Requirement already satisfied: scikit-learn>=0.20 in /usr/local/lib/python3.7/dist-packages (from eli5) (0.22.2.post1)\n",
            "Requirement already satisfied: scipy in /usr/local/lib/python3.7/dist-packages (from eli5) (1.4.1)\n",
            "Requirement already satisfied: jinja2 in /usr/local/lib/python3.7/dist-packages (from eli5) (2.11.3)\n",
            "Requirement already satisfied: attrs>16.0.0 in /usr/local/lib/python3.7/dist-packages (from eli5) (21.2.0)\n",
            "Requirement already satisfied: numpy>=1.9.0 in /usr/local/lib/python3.7/dist-packages (from eli5) (1.19.5)\n",
            "Requirement already satisfied: joblib>=0.11 in /usr/local/lib/python3.7/dist-packages (from scikit-learn>=0.20->eli5) (1.0.1)\n",
            "Requirement already satisfied: MarkupSafe>=0.23 in /usr/local/lib/python3.7/dist-packages (from jinja2->eli5) (2.0.1)\n",
            "Requirement already satisfied: category_encoders in /usr/local/lib/python3.7/dist-packages (2.2.2)\n",
            "Requirement already satisfied: pandas>=0.21.1 in /usr/local/lib/python3.7/dist-packages (from category_encoders) (1.1.5)\n",
            "Requirement already satisfied: scipy>=1.0.0 in /usr/local/lib/python3.7/dist-packages (from category_encoders) (1.4.1)\n",
            "Requirement already satisfied: statsmodels>=0.9.0 in /usr/local/lib/python3.7/dist-packages (from category_encoders) (0.10.2)\n",
            "Requirement already satisfied: numpy>=1.14.0 in /usr/local/lib/python3.7/dist-packages (from category_encoders) (1.19.5)\n",
            "Requirement already satisfied: scikit-learn>=0.20.0 in /usr/local/lib/python3.7/dist-packages (from category_encoders) (0.22.2.post1)\n",
            "Requirement already satisfied: patsy>=0.5.1 in /usr/local/lib/python3.7/dist-packages (from category_encoders) (0.5.1)\n",
            "Requirement already satisfied: pytz>=2017.2 in /usr/local/lib/python3.7/dist-packages (from pandas>=0.21.1->category_encoders) (2018.9)\n",
            "Requirement already satisfied: python-dateutil>=2.7.3 in /usr/local/lib/python3.7/dist-packages (from pandas>=0.21.1->category_encoders) (2.8.1)\n",
            "Requirement already satisfied: six in /usr/local/lib/python3.7/dist-packages (from patsy>=0.5.1->category_encoders) (1.15.0)\n",
            "Requirement already satisfied: joblib>=0.11 in /usr/local/lib/python3.7/dist-packages (from scikit-learn>=0.20.0->category_encoders) (1.0.1)\n",
            "Collecting pdpbox\n",
            "  Using cached PDPbox-0.2.1.tar.gz (34.0 MB)\n",
            "Requirement already satisfied: pandas in /usr/local/lib/python3.7/dist-packages (from pdpbox) (1.1.5)\n",
            "Requirement already satisfied: numpy in /usr/local/lib/python3.7/dist-packages (from pdpbox) (1.19.5)\n",
            "Requirement already satisfied: scipy in /usr/local/lib/python3.7/dist-packages (from pdpbox) (1.4.1)\n",
            "Requirement already satisfied: joblib in /usr/local/lib/python3.7/dist-packages (from pdpbox) (1.0.1)\n",
            "Requirement already satisfied: psutil in /usr/local/lib/python3.7/dist-packages (from pdpbox) (5.4.8)\n",
            "Collecting matplotlib==3.1.1\n",
            "  Using cached matplotlib-3.1.1-cp37-cp37m-manylinux1_x86_64.whl (13.1 MB)\n",
            "Requirement already satisfied: sklearn in /usr/local/lib/python3.7/dist-packages (from pdpbox) (0.0)\n",
            "Requirement already satisfied: pyparsing!=2.0.4,!=2.1.2,!=2.1.6,>=2.0.1 in /usr/local/lib/python3.7/dist-packages (from matplotlib==3.1.1->pdpbox) (2.4.7)\n",
            "Requirement already satisfied: python-dateutil>=2.1 in /usr/local/lib/python3.7/dist-packages (from matplotlib==3.1.1->pdpbox) (2.8.1)\n",
            "Requirement already satisfied: kiwisolver>=1.0.1 in /usr/local/lib/python3.7/dist-packages (from matplotlib==3.1.1->pdpbox) (1.3.1)\n",
            "Requirement already satisfied: cycler>=0.10 in /usr/local/lib/python3.7/dist-packages (from matplotlib==3.1.1->pdpbox) (0.10.0)\n",
            "Requirement already satisfied: six in /usr/local/lib/python3.7/dist-packages (from cycler>=0.10->matplotlib==3.1.1->pdpbox) (1.15.0)\n",
            "Requirement already satisfied: pytz>=2017.2 in /usr/local/lib/python3.7/dist-packages (from pandas->pdpbox) (2018.9)\n",
            "Requirement already satisfied: scikit-learn in /usr/local/lib/python3.7/dist-packages (from sklearn->pdpbox) (0.22.2.post1)\n",
            "Building wheels for collected packages: pdpbox\n",
            "  Building wheel for pdpbox (setup.py) ... \u001b[?25l\u001b[?25hdone\n",
            "  Created wheel for pdpbox: filename=PDPbox-0.2.1-py3-none-any.whl size=35758225 sha256=6b509fd052dc4d8741a36e6ac64692c629d6ec4a706962518bdb3eb14f6f51a8\n",
            "  Stored in directory: /root/.cache/pip/wheels/f4/d0/1a/b80035625c53131f52906a6fc4dd690d8efd2bf8af6a4015eb\n",
            "Successfully built pdpbox\n",
            "Installing collected packages: matplotlib, pdpbox\n",
            "  Attempting uninstall: matplotlib\n",
            "    Found existing installation: matplotlib 3.2.2\n",
            "    Uninstalling matplotlib-3.2.2:\n",
            "      Successfully uninstalled matplotlib-3.2.2\n",
            "\u001b[31mERROR: pip's dependency resolver does not currently take into account all the packages that are installed. This behaviour is the source of the following dependency conflicts.\n",
            "albumentations 0.1.12 requires imgaug<0.2.7,>=0.2.5, but you have imgaug 0.2.9 which is incompatible.\u001b[0m\n",
            "Successfully installed matplotlib-3.1.1 pdpbox-0.2.1\n"
          ],
          "name": "stdout"
        },
        {
          "output_type": "display_data",
          "data": {
            "application/vnd.colab-display-data+json": {
              "pip_warning": {
                "packages": [
                  "matplotlib",
                  "mpl_toolkits"
                ]
              }
            }
          },
          "metadata": {
            "tags": []
          }
        },
        {
          "output_type": "stream",
          "text": [
            "Collecting shap\n",
            "  Downloading shap-0.39.0.tar.gz (356 kB)\n",
            "\u001b[?25l\r\u001b[K     |█                               | 10 kB 21.7 MB/s eta 0:00:01\r\u001b[K     |█▉                              | 20 kB 25.4 MB/s eta 0:00:01\r\u001b[K     |██▊                             | 30 kB 28.7 MB/s eta 0:00:01\r\u001b[K     |███▊                            | 40 kB 29.2 MB/s eta 0:00:01\r\u001b[K     |████▋                           | 51 kB 31.1 MB/s eta 0:00:01\r\u001b[K     |█████▌                          | 61 kB 33.8 MB/s eta 0:00:01\r\u001b[K     |██████▍                         | 71 kB 29.4 MB/s eta 0:00:01\r\u001b[K     |███████▍                        | 81 kB 31.0 MB/s eta 0:00:01\r\u001b[K     |████████▎                       | 92 kB 30.8 MB/s eta 0:00:01\r\u001b[K     |█████████▏                      | 102 kB 28.4 MB/s eta 0:00:01\r\u001b[K     |██████████▏                     | 112 kB 28.4 MB/s eta 0:00:01\r\u001b[K     |███████████                     | 122 kB 28.4 MB/s eta 0:00:01\r\u001b[K     |████████████                    | 133 kB 28.4 MB/s eta 0:00:01\r\u001b[K     |████████████▉                   | 143 kB 28.4 MB/s eta 0:00:01\r\u001b[K     |█████████████▉                  | 153 kB 28.4 MB/s eta 0:00:01\r\u001b[K     |██████████████▊                 | 163 kB 28.4 MB/s eta 0:00:01\r\u001b[K     |███████████████▋                | 174 kB 28.4 MB/s eta 0:00:01\r\u001b[K     |████████████████▋               | 184 kB 28.4 MB/s eta 0:00:01\r\u001b[K     |█████████████████▌              | 194 kB 28.4 MB/s eta 0:00:01\r\u001b[K     |██████████████████▍             | 204 kB 28.4 MB/s eta 0:00:01\r\u001b[K     |███████████████████▎            | 215 kB 28.4 MB/s eta 0:00:01\r\u001b[K     |████████████████████▎           | 225 kB 28.4 MB/s eta 0:00:01\r\u001b[K     |█████████████████████▏          | 235 kB 28.4 MB/s eta 0:00:01\r\u001b[K     |██████████████████████          | 245 kB 28.4 MB/s eta 0:00:01\r\u001b[K     |███████████████████████         | 256 kB 28.4 MB/s eta 0:00:01\r\u001b[K     |████████████████████████        | 266 kB 28.4 MB/s eta 0:00:01\r\u001b[K     |████████████████████████▉       | 276 kB 28.4 MB/s eta 0:00:01\r\u001b[K     |█████████████████████████▊      | 286 kB 28.4 MB/s eta 0:00:01\r\u001b[K     |██████████████████████████▊     | 296 kB 28.4 MB/s eta 0:00:01\r\u001b[K     |███████████████████████████▋    | 307 kB 28.4 MB/s eta 0:00:01\r\u001b[K     |████████████████████████████▌   | 317 kB 28.4 MB/s eta 0:00:01\r\u001b[K     |█████████████████████████████▍  | 327 kB 28.4 MB/s eta 0:00:01\r\u001b[K     |██████████████████████████████▍ | 337 kB 28.4 MB/s eta 0:00:01\r\u001b[K     |███████████████████████████████▎| 348 kB 28.4 MB/s eta 0:00:01\r\u001b[K     |████████████████████████████████| 356 kB 28.4 MB/s \n",
            "\u001b[?25hRequirement already satisfied: numpy in /usr/local/lib/python3.7/dist-packages (from shap) (1.19.5)\n",
            "Requirement already satisfied: scipy in /usr/local/lib/python3.7/dist-packages (from shap) (1.4.1)\n",
            "Requirement already satisfied: scikit-learn in /usr/local/lib/python3.7/dist-packages (from shap) (0.22.2.post1)\n",
            "Requirement already satisfied: pandas in /usr/local/lib/python3.7/dist-packages (from shap) (1.1.5)\n",
            "Requirement already satisfied: tqdm>4.25.0 in /usr/local/lib/python3.7/dist-packages (from shap) (4.41.1)\n",
            "Collecting slicer==0.0.7\n",
            "  Downloading slicer-0.0.7-py3-none-any.whl (14 kB)\n",
            "Requirement already satisfied: numba in /usr/local/lib/python3.7/dist-packages (from shap) (0.51.2)\n",
            "Requirement already satisfied: cloudpickle in /usr/local/lib/python3.7/dist-packages (from shap) (1.3.0)\n",
            "Requirement already satisfied: setuptools in /usr/local/lib/python3.7/dist-packages (from numba->shap) (57.2.0)\n",
            "Requirement already satisfied: llvmlite<0.35,>=0.34.0.dev0 in /usr/local/lib/python3.7/dist-packages (from numba->shap) (0.34.0)\n",
            "Requirement already satisfied: python-dateutil>=2.7.3 in /usr/local/lib/python3.7/dist-packages (from pandas->shap) (2.8.1)\n",
            "Requirement already satisfied: pytz>=2017.2 in /usr/local/lib/python3.7/dist-packages (from pandas->shap) (2018.9)\n",
            "Requirement already satisfied: six>=1.5 in /usr/local/lib/python3.7/dist-packages (from python-dateutil>=2.7.3->pandas->shap) (1.15.0)\n",
            "Requirement already satisfied: joblib>=0.11 in /usr/local/lib/python3.7/dist-packages (from scikit-learn->shap) (1.0.1)\n",
            "Building wheels for collected packages: shap\n",
            "  Building wheel for shap (setup.py) ... \u001b[?25l\u001b[?25hdone\n",
            "  Created wheel for shap: filename=shap-0.39.0-cp37-cp37m-linux_x86_64.whl size=491647 sha256=88c7fb131f4cb79deaec1a2087046f44b2ff650b310ab4308d3f29c1fc23c8a3\n",
            "  Stored in directory: /root/.cache/pip/wheels/ca/25/8f/6ae5df62c32651cd719e972e738a8aaa4a87414c4d2b14c9c0\n",
            "Successfully built shap\n",
            "Installing collected packages: slicer, shap\n",
            "Successfully installed shap-0.39.0 slicer-0.0.7\n"
          ],
          "name": "stdout"
        }
      ]
    },
    {
      "cell_type": "code",
      "metadata": {
        "id": "p2gMZTla2KHn",
        "colab": {
          "base_uri": "https://localhost:8080/"
        },
        "outputId": "d7a4e957-4442-41ce-e7eb-6344b0c80a06"
      },
      "source": [
        "from google.colab import drive\n",
        "drive.mount('/content/drive')"
      ],
      "execution_count": 2,
      "outputs": [
        {
          "output_type": "stream",
          "text": [
            "Drive already mounted at /content/drive; to attempt to forcibly remount, call drive.mount(\"/content/drive\", force_remount=True).\n"
          ],
          "name": "stdout"
        }
      ]
    },
    {
      "cell_type": "code",
      "metadata": {
        "id": "BXRC2qyx2Xp7"
      },
      "source": [
        "import pandas as pd\n",
        "import numpy as np\n",
        "\n",
        "import matplotlib.pyplot as plt\n",
        "import seaborn as sns\n",
        "\n",
        "EEG_data = pd.read_csv(\"/content/drive/MyDrive/EEG_data.csv\") # EEG 데이터 불러오기\n",
        "person_info = pd.read_csv(\"/content/drive/MyDrive/demographic_info.csv\") #실험군 데이터"
      ],
      "execution_count": 3,
      "outputs": []
    },
    {
      "cell_type": "code",
      "metadata": {
        "id": "ljvaZNYWH6cN"
      },
      "source": [
        "# data정리\n",
        "EEG_data[['SubjectID','VideoID', 'user-definedlabeln']] = EEG_data[['SubjectID','VideoID', 'user-definedlabeln']].astype(int)\n",
        "person_info.rename(columns={'subject ID':'SubjectID'}, inplace= True)\n",
        "data = person_info.merge(EEG_data,on ='SubjectID')\n",
        "data.rename(columns={' age':'age'}, inplace= True)\n",
        "data.rename(columns={' ethnicity':'ethnicity'}, inplace= True)\n",
        "data.rename(columns={' gender':'gender'}, inplace= True)\n",
        "data.rename(columns={'user-definedlabeln':'Label'}, inplace= True)\n"
      ],
      "execution_count": 4,
      "outputs": []
    },
    {
      "cell_type": "code",
      "metadata": {
        "id": "nPYJOvmvVS4S",
        "outputId": "bdd9752d-6bec-41ea-b07c-56b106146fae",
        "colab": {
          "base_uri": "https://localhost:8080/"
        }
      },
      "source": [
        "data.isnull().sum()"
      ],
      "execution_count": 5,
      "outputs": [
        {
          "output_type": "execute_result",
          "data": {
            "text/plain": [
              "SubjectID          0\n",
              "age                0\n",
              "ethnicity          0\n",
              "gender             0\n",
              "VideoID            0\n",
              "Attention          0\n",
              "Mediation          0\n",
              "Raw                0\n",
              "Delta              0\n",
              "Theta              0\n",
              "Alpha1             0\n",
              "Alpha2             0\n",
              "Beta1              0\n",
              "Beta2              0\n",
              "Gamma1             0\n",
              "Gamma2             0\n",
              "predefinedlabel    0\n",
              "Label              0\n",
              "dtype: int64"
            ]
          },
          "metadata": {
            "tags": []
          },
          "execution_count": 5
        }
      ]
    },
    {
      "cell_type": "code",
      "metadata": {
        "id": "QhSNN_5IVWum",
        "outputId": "ca7b6b1e-30ff-4ad6-a3d9-5224c55cdc5b",
        "colab": {
          "base_uri": "https://localhost:8080/"
        }
      },
      "source": [
        "data.duplicated().sum()"
      ],
      "execution_count": 6,
      "outputs": [
        {
          "output_type": "execute_result",
          "data": {
            "text/plain": [
              "0"
            ]
          },
          "metadata": {
            "tags": []
          },
          "execution_count": 6
        }
      ]
    },
    {
      "cell_type": "code",
      "metadata": {
        "id": "kf9D0V_0UHdm",
        "colab": {
          "base_uri": "https://localhost:8080/"
        },
        "outputId": "14e2b271-4fbe-4835-97e5-ca5015abd110"
      },
      "source": [
        "data.columns"
      ],
      "execution_count": 7,
      "outputs": [
        {
          "output_type": "execute_result",
          "data": {
            "text/plain": [
              "Index(['SubjectID', 'age', 'ethnicity', 'gender', 'VideoID', 'Attention',\n",
              "       'Mediation', 'Raw', 'Delta', 'Theta', 'Alpha1', 'Alpha2', 'Beta1',\n",
              "       'Beta2', 'Gamma1', 'Gamma2', 'predefinedlabel', 'Label'],\n",
              "      dtype='object')"
            ]
          },
          "metadata": {
            "tags": []
          },
          "execution_count": 7
        }
      ]
    },
    {
      "cell_type": "code",
      "metadata": {
        "id": "IqjpCYz2TCn6"
      },
      "source": [
        "# EDA\n",
        "data.drop(columns=['SubjectID', 'VideoID'], inplace=True) # 'Raw','predefinedlabel',\n"
      ],
      "execution_count": 5,
      "outputs": []
    },
    {
      "cell_type": "code",
      "metadata": {
        "id": "CxLnqNoQVKBB",
        "colab": {
          "base_uri": "https://localhost:8080/",
          "height": 313
        },
        "outputId": "1ef10500-490a-4622-fcd4-3ac71a8f1613"
      },
      "source": [
        "data.head()"
      ],
      "execution_count": 6,
      "outputs": [
        {
          "output_type": "execute_result",
          "data": {
            "text/html": [
              "<div>\n",
              "<style scoped>\n",
              "    .dataframe tbody tr th:only-of-type {\n",
              "        vertical-align: middle;\n",
              "    }\n",
              "\n",
              "    .dataframe tbody tr th {\n",
              "        vertical-align: top;\n",
              "    }\n",
              "\n",
              "    .dataframe thead th {\n",
              "        text-align: right;\n",
              "    }\n",
              "</style>\n",
              "<table border=\"1\" class=\"dataframe\">\n",
              "  <thead>\n",
              "    <tr style=\"text-align: right;\">\n",
              "      <th></th>\n",
              "      <th>age</th>\n",
              "      <th>ethnicity</th>\n",
              "      <th>gender</th>\n",
              "      <th>Attention</th>\n",
              "      <th>Mediation</th>\n",
              "      <th>Raw</th>\n",
              "      <th>Delta</th>\n",
              "      <th>Theta</th>\n",
              "      <th>Alpha1</th>\n",
              "      <th>Alpha2</th>\n",
              "      <th>Beta1</th>\n",
              "      <th>Beta2</th>\n",
              "      <th>Gamma1</th>\n",
              "      <th>Gamma2</th>\n",
              "      <th>predefinedlabel</th>\n",
              "      <th>Label</th>\n",
              "    </tr>\n",
              "  </thead>\n",
              "  <tbody>\n",
              "    <tr>\n",
              "      <th>0</th>\n",
              "      <td>25</td>\n",
              "      <td>Han Chinese</td>\n",
              "      <td>M</td>\n",
              "      <td>56.0</td>\n",
              "      <td>43.0</td>\n",
              "      <td>278.0</td>\n",
              "      <td>301963.0</td>\n",
              "      <td>90612.0</td>\n",
              "      <td>33735.0</td>\n",
              "      <td>23991.0</td>\n",
              "      <td>27946.0</td>\n",
              "      <td>45097.0</td>\n",
              "      <td>33228.0</td>\n",
              "      <td>8293.0</td>\n",
              "      <td>0.0</td>\n",
              "      <td>0</td>\n",
              "    </tr>\n",
              "    <tr>\n",
              "      <th>1</th>\n",
              "      <td>25</td>\n",
              "      <td>Han Chinese</td>\n",
              "      <td>M</td>\n",
              "      <td>40.0</td>\n",
              "      <td>35.0</td>\n",
              "      <td>-50.0</td>\n",
              "      <td>73787.0</td>\n",
              "      <td>28083.0</td>\n",
              "      <td>1439.0</td>\n",
              "      <td>2240.0</td>\n",
              "      <td>2746.0</td>\n",
              "      <td>3687.0</td>\n",
              "      <td>5293.0</td>\n",
              "      <td>2740.0</td>\n",
              "      <td>0.0</td>\n",
              "      <td>0</td>\n",
              "    </tr>\n",
              "    <tr>\n",
              "      <th>2</th>\n",
              "      <td>25</td>\n",
              "      <td>Han Chinese</td>\n",
              "      <td>M</td>\n",
              "      <td>47.0</td>\n",
              "      <td>48.0</td>\n",
              "      <td>101.0</td>\n",
              "      <td>758353.0</td>\n",
              "      <td>383745.0</td>\n",
              "      <td>201999.0</td>\n",
              "      <td>62107.0</td>\n",
              "      <td>36293.0</td>\n",
              "      <td>130536.0</td>\n",
              "      <td>57243.0</td>\n",
              "      <td>25354.0</td>\n",
              "      <td>0.0</td>\n",
              "      <td>0</td>\n",
              "    </tr>\n",
              "    <tr>\n",
              "      <th>3</th>\n",
              "      <td>25</td>\n",
              "      <td>Han Chinese</td>\n",
              "      <td>M</td>\n",
              "      <td>47.0</td>\n",
              "      <td>57.0</td>\n",
              "      <td>-5.0</td>\n",
              "      <td>2012240.0</td>\n",
              "      <td>129350.0</td>\n",
              "      <td>61236.0</td>\n",
              "      <td>17084.0</td>\n",
              "      <td>11488.0</td>\n",
              "      <td>62462.0</td>\n",
              "      <td>49960.0</td>\n",
              "      <td>33932.0</td>\n",
              "      <td>0.0</td>\n",
              "      <td>0</td>\n",
              "    </tr>\n",
              "    <tr>\n",
              "      <th>4</th>\n",
              "      <td>25</td>\n",
              "      <td>Han Chinese</td>\n",
              "      <td>M</td>\n",
              "      <td>44.0</td>\n",
              "      <td>53.0</td>\n",
              "      <td>-8.0</td>\n",
              "      <td>1005145.0</td>\n",
              "      <td>354328.0</td>\n",
              "      <td>37102.0</td>\n",
              "      <td>88881.0</td>\n",
              "      <td>45307.0</td>\n",
              "      <td>99603.0</td>\n",
              "      <td>44790.0</td>\n",
              "      <td>29749.0</td>\n",
              "      <td>0.0</td>\n",
              "      <td>0</td>\n",
              "    </tr>\n",
              "  </tbody>\n",
              "</table>\n",
              "</div>"
            ],
            "text/plain": [
              "   age    ethnicity gender  Attention  ...   Gamma1   Gamma2  predefinedlabel  Label\n",
              "0   25  Han Chinese      M       56.0  ...  33228.0   8293.0              0.0      0\n",
              "1   25  Han Chinese      M       40.0  ...   5293.0   2740.0              0.0      0\n",
              "2   25  Han Chinese      M       47.0  ...  57243.0  25354.0              0.0      0\n",
              "3   25  Han Chinese      M       47.0  ...  49960.0  33932.0              0.0      0\n",
              "4   25  Han Chinese      M       44.0  ...  44790.0  29749.0              0.0      0\n",
              "\n",
              "[5 rows x 16 columns]"
            ]
          },
          "metadata": {
            "tags": []
          },
          "execution_count": 6
        }
      ]
    },
    {
      "cell_type": "code",
      "metadata": {
        "id": "s5lmAqnGfNKq",
        "colab": {
          "base_uri": "https://localhost:8080/"
        },
        "outputId": "11f176fe-b01a-4f08-db87-d91bb3a1f89b"
      },
      "source": [
        "data.shape"
      ],
      "execution_count": 60,
      "outputs": [
        {
          "output_type": "execute_result",
          "data": {
            "text/plain": [
              "(12811, 16)"
            ]
          },
          "metadata": {
            "tags": []
          },
          "execution_count": 60
        }
      ]
    },
    {
      "cell_type": "code",
      "metadata": {
        "id": "fbBtg9K-XPRu"
      },
      "source": [
        "#혹시 모르니 깊은 복사로 진행\n",
        "y = data['Label'].copy()\n",
        "X = data.drop('Label', axis=1).copy()"
      ],
      "execution_count": 6,
      "outputs": []
    },
    {
      "cell_type": "code",
      "metadata": {
        "id": "RUc09Yh2X7V_",
        "outputId": "24f9037a-9891-4a5e-c916-a5f54c15b933",
        "colab": {
          "base_uri": "https://localhost:8080/"
        }
      },
      "source": [
        "from category_encoders import OneHotEncoder\n",
        "from sklearn.pipeline import make_pipeline\n",
        "from sklearn.preprocessing import StandardScaler, MinMaxScaler\n",
        "from sklearn.model_selection import train_test_split\n",
        "from sklearn.model_selection import GridSearchCV\n",
        "\n",
        "from sklearn.metrics import accuracy_score, precision_score, recall_score, roc_auc_score, f1_score, confusion_matrix, classification_report\n",
        "\n",
        "\n",
        "def eval(test, pred= None, proba=None):\n",
        "  confusion = confusion_matrix(test, pred)\n",
        "  accuracy = accuracy_score(test, pred)\n",
        "  precision = precision_score(test,pred)\n",
        "  recall = recall_score(test, pred)\n",
        "  roc_auc = roc_auc_score(test, proba)\n",
        "  F1 = f1_score(test, pred)\n",
        "\n",
        "  cm = confusion_matrix(test, pred)\n",
        "  plt.figure(figsize=(4, 4))\n",
        "  sns.heatmap(cm, annot=True, fmt='g', vmin=0, cbar=False)\n",
        "\n",
        "  plt.xlabel(\"Predicted\")\n",
        "  plt.ylabel(\"Actual\")\n",
        "  plt.title(\"Confusion Matrix\")\n",
        "\n",
        "  print(classification_report(test, pred))\n",
        "  print('정확도: {0:.4f}, 정밀도: {1:.4f}, 재현율: {2:.4f}, F1: {3:.4f}, AUC: {4:.4f}'.format(accuracy, precision, recall, F1, roc_auc))\n",
        "  plt.show()\n",
        "\n"
      ],
      "execution_count": 7,
      "outputs": [
        {
          "output_type": "stream",
          "text": [
            "pandas.util.testing is deprecated. Use the functions in the public API at pandas.testing instead.\n"
          ],
          "name": "stderr"
        }
      ]
    },
    {
      "cell_type": "code",
      "metadata": {
        "id": "BbWavrzqjdT8",
        "colab": {
          "base_uri": "https://localhost:8080/"
        },
        "outputId": "1aabda6f-6146-4482-c08b-670f8d5230fb"
      },
      "source": [
        "#OneHotencoding, MinMaxscaler\n",
        "\n",
        "encoder = OneHotEncoder(use_cat_names=True)\n",
        "scaler = StandardScaler()\n",
        "\n",
        "X = encoder.fit_transform(X)\n",
        "Xcolumns = X.columns\n",
        "\n",
        "X = scaler.fit_transform(X) # X는 현재 np.array형태 ->tensor에는 이대로 입력\n",
        "X_data = pd.DataFrame(X, columns= Xcolumns) # ML에는 feature분석을 위해 dataframe화\n"
      ],
      "execution_count": 8,
      "outputs": [
        {
          "output_type": "stream",
          "text": [
            "is_categorical is deprecated and will be removed in a future version.  Use is_categorical_dtype instead\n"
          ],
          "name": "stderr"
        }
      ]
    },
    {
      "cell_type": "code",
      "metadata": {
        "id": "eaHkEcLDfAcW"
      },
      "source": [
        "X_train, X_test, y_train, y_test = train_test_split(X_data, y, test_size= 0.2, random_state=42)\n",
        "X_train, X_val, y_train, y_val = train_test_split(X_train, y_train, test_size=0.2, random_state= 42)"
      ],
      "execution_count": 9,
      "outputs": []
    },
    {
      "cell_type": "code",
      "metadata": {
        "id": "wqpDG6lZDQeE",
        "outputId": "77340d55-adf7-4d09-b15c-a3eeaaacf27c",
        "colab": {
          "base_uri": "https://localhost:8080/"
        }
      },
      "source": [
        "X_train.shape"
      ],
      "execution_count": 46,
      "outputs": [
        {
          "output_type": "execute_result",
          "data": {
            "text/plain": [
              "(8198, 20)"
            ]
          },
          "metadata": {
            "tags": []
          },
          "execution_count": 46
        }
      ]
    },
    {
      "cell_type": "code",
      "metadata": {
        "id": "VBFuNUj0bVnc",
        "colab": {
          "base_uri": "https://localhost:8080/",
          "height": 501
        },
        "outputId": "c229c37c-b516-4a53-9508-882e29b16ee5"
      },
      "source": [
        "#base\n",
        "y_base1 = [1] * len(y_val)\n",
        "\n",
        "confusion = confusion_matrix(y_val, y_base1)\n",
        "accuracy = accuracy_score(y_val, y_base1)\n",
        "precision = precision_score(y_val, y_base1)\n",
        "recall = recall_score(y_val, y_base1)\n",
        "F1 = f1_score(y_val, y_base1)\n",
        "roc_auc = roc_auc_score(y_val, y_base1)\n",
        "\n",
        "cm = confusion_matrix(y_val, y_base1)\n",
        "plt.figure(figsize=(4, 4))\n",
        "sns.heatmap(cm, annot=True, fmt='g', vmin=0, cbar=False)\n",
        "\n",
        "plt.xlabel(\"Predicted\")\n",
        "plt.ylabel(\"Actual\")\n",
        "plt.title(\"Confusion Matrix\")\n",
        "\n",
        "print(classification_report(y_val, y_base1))\n",
        "print('정확도: {0:.4f}, 정밀도: {1:.4f}, 재현율: {2:.4f}, F1: {3:.4f}, AUC: {4:.4f}'.format(accuracy, precision, recall, F1, roc_auc))\n",
        "plt.show()\n"
      ],
      "execution_count": 10,
      "outputs": [
        {
          "output_type": "stream",
          "text": [
            "              precision    recall  f1-score   support\n",
            "\n",
            "           0       0.00      0.00      0.00      1023\n",
            "           1       0.50      1.00      0.67      1027\n",
            "\n",
            "    accuracy                           0.50      2050\n",
            "   macro avg       0.25      0.50      0.33      2050\n",
            "weighted avg       0.25      0.50      0.33      2050\n",
            "\n",
            "정확도: 0.5010, 정밀도: 0.5010, 재현율: 1.0000, F1: 0.6675, AUC: 0.5000\n"
          ],
          "name": "stdout"
        },
        {
          "output_type": "stream",
          "text": [
            "Precision and F-score are ill-defined and being set to 0.0 in labels with no predicted samples. Use `zero_division` parameter to control this behavior.\n"
          ],
          "name": "stderr"
        },
        {
          "output_type": "display_data",
          "data": {
            "image/png": "[encoded data removed]",
            "text/plain": [
              "<Figure size 288x288 with 1 Axes>"
            ]
          },
          "metadata": {
            "tags": [],
            "needs_background": "light"
          }
        }
      ]
    },
    {
      "cell_type": "code",
      "metadata": {
        "id": "QD-ho4dSftDF"
      },
      "source": [
        "# 여러 ML 사용해보기- > 트리 계열은 과적합이 나옴 그나마 랜덤포레스트 모델, XGBoost, LGBM 이 70퍼센트 나옴"
      ],
      "execution_count": null,
      "outputs": []
    },
    {
      "cell_type": "code",
      "metadata": {
        "id": "hlWu9HukgaXA",
        "colab": {
          "base_uri": "https://localhost:8080/",
          "height": 482
        },
        "outputId": "96c8cc5a-4812-4117-eb8e-a71ab85fec97"
      },
      "source": [
        "from sklearn.ensemble import RandomForestClassifier\n",
        "\n",
        "forest_model = RandomForestClassifier()\n",
        "forest_model.fit(X_train, y_train)\n",
        "y_pred = forest_model.predict(X_val)\n",
        "y_proba = forest_model.predict_proba(X_val)[:,1]\n",
        "\n",
        "eval(y_val, y_pred, y_proba)"
      ],
      "execution_count": 11,
      "outputs": [
        {
          "output_type": "stream",
          "text": [
            "              precision    recall  f1-score   support\n",
            "\n",
            "           0       0.74      0.69      0.71      1023\n",
            "           1       0.71      0.76      0.73      1027\n",
            "\n",
            "    accuracy                           0.72      2050\n",
            "   macro avg       0.72      0.72      0.72      2050\n",
            "weighted avg       0.72      0.72      0.72      2050\n",
            "\n",
            "정확도: 0.7220, 정밀도: 0.7087, 재현율: 0.7556, F1: 0.7314, AUC: 0.8010\n"
          ],
          "name": "stdout"
        },
        {
          "output_type": "display_data",
          "data": {
            "image/png": "[encoded data removed]",
            "text/plain": [
              "<Figure size 288x288 with 1 Axes>"
            ]
          },
          "metadata": {
            "tags": [],
            "needs_background": "light"
          }
        }
      ]
    },
    {
      "cell_type": "code",
      "metadata": {
        "id": "AY7pOxfnOH8Y"
      },
      "source": [
        "import shap\n",
        "\n",
        "explainer = shap.TreeExplainer(forest_model)\n",
        "shap_values = explainer.shap_values(X_data)\n",
        "\n",
        "row = X_data.iloc[[200]]\n",
        "\n",
        "# Shap value, 특성이름, 특성값을 가지는 Series를 만듭니다\n",
        "feature_names = X_data.columns\n",
        "feature_values = X_data.values[200]\n",
        "shaps = pd.Series(shap_values[200], zip(feature_names, feature_values))\n",
        "\n",
        "shap.initjs()\n",
        "shap.force_plot(\n",
        "    base_value=explainer.expected_value, \n",
        "    shap_values=shap_values,\n",
        "    features=row\n",
        ")"
      ],
      "execution_count": null,
      "outputs": []
    },
    {
      "cell_type": "code",
      "metadata": {
        "id": "n1xtzrI-deRy",
        "colab": {
          "base_uri": "https://localhost:8080/"
        },
        "outputId": "0b707f1e-0ce4-4999-e06d-21d5cb4b48f8"
      },
      "source": [
        "forest_param ={   'n_estimators':[10,50,100,200] ,\n",
        "                  'criterion': ['gini', 'entropy'], \n",
        "                  'max_depth':[5, 10, 20, 30, 50],\n",
        "                  'min_samples_leaf' :[],\n",
        "                  'max_features ' : [],\n",
        "               \n",
        "                }\n",
        "\n",
        "grid_search_forest = GridSearchCV(forest_model, forest_param, cv =10, scoring='roc_auc')\n",
        "grid_search_forest.fit(X_train, y_train)"
      ],
      "execution_count": null,
      "outputs": [
        {
          "output_type": "execute_result",
          "data": {
            "text/plain": [
              "GridSearchCV(cv=10, error_score=nan,\n",
              "             estimator=RandomForestClassifier(bootstrap=True, ccp_alpha=0.0,\n",
              "                                              class_weight=None,\n",
              "                                              criterion='gini', max_depth=None,\n",
              "                                              max_features='auto',\n",
              "                                              max_leaf_nodes=None,\n",
              "                                              max_samples=None,\n",
              "                                              min_impurity_decrease=0.0,\n",
              "                                              min_impurity_split=None,\n",
              "                                              min_samples_leaf=1,\n",
              "                                              min_samples_split=2,\n",
              "                                              min_weight_fraction_leaf=0.0,\n",
              "                                              n_estimators=100, n_jobs=None,\n",
              "                                              oob_score=False,\n",
              "                                              random_state=None, verbose=0,\n",
              "                                              warm_start=False),\n",
              "             iid='deprecated', n_jobs=None,\n",
              "             param_grid={'criterion': ['gini', 'entropy'],\n",
              "                         'max_depth': [5, 10, 20, 30, 50, None],\n",
              "                         'n_estimators': [10, 50, 100, 200]},\n",
              "             pre_dispatch='2*n_jobs', refit=True, return_train_score=False,\n",
              "             scoring='roc_auc', verbose=0)"
            ]
          },
          "metadata": {
            "tags": []
          },
          "execution_count": 16
        }
      ]
    },
    {
      "cell_type": "code",
      "metadata": {
        "id": "i9yxQbm_tVze",
        "colab": {
          "base_uri": "https://localhost:8080/"
        },
        "outputId": "8670e527-5c94-4e20-d9c9-c3be3148a3e2"
      },
      "source": [
        "grid_search_forest.best_estimator_"
      ],
      "execution_count": null,
      "outputs": [
        {
          "output_type": "execute_result",
          "data": {
            "text/plain": [
              "RandomForestClassifier(bootstrap=True, ccp_alpha=0.0, class_weight=None,\n",
              "                       criterion='entropy', max_depth=30, max_features='auto',\n",
              "                       max_leaf_nodes=None, max_samples=None,\n",
              "                       min_impurity_decrease=0.0, min_impurity_split=None,\n",
              "                       min_samples_leaf=1, min_samples_split=2,\n",
              "                       min_weight_fraction_leaf=0.0, n_estimators=200,\n",
              "                       n_jobs=None, oob_score=False, random_state=None,\n",
              "                       verbose=0, warm_start=False)"
            ]
          },
          "metadata": {
            "tags": []
          },
          "execution_count": 17
        }
      ]
    },
    {
      "cell_type": "code",
      "metadata": {
        "id": "eMw4ZiyBtl5T",
        "colab": {
          "base_uri": "https://localhost:8080/"
        },
        "outputId": "b04eabb2-ed61-439d-aa98-62584067404d"
      },
      "source": [
        "grid_search_forest.best_params_"
      ],
      "execution_count": null,
      "outputs": [
        {
          "output_type": "execute_result",
          "data": {
            "text/plain": [
              "{'criterion': 'entropy', 'max_depth': 30, 'n_estimators': 200}"
            ]
          },
          "metadata": {
            "tags": []
          },
          "execution_count": 18
        }
      ]
    },
    {
      "cell_type": "code",
      "metadata": {
        "id": "ERuyYjVjtrWJ",
        "colab": {
          "base_uri": "https://localhost:8080/"
        },
        "outputId": "d9779357-5d8d-4aac-d290-63f642fa09cc"
      },
      "source": [
        "grid_search_forest.best_score_"
      ],
      "execution_count": null,
      "outputs": [
        {
          "output_type": "execute_result",
          "data": {
            "text/plain": [
              "0.714160038601507"
            ]
          },
          "metadata": {
            "tags": []
          },
          "execution_count": 19
        }
      ]
    },
    {
      "cell_type": "code",
      "metadata": {
        "id": "JbYds5S3tyyS",
        "colab": {
          "base_uri": "https://localhost:8080/",
          "height": 482
        },
        "outputId": "94b8e953-d902-4f69-b565-fc2d9f9dbb08"
      },
      "source": [
        "#fine tunning forest\n",
        "opforest_model = RandomForestClassifier(criterion= 'entropy', max_depth= 30, n_estimators= 200)\n",
        "opforest_model.fit(X_train, y_train)\n",
        "y_pred = opforest_model.predict(X_val)\n",
        "y_proba = opforest_model.predict_proba(X_val)[:,1]\n",
        "\n",
        "eval(y_val, y_pred, y_proba)  \n",
        "\n",
        "# forest_model : 정확도: 0.7205, 정밀도: 0.7142, 재현율: 0.7371, F1: 0.7254, AUC: 0.7980 -> critical하게 변하지 않았다."
      ],
      "execution_count": 69,
      "outputs": [
        {
          "output_type": "stream",
          "text": [
            "              precision    recall  f1-score   support\n",
            "\n",
            "           0       0.74      0.69      0.71      1023\n",
            "           1       0.71      0.76      0.73      1027\n",
            "\n",
            "    accuracy                           0.72      2050\n",
            "   macro avg       0.72      0.72      0.72      2050\n",
            "weighted avg       0.72      0.72      0.72      2050\n",
            "\n",
            "정확도: 0.7220, 정밀도: 0.7087, 재현율: 0.7556, F1: 0.7314, AUC: 0.8033\n"
          ],
          "name": "stdout"
        },
        {
          "output_type": "display_data",
          "data": {
            "image/png": "[encoded data removed]",
            "text/plain": [
              "<Figure size 288x288 with 1 Axes>"
            ]
          },
          "metadata": {
            "tags": [],
            "needs_background": "light"
          }
        }
      ]
    },
    {
      "cell_type": "code",
      "metadata": {
        "id": "FYTAQ0u-t_HD",
        "colab": {
          "base_uri": "https://localhost:8080/"
        },
        "outputId": "b2ec2932-f0c1-49ae-dcc9-e50e0878916b"
      },
      "source": [
        "# permuter 정의\n",
        "import eli5\n",
        "from eli5.sklearn import PermutationImportance\n",
        "\n",
        "permuter = PermutationImportance(\n",
        "    opforest_model, # model\n",
        "    scoring='accuracy', # metric\n",
        "    n_iter=5, # 다른 random seed를 사용하여 5번 반복\n",
        "    random_state=2\n",
        ")\n",
        "\n",
        "# 실제로 fit 의미보다는 스코어를 다시 계산하는 작업입니다\n",
        "permuter.fit(X_val, y_val);\n",
        "\n",
        "feature_names = X_val.columns.tolist()\n",
        "pd.Series(permuter.feature_importances_, feature_names).sort_values()"
      ],
      "execution_count": 70,
      "outputs": [
        {
          "output_type": "execute_result",
          "data": {
            "text/plain": [
              "ethnicity_Bengali        0.001561\n",
              "Alpha2                   0.001659\n",
              "Theta                    0.003707\n",
              "ethnicity_English        0.004195\n",
              "gender_F                 0.005854\n",
              "gender_M                 0.007415\n",
              "Alpha1                   0.008000\n",
              "Beta1                    0.008488\n",
              "Raw                      0.008585\n",
              "ethnicity_Han Chinese    0.009463\n",
              "Mediation                0.013854\n",
              "Beta2                    0.019805\n",
              "age                      0.023902\n",
              "Gamma1                   0.032683\n",
              "Delta                    0.033659\n",
              "predefinedlabel          0.034537\n",
              "Gamma2                   0.037268\n",
              "Attention                0.059805\n",
              "dtype: float64"
            ]
          },
          "metadata": {
            "tags": []
          },
          "execution_count": 70
        }
      ]
    },
    {
      "cell_type": "code",
      "metadata": {
        "id": "1gFaPftvE_kg",
        "outputId": "fff173ef-eadc-42dd-97bf-e01e3fd6e69e",
        "colab": {
          "base_uri": "https://localhost:8080/",
          "height": 607
        }
      },
      "source": [
        "importances = pd.Series(opforest_model.feature_importances_, X_train.columns)\n",
        "\n",
        "%matplotlib inline\n",
        "\n",
        "\n",
        "n = 20\n",
        "plt.figure(figsize=(10,n/2))\n",
        "plt.title(f'Top {n} features')\n",
        "importances.sort_values()[-n:].plot.barh();"
      ],
      "execution_count": 71,
      "outputs": [
        {
          "output_type": "display_data",
          "data": {
            "image/png": "[encoded data removed]",
            "text/plain": [
              "<Figure size 720x720 with 1 Axes>"
            ]
          },
          "metadata": {
            "tags": [],
            "needs_background": "light"
          }
        }
      ]
    },
    {
      "cell_type": "code",
      "metadata": {
        "id": "gQ3PoiiZgozo",
        "colab": {
          "base_uri": "https://localhost:8080/",
          "height": 482
        },
        "outputId": "a53738cd-4f82-4b01-e4da-554861a6404a"
      },
      "source": [
        "from xgboost import XGBClassifier\n",
        "\n",
        "XG_model = XGBClassifier()\n",
        "XG_model.fit(X_train, y_train)\n",
        "\n",
        "y_pred = XG_model.predict(X_val)\n",
        "y_proba = XG_model.predict_proba(X_val)[:,1]\n",
        "\n",
        "eval(y_val, y_pred, y_proba)"
      ],
      "execution_count": 72,
      "outputs": [
        {
          "output_type": "stream",
          "text": [
            "              precision    recall  f1-score   support\n",
            "\n",
            "           0       0.71      0.66      0.68      1023\n",
            "           1       0.68      0.74      0.71      1027\n",
            "\n",
            "    accuracy                           0.70      2050\n",
            "   macro avg       0.70      0.70      0.70      2050\n",
            "weighted avg       0.70      0.70      0.70      2050\n",
            "\n",
            "정확도: 0.6976, 정밀도: 0.6842, 재현율: 0.7361, F1: 0.7092, AUC: 0.7716\n"
          ],
          "name": "stdout"
        },
        {
          "output_type": "display_data",
          "data": {
            "image/png": "[encoded data removed]",
            "text/plain": [
              "<Figure size 288x288 with 1 Axes>"
            ]
          },
          "metadata": {
            "tags": [],
            "needs_background": "light"
          }
        }
      ]
    },
    {
      "cell_type": "code",
      "metadata": {
        "id": "fycyLtTNfhU9",
        "colab": {
          "base_uri": "https://localhost:8080/"
        },
        "outputId": "42b6f276-8bd6-4ca7-a8f0-564551adc287"
      },
      "source": [
        "XGB_params ={'n_estimators':[10,50,100,200] ,\n",
        "            'criterion': ['gini', 'entropy'], \n",
        "            'max_depth':[5, 10, 20, 30, 50],\n",
        "            'learning_rate' : [0.01, 0.05 , 0.1, 0.2]\n",
        "                }\n",
        "\n",
        "grid_search_XGB = GridSearchCV(XG_model, XGB_params, cv =5, scoring='roc_auc')\n",
        "grid_search_XGB.fit(X_train, y_train)"
      ],
      "execution_count": null,
      "outputs": [
        {
          "output_type": "stream",
          "text": [
            "/usr/local/lib/python3.7/dist-packages/sklearn/model_selection/_validation.py:536: FitFailedWarning: Estimator fit failed. The score on this train-test partition for these parameters will be set to nan. Details: \n",
            "xgboost.core.XGBoostError: Invalid Parameter format for max_depth expect int but value='None'\n",
            "\n",
            "  FitFailedWarning)\n",
            "/usr/local/lib/python3.7/dist-packages/sklearn/model_selection/_validation.py:536: FitFailedWarning: Estimator fit failed. The score on this train-test partition for these parameters will be set to nan. Details: \n",
            "xgboost.core.XGBoostError: Invalid Parameter format for max_depth expect int but value='None'\n",
            "\n",
            "  FitFailedWarning)\n",
            "/usr/local/lib/python3.7/dist-packages/sklearn/model_selection/_validation.py:536: FitFailedWarning: Estimator fit failed. The score on this train-test partition for these parameters will be set to nan. Details: \n",
            "xgboost.core.XGBoostError: Invalid Parameter format for max_depth expect int but value='None'\n",
            "\n",
            "  FitFailedWarning)\n",
            "/usr/local/lib/python3.7/dist-packages/sklearn/model_selection/_validation.py:536: FitFailedWarning: Estimator fit failed. The score on this train-test partition for these parameters will be set to nan. Details: \n",
            "xgboost.core.XGBoostError: Invalid Parameter format for max_depth expect int but value='None'\n",
            "\n",
            "  FitFailedWarning)\n",
            "/usr/local/lib/python3.7/dist-packages/sklearn/model_selection/_validation.py:536: FitFailedWarning: Estimator fit failed. The score on this train-test partition for these parameters will be set to nan. Details: \n",
            "xgboost.core.XGBoostError: Invalid Parameter format for max_depth expect int but value='None'\n",
            "\n",
            "  FitFailedWarning)\n",
            "/usr/local/lib/python3.7/dist-packages/sklearn/model_selection/_validation.py:536: FitFailedWarning: Estimator fit failed. The score on this train-test partition for these parameters will be set to nan. Details: \n",
            "xgboost.core.XGBoostError: Invalid Parameter format for max_depth expect int but value='None'\n",
            "\n",
            "  FitFailedWarning)\n"
          ],
          "name": "stderr"
        },
        {
          "output_type": "execute_result",
          "data": {
            "text/plain": [
              "GridSearchCV(cv=5, error_score=nan,\n",
              "             estimator=XGBClassifier(base_score=0.5, booster='gbtree',\n",
              "                                     colsample_bylevel=1, colsample_bynode=1,\n",
              "                                     colsample_bytree=1, gamma=0,\n",
              "                                     learning_rate=0.1, max_delta_step=0,\n",
              "                                     max_depth=3, min_child_weight=1,\n",
              "                                     missing=None, n_estimators=100, n_jobs=1,\n",
              "                                     nthread=None, objective='binary:logistic',\n",
              "                                     random_state=0, reg_alpha=0, reg_lambda=1,\n",
              "                                     scale_pos_weight=1, seed=None, silent=None,\n",
              "                                     subsample=1, verbosity=1),\n",
              "             iid='deprecated', n_jobs=None,\n",
              "             param_grid={'criterion': ['gini', 'entropy'],\n",
              "                         'learning_rate': [0.05, 0.1, 0.2],\n",
              "                         'max_depth': [5, 10, 20, 30, 50, None],\n",
              "                         'n_estimators': [10, 50, 100, 200],\n",
              "                         'subsample': [0.7]},\n",
              "             pre_dispatch='2*n_jobs', refit=True, return_train_score=False,\n",
              "             scoring='roc_auc', verbose=0)"
            ]
          },
          "metadata": {
            "tags": []
          },
          "execution_count": 12
        }
      ]
    },
    {
      "cell_type": "code",
      "metadata": {
        "id": "IAId3oe3pQN6",
        "colab": {
          "base_uri": "https://localhost:8080/"
        },
        "outputId": "9e03e3c7-59ef-44a8-f866-1d2bf1131036"
      },
      "source": [
        "grid_search_XGB.best_estimator_"
      ],
      "execution_count": null,
      "outputs": [
        {
          "output_type": "execute_result",
          "data": {
            "text/plain": [
              "XGBClassifier(base_score=0.5, booster='gbtree', colsample_bylevel=1,\n",
              "              colsample_bynode=1, colsample_bytree=1, criterion='gini', gamma=0,\n",
              "              learning_rate=0.05, max_delta_step=0, max_depth=30,\n",
              "              min_child_weight=1, missing=None, n_estimators=200, n_jobs=1,\n",
              "              nthread=None, objective='binary:logistic', random_state=0,\n",
              "              reg_alpha=0, reg_lambda=1, scale_pos_weight=1, seed=None,\n",
              "              silent=None, subsample=0.7, verbosity=1)"
            ]
          },
          "metadata": {
            "tags": []
          },
          "execution_count": 13
        }
      ]
    },
    {
      "cell_type": "code",
      "metadata": {
        "id": "7fCJBMw3pVXw",
        "colab": {
          "base_uri": "https://localhost:8080/"
        },
        "outputId": "ceb63057-5cda-44e6-84dc-0a4e6a3dc4d4"
      },
      "source": [
        "grid_search_XGB.best_params_"
      ],
      "execution_count": null,
      "outputs": [
        {
          "output_type": "execute_result",
          "data": {
            "text/plain": [
              "{'criterion': 'gini',\n",
              " 'learning_rate': 0.05,\n",
              " 'max_depth': 30,\n",
              " 'n_estimators': 200,\n",
              " 'subsample': 0.7}"
            ]
          },
          "metadata": {
            "tags": []
          },
          "execution_count": 14
        }
      ]
    },
    {
      "cell_type": "code",
      "metadata": {
        "id": "TsKfCz4GpZDE",
        "colab": {
          "base_uri": "https://localhost:8080/"
        },
        "outputId": "e4107122-05a6-4f5a-f2a7-2cfbfe41ffe2"
      },
      "source": [
        "grid_search_XGB.best_score_"
      ],
      "execution_count": null,
      "outputs": [
        {
          "output_type": "execute_result",
          "data": {
            "text/plain": [
              "0.7014610183329114"
            ]
          },
          "metadata": {
            "tags": []
          },
          "execution_count": 15
        }
      ]
    },
    {
      "cell_type": "code",
      "metadata": {
        "id": "A0fDQkUKpkTM",
        "colab": {
          "base_uri": "https://localhost:8080/",
          "height": 482
        },
        "outputId": "7501428d-5cfe-449d-a2b7-2c907593e128"
      },
      "source": [
        "opXG_model = XGBClassifier(criterion = 'gini', learning_rate = 0.05, max_depth = 30, n_estimators = 200, subsample = 0.7)\n",
        "opXG_model.fit(X_train, y_train)\n",
        "\n",
        "y_pred = opXG_model.predict(X_val)\n",
        "y_proba = opXG_model.predict_proba(X_val)[:,1]\n",
        "\n",
        "eval(y_val, y_pred, y_proba)\n",
        "# 정확도: 0.6976, 정밀도: 0.6842, 재현율: 0.7361, F1: 0.7092, AUC: 0.7716 -> 전반적으로 개선이 됨"
      ],
      "execution_count": 73,
      "outputs": [
        {
          "output_type": "stream",
          "text": [
            "              precision    recall  f1-score   support\n",
            "\n",
            "           0       0.74      0.71      0.72      1023\n",
            "           1       0.72      0.75      0.74      1027\n",
            "\n",
            "    accuracy                           0.73      2050\n",
            "   macro avg       0.73      0.73      0.73      2050\n",
            "weighted avg       0.73      0.73      0.73      2050\n",
            "\n",
            "정확도: 0.7302, 정밀도: 0.7207, 재현율: 0.7537, F1: 0.7368, AUC: 0.8177\n"
          ],
          "name": "stdout"
        },
        {
          "output_type": "display_data",
          "data": {
            "image/png": "[encoded data removed]",
            "text/plain": [
              "<Figure size 288x288 with 1 Axes>"
            ]
          },
          "metadata": {
            "tags": [],
            "needs_background": "light"
          }
        }
      ]
    },
    {
      "cell_type": "code",
      "metadata": {
        "id": "IYTnJs1OEeJ7",
        "outputId": "0bc01490-b4ed-41ac-f392-f4548970538d",
        "colab": {
          "base_uri": "https://localhost:8080/"
        }
      },
      "source": [
        "permuter = PermutationImportance(\n",
        "    opXG_model, # model\n",
        "    scoring='accuracy', # metric\n",
        "    n_iter=5, # 다른 random seed를 사용하여 5번 반복\n",
        "    random_state=2\n",
        ")\n",
        "\n",
        "# 실제로 fit 의미보다는 스코어를 다시 계산하는 작업입니다\n",
        "permuter.fit(X_val, y_val)\n",
        "\n",
        "feature_names = X_val.columns.tolist()\n",
        "pd.Series(permuter.feature_importances_, feature_names).sort_values()"
      ],
      "execution_count": 74,
      "outputs": [
        {
          "output_type": "execute_result",
          "data": {
            "text/plain": [
              "Alpha1                  -0.005268\n",
              "ethnicity_Bengali       -0.003805\n",
              "ethnicity_English        0.000000\n",
              "gender_F                 0.000000\n",
              "Theta                    0.000488\n",
              "Raw                      0.001561\n",
              "Beta1                    0.005463\n",
              "Alpha2                   0.006341\n",
              "Mediation                0.009171\n",
              "Beta2                    0.018439\n",
              "gender_M                 0.019024\n",
              "ethnicity_Han Chinese    0.019220\n",
              "Delta                    0.027902\n",
              "Gamma1                   0.031707\n",
              "Gamma2                   0.045756\n",
              "predefinedlabel          0.057756\n",
              "Attention                0.060098\n",
              "age                      0.076195\n",
              "dtype: float64"
            ]
          },
          "metadata": {
            "tags": []
          },
          "execution_count": 74
        }
      ]
    },
    {
      "cell_type": "code",
      "metadata": {
        "id": "3UKV0v26IqwI",
        "outputId": "8199001d-aebb-4186-d496-fe153a02961e",
        "colab": {
          "base_uri": "https://localhost:8080/",
          "height": 607
        }
      },
      "source": [
        "importances = pd.Series(opXG_model.feature_importances_, X_train.columns)\n",
        "\n",
        "%matplotlib inline\n",
        "\n",
        "\n",
        "n = 20\n",
        "plt.figure(figsize=(10,n/2))\n",
        "plt.title(f'Top {n} features')\n",
        "importances.sort_values()[-n:].plot.barh();"
      ],
      "execution_count": 75,
      "outputs": [
        {
          "output_type": "display_data",
          "data": {
            "image/png": "[encoded data removed]",
            "text/plain": [
              "<Figure size 720x720 with 1 Axes>"
            ]
          },
          "metadata": {
            "tags": [],
            "needs_background": "light"
          }
        }
      ]
    },
    {
      "cell_type": "code",
      "metadata": {
        "id": "FAC4UGcbirMl",
        "colab": {
          "base_uri": "https://localhost:8080/",
          "height": 482
        },
        "outputId": "f5dafe9b-06b5-4081-9430-d2eca74691ef"
      },
      "source": [
        "from lightgbm import LGBMClassifier\n",
        "\n",
        "light_model = LGBMClassifier()\n",
        "light_model.fit(X_train, y_train)\n",
        "y_pred = light_model.predict(X_val)\n",
        "y_proba = light_model.predict_proba(X_val)[:,1]\n",
        "\n",
        "eval(y_val, y_pred, y_proba)"
      ],
      "execution_count": 76,
      "outputs": [
        {
          "output_type": "stream",
          "text": [
            "              precision    recall  f1-score   support\n",
            "\n",
            "           0       0.75      0.70      0.72      1023\n",
            "           1       0.72      0.76      0.74      1027\n",
            "\n",
            "    accuracy                           0.73      2050\n",
            "   macro avg       0.73      0.73      0.73      2050\n",
            "weighted avg       0.73      0.73      0.73      2050\n",
            "\n",
            "정확도: 0.7307, 정밀도: 0.7173, 재현율: 0.7634, F1: 0.7396, AUC: 0.7994\n"
          ],
          "name": "stdout"
        },
        {
          "output_type": "display_data",
          "data": {
            "image/png": "[encoded data removed]",
            "text/plain": [
              "<Figure size 288x288 with 1 Axes>"
            ]
          },
          "metadata": {
            "tags": [],
            "needs_background": "light"
          }
        }
      ]
    },
    {
      "cell_type": "code",
      "metadata": {
        "id": "o5z9JLnNjC89",
        "colab": {
          "base_uri": "https://localhost:8080/"
        },
        "outputId": "edccf5de-c8f6-4fb6-f0d3-61bce7905e31"
      },
      "source": [
        "light_params ={'n_estimators':[10,50,100,200],\n",
        "               'criterion': ['gini', 'entropy'], \n",
        "               'max_depth':[5, 10, 20, 30, 50],\n",
        "               'learning_rate' : [0.01, 0.05 , 0.1, 0.2]\n",
        "                }\n",
        "\n",
        "grid_search_light = GridSearchCV(light_model, light_params, cv =5, scoring='roc_auc')\n",
        "grid_search_light.fit(X_train, y_train)"
      ],
      "execution_count": null,
      "outputs": [
        {
          "output_type": "execute_result",
          "data": {
            "text/plain": [
              "GridSearchCV(cv=5, error_score=nan,\n",
              "             estimator=LGBMClassifier(boosting_type='gbdt', class_weight=None,\n",
              "                                      colsample_bytree=1.0,\n",
              "                                      importance_type='split',\n",
              "                                      learning_rate=0.1, max_depth=-1,\n",
              "                                      min_child_samples=20,\n",
              "                                      min_child_weight=0.001,\n",
              "                                      min_split_gain=0.0, n_estimators=100,\n",
              "                                      n_jobs=-1, num_leaves=31, objective=None,\n",
              "                                      random_state=None, reg_alpha=0.0,\n",
              "                                      reg_lambda=0.0, silent=True,\n",
              "                                      subsample=1.0, subsample_for_bin=200000,\n",
              "                                      subsample_freq=0),\n",
              "             iid='deprecated', n_jobs=None,\n",
              "             param_grid={'criterion': ['gini', 'entropy'],\n",
              "                         'learning_rate': [0.05, 0.1, 0.2],\n",
              "                         'max_depth': [5, 10, 20, 30, 50, None],\n",
              "                         'n_estimators': [10, 50, 100, 200]},\n",
              "             pre_dispatch='2*n_jobs', refit=True, return_train_score=False,\n",
              "             scoring='roc_auc', verbose=0)"
            ]
          },
          "metadata": {
            "tags": []
          },
          "execution_count": 17
        }
      ]
    },
    {
      "cell_type": "code",
      "metadata": {
        "id": "8XWIOjt9qRs1",
        "colab": {
          "base_uri": "https://localhost:8080/"
        },
        "outputId": "aaa30c7c-1e45-4103-8d42-e273b98605ff"
      },
      "source": [
        "grid_search_light.best_estimator_"
      ],
      "execution_count": null,
      "outputs": [
        {
          "output_type": "execute_result",
          "data": {
            "text/plain": [
              "LGBMClassifier(boosting_type='gbdt', class_weight=None, colsample_bytree=1.0,\n",
              "               criterion='gini', importance_type='split', learning_rate=0.05,\n",
              "               max_depth=10, min_child_samples=20, min_child_weight=0.001,\n",
              "               min_split_gain=0.0, n_estimators=200, n_jobs=-1, num_leaves=31,\n",
              "               objective=None, random_state=None, reg_alpha=0.0, reg_lambda=0.0,\n",
              "               silent=True, subsample=1.0, subsample_for_bin=200000,\n",
              "               subsample_freq=0)"
            ]
          },
          "metadata": {
            "tags": []
          },
          "execution_count": 18
        }
      ]
    },
    {
      "cell_type": "code",
      "metadata": {
        "id": "9X5EUKXKqWw9",
        "colab": {
          "base_uri": "https://localhost:8080/"
        },
        "outputId": "a75a4ca0-ce86-4b00-8c83-ca62058809a4"
      },
      "source": [
        "grid_search_light.best_params_"
      ],
      "execution_count": null,
      "outputs": [
        {
          "output_type": "execute_result",
          "data": {
            "text/plain": [
              "{'criterion': 'gini',\n",
              " 'learning_rate': 0.05,\n",
              " 'max_depth': 10,\n",
              " 'n_estimators': 200}"
            ]
          },
          "metadata": {
            "tags": []
          },
          "execution_count": 19
        }
      ]
    },
    {
      "cell_type": "code",
      "metadata": {
        "id": "I8l-B1bzqYla",
        "colab": {
          "base_uri": "https://localhost:8080/"
        },
        "outputId": "c5d9b21a-006f-452b-bc3b-7f0a8e71a079"
      },
      "source": [
        "grid_search_light.best_score_"
      ],
      "execution_count": null,
      "outputs": [
        {
          "output_type": "execute_result",
          "data": {
            "text/plain": [
              "0.6930215313077964"
            ]
          },
          "metadata": {
            "tags": []
          },
          "execution_count": 20
        }
      ]
    },
    {
      "cell_type": "code",
      "metadata": {
        "id": "ZTvkThDyqfPT",
        "colab": {
          "base_uri": "https://localhost:8080/",
          "height": 482
        },
        "outputId": "27033d7a-f05a-439f-87ea-e95b1762441d"
      },
      "source": [
        "oplight_model = LGBMClassifier(criterion = 'gini', learning_rate = 0.05, max_depth = 10, n_estimators = 200)\n",
        "oplight_model.fit(X_train, y_train)\n",
        "y_pred = oplight_model.predict(X_val)\n",
        "y_proba = oplight_model.predict_proba(X_val)[:,1]\n",
        "\n",
        "eval(y_val, y_pred, y_proba)\n",
        "\n",
        "#정확도: 0.7307, 정밀도: 0.7173, 재현율: 0.7634, F1: 0.7396, AUC: 0.7994 -> 크리티컬한 변화는 없었다."
      ],
      "execution_count": 77,
      "outputs": [
        {
          "output_type": "stream",
          "text": [
            "              precision    recall  f1-score   support\n",
            "\n",
            "           0       0.74      0.70      0.72      1023\n",
            "           1       0.72      0.76      0.74      1027\n",
            "\n",
            "    accuracy                           0.73      2050\n",
            "   macro avg       0.73      0.73      0.73      2050\n",
            "weighted avg       0.73      0.73      0.73      2050\n",
            "\n",
            "정확도: 0.7278, 정밀도: 0.7165, 재현율: 0.7556, F1: 0.7355, AUC: 0.8026\n"
          ],
          "name": "stdout"
        },
        {
          "output_type": "display_data",
          "data": {
            "image/png": "[encoded data removed]",
            "text/plain": [
              "<Figure size 288x288 with 1 Axes>"
            ]
          },
          "metadata": {
            "tags": [],
            "needs_background": "light"
          }
        }
      ]
    },
    {
      "cell_type": "code",
      "metadata": {
        "id": "81YSavWfEt4X",
        "outputId": "f8f2ea72-8b9c-4a86-d466-7ecd6bf136c8",
        "colab": {
          "base_uri": "https://localhost:8080/"
        }
      },
      "source": [
        "permuter = PermutationImportance(\n",
        "    oplight_model, # model\n",
        "    scoring='accuracy', # metric\n",
        "    n_iter=5, # 다른 random seed를 사용하여 5번 반복\n",
        "    random_state=2\n",
        ")\n",
        "\n",
        "# 실제로 fit 의미보다는 스코어를 다시 계산하는 작업입니다\n",
        "permuter.fit(X_val, y_val);\n",
        "\n",
        "feature_names = X_val.columns.tolist()\n",
        "pd.Series(permuter.feature_importances_, feature_names).sort_values()"
      ],
      "execution_count": 78,
      "outputs": [
        {
          "output_type": "execute_result",
          "data": {
            "text/plain": [
              "ethnicity_English        0.000098\n",
              "gender_F                 0.000390\n",
              "Theta                    0.000585\n",
              "ethnicity_Bengali        0.001268\n",
              "Alpha1                   0.001854\n",
              "Raw                      0.004293\n",
              "Beta1                    0.008878\n",
              "Alpha2                   0.010634\n",
              "Mediation                0.013659\n",
              "Beta2                    0.013756\n",
              "gender_M                 0.019220\n",
              "Gamma1                   0.025073\n",
              "ethnicity_Han Chinese    0.026829\n",
              "Delta                    0.037756\n",
              "Gamma2                   0.048780\n",
              "predefinedlabel          0.060390\n",
              "Attention                0.069659\n",
              "age                      0.084000\n",
              "dtype: float64"
            ]
          },
          "metadata": {
            "tags": []
          },
          "execution_count": 78
        }
      ]
    },
    {
      "cell_type": "code",
      "metadata": {
        "id": "Dt7xyE0qI7Vr",
        "outputId": "da7df129-6b4e-4680-dc6e-415fc08e1f9f",
        "colab": {
          "base_uri": "https://localhost:8080/",
          "height": 607
        }
      },
      "source": [
        "importances = pd.Series(opforest_model.feature_importances_, X_train.columns)\n",
        "\n",
        "%matplotlib inline\n",
        "\n",
        "\n",
        "n = 20\n",
        "plt.figure(figsize=(10,n/2))\n",
        "plt.title(f'Top {n} features')\n",
        "importances.sort_values()[-n:].plot.barh();"
      ],
      "execution_count": 79,
      "outputs": [
        {
          "output_type": "display_data",
          "data": {
            "image/png": "[encoded data removed]",
            "text/plain": [
              "<Figure size 720x720 with 1 Axes>"
            ]
          },
          "metadata": {
            "tags": [],
            "needs_background": "light"
          }
        }
      ]
    },
    {
      "cell_type": "markdown",
      "metadata": {
        "id": "QaLgmrxZjpNq"
      },
      "source": [
        "RandomForest, XGBoost, LGBM 3가지 머신러닝 모델에 대해 그리드서치 후 최적의 파라미터를 조정하였다. \n",
        "딥러닝 모델또한 적용해보고 결과를 비교 후 피쳐엔지니어링을 조금 더 생각해볼 것"
      ]
    },
    {
      "cell_type": "code",
      "metadata": {
        "id": "SJhZ3AAK_jCo"
      },
      "source": [
        "#DL modeling"
      ],
      "execution_count": null,
      "outputs": []
    },
    {
      "cell_type": "code",
      "metadata": {
        "id": "6X15J584-gJX"
      },
      "source": [
        "import tensorflow as tf\n",
        "from tensorflow import keras\n",
        "from keras.layers import Dense, Dropout\n",
        "from keras.models import Sequential\n",
        "from keras.callbacks import ModelCheckpoint,  EarlyStopping\n",
        "\n",
        "np.random.seed(3)\n",
        "tf.random.set_seed(3)\n",
        "\n",
        "#callback function\n",
        "save_best = ModelCheckpoint( filepath ='./result_model.h5', \n",
        "                            monitor = 'val_loss', \n",
        "                            save_best_only = True, \n",
        "                            save_weights_only=True,\n",
        "                            verbose = 1, \n",
        "                            mode='auto',\n",
        "                            save_freq = 'epoch'\n",
        "                            )\n",
        "\n",
        "early_stop = EarlyStopping(\n",
        "                            monitor = 'accuracy',\n",
        "                            patience = 20,\n",
        "                            restore_best_weights=True\n",
        "                )\n",
        "\n",
        "#make model\n",
        "model = Sequential([\n",
        "    Dense(32, activation = 'relu', input_shape = (12,)),\n",
        "    Dropout(0.3),\n",
        "    Dense(64, activation = 'relu'),\n",
        "    Dropout(0.3),\n",
        "    Dense(128, activation='relu'),\n",
        "    Dropout(0.3),\n",
        "    Dense(256, activation = 'relu'),\n",
        "    Dropout(0.3),\n",
        "    Dense(128, activation='relu'),\n",
        "    Dropout(0.3),\n",
        "    Dense(64, activation = 'relu'),\n",
        "    Dropout(0.5),\n",
        "    Dense(1, activation='sigmoid')\n",
        "]\n",
        ")\n",
        "\n",
        "\n",
        "model.compile(optimizer='adam' , loss='binary_crossentropy' ,metrics=['accuracy', 'AUC'])\n",
        "model.summary()"
      ],
      "execution_count": null,
      "outputs": []
    },
    {
      "cell_type": "code",
      "metadata": {
        "id": "wUEgJu09Hlyp"
      },
      "source": [
        "history = model.fit(X_train, y_train, validation_data=(X_val,y_val),verbose=2, epochs=200, batch_size=32, callbacks = [save_best,  early_stop])"
      ],
      "execution_count": null,
      "outputs": []
    },
    {
      "cell_type": "code",
      "metadata": {
        "id": "HfwFWO23ucIL",
        "colab": {
          "base_uri": "https://localhost:8080/",
          "height": 364
        },
        "outputId": "28c18bae-755e-4219-9edf-c0ed538e0d45"
      },
      "source": [
        "plt.figure(figsize = (20,5))\n",
        "plt.subplot(1,2,1)\n",
        "plt.plot(history.history['accuracy'])\n",
        "plt.plot(history.history['val_accuracy'])\n",
        "plt.title('Accuracy (training and validation) vs Epochs')\n",
        "plt.legend(['training accuracy' , 'validation accuracy'])\n",
        "plt.xlabel('Epochs')\n",
        "plt.ylabel('acccuracy')\n",
        "\n",
        "plt.subplot(1,2,2)\n",
        "plt.plot(history.history['loss'])\n",
        "plt.plot(history.history['val_loss'])\n",
        "plt.title('Loss (training and validation) vs Epochs')\n",
        "plt.legend(['training loss', 'validation loss'])\n",
        "plt.xlabel('Epochs')\n",
        "plt.ylabel('losses')"
      ],
      "execution_count": null,
      "outputs": [
        {
          "output_type": "execute_result",
          "data": {
            "text/plain": [
              "Text(0, 0.5, 'losses')"
            ]
          },
          "metadata": {
            "tags": []
          },
          "execution_count": 48
        },
        {
          "output_type": "display_data",
          "data": {
            "image/png": "[encoded data removed]",
            "text/plain": [
              "<Figure size 1440x360 with 2 Axes>"
            ]
          },
          "metadata": {
            "tags": [],
            "needs_background": "light"
          }
        }
      ]
    },
    {
      "cell_type": "code",
      "metadata": {
        "id": "Ug2Fzc3j3_Yk"
      },
      "source": [
        "y_true=np.array(y_val) # one dimension\n",
        "y_pred=np.squeeze(model.predict(X_val))#2dimension so write np.squeeze to amke it one dimension\n",
        "y_pred=np.array(y_pred>=0.5,dtype=np.int)"
      ],
      "execution_count": null,
      "outputs": []
    },
    {
      "cell_type": "code",
      "metadata": {
        "id": "rQJqDcj84NoV",
        "colab": {
          "base_uri": "https://localhost:8080/",
          "height": 295
        },
        "outputId": "76e5e90d-6f95-433a-fa30-b7f38a0459ff"
      },
      "source": [
        "from sklearn.metrics import confusion_matrix,classification_report\n",
        "\n",
        "y_true=np.array(y_val) # one dimension\n",
        "y_pred=np.squeeze(model.predict(X_val))#2dimension so write np.squeeze to amke it one dimension\n",
        "y_pred=np.array(y_pred>=0.5,dtype=np.int)\n",
        "\n",
        "\n",
        "\n",
        "cm = confusion_matrix(y_true, y_pred)\n",
        "\n",
        "plt.figure(figsize=(4, 4))\n",
        "\n",
        "sns.heatmap(cm, annot=True, fmt='g', vmin=0, cbar=False)\n",
        "\n",
        "plt.xlabel(\"Predicted\")\n",
        "plt.ylabel(\"Actual\")\n",
        "plt.title(\"Confusion Matrix\")\n",
        "\n",
        "plt.show()\n",
        "\n",
        "print(classification_report(y_true, y_pred))"
      ],
      "execution_count": null,
      "outputs": [
        {
          "output_type": "display_data",
          "data": {
            "image/png": "[encoded data removed]",
            "text/plain": [
              "<Figure size 288x288 with 1 Axes>"
            ]
          },
          "metadata": {
            "tags": [],
            "needs_background": "light"
          }
        }
      ]
    },
    {
      "cell_type": "code",
      "metadata": {
        "id": "reE5C6O74WJz",
        "colab": {
          "base_uri": "https://localhost:8080/"
        },
        "outputId": "f2c3fdba-b307-4c35-d8f5-abf94d196d75"
      },
      "source": [
        "print(classification_report(y_true, y_pred))"
      ],
      "execution_count": null,
      "outputs": [
        {
          "output_type": "stream",
          "text": [
            "              precision    recall  f1-score   support\n",
            "\n",
            "           0       0.61      0.74      0.67      1023\n",
            "           1       0.67      0.54      0.60      1027\n",
            "\n",
            "    accuracy                           0.64      2050\n",
            "   macro avg       0.64      0.64      0.63      2050\n",
            "weighted avg       0.64      0.64      0.63      2050\n",
            "\n"
          ],
          "name": "stdout"
        }
      ]
    }
  ]
}