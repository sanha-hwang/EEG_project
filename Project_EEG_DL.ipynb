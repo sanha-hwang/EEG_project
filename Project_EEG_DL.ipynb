{
  "nbformat": 4,
  "nbformat_minor": 0,
  "metadata": {
    "colab": {
      "name": "Project_EEG_DL",
      "provenance": [],
      "collapsed_sections": [],
      "include_colab_link": true
    },
    "kernelspec": {
      "display_name": "Python 3",
      "name": "python3"
    }
  },
  "cells": [
    {
      "cell_type": "markdown",
      "metadata": {
        "id": "view-in-github",
        "colab_type": "text"
      },
      "source": [
        "<a href=\"https://colab.research.google.com/github/sanha-hwang/EEG_project/blob/workspace/Project_EEG_DL.ipynb\" target=\"_parent\"><img src=\"https://colab.research.google.com/assets/colab-badge.svg\" alt=\"Open In Colab\"/></a>"
      ]
    },
    {
      "cell_type": "markdown",
      "metadata": {
        "id": "OfwiuHU8_NdF"
      },
      "source": [
        "<H1>Project : EEG signal 분석 </H1>\n",
        "\n",
        "[datasetLink](https://www.kaggle.com/wanghaohan/confused-eeg)\n",
        "\n",
        "1. EEG 신호란 electroencephalography의 약자이며 '뇌전도'라고 번역된다.  전극을 통해 뇌의 전기적인 활동을 기록하는 전기생리학적 측정방법을 말한다. 뇌의 활동은 뇌파라는 전기신호를 방출하게 되고 EEG을 통해 뇌파의 스펙트럼 밀도를 분석하게 된다.    \n",
        "\n",
        "2. 데이터는 10명의 대학생을 대상으로 여러 카테고리별로 10개씩 총 20개의 동영상을 시청하면서 전두엽의 활동을 측정하여, 혼란스러울 때의 뇌파상태와 평온할 때의 뇌파상태를 측정하였습니다. 동영상에는 혼란스럽지않을 기초대수학 또는 기하학을 소개하는 온라인 교육영상이 있으며, 반대로 익숙치 않으면 혼란스러울 양자역학, 줄기세포 연구 등 과 같은 주제의 교육영상이 있습니다. 동영상 길이는 약 2분이며, 영상을 조금 더 혼란스럽게 만들기 위해 주제 중간에 2분클립을 잘랐습니다.\n",
        "\n",
        "\n",
        "3. 학생들은 전두엽의 활동을 측정하는 단일 무선채널의 mindset을 착용하였으며, Mindset은 이마에 있는 전극과 귀에 각각 접촉하는 두 개의 전극 사이의 전압을 측정하였습니다.    \n",
        "\n",
        "4. 각 학생들은 세션이 끝난 후, 자신의 혼란 정도를 1-7의 척도로 평가하였으며, 1은 최저, 7은 최고 레벨입니다. 혼란정도는 정규화되어 labeling 되었다.\n",
        "\n",
        "5. column 분석\n",
        "  - 'SubjectID': 피실험자 ID\n",
        "  - ' age': 피실험자 나이\n",
        "  - ' ethnicity' :피실험자 민족\n",
        "  - ' gender': 피실험자 성별\n",
        "  -  'VideoID': 시청한 비디오영상번호\n",
        "  - 'Attention': 집중도 수치\n",
        "  - 'Mediation': 평온함 수치\n",
        "  - 'Raw': EEG 장비로 측정하여 나온 수치\n",
        "  - 'Delta': Raw를 가공하여 나온 1-3Hz Power Spectrum\n",
        "  - 'Theta': Raw를 가공하여 나온 4-7Hz Power Spectrum\n",
        "  - 'Alpha1': Raw를 가공하여 나온 Lower 8-11Hz Power Spectrum\n",
        "  - 'Alpha2': Raw를 가공하여 나온 High 8-11Hz Power Spectrum\n",
        "  - 'Beta1': Raw를 가공하여 나온 Lower 12-29Hz Power Spectrum\n",
        "  - 'Beta2': Raw를 가공하여 나온 High 12-29Hz Power Spectrum\n",
        "  - 'Gamma1': Raw를 가공하여 나온 Lower 30-100Hz Power Spectrum\n",
        "  - 'Gamma2': Raw를 가공하여 나온 High 30-100Hz Power Spectrum\n",
        "  - 'predefinedlabel': Subject의 expected confusion level\n",
        "  - 'user-definedlabeln': Subject의 actually confusion level\n",
        "\n",
        "6. Brain wave 정리   \n",
        "  - Delta wave: 깊은 수면을 취할 때, 약하게 깨어 있을 때 혹은 무의식 일 때의 뇌파, 잠잘 때 장기기억, 해마가 작용할 때나오는 뇌파    \n",
        "부족한 경우- 불면증,세타파가 나오게 되면 깊은 수면을 취할 수 없음, 과할 경우 - 늘 뇌가 피곤해 있고 무기력해질 우려가 있음\n",
        "\n",
        "  - Theta wave:  꾸벅꾸벅 조는 상태, - 여명상태, 내면의식, 기억력, 창의력, 명상, 퍼포먼스 ,신비하고 미묘한  것이어서 실험자들이 연구하기 어려웟음, 세타파에 있는 동안, 의식을 유지하기 어렵기 때문   \n",
        "부족한 경우- 창의력부족, 예민, 과할 경우- 안정성이 없음,늘 에너지가 없어보임\n",
        "\n",
        "  - Alpha wave : 눈을 감고 편안한 상태, 집중하지 않은 상태일 때, 뇌파활동은 느려짐, 아주 편안하게 이완되고 정신적으로 집중되지 않는 상태, 알파상태에는 두뇌의 '중립' 또는 한가한 상태처럼 보이나, 건강하고 스트레스에 지배받지 않는 사람들은 많은 양의 알파파를 만들어냄,\n",
        "알파파의 결핍: 불안, 스트레스, 뇌 활성 저하, 과도한 의식활동(산만함)에 노출, 이완능력, 에너지, 기억력, 창의력 강화훈련 필요\n",
        "SM알파파: 알파파 끝부분, 생리적으로 이완 상태, 의식적으로 각성된 상태, 면역력이나 스트레스에 대한 저항능력\n",
        "각성능력을 보여주는 지표, 두뇌활동에 가장 중심적 뇌파\n",
        "오감에서 들어오는 외부의 감각센서와 운동능력    \n",
        "부족한 경우-긴장과 불안에 매일 수 있음, 과한경우-급한 것이 없음, 일처리에 맺고 끊는 맛이 없음\n",
        "\n",
        "  - Beta wave: 일반적으로 외부세계에 꺠어 있을 때, 눈을 뜨고 집중하는 상태, 구체적이고특별한 문제를 다루고 있을 때, 상대방이 어떻게 나올지 집중하는 상태\n",
        "특히 14-40, 두뇌에서 가장 지배적이고 강력하게 활동, 민첩성, 각성 ,집중, 인식력과 관련, 과도할 경우 불안 유발   \n",
        "부족한 경우-매사에 의욕이 없음, 과한 경우- 산만한 활동, 행동의 자제가 되지 않아 함부로 행동\n",
        "\n",
        "\n",
        "\n",
        "\n",
        "\n"
      ]
    },
    {
      "cell_type": "markdown",
      "metadata": {
        "id": "uy7X76B-QT2_"
      },
      "source": [
        ""
      ]
    },
    {
      "cell_type": "code",
      "metadata": {
        "id": "2VxIQhjjtRh_",
        "colab": {
          "base_uri": "https://localhost:8080/"
        },
        "outputId": "50ffbfc4-c9f2-4658-dc96-740be5982327"
      },
      "source": [
        "!pip install eli5\n",
        "!pip install category_encoders"
      ],
      "execution_count": 1,
      "outputs": [
        {
          "output_type": "stream",
          "text": [
            "Collecting eli5\n",
            "  Downloading eli5-0.11.0-py2.py3-none-any.whl (106 kB)\n",
            "\u001b[?25l\r\u001b[K     |███                             | 10 kB 24.4 MB/s eta 0:00:01\r\u001b[K     |██████▏                         | 20 kB 31.3 MB/s eta 0:00:01\r\u001b[K     |█████████▎                      | 30 kB 15.4 MB/s eta 0:00:01\r\u001b[K     |████████████▍                   | 40 kB 11.5 MB/s eta 0:00:01\r\u001b[K     |███████████████▌                | 51 kB 6.8 MB/s eta 0:00:01\r\u001b[K     |██████████████████▌             | 61 kB 7.2 MB/s eta 0:00:01\r\u001b[K     |█████████████████████▋          | 71 kB 6.6 MB/s eta 0:00:01\r\u001b[K     |████████████████████████▊       | 81 kB 7.4 MB/s eta 0:00:01\r\u001b[K     |███████████████████████████▉    | 92 kB 8.2 MB/s eta 0:00:01\r\u001b[K     |███████████████████████████████ | 102 kB 6.8 MB/s eta 0:00:01\r\u001b[K     |████████████████████████████████| 106 kB 6.8 MB/s \n",
            "\u001b[?25hRequirement already satisfied: six in /usr/local/lib/python3.7/dist-packages (from eli5) (1.15.0)\n",
            "Requirement already satisfied: attrs>16.0.0 in /usr/local/lib/python3.7/dist-packages (from eli5) (21.2.0)\n",
            "Requirement already satisfied: jinja2 in /usr/local/lib/python3.7/dist-packages (from eli5) (2.11.3)\n",
            "Requirement already satisfied: scipy in /usr/local/lib/python3.7/dist-packages (from eli5) (1.4.1)\n",
            "Requirement already satisfied: scikit-learn>=0.20 in /usr/local/lib/python3.7/dist-packages (from eli5) (0.22.2.post1)\n",
            "Requirement already satisfied: graphviz in /usr/local/lib/python3.7/dist-packages (from eli5) (0.10.1)\n",
            "Requirement already satisfied: tabulate>=0.7.7 in /usr/local/lib/python3.7/dist-packages (from eli5) (0.8.9)\n",
            "Requirement already satisfied: numpy>=1.9.0 in /usr/local/lib/python3.7/dist-packages (from eli5) (1.19.5)\n",
            "Requirement already satisfied: joblib>=0.11 in /usr/local/lib/python3.7/dist-packages (from scikit-learn>=0.20->eli5) (1.0.1)\n",
            "Requirement already satisfied: MarkupSafe>=0.23 in /usr/local/lib/python3.7/dist-packages (from jinja2->eli5) (2.0.1)\n",
            "Installing collected packages: eli5\n",
            "Successfully installed eli5-0.11.0\n",
            "Collecting category_encoders\n",
            "  Downloading category_encoders-2.2.2-py2.py3-none-any.whl (80 kB)\n",
            "\u001b[K     |████████████████████████████████| 80 kB 2.7 MB/s \n",
            "\u001b[?25hRequirement already satisfied: numpy>=1.14.0 in /usr/local/lib/python3.7/dist-packages (from category_encoders) (1.19.5)\n",
            "Requirement already satisfied: scipy>=1.0.0 in /usr/local/lib/python3.7/dist-packages (from category_encoders) (1.4.1)\n",
            "Requirement already satisfied: patsy>=0.5.1 in /usr/local/lib/python3.7/dist-packages (from category_encoders) (0.5.1)\n",
            "Requirement already satisfied: pandas>=0.21.1 in /usr/local/lib/python3.7/dist-packages (from category_encoders) (1.1.5)\n",
            "Requirement already satisfied: statsmodels>=0.9.0 in /usr/local/lib/python3.7/dist-packages (from category_encoders) (0.10.2)\n",
            "Requirement already satisfied: scikit-learn>=0.20.0 in /usr/local/lib/python3.7/dist-packages (from category_encoders) (0.22.2.post1)\n",
            "Requirement already satisfied: python-dateutil>=2.7.3 in /usr/local/lib/python3.7/dist-packages (from pandas>=0.21.1->category_encoders) (2.8.1)\n",
            "Requirement already satisfied: pytz>=2017.2 in /usr/local/lib/python3.7/dist-packages (from pandas>=0.21.1->category_encoders) (2018.9)\n",
            "Requirement already satisfied: six in /usr/local/lib/python3.7/dist-packages (from patsy>=0.5.1->category_encoders) (1.15.0)\n",
            "Requirement already satisfied: joblib>=0.11 in /usr/local/lib/python3.7/dist-packages (from scikit-learn>=0.20.0->category_encoders) (1.0.1)\n",
            "Installing collected packages: category-encoders\n",
            "Successfully installed category-encoders-2.2.2\n"
          ],
          "name": "stdout"
        }
      ]
    },
    {
      "cell_type": "code",
      "metadata": {
        "id": "p2gMZTla2KHn",
        "colab": {
          "base_uri": "https://localhost:8080/"
        },
        "outputId": "7fa9a657-af75-4efd-fdcf-f7f8cf5c3352"
      },
      "source": [
        "from google.colab import drive\n",
        "drive.mount('/content/drive')"
      ],
      "execution_count": 2,
      "outputs": [
        {
          "output_type": "stream",
          "text": [
            "Mounted at /content/drive\n"
          ],
          "name": "stdout"
        }
      ]
    },
    {
      "cell_type": "code",
      "metadata": {
        "id": "BXRC2qyx2Xp7"
      },
      "source": [
        "import pandas as pd\n",
        "import numpy as np\n",
        "\n",
        "import matplotlib.pyplot as plt\n",
        "import seaborn as sns\n",
        "\n",
        "EEG_data = pd.read_csv(\"/content/drive/MyDrive/EEG_data.csv\") # EEG 데이터 불러오기\n",
        "person_info = pd.read_csv(\"/content/drive/MyDrive/demographic_info.csv\") #실험군 데이터"
      ],
      "execution_count": 3,
      "outputs": []
    },
    {
      "cell_type": "code",
      "metadata": {
        "id": "ljvaZNYWH6cN"
      },
      "source": [
        "# data정리\n",
        "EEG_data[['SubjectID','VideoID', 'user-definedlabeln']] = EEG_data[['SubjectID','VideoID', 'user-definedlabeln']].astype(int)\n",
        "person_info.rename(columns={'subject ID':'SubjectID'}, inplace= True)\n",
        "data = person_info.merge(EEG_data,on ='SubjectID')\n",
        "data.rename(columns={' age':'age'}, inplace= True)\n",
        "data.rename(columns={' ethnicity':'ethnicity'}, inplace= True)\n",
        "data.rename(columns={' gender':'gender'}, inplace= True)\n",
        "data.rename(columns={'user-definedlabeln':'Label'}, inplace= True)\n"
      ],
      "execution_count": 4,
      "outputs": []
    },
    {
      "cell_type": "code",
      "metadata": {
        "id": "kf9D0V_0UHdm",
        "colab": {
          "base_uri": "https://localhost:8080/"
        },
        "outputId": "ae699f91-5851-4c23-92b5-6d991e432f8b"
      },
      "source": [
        "data.columns"
      ],
      "execution_count": 5,
      "outputs": [
        {
          "output_type": "execute_result",
          "data": {
            "text/plain": [
              "Index(['SubjectID', 'age', 'ethnicity', 'gender', 'VideoID', 'Attention',\n",
              "       'Mediation', 'Raw', 'Delta', 'Theta', 'Alpha1', 'Alpha2', 'Beta1',\n",
              "       'Beta2', 'Gamma1', 'Gamma2', 'predefinedlabel', 'Label'],\n",
              "      dtype='object')"
            ]
          },
          "metadata": {
            "tags": []
          },
          "execution_count": 5
        }
      ]
    },
    {
      "cell_type": "code",
      "metadata": {
        "id": "IqjpCYz2TCn6"
      },
      "source": [
        "# EDA\n",
        "data.drop(columns=['SubjectID', 'age', 'ethnicity', 'VideoID', 'Raw','predefinedlabel', 'VideoID'], inplace=True)\n"
      ],
      "execution_count": 6,
      "outputs": []
    },
    {
      "cell_type": "code",
      "metadata": {
        "id": "CxLnqNoQVKBB",
        "colab": {
          "base_uri": "https://localhost:8080/",
          "height": 423
        },
        "outputId": "1cb1856d-ff0f-454e-9f13-40935563f243"
      },
      "source": [
        "data"
      ],
      "execution_count": 7,
      "outputs": [
        {
          "output_type": "execute_result",
          "data": {
            "text/html": [
              "<div>\n",
              "<style scoped>\n",
              "    .dataframe tbody tr th:only-of-type {\n",
              "        vertical-align: middle;\n",
              "    }\n",
              "\n",
              "    .dataframe tbody tr th {\n",
              "        vertical-align: top;\n",
              "    }\n",
              "\n",
              "    .dataframe thead th {\n",
              "        text-align: right;\n",
              "    }\n",
              "</style>\n",
              "<table border=\"1\" class=\"dataframe\">\n",
              "  <thead>\n",
              "    <tr style=\"text-align: right;\">\n",
              "      <th></th>\n",
              "      <th>gender</th>\n",
              "      <th>Attention</th>\n",
              "      <th>Mediation</th>\n",
              "      <th>Delta</th>\n",
              "      <th>Theta</th>\n",
              "      <th>Alpha1</th>\n",
              "      <th>Alpha2</th>\n",
              "      <th>Beta1</th>\n",
              "      <th>Beta2</th>\n",
              "      <th>Gamma1</th>\n",
              "      <th>Gamma2</th>\n",
              "      <th>Label</th>\n",
              "    </tr>\n",
              "  </thead>\n",
              "  <tbody>\n",
              "    <tr>\n",
              "      <th>0</th>\n",
              "      <td>M</td>\n",
              "      <td>56.0</td>\n",
              "      <td>43.0</td>\n",
              "      <td>301963.0</td>\n",
              "      <td>90612.0</td>\n",
              "      <td>33735.0</td>\n",
              "      <td>23991.0</td>\n",
              "      <td>27946.0</td>\n",
              "      <td>45097.0</td>\n",
              "      <td>33228.0</td>\n",
              "      <td>8293.0</td>\n",
              "      <td>0</td>\n",
              "    </tr>\n",
              "    <tr>\n",
              "      <th>1</th>\n",
              "      <td>M</td>\n",
              "      <td>40.0</td>\n",
              "      <td>35.0</td>\n",
              "      <td>73787.0</td>\n",
              "      <td>28083.0</td>\n",
              "      <td>1439.0</td>\n",
              "      <td>2240.0</td>\n",
              "      <td>2746.0</td>\n",
              "      <td>3687.0</td>\n",
              "      <td>5293.0</td>\n",
              "      <td>2740.0</td>\n",
              "      <td>0</td>\n",
              "    </tr>\n",
              "    <tr>\n",
              "      <th>2</th>\n",
              "      <td>M</td>\n",
              "      <td>47.0</td>\n",
              "      <td>48.0</td>\n",
              "      <td>758353.0</td>\n",
              "      <td>383745.0</td>\n",
              "      <td>201999.0</td>\n",
              "      <td>62107.0</td>\n",
              "      <td>36293.0</td>\n",
              "      <td>130536.0</td>\n",
              "      <td>57243.0</td>\n",
              "      <td>25354.0</td>\n",
              "      <td>0</td>\n",
              "    </tr>\n",
              "    <tr>\n",
              "      <th>3</th>\n",
              "      <td>M</td>\n",
              "      <td>47.0</td>\n",
              "      <td>57.0</td>\n",
              "      <td>2012240.0</td>\n",
              "      <td>129350.0</td>\n",
              "      <td>61236.0</td>\n",
              "      <td>17084.0</td>\n",
              "      <td>11488.0</td>\n",
              "      <td>62462.0</td>\n",
              "      <td>49960.0</td>\n",
              "      <td>33932.0</td>\n",
              "      <td>0</td>\n",
              "    </tr>\n",
              "    <tr>\n",
              "      <th>4</th>\n",
              "      <td>M</td>\n",
              "      <td>44.0</td>\n",
              "      <td>53.0</td>\n",
              "      <td>1005145.0</td>\n",
              "      <td>354328.0</td>\n",
              "      <td>37102.0</td>\n",
              "      <td>88881.0</td>\n",
              "      <td>45307.0</td>\n",
              "      <td>99603.0</td>\n",
              "      <td>44790.0</td>\n",
              "      <td>29749.0</td>\n",
              "      <td>0</td>\n",
              "    </tr>\n",
              "    <tr>\n",
              "      <th>...</th>\n",
              "      <td>...</td>\n",
              "      <td>...</td>\n",
              "      <td>...</td>\n",
              "      <td>...</td>\n",
              "      <td>...</td>\n",
              "      <td>...</td>\n",
              "      <td>...</td>\n",
              "      <td>...</td>\n",
              "      <td>...</td>\n",
              "      <td>...</td>\n",
              "      <td>...</td>\n",
              "      <td>...</td>\n",
              "    </tr>\n",
              "    <tr>\n",
              "      <th>12806</th>\n",
              "      <td>F</td>\n",
              "      <td>64.0</td>\n",
              "      <td>38.0</td>\n",
              "      <td>127574.0</td>\n",
              "      <td>9951.0</td>\n",
              "      <td>709.0</td>\n",
              "      <td>21732.0</td>\n",
              "      <td>3872.0</td>\n",
              "      <td>39728.0</td>\n",
              "      <td>2598.0</td>\n",
              "      <td>960.0</td>\n",
              "      <td>0</td>\n",
              "    </tr>\n",
              "    <tr>\n",
              "      <th>12807</th>\n",
              "      <td>F</td>\n",
              "      <td>61.0</td>\n",
              "      <td>35.0</td>\n",
              "      <td>323061.0</td>\n",
              "      <td>797464.0</td>\n",
              "      <td>153171.0</td>\n",
              "      <td>145805.0</td>\n",
              "      <td>39829.0</td>\n",
              "      <td>571280.0</td>\n",
              "      <td>36574.0</td>\n",
              "      <td>10010.0</td>\n",
              "      <td>0</td>\n",
              "    </tr>\n",
              "    <tr>\n",
              "      <th>12808</th>\n",
              "      <td>F</td>\n",
              "      <td>60.0</td>\n",
              "      <td>29.0</td>\n",
              "      <td>680989.0</td>\n",
              "      <td>154296.0</td>\n",
              "      <td>40068.0</td>\n",
              "      <td>39122.0</td>\n",
              "      <td>10966.0</td>\n",
              "      <td>26975.0</td>\n",
              "      <td>20427.0</td>\n",
              "      <td>2024.0</td>\n",
              "      <td>0</td>\n",
              "    </tr>\n",
              "    <tr>\n",
              "      <th>12809</th>\n",
              "      <td>F</td>\n",
              "      <td>60.0</td>\n",
              "      <td>29.0</td>\n",
              "      <td>366269.0</td>\n",
              "      <td>27346.0</td>\n",
              "      <td>11444.0</td>\n",
              "      <td>9932.0</td>\n",
              "      <td>1939.0</td>\n",
              "      <td>3283.0</td>\n",
              "      <td>12323.0</td>\n",
              "      <td>1764.0</td>\n",
              "      <td>0</td>\n",
              "    </tr>\n",
              "    <tr>\n",
              "      <th>12810</th>\n",
              "      <td>F</td>\n",
              "      <td>64.0</td>\n",
              "      <td>29.0</td>\n",
              "      <td>1164555.0</td>\n",
              "      <td>1184366.0</td>\n",
              "      <td>50014.0</td>\n",
              "      <td>124208.0</td>\n",
              "      <td>10634.0</td>\n",
              "      <td>445383.0</td>\n",
              "      <td>22133.0</td>\n",
              "      <td>4482.0</td>\n",
              "      <td>0</td>\n",
              "    </tr>\n",
              "  </tbody>\n",
              "</table>\n",
              "<p>12811 rows × 12 columns</p>\n",
              "</div>"
            ],
            "text/plain": [
              "      gender  Attention  Mediation  ...   Gamma1   Gamma2  Label\n",
              "0          M       56.0       43.0  ...  33228.0   8293.0      0\n",
              "1          M       40.0       35.0  ...   5293.0   2740.0      0\n",
              "2          M       47.0       48.0  ...  57243.0  25354.0      0\n",
              "3          M       47.0       57.0  ...  49960.0  33932.0      0\n",
              "4          M       44.0       53.0  ...  44790.0  29749.0      0\n",
              "...      ...        ...        ...  ...      ...      ...    ...\n",
              "12806      F       64.0       38.0  ...   2598.0    960.0      0\n",
              "12807      F       61.0       35.0  ...  36574.0  10010.0      0\n",
              "12808      F       60.0       29.0  ...  20427.0   2024.0      0\n",
              "12809      F       60.0       29.0  ...  12323.0   1764.0      0\n",
              "12810      F       64.0       29.0  ...  22133.0   4482.0      0\n",
              "\n",
              "[12811 rows x 12 columns]"
            ]
          },
          "metadata": {
            "tags": []
          },
          "execution_count": 7
        }
      ]
    },
    {
      "cell_type": "code",
      "metadata": {
        "id": "fbBtg9K-XPRu"
      },
      "source": [
        "#혹시 모르니 깊은 복사로 진행\n",
        "y = data['Label'].copy()\n",
        "X = data.drop('Label', axis=1).copy()"
      ],
      "execution_count": 23,
      "outputs": []
    },
    {
      "cell_type": "code",
      "metadata": {
        "id": "B6GK4UkaVnPi",
        "outputId": "85862d3b-e56a-4aa7-8279-8e56877d53dc",
        "colab": {
          "base_uri": "https://localhost:8080/"
        }
      },
      "source": [
        "X.dtypes"
      ],
      "execution_count": 9,
      "outputs": [
        {
          "output_type": "execute_result",
          "data": {
            "text/plain": [
              "gender        object\n",
              "Attention    float64\n",
              "Mediation    float64\n",
              "Delta        float64\n",
              "Theta        float64\n",
              "Alpha1       float64\n",
              "Alpha2       float64\n",
              "Beta1        float64\n",
              "Beta2        float64\n",
              "Gamma1       float64\n",
              "Gamma2       float64\n",
              "dtype: object"
            ]
          },
          "metadata": {
            "tags": []
          },
          "execution_count": 9
        }
      ]
    },
    {
      "cell_type": "code",
      "metadata": {
        "id": "Kwc-jzBMeGK0",
        "colab": {
          "base_uri": "https://localhost:8080/"
        },
        "outputId": "5bc11ece-81a6-467b-ae5e-d563bb00d016"
      },
      "source": [
        "from category_encoders import OneHotEncoder\n",
        "from sklearn.pipeline import make_pipeline\n",
        "from sklearn.compose import make_column_transformer\n",
        "from sklearn.preprocessing import MinMaxScaler, StandardScaler\n",
        "\n",
        "#OneHotencoding, MinMaxscaler\n",
        "pipe = make_pipeline (\n",
        "    OneHotEncoder(use_cat_names=True),\n",
        "    StandardScaler() #MinMaxScaler()\n",
        ")\n",
        "\n",
        "X = pipe.fit_transform(X)"
      ],
      "execution_count": 24,
      "outputs": [
        {
          "output_type": "stream",
          "text": [
            "/usr/local/lib/python3.7/dist-packages/category_encoders/utils.py:21: FutureWarning: is_categorical is deprecated and will be removed in a future version.  Use is_categorical_dtype instead\n",
            "  elif pd.api.types.is_categorical(cols):\n"
          ],
          "name": "stderr"
        }
      ]
    },
    {
      "cell_type": "code",
      "metadata": {
        "id": "GdCccpSQWX_e",
        "outputId": "29de1f46-e60e-4849-920f-71cf92c2b924",
        "colab": {
          "base_uri": "https://localhost:8080/"
        }
      },
      "source": [
        "X.shape"
      ],
      "execution_count": 25,
      "outputs": [
        {
          "output_type": "execute_result",
          "data": {
            "text/plain": [
              "(12811, 12)"
            ]
          },
          "metadata": {
            "tags": []
          },
          "execution_count": 25
        }
      ]
    },
    {
      "cell_type": "code",
      "metadata": {
        "id": "8JEhD6NtV4bx"
      },
      "source": [
        "from sklearn.model_selection import train_test_split\n",
        "X_train, X_test, y_train, y_test = train_test_split(X, y, test_size= 0.2, random_state=42)\n",
        "X_train, X_val, y_train, y_val = train_test_split(X_train, y_train, test_size=0.2, random_state= 42)\n"
      ],
      "execution_count": 26,
      "outputs": []
    },
    {
      "cell_type": "code",
      "metadata": {
        "id": "6X15J584-gJX",
        "colab": {
          "base_uri": "https://localhost:8080/"
        },
        "outputId": "803043a0-a1cd-4bdb-dd5d-bef7695b90ca"
      },
      "source": [
        "import tensorflow as tf\n",
        "from tensorflow import keras\n",
        "from keras.layers import Dense, Dropout\n",
        "from keras.models import Sequential\n",
        "\n",
        "from keras.callbacks import ModelCheckpoint\n",
        "from keras.callbacks import ReduceLROnPlateau\n",
        "from keras.callbacks import EarlyStopping\n",
        "\n",
        "np.random.seed(3)\n",
        "tf.random.set_seed(3)\n",
        "\n",
        "\n",
        "#callbackfunction\n",
        "# reduced = ReduceLROnPlateau(monitor = 'val_loss', \n",
        "#                            patience = 10, \n",
        "#                            factor=0.9,\n",
        "#                            verbose = 1)\n",
        "\n",
        "save_best = ModelCheckpoint( filepath ='./result_model.h5', \n",
        "                            monitor = 'val_loss', \n",
        "                            save_best_only = True, \n",
        "                            save_weights_only=True,\n",
        "                            verbose = 1, \n",
        "                            mode='auto',\n",
        "                            save_freq = 'epoch'\n",
        "                            )\n",
        "\n",
        "early_stop = EarlyStopping(\n",
        "                            monitor = 'accuracy',\n",
        "                            patience = 20,\n",
        "                            restore_best_weights=True\n",
        "                )\n",
        "\n",
        "#make model\n",
        "model = Sequential([\n",
        "    Dense(32, activation = 'relu', input_shape = (12,)),\n",
        "    Dropout(0.3),\n",
        "    Dense(64, activation = 'relu'),\n",
        "    Dropout(0.3),\n",
        "    Dense(128, activation='relu'),\n",
        "    Dropout(0.3),\n",
        "    Dense(256, activation = 'relu'),\n",
        "    Dropout(0.3),\n",
        "    Dense(128, activation='relu'),\n",
        "    Dropout(0.3),\n",
        "    Dense(64, activation = 'relu'),\n",
        "    Dropout(0.5),\n",
        "    Dense(1, activation='sigmoid')\n",
        "]\n",
        ")\n",
        "\n",
        "\n",
        "model.compile(optimizer='adam' , loss='binary_crossentropy' ,metrics=['accuracy', 'AUC'])\n",
        "model.summary()"
      ],
      "execution_count": 46,
      "outputs": [
        {
          "output_type": "stream",
          "text": [
            "Model: \"sequential_11\"\n",
            "_________________________________________________________________\n",
            "Layer (type)                 Output Shape              Param #   \n",
            "=================================================================\n",
            "dense_45 (Dense)             (None, 32)                416       \n",
            "_________________________________________________________________\n",
            "dropout_26 (Dropout)         (None, 32)                0         \n",
            "_________________________________________________________________\n",
            "dense_46 (Dense)             (None, 64)                2112      \n",
            "_________________________________________________________________\n",
            "dropout_27 (Dropout)         (None, 64)                0         \n",
            "_________________________________________________________________\n",
            "dense_47 (Dense)             (None, 128)               8320      \n",
            "_________________________________________________________________\n",
            "dropout_28 (Dropout)         (None, 128)               0         \n",
            "_________________________________________________________________\n",
            "dense_48 (Dense)             (None, 256)               33024     \n",
            "_________________________________________________________________\n",
            "dropout_29 (Dropout)         (None, 256)               0         \n",
            "_________________________________________________________________\n",
            "dense_49 (Dense)             (None, 128)               32896     \n",
            "_________________________________________________________________\n",
            "dropout_30 (Dropout)         (None, 128)               0         \n",
            "_________________________________________________________________\n",
            "dense_50 (Dense)             (None, 64)                8256      \n",
            "_________________________________________________________________\n",
            "dropout_31 (Dropout)         (None, 64)                0         \n",
            "_________________________________________________________________\n",
            "dense_51 (Dense)             (None, 1)                 65        \n",
            "=================================================================\n",
            "Total params: 85,089\n",
            "Trainable params: 85,089\n",
            "Non-trainable params: 0\n",
            "_________________________________________________________________\n"
          ],
          "name": "stdout"
        }
      ]
    },
    {
      "cell_type": "code",
      "metadata": {
        "id": "wUEgJu09Hlyp",
        "colab": {
          "base_uri": "https://localhost:8080/"
        },
        "outputId": "0f6b463b-c7d6-4001-d1a7-5f4eceab6709"
      },
      "source": [
        "history = model.fit(X_train, y_train, validation_data=(X_val,y_val),verbose=2, epochs=200, batch_size=32, callbacks = [save_best,  early_stop])"
      ],
      "execution_count": 47,
      "outputs": [
        {
          "output_type": "stream",
          "text": [
            "Epoch 1/200\n",
            "257/257 - 3s - loss: 0.6889 - accuracy: 0.5400 - auc: 0.5520 - val_loss: 0.6726 - val_accuracy: 0.6117 - val_auc: 0.6333\n",
            "\n",
            "Epoch 00001: val_loss improved from inf to 0.67260, saving model to ./result_model.h5\n",
            "Epoch 2/200\n",
            "257/257 - 1s - loss: 0.6814 - accuracy: 0.5765 - auc: 0.5960 - val_loss: 0.6691 - val_accuracy: 0.6161 - val_auc: 0.6389\n",
            "\n",
            "Epoch 00002: val_loss improved from 0.67260 to 0.66905, saving model to ./result_model.h5\n",
            "Epoch 3/200\n",
            "257/257 - 1s - loss: 0.6721 - accuracy: 0.5936 - auc: 0.6212 - val_loss: 0.6681 - val_accuracy: 0.6024 - val_auc: 0.6405\n",
            "\n",
            "Epoch 00003: val_loss improved from 0.66905 to 0.66809, saving model to ./result_model.h5\n",
            "Epoch 4/200\n",
            "257/257 - 1s - loss: 0.6710 - accuracy: 0.5982 - auc: 0.6267 - val_loss: 0.6624 - val_accuracy: 0.6156 - val_auc: 0.6441\n",
            "\n",
            "Epoch 00004: val_loss improved from 0.66809 to 0.66243, saving model to ./result_model.h5\n",
            "Epoch 5/200\n",
            "257/257 - 1s - loss: 0.6708 - accuracy: 0.5939 - auc: 0.6233 - val_loss: 0.6640 - val_accuracy: 0.6220 - val_auc: 0.6488\n",
            "\n",
            "Epoch 00005: val_loss did not improve from 0.66243\n",
            "Epoch 6/200\n",
            "257/257 - 1s - loss: 0.6686 - accuracy: 0.5993 - auc: 0.6246 - val_loss: 0.6577 - val_accuracy: 0.6283 - val_auc: 0.6496\n",
            "\n",
            "Epoch 00006: val_loss improved from 0.66243 to 0.65772, saving model to ./result_model.h5\n",
            "Epoch 7/200\n",
            "257/257 - 1s - loss: 0.6656 - accuracy: 0.6132 - auc: 0.6363 - val_loss: 0.6577 - val_accuracy: 0.6229 - val_auc: 0.6529\n",
            "\n",
            "Epoch 00007: val_loss improved from 0.65772 to 0.65766, saving model to ./result_model.h5\n",
            "Epoch 8/200\n",
            "257/257 - 1s - loss: 0.6648 - accuracy: 0.6089 - auc: 0.6372 - val_loss: 0.6580 - val_accuracy: 0.6259 - val_auc: 0.6553\n",
            "\n",
            "Epoch 00008: val_loss did not improve from 0.65766\n",
            "Epoch 9/200\n",
            "257/257 - 1s - loss: 0.6596 - accuracy: 0.6136 - auc: 0.6451 - val_loss: 0.6569 - val_accuracy: 0.6176 - val_auc: 0.6565\n",
            "\n",
            "Epoch 00009: val_loss improved from 0.65766 to 0.65694, saving model to ./result_model.h5\n",
            "Epoch 10/200\n",
            "257/257 - 1s - loss: 0.6634 - accuracy: 0.6083 - auc: 0.6355 - val_loss: 0.6541 - val_accuracy: 0.6283 - val_auc: 0.6594\n",
            "\n",
            "Epoch 00010: val_loss improved from 0.65694 to 0.65412, saving model to ./result_model.h5\n",
            "Epoch 11/200\n",
            "257/257 - 1s - loss: 0.6630 - accuracy: 0.6112 - auc: 0.6419 - val_loss: 0.6544 - val_accuracy: 0.6263 - val_auc: 0.6588\n",
            "\n",
            "Epoch 00011: val_loss did not improve from 0.65412\n",
            "Epoch 12/200\n",
            "257/257 - 1s - loss: 0.6609 - accuracy: 0.6115 - auc: 0.6423 - val_loss: 0.6515 - val_accuracy: 0.6273 - val_auc: 0.6583\n",
            "\n",
            "Epoch 00012: val_loss improved from 0.65412 to 0.65147, saving model to ./result_model.h5\n",
            "Epoch 13/200\n",
            "257/257 - 1s - loss: 0.6588 - accuracy: 0.6182 - auc: 0.6492 - val_loss: 0.6522 - val_accuracy: 0.6278 - val_auc: 0.6614\n",
            "\n",
            "Epoch 00013: val_loss did not improve from 0.65147\n",
            "Epoch 14/200\n",
            "257/257 - 1s - loss: 0.6611 - accuracy: 0.6101 - auc: 0.6446 - val_loss: 0.6568 - val_accuracy: 0.6073 - val_auc: 0.6586\n",
            "\n",
            "Epoch 00014: val_loss did not improve from 0.65147\n",
            "Epoch 15/200\n",
            "257/257 - 1s - loss: 0.6595 - accuracy: 0.6139 - auc: 0.6464 - val_loss: 0.6503 - val_accuracy: 0.6298 - val_auc: 0.6613\n",
            "\n",
            "Epoch 00015: val_loss improved from 0.65147 to 0.65026, saving model to ./result_model.h5\n",
            "Epoch 16/200\n",
            "257/257 - 1s - loss: 0.6567 - accuracy: 0.6152 - auc: 0.6486 - val_loss: 0.6481 - val_accuracy: 0.6283 - val_auc: 0.6627\n",
            "\n",
            "Epoch 00016: val_loss improved from 0.65026 to 0.64811, saving model to ./result_model.h5\n",
            "Epoch 17/200\n",
            "257/257 - 1s - loss: 0.6554 - accuracy: 0.6160 - auc: 0.6515 - val_loss: 0.6494 - val_accuracy: 0.6322 - val_auc: 0.6654\n",
            "\n",
            "Epoch 00017: val_loss did not improve from 0.64811\n",
            "Epoch 18/200\n",
            "257/257 - 1s - loss: 0.6553 - accuracy: 0.6176 - auc: 0.6519 - val_loss: 0.6490 - val_accuracy: 0.6195 - val_auc: 0.6624\n",
            "\n",
            "Epoch 00018: val_loss did not improve from 0.64811\n",
            "Epoch 19/200\n",
            "257/257 - 1s - loss: 0.6562 - accuracy: 0.6145 - auc: 0.6498 - val_loss: 0.6477 - val_accuracy: 0.6302 - val_auc: 0.6650\n",
            "\n",
            "Epoch 00019: val_loss improved from 0.64811 to 0.64769, saving model to ./result_model.h5\n",
            "Epoch 20/200\n",
            "257/257 - 1s - loss: 0.6533 - accuracy: 0.6276 - auc: 0.6588 - val_loss: 0.6560 - val_accuracy: 0.6107 - val_auc: 0.6622\n",
            "\n",
            "Epoch 00020: val_loss did not improve from 0.64769\n",
            "Epoch 21/200\n",
            "257/257 - 1s - loss: 0.6554 - accuracy: 0.6162 - auc: 0.6536 - val_loss: 0.6500 - val_accuracy: 0.6166 - val_auc: 0.6590\n",
            "\n",
            "Epoch 00021: val_loss did not improve from 0.64769\n",
            "Epoch 22/200\n",
            "257/257 - 1s - loss: 0.6542 - accuracy: 0.6231 - auc: 0.6552 - val_loss: 0.6448 - val_accuracy: 0.6322 - val_auc: 0.6638\n",
            "\n",
            "Epoch 00022: val_loss improved from 0.64769 to 0.64476, saving model to ./result_model.h5\n",
            "Epoch 23/200\n",
            "257/257 - 1s - loss: 0.6518 - accuracy: 0.6275 - auc: 0.6583 - val_loss: 0.6481 - val_accuracy: 0.6341 - val_auc: 0.6650\n",
            "\n",
            "Epoch 00023: val_loss did not improve from 0.64476\n",
            "Epoch 24/200\n",
            "257/257 - 1s - loss: 0.6554 - accuracy: 0.6169 - auc: 0.6522 - val_loss: 0.6485 - val_accuracy: 0.6346 - val_auc: 0.6657\n",
            "\n",
            "Epoch 00024: val_loss did not improve from 0.64476\n",
            "Epoch 25/200\n",
            "257/257 - 1s - loss: 0.6532 - accuracy: 0.6194 - auc: 0.6568 - val_loss: 0.6455 - val_accuracy: 0.6356 - val_auc: 0.6647\n",
            "\n",
            "Epoch 00025: val_loss did not improve from 0.64476\n",
            "Epoch 26/200\n",
            "257/257 - 1s - loss: 0.6539 - accuracy: 0.6216 - auc: 0.6556 - val_loss: 0.6489 - val_accuracy: 0.6302 - val_auc: 0.6662\n",
            "\n",
            "Epoch 00026: val_loss did not improve from 0.64476\n",
            "Epoch 27/200\n",
            "257/257 - 1s - loss: 0.6523 - accuracy: 0.6250 - auc: 0.6576 - val_loss: 0.6471 - val_accuracy: 0.6371 - val_auc: 0.6722\n",
            "\n",
            "Epoch 00027: val_loss did not improve from 0.64476\n",
            "Epoch 28/200\n",
            "257/257 - 1s - loss: 0.6500 - accuracy: 0.6215 - auc: 0.6599 - val_loss: 0.6446 - val_accuracy: 0.6312 - val_auc: 0.6699\n",
            "\n",
            "Epoch 00028: val_loss improved from 0.64476 to 0.64461, saving model to ./result_model.h5\n",
            "Epoch 29/200\n",
            "257/257 - 1s - loss: 0.6505 - accuracy: 0.6254 - auc: 0.6581 - val_loss: 0.6486 - val_accuracy: 0.6322 - val_auc: 0.6708\n",
            "\n",
            "Epoch 00029: val_loss did not improve from 0.64461\n",
            "Epoch 30/200\n",
            "257/257 - 1s - loss: 0.6532 - accuracy: 0.6215 - auc: 0.6570 - val_loss: 0.6443 - val_accuracy: 0.6332 - val_auc: 0.6667\n",
            "\n",
            "Epoch 00030: val_loss improved from 0.64461 to 0.64431, saving model to ./result_model.h5\n",
            "Epoch 31/200\n",
            "257/257 - 1s - loss: 0.6534 - accuracy: 0.6181 - auc: 0.6562 - val_loss: 0.6424 - val_accuracy: 0.6337 - val_auc: 0.6690\n",
            "\n",
            "Epoch 00031: val_loss improved from 0.64431 to 0.64242, saving model to ./result_model.h5\n",
            "Epoch 32/200\n",
            "257/257 - 1s - loss: 0.6506 - accuracy: 0.6259 - auc: 0.6617 - val_loss: 0.6448 - val_accuracy: 0.6327 - val_auc: 0.6661\n",
            "\n",
            "Epoch 00032: val_loss did not improve from 0.64242\n",
            "Epoch 33/200\n",
            "257/257 - 1s - loss: 0.6482 - accuracy: 0.6281 - auc: 0.6647 - val_loss: 0.6450 - val_accuracy: 0.6249 - val_auc: 0.6672\n",
            "\n",
            "Epoch 00033: val_loss did not improve from 0.64242\n",
            "Epoch 34/200\n",
            "257/257 - 1s - loss: 0.6512 - accuracy: 0.6234 - auc: 0.6611 - val_loss: 0.6453 - val_accuracy: 0.6337 - val_auc: 0.6694\n",
            "\n",
            "Epoch 00034: val_loss did not improve from 0.64242\n",
            "Epoch 35/200\n",
            "257/257 - 1s - loss: 0.6506 - accuracy: 0.6187 - auc: 0.6584 - val_loss: 0.6477 - val_accuracy: 0.6327 - val_auc: 0.6699\n",
            "\n",
            "Epoch 00035: val_loss did not improve from 0.64242\n",
            "Epoch 36/200\n",
            "257/257 - 1s - loss: 0.6509 - accuracy: 0.6206 - auc: 0.6588 - val_loss: 0.6433 - val_accuracy: 0.6293 - val_auc: 0.6707\n",
            "\n",
            "Epoch 00036: val_loss did not improve from 0.64242\n",
            "Epoch 37/200\n",
            "257/257 - 1s - loss: 0.6457 - accuracy: 0.6267 - auc: 0.6698 - val_loss: 0.6420 - val_accuracy: 0.6337 - val_auc: 0.6731\n",
            "\n",
            "Epoch 00037: val_loss improved from 0.64242 to 0.64199, saving model to ./result_model.h5\n",
            "Epoch 38/200\n",
            "257/257 - 1s - loss: 0.6464 - accuracy: 0.6255 - auc: 0.6647 - val_loss: 0.6434 - val_accuracy: 0.6332 - val_auc: 0.6730\n",
            "\n",
            "Epoch 00038: val_loss did not improve from 0.64199\n",
            "Epoch 39/200\n",
            "257/257 - 1s - loss: 0.6488 - accuracy: 0.6191 - auc: 0.6609 - val_loss: 0.6470 - val_accuracy: 0.6234 - val_auc: 0.6694\n",
            "\n",
            "Epoch 00039: val_loss did not improve from 0.64199\n",
            "Epoch 40/200\n",
            "257/257 - 1s - loss: 0.6450 - accuracy: 0.6252 - auc: 0.6672 - val_loss: 0.6456 - val_accuracy: 0.6356 - val_auc: 0.6691\n",
            "\n",
            "Epoch 00040: val_loss did not improve from 0.64199\n",
            "Epoch 41/200\n",
            "257/257 - 1s - loss: 0.6484 - accuracy: 0.6258 - auc: 0.6660 - val_loss: 0.6429 - val_accuracy: 0.6312 - val_auc: 0.6664\n",
            "\n",
            "Epoch 00041: val_loss did not improve from 0.64199\n",
            "Epoch 42/200\n",
            "257/257 - 1s - loss: 0.6488 - accuracy: 0.6212 - auc: 0.6629 - val_loss: 0.6473 - val_accuracy: 0.6312 - val_auc: 0.6701\n",
            "\n",
            "Epoch 00042: val_loss did not improve from 0.64199\n",
            "Epoch 43/200\n",
            "257/257 - 1s - loss: 0.6452 - accuracy: 0.6252 - auc: 0.6675 - val_loss: 0.6427 - val_accuracy: 0.6327 - val_auc: 0.6730\n",
            "\n",
            "Epoch 00043: val_loss did not improve from 0.64199\n",
            "Epoch 44/200\n",
            "257/257 - 1s - loss: 0.6489 - accuracy: 0.6242 - auc: 0.6669 - val_loss: 0.6448 - val_accuracy: 0.6268 - val_auc: 0.6687\n",
            "\n",
            "Epoch 00044: val_loss did not improve from 0.64199\n",
            "Epoch 45/200\n",
            "257/257 - 1s - loss: 0.6461 - accuracy: 0.6253 - auc: 0.6680 - val_loss: 0.6447 - val_accuracy: 0.6254 - val_auc: 0.6702\n",
            "\n",
            "Epoch 00045: val_loss did not improve from 0.64199\n",
            "Epoch 46/200\n",
            "257/257 - 1s - loss: 0.6438 - accuracy: 0.6311 - auc: 0.6710 - val_loss: 0.6435 - val_accuracy: 0.6278 - val_auc: 0.6770\n",
            "\n",
            "Epoch 00046: val_loss did not improve from 0.64199\n",
            "Epoch 47/200\n",
            "257/257 - 1s - loss: 0.6417 - accuracy: 0.6313 - auc: 0.6740 - val_loss: 0.6452 - val_accuracy: 0.6361 - val_auc: 0.6697\n",
            "\n",
            "Epoch 00047: val_loss did not improve from 0.64199\n",
            "Epoch 48/200\n",
            "257/257 - 1s - loss: 0.6475 - accuracy: 0.6241 - auc: 0.6661 - val_loss: 0.6411 - val_accuracy: 0.6361 - val_auc: 0.6697\n",
            "\n",
            "Epoch 00048: val_loss improved from 0.64199 to 0.64109, saving model to ./result_model.h5\n",
            "Epoch 49/200\n",
            "257/257 - 1s - loss: 0.6446 - accuracy: 0.6326 - auc: 0.6710 - val_loss: 0.6410 - val_accuracy: 0.6341 - val_auc: 0.6737\n",
            "\n",
            "Epoch 00049: val_loss improved from 0.64109 to 0.64099, saving model to ./result_model.h5\n",
            "Epoch 50/200\n",
            "257/257 - 1s - loss: 0.6460 - accuracy: 0.6266 - auc: 0.6678 - val_loss: 0.6424 - val_accuracy: 0.6327 - val_auc: 0.6694\n",
            "\n",
            "Epoch 00050: val_loss did not improve from 0.64099\n",
            "Epoch 51/200\n",
            "257/257 - 1s - loss: 0.6495 - accuracy: 0.6281 - auc: 0.6621 - val_loss: 0.6419 - val_accuracy: 0.6420 - val_auc: 0.6726\n",
            "\n",
            "Epoch 00051: val_loss did not improve from 0.64099\n",
            "Epoch 52/200\n",
            "257/257 - 1s - loss: 0.6462 - accuracy: 0.6300 - auc: 0.6679 - val_loss: 0.6425 - val_accuracy: 0.6327 - val_auc: 0.6717\n",
            "\n",
            "Epoch 00052: val_loss did not improve from 0.64099\n",
            "Epoch 53/200\n",
            "257/257 - 1s - loss: 0.6430 - accuracy: 0.6289 - auc: 0.6692 - val_loss: 0.6454 - val_accuracy: 0.6278 - val_auc: 0.6677\n",
            "\n",
            "Epoch 00053: val_loss did not improve from 0.64099\n",
            "Epoch 54/200\n",
            "257/257 - 1s - loss: 0.6431 - accuracy: 0.6280 - auc: 0.6751 - val_loss: 0.6437 - val_accuracy: 0.6254 - val_auc: 0.6736\n",
            "\n",
            "Epoch 00054: val_loss did not improve from 0.64099\n",
            "Epoch 55/200\n",
            "257/257 - 1s - loss: 0.6431 - accuracy: 0.6304 - auc: 0.6731 - val_loss: 0.6421 - val_accuracy: 0.6341 - val_auc: 0.6716\n",
            "\n",
            "Epoch 00055: val_loss did not improve from 0.64099\n",
            "Epoch 56/200\n",
            "257/257 - 1s - loss: 0.6423 - accuracy: 0.6294 - auc: 0.6703 - val_loss: 0.6428 - val_accuracy: 0.6346 - val_auc: 0.6714\n",
            "\n",
            "Epoch 00056: val_loss did not improve from 0.64099\n",
            "Epoch 57/200\n",
            "257/257 - 1s - loss: 0.6462 - accuracy: 0.6281 - auc: 0.6696 - val_loss: 0.6461 - val_accuracy: 0.6263 - val_auc: 0.6666\n",
            "\n",
            "Epoch 00057: val_loss did not improve from 0.64099\n",
            "Epoch 58/200\n",
            "257/257 - 1s - loss: 0.6387 - accuracy: 0.6395 - auc: 0.6815 - val_loss: 0.6389 - val_accuracy: 0.6361 - val_auc: 0.6767\n",
            "\n",
            "Epoch 00058: val_loss improved from 0.64099 to 0.63886, saving model to ./result_model.h5\n",
            "Epoch 59/200\n",
            "257/257 - 1s - loss: 0.6409 - accuracy: 0.6315 - auc: 0.6751 - val_loss: 0.6422 - val_accuracy: 0.6322 - val_auc: 0.6714\n",
            "\n",
            "Epoch 00059: val_loss did not improve from 0.63886\n",
            "Epoch 60/200\n",
            "257/257 - 1s - loss: 0.6419 - accuracy: 0.6287 - auc: 0.6718 - val_loss: 0.6439 - val_accuracy: 0.6288 - val_auc: 0.6693\n",
            "\n",
            "Epoch 00060: val_loss did not improve from 0.63886\n",
            "Epoch 61/200\n",
            "257/257 - 1s - loss: 0.6407 - accuracy: 0.6313 - auc: 0.6772 - val_loss: 0.6448 - val_accuracy: 0.6366 - val_auc: 0.6690\n",
            "\n",
            "Epoch 00061: val_loss did not improve from 0.63886\n",
            "Epoch 62/200\n",
            "257/257 - 1s - loss: 0.6402 - accuracy: 0.6311 - auc: 0.6739 - val_loss: 0.6425 - val_accuracy: 0.6298 - val_auc: 0.6737\n",
            "\n",
            "Epoch 00062: val_loss did not improve from 0.63886\n",
            "Epoch 63/200\n",
            "257/257 - 1s - loss: 0.6385 - accuracy: 0.6319 - auc: 0.6795 - val_loss: 0.6415 - val_accuracy: 0.6346 - val_auc: 0.6735\n",
            "\n",
            "Epoch 00063: val_loss did not improve from 0.63886\n",
            "Epoch 64/200\n",
            "257/257 - 1s - loss: 0.6394 - accuracy: 0.6283 - auc: 0.6751 - val_loss: 0.6409 - val_accuracy: 0.6366 - val_auc: 0.6762\n",
            "\n",
            "Epoch 00064: val_loss did not improve from 0.63886\n",
            "Epoch 65/200\n",
            "257/257 - 1s - loss: 0.6410 - accuracy: 0.6300 - auc: 0.6712 - val_loss: 0.6419 - val_accuracy: 0.6361 - val_auc: 0.6724\n",
            "\n",
            "Epoch 00065: val_loss did not improve from 0.63886\n",
            "Epoch 66/200\n",
            "257/257 - 1s - loss: 0.6400 - accuracy: 0.6314 - auc: 0.6793 - val_loss: 0.6450 - val_accuracy: 0.6273 - val_auc: 0.6730\n",
            "\n",
            "Epoch 00066: val_loss did not improve from 0.63886\n",
            "Epoch 67/200\n",
            "257/257 - 1s - loss: 0.6435 - accuracy: 0.6272 - auc: 0.6691 - val_loss: 0.6430 - val_accuracy: 0.6376 - val_auc: 0.6704\n",
            "\n",
            "Epoch 00067: val_loss did not improve from 0.63886\n",
            "Epoch 68/200\n",
            "257/257 - 1s - loss: 0.6457 - accuracy: 0.6225 - auc: 0.6677 - val_loss: 0.6446 - val_accuracy: 0.6322 - val_auc: 0.6709\n",
            "\n",
            "Epoch 00068: val_loss did not improve from 0.63886\n",
            "Epoch 69/200\n",
            "257/257 - 1s - loss: 0.6435 - accuracy: 0.6264 - auc: 0.6703 - val_loss: 0.6441 - val_accuracy: 0.6380 - val_auc: 0.6724\n",
            "\n",
            "Epoch 00069: val_loss did not improve from 0.63886\n",
            "Epoch 70/200\n",
            "257/257 - 1s - loss: 0.6410 - accuracy: 0.6306 - auc: 0.6738 - val_loss: 0.6394 - val_accuracy: 0.6371 - val_auc: 0.6747\n",
            "\n",
            "Epoch 00070: val_loss did not improve from 0.63886\n",
            "Epoch 71/200\n",
            "257/257 - 1s - loss: 0.6409 - accuracy: 0.6345 - auc: 0.6753 - val_loss: 0.6375 - val_accuracy: 0.6390 - val_auc: 0.6747\n",
            "\n",
            "Epoch 00071: val_loss improved from 0.63886 to 0.63746, saving model to ./result_model.h5\n",
            "Epoch 72/200\n",
            "257/257 - 1s - loss: 0.6433 - accuracy: 0.6292 - auc: 0.6726 - val_loss: 0.6443 - val_accuracy: 0.6317 - val_auc: 0.6734\n",
            "\n",
            "Epoch 00072: val_loss did not improve from 0.63746\n",
            "Epoch 73/200\n",
            "257/257 - 1s - loss: 0.6413 - accuracy: 0.6295 - auc: 0.6715 - val_loss: 0.6426 - val_accuracy: 0.6390 - val_auc: 0.6741\n",
            "\n",
            "Epoch 00073: val_loss did not improve from 0.63746\n",
            "Epoch 74/200\n",
            "257/257 - 1s - loss: 0.6388 - accuracy: 0.6298 - auc: 0.6765 - val_loss: 0.6449 - val_accuracy: 0.6400 - val_auc: 0.6744\n",
            "\n",
            "Epoch 00074: val_loss did not improve from 0.63746\n",
            "Epoch 75/200\n",
            "257/257 - 1s - loss: 0.6416 - accuracy: 0.6263 - auc: 0.6733 - val_loss: 0.6431 - val_accuracy: 0.6327 - val_auc: 0.6720\n",
            "\n",
            "Epoch 00075: val_loss did not improve from 0.63746\n",
            "Epoch 76/200\n",
            "257/257 - 1s - loss: 0.6416 - accuracy: 0.6315 - auc: 0.6748 - val_loss: 0.6432 - val_accuracy: 0.6307 - val_auc: 0.6698\n",
            "\n",
            "Epoch 00076: val_loss did not improve from 0.63746\n",
            "Epoch 77/200\n",
            "257/257 - 1s - loss: 0.6444 - accuracy: 0.6277 - auc: 0.6741 - val_loss: 0.6406 - val_accuracy: 0.6317 - val_auc: 0.6739\n",
            "\n",
            "Epoch 00077: val_loss did not improve from 0.63746\n",
            "Epoch 78/200\n",
            "257/257 - 1s - loss: 0.6401 - accuracy: 0.6298 - auc: 0.6762 - val_loss: 0.6433 - val_accuracy: 0.6254 - val_auc: 0.6708\n",
            "\n",
            "Epoch 00078: val_loss did not improve from 0.63746\n"
          ],
          "name": "stdout"
        }
      ]
    },
    {
      "cell_type": "code",
      "metadata": {
        "id": "HfwFWO23ucIL",
        "colab": {
          "base_uri": "https://localhost:8080/",
          "height": 364
        },
        "outputId": "28c18bae-755e-4219-9edf-c0ed538e0d45"
      },
      "source": [
        "plt.figure(figsize = (20,5))\n",
        "plt.subplot(1,2,1)\n",
        "plt.plot(history.history['accuracy'])\n",
        "plt.plot(history.history['val_accuracy'])\n",
        "plt.title('Accuracy (training and validation) vs Epochs')\n",
        "plt.legend(['training accuracy' , 'validation accuracy'])\n",
        "plt.xlabel('Epochs')\n",
        "plt.ylabel('acccuracy')\n",
        "\n",
        "plt.subplot(1,2,2)\n",
        "plt.plot(history.history['loss'])\n",
        "plt.plot(history.history['val_loss'])\n",
        "plt.title('Loss (training and validation) vs Epochs')\n",
        "plt.legend(['training loss', 'validation loss'])\n",
        "plt.xlabel('Epochs')\n",
        "plt.ylabel('losses')"
      ],
      "execution_count": 48,
      "outputs": [
        {
          "output_type": "execute_result",
          "data": {
            "text/plain": [
              "Text(0, 0.5, 'losses')"
            ]
          },
          "metadata": {
            "tags": []
          },
          "execution_count": 48
        },
        {
          "output_type": "display_data",
          "data": {
            "image/png": "[encoded data removed]",
            "text/plain": [
              "<Figure size 1440x360 with 2 Axes>"
            ]
          },
          "metadata": {
            "tags": [],
            "needs_background": "light"
          }
        }
      ]
    },
    {
      "cell_type": "code",
      "metadata": {
        "id": "Ug2Fzc3j3_Yk"
      },
      "source": [
        "y_true=np.array(y_val) # one dimension\n",
        "y_pred=np.squeeze(model.predict(X_val))#2dimension so write np.squeeze to amke it one dimension\n",
        "y_pred=np.array(y_pred>=0.5,dtype=np.int)"
      ],
      "execution_count": 49,
      "outputs": []
    },
    {
      "cell_type": "code",
      "metadata": {
        "id": "rQJqDcj84NoV",
        "colab": {
          "base_uri": "https://localhost:8080/",
          "height": 295
        },
        "outputId": "76e5e90d-6f95-433a-fa30-b7f38a0459ff"
      },
      "source": [
        "from sklearn.metrics import confusion_matrix,classification_report\n",
        "\n",
        "cm = confusion_matrix(y_true, y_pred)\n",
        "\n",
        "plt.figure(figsize=(4, 4))\n",
        "\n",
        "sns.heatmap(cm, annot=True, fmt='g', vmin=0, cbar=False)\n",
        "\n",
        "plt.xlabel(\"Predicted\")\n",
        "plt.ylabel(\"Actual\")\n",
        "plt.title(\"Confusion Matrix\")\n",
        "\n",
        "plt.show()"
      ],
      "execution_count": 50,
      "outputs": [
        {
          "output_type": "display_data",
          "data": {
            "image/png": "[encoded data removed]",
            "text/plain": [
              "<Figure size 288x288 with 1 Axes>"
            ]
          },
          "metadata": {
            "tags": [],
            "needs_background": "light"
          }
        }
      ]
    },
    {
      "cell_type": "code",
      "metadata": {
        "id": "reE5C6O74WJz",
        "colab": {
          "base_uri": "https://localhost:8080/"
        },
        "outputId": "f2c3fdba-b307-4c35-d8f5-abf94d196d75"
      },
      "source": [
        "print(classification_report(y_true, y_pred))"
      ],
      "execution_count": 51,
      "outputs": [
        {
          "output_type": "stream",
          "text": [
            "              precision    recall  f1-score   support\n",
            "\n",
            "           0       0.61      0.74      0.67      1023\n",
            "           1       0.67      0.54      0.60      1027\n",
            "\n",
            "    accuracy                           0.64      2050\n",
            "   macro avg       0.64      0.64      0.63      2050\n",
            "weighted avg       0.64      0.64      0.63      2050\n",
            "\n"
          ],
          "name": "stdout"
        }
      ]
    },
    {
      "cell_type": "code",
      "metadata": {
        "id": "VBFuNUj0bVnc",
        "colab": {
          "base_uri": "https://localhost:8080/"
        },
        "outputId": "4daef9fc-c558-4cbb-865a-6ce19da135f1"
      },
      "source": [
        "#base\n",
        "\n",
        "y_base1 = [1] * len(y_val)\n",
        "\n",
        "\n",
        "confusion = confusion_matrix(y_val, y_base1)\n",
        "accuracy = accuracy_score(y_val, y_base1)\n",
        "precision = precision_score(y_val, y_base1)\n",
        "recall = recall_score(y_val, y_base1)\n",
        "F1 = f1_score(y_val, y_base1)\n",
        "roc_auc = roc_auc_score(y_val, y_base1)\n",
        "\n",
        "print('오차행렬')\n",
        "print(confusion)\n",
        "\n",
        "print('정확도: {0}, 정밀도: {1}, 재현율: {2}, F1: {3}, auc:{4}'.format(accuracy, precision, recall, F1, roc_auc))"
      ],
      "execution_count": null,
      "outputs": [
        {
          "output_type": "stream",
          "text": [
            "오차행렬\n",
            "[[   0 1023]\n",
            " [   0 1027]]\n",
            "정확도: 0.5009756097560976, 정밀도: 0.5009756097560976, 재현율: 1.0, F1: 0.6675333116672083, auc:0.5\n"
          ],
          "name": "stdout"
        }
      ]
    }
  ]
}