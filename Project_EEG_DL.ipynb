{
  "nbformat": 4,
  "nbformat_minor": 0,
  "metadata": {
    "colab": {
      "name": "Project_EEG_DL",
      "provenance": [],
      "collapsed_sections": [],
      "include_colab_link": true
    },
    "kernelspec": {
      "display_name": "Python 3",
      "name": "python3"
    }
  },
  "cells": [
    {
      "cell_type": "markdown",
      "metadata": {
        "id": "view-in-github",
        "colab_type": "text"
      },
      "source": [
        "<a href=\"https://colab.research.google.com/github/sanha-hwang/EEG_project/blob/workspace/Project_EEG_DL.ipynb\" target=\"_parent\"><img src=\"https://colab.research.google.com/assets/colab-badge.svg\" alt=\"Open In Colab\"/></a>"
      ]
    },
    {
      "cell_type": "markdown",
      "metadata": {
        "id": "OfwiuHU8_NdF"
      },
      "source": [
        "<H1>Project : EEG signal 분석 </H1>\n",
        "\n",
        "[datasetLink](https://www.kaggle.com/wanghaohan/confused-eeg)\n",
        "\n",
        "1. EEG 신호란 electroencephalography의 약자이며 '뇌전도'라고 번역된다.  전극을 통해 뇌의 전기적인 활동을 기록하는 전기생리학적 측정방법을 말한다. 뇌의 활동은 뇌파라는 전기신호를 방출하게 되고 EEG을 통해 뇌파의 스펙트럼 밀도를 분석하게 된다.    \n",
        "\n",
        "2. 데이터는 10명의 대학생을 대상으로 여러 카테고리별로 10개씩 총 20개의 동영상을 시청하면서 전두엽의 활동을 측정하여, 혼란스러울 때의 뇌파상태와 평온할 때의 뇌파상태를 측정하였습니다. 동영상에는 혼란스럽지않을 기초대수학 또는 기하학을 소개하는 온라인 교육영상이 있으며, 반대로 익숙치 않으면 혼란스러울 양자역학, 줄기세포 연구 등 과 같은 주제의 교육영상이 있습니다. 동영상 길이는 약 2분이며, 영상을 조금 더 혼란스럽게 만들기 위해 주제 중간에 2분클립을 잘랐습니다.\n",
        "\n",
        "\n",
        "3. 학생들은 전두엽의 활동을 측정하는 단일 무선채널의 mindset을 착용하였으며, Mindset은 이마에 있는 전극과 귀에 각각 접촉하는 두 개의 전극 사이의 전압을 측정하였습니다.    \n",
        "\n",
        "4. 각 학생들은 세션이 끝난 후, 자신의 혼란 정도를 1-7의 척도로 평가하였으며, 1은 최저, 7은 최고 레벨입니다. 혼란정도는 정규화되어 labeling 되었다.\n",
        "\n",
        "5. column 분석\n",
        "  - 'SubjectID': 피실험자 ID\n",
        "  - ' age': 피실험자 나이\n",
        "  - ' ethnicity' :피실험자 민족\n",
        "  - ' gender': 피실험자 성별\n",
        "  -  'VideoID': 시청한 비디오영상번호\n",
        "  - 'Attention': 집중도 수치\n",
        "  - 'Mediation': 평온함 수치\n",
        "  - 'Raw': EEG 장비로 측정하여 나온 수치\n",
        "  - 'Delta': Raw를 가공하여 나온 1-3Hz Power Spectrum\n",
        "  - 'Theta': Raw를 가공하여 나온 4-7Hz Power Spectrum\n",
        "  - 'Alpha1': Raw를 가공하여 나온 Lower 8-11Hz Power Spectrum\n",
        "  - 'Alpha2': Raw를 가공하여 나온 High 8-11Hz Power Spectrum\n",
        "  - 'Beta1': Raw를 가공하여 나온 Lower 12-29Hz Power Spectrum\n",
        "  - 'Beta2': Raw를 가공하여 나온 High 12-29Hz Power Spectrum\n",
        "  - 'Gamma1': Raw를 가공하여 나온 Lower 30-100Hz Power Spectrum\n",
        "  - 'Gamma2': Raw를 가공하여 나온 High 30-100Hz Power Spectrum\n",
        "  - 'predefinedlabel': Subject의 expected confusion level\n",
        "  - 'user-definedlabeln': Subject의 actually confusion level\n",
        "\n",
        "6. Brain wave 정리   \n",
        "  - Delta wave: 깊은 수면을 취할 때, 약하게 깨어 있을 때 혹은 무의식 일 때의 뇌파, 잠잘 때 장기기억, 해마가 작용할 때나오는 뇌파    \n",
        "부족한 경우- 불면증,세타파가 나오게 되면 깊은 수면을 취할 수 없음, 과할 경우 - 늘 뇌가 피곤해 있고 무기력해질 우려가 있음\n",
        "\n",
        "  - Theta wave:  꾸벅꾸벅 조는 상태, - 여명상태, 내면의식, 기억력, 창의력, 명상, 퍼포먼스 ,신비하고 미묘한  것이어서 실험자들이 연구하기 어려웟음, 세타파에 있는 동안, 의식을 유지하기 어렵기 때문   \n",
        "부족한 경우- 창의력부족, 예민, 과할 경우- 안정성이 없음,늘 에너지가 없어보임\n",
        "\n",
        "  - Alpha wave : 눈을 감고 편안한 상태, 집중하지 않은 상태일 때, 뇌파활동은 느려짐, 아주 편안하게 이완되고 정신적으로 집중되지 않는 상태, 알파상태에는 두뇌의 '중립' 또는 한가한 상태처럼 보이나, 건강하고 스트레스에 지배받지 않는 사람들은 많은 양의 알파파를 만들어냄,\n",
        "알파파의 결핍: 불안, 스트레스, 뇌 활성 저하, 과도한 의식활동(산만함)에 노출, 이완능력, 에너지, 기억력, 창의력 강화훈련 필요\n",
        "SM알파파: 알파파 끝부분, 생리적으로 이완 상태, 의식적으로 각성된 상태, 면역력이나 스트레스에 대한 저항능력\n",
        "각성능력을 보여주는 지표, 두뇌활동에 가장 중심적 뇌파\n",
        "오감에서 들어오는 외부의 감각센서와 운동능력    \n",
        "부족한 경우-긴장과 불안에 매일 수 있음, 과한경우-급한 것이 없음, 일처리에 맺고 끊는 맛이 없음\n",
        "\n",
        "  - Beta wave: 일반적으로 외부세계에 꺠어 있을 때, 눈을 뜨고 집중하는 상태, 구체적이고특별한 문제를 다루고 있을 때, 상대방이 어떻게 나올지 집중하는 상태\n",
        "특히 14-40, 두뇌에서 가장 지배적이고 강력하게 활동, 민첩성, 각성 ,집중, 인식력과 관련, 과도할 경우 불안 유발   \n",
        "부족한 경우-매사에 의욕이 없음, 과한 경우- 산만한 활동, 행동의 자제가 되지 않아 함부로 행동\n",
        "\n",
        "\n",
        "\n",
        "\n",
        "\n"
      ]
    },
    {
      "cell_type": "markdown",
      "metadata": {
        "id": "uy7X76B-QT2_"
      },
      "source": [
        ""
      ]
    },
    {
      "cell_type": "code",
      "metadata": {
        "id": "2VxIQhjjtRh_",
        "colab": {
          "base_uri": "https://localhost:8080/"
        },
        "outputId": "607b7bc0-972a-43cc-890e-d1723f68ab83"
      },
      "source": [
        "!pip install eli5\n",
        "!pip install category_encoders"
      ],
      "execution_count": 2,
      "outputs": [
        {
          "output_type": "stream",
          "text": [
            "Collecting eli5\n",
            "  Downloading eli5-0.11.0-py2.py3-none-any.whl (106 kB)\n",
            "\u001b[?25l\r\u001b[K     |███                             | 10 kB 24.3 MB/s eta 0:00:01\r\u001b[K     |██████▏                         | 20 kB 26.4 MB/s eta 0:00:01\r\u001b[K     |█████████▎                      | 30 kB 15.4 MB/s eta 0:00:01\r\u001b[K     |████████████▍                   | 40 kB 11.7 MB/s eta 0:00:01\r\u001b[K     |███████████████▌                | 51 kB 5.3 MB/s eta 0:00:01\r\u001b[K     |██████████████████▌             | 61 kB 5.6 MB/s eta 0:00:01\r\u001b[K     |█████████████████████▋          | 71 kB 5.3 MB/s eta 0:00:01\r\u001b[K     |████████████████████████▊       | 81 kB 5.9 MB/s eta 0:00:01\r\u001b[K     |███████████████████████████▉    | 92 kB 5.9 MB/s eta 0:00:01\r\u001b[K     |███████████████████████████████ | 102 kB 5.2 MB/s eta 0:00:01\r\u001b[K     |████████████████████████████████| 106 kB 5.2 MB/s \n",
            "\u001b[?25hRequirement already satisfied: scipy in /usr/local/lib/python3.7/dist-packages (from eli5) (1.4.1)\n",
            "Requirement already satisfied: tabulate>=0.7.7 in /usr/local/lib/python3.7/dist-packages (from eli5) (0.8.9)\n",
            "Requirement already satisfied: scikit-learn>=0.20 in /usr/local/lib/python3.7/dist-packages (from eli5) (0.22.2.post1)\n",
            "Requirement already satisfied: graphviz in /usr/local/lib/python3.7/dist-packages (from eli5) (0.10.1)\n",
            "Requirement already satisfied: attrs>16.0.0 in /usr/local/lib/python3.7/dist-packages (from eli5) (21.2.0)\n",
            "Requirement already satisfied: jinja2 in /usr/local/lib/python3.7/dist-packages (from eli5) (2.11.3)\n",
            "Requirement already satisfied: six in /usr/local/lib/python3.7/dist-packages (from eli5) (1.15.0)\n",
            "Requirement already satisfied: numpy>=1.9.0 in /usr/local/lib/python3.7/dist-packages (from eli5) (1.19.5)\n",
            "Requirement already satisfied: joblib>=0.11 in /usr/local/lib/python3.7/dist-packages (from scikit-learn>=0.20->eli5) (1.0.1)\n",
            "Requirement already satisfied: MarkupSafe>=0.23 in /usr/local/lib/python3.7/dist-packages (from jinja2->eli5) (2.0.1)\n",
            "Installing collected packages: eli5\n",
            "Successfully installed eli5-0.11.0\n",
            "Collecting category_encoders\n",
            "  Downloading category_encoders-2.2.2-py2.py3-none-any.whl (80 kB)\n",
            "\u001b[K     |████████████████████████████████| 80 kB 3.6 MB/s \n",
            "\u001b[?25hRequirement already satisfied: pandas>=0.21.1 in /usr/local/lib/python3.7/dist-packages (from category_encoders) (1.1.5)\n",
            "Requirement already satisfied: scikit-learn>=0.20.0 in /usr/local/lib/python3.7/dist-packages (from category_encoders) (0.22.2.post1)\n",
            "Requirement already satisfied: scipy>=1.0.0 in /usr/local/lib/python3.7/dist-packages (from category_encoders) (1.4.1)\n",
            "Requirement already satisfied: statsmodels>=0.9.0 in /usr/local/lib/python3.7/dist-packages (from category_encoders) (0.10.2)\n",
            "Requirement already satisfied: patsy>=0.5.1 in /usr/local/lib/python3.7/dist-packages (from category_encoders) (0.5.1)\n",
            "Requirement already satisfied: numpy>=1.14.0 in /usr/local/lib/python3.7/dist-packages (from category_encoders) (1.19.5)\n",
            "Requirement already satisfied: pytz>=2017.2 in /usr/local/lib/python3.7/dist-packages (from pandas>=0.21.1->category_encoders) (2018.9)\n",
            "Requirement already satisfied: python-dateutil>=2.7.3 in /usr/local/lib/python3.7/dist-packages (from pandas>=0.21.1->category_encoders) (2.8.1)\n",
            "Requirement already satisfied: six in /usr/local/lib/python3.7/dist-packages (from patsy>=0.5.1->category_encoders) (1.15.0)\n",
            "Requirement already satisfied: joblib>=0.11 in /usr/local/lib/python3.7/dist-packages (from scikit-learn>=0.20.0->category_encoders) (1.0.1)\n",
            "Installing collected packages: category-encoders\n",
            "Successfully installed category-encoders-2.2.2\n"
          ],
          "name": "stdout"
        }
      ]
    },
    {
      "cell_type": "code",
      "metadata": {
        "id": "p2gMZTla2KHn",
        "colab": {
          "base_uri": "https://localhost:8080/"
        },
        "outputId": "3fe4cb3e-0c6a-45f2-8aa9-215fe5d3fb0f"
      },
      "source": [
        "from google.colab import drive\n",
        "drive.mount('/content/drive')"
      ],
      "execution_count": 3,
      "outputs": [
        {
          "output_type": "stream",
          "text": [
            "Drive already mounted at /content/drive; to attempt to forcibly remount, call drive.mount(\"/content/drive\", force_remount=True).\n"
          ],
          "name": "stdout"
        }
      ]
    },
    {
      "cell_type": "code",
      "metadata": {
        "id": "BXRC2qyx2Xp7"
      },
      "source": [
        "import pandas as pd\n",
        "import numpy as np\n",
        "\n",
        "import matplotlib.pyplot as plt\n",
        "import seaborn as sns\n",
        "\n",
        "EEG_data = pd.read_csv(\"/content/drive/MyDrive/EEG_data.csv\") # EEG 데이터 불러오기\n",
        "person_info = pd.read_csv(\"/content/drive/MyDrive/demographic_info.csv\") #실험군 데이터"
      ],
      "execution_count": 64,
      "outputs": []
    },
    {
      "cell_type": "code",
      "metadata": {
        "id": "ljvaZNYWH6cN"
      },
      "source": [
        "# data정리\n",
        "EEG_data[['SubjectID','VideoID', 'user-definedlabeln']] = EEG_data[['SubjectID','VideoID', 'user-definedlabeln']].astype(int)\n",
        "person_info.rename(columns={'subject ID':'SubjectID'}, inplace= True)\n",
        "data = person_info.merge(EEG_data,on ='SubjectID')\n",
        "data.rename(columns={' age':'age'}, inplace= True)\n",
        "data.rename(columns={' ethnicity':'ethnicity'}, inplace= True)\n",
        "data.rename(columns={' gender':'gender'}, inplace= True)\n",
        "data.rename(columns={'user-definedlabeln':'Label'}, inplace= True)\n"
      ],
      "execution_count": 65,
      "outputs": []
    },
    {
      "cell_type": "code",
      "metadata": {
        "id": "PE97RcxOOtmj"
      },
      "source": [
        "data.head()"
      ],
      "execution_count": null,
      "outputs": []
    },
    {
      "cell_type": "code",
      "metadata": {
        "id": "-chjoiDO9_cQ"
      },
      "source": [
        "data.dtypes"
      ],
      "execution_count": null,
      "outputs": []
    },
    {
      "cell_type": "code",
      "metadata": {
        "id": "nPYJOvmvVS4S"
      },
      "source": [
        "data.isnull().sum()"
      ],
      "execution_count": null,
      "outputs": []
    },
    {
      "cell_type": "code",
      "metadata": {
        "id": "QhSNN_5IVWum"
      },
      "source": [
        "data.duplicated().sum()"
      ],
      "execution_count": null,
      "outputs": []
    },
    {
      "cell_type": "code",
      "metadata": {
        "id": "kf9D0V_0UHdm",
        "colab": {
          "base_uri": "https://localhost:8080/"
        },
        "outputId": "d9d71d5f-f0e5-4f14-8d19-4fee15dd3591"
      },
      "source": [
        "data.columns"
      ],
      "execution_count": 66,
      "outputs": [
        {
          "output_type": "execute_result",
          "data": {
            "text/plain": [
              "Index(['SubjectID', 'age', 'ethnicity', 'gender', 'VideoID', 'Attention',\n",
              "       'Mediation', 'Raw', 'Delta', 'Theta', 'Alpha1', 'Alpha2', 'Beta1',\n",
              "       'Beta2', 'Gamma1', 'Gamma2', 'predefinedlabel', 'Label'],\n",
              "      dtype='object')"
            ]
          },
          "metadata": {
            "tags": []
          },
          "execution_count": 66
        }
      ]
    },
    {
      "cell_type": "code",
      "metadata": {
        "id": "IqjpCYz2TCn6"
      },
      "source": [
        "# EDA\n",
        "data.drop(columns=['predefinedlabel', 'VideoID'], inplace=True)\n"
      ],
      "execution_count": 67,
      "outputs": []
    },
    {
      "cell_type": "code",
      "metadata": {
        "id": "CxLnqNoQVKBB",
        "colab": {
          "base_uri": "https://localhost:8080/",
          "height": 206
        },
        "outputId": "618d281f-2869-45da-cd74-f3ce36a1271f"
      },
      "source": [
        "data.head()"
      ],
      "execution_count": 68,
      "outputs": [
        {
          "output_type": "execute_result",
          "data": {
            "text/html": [
              "<div>\n",
              "<style scoped>\n",
              "    .dataframe tbody tr th:only-of-type {\n",
              "        vertical-align: middle;\n",
              "    }\n",
              "\n",
              "    .dataframe tbody tr th {\n",
              "        vertical-align: top;\n",
              "    }\n",
              "\n",
              "    .dataframe thead th {\n",
              "        text-align: right;\n",
              "    }\n",
              "</style>\n",
              "<table border=\"1\" class=\"dataframe\">\n",
              "  <thead>\n",
              "    <tr style=\"text-align: right;\">\n",
              "      <th></th>\n",
              "      <th>SubjectID</th>\n",
              "      <th>age</th>\n",
              "      <th>ethnicity</th>\n",
              "      <th>gender</th>\n",
              "      <th>Attention</th>\n",
              "      <th>Mediation</th>\n",
              "      <th>Raw</th>\n",
              "      <th>Delta</th>\n",
              "      <th>Theta</th>\n",
              "      <th>Alpha1</th>\n",
              "      <th>Alpha2</th>\n",
              "      <th>Beta1</th>\n",
              "      <th>Beta2</th>\n",
              "      <th>Gamma1</th>\n",
              "      <th>Gamma2</th>\n",
              "      <th>Label</th>\n",
              "    </tr>\n",
              "  </thead>\n",
              "  <tbody>\n",
              "    <tr>\n",
              "      <th>0</th>\n",
              "      <td>0</td>\n",
              "      <td>25</td>\n",
              "      <td>Han Chinese</td>\n",
              "      <td>M</td>\n",
              "      <td>56.0</td>\n",
              "      <td>43.0</td>\n",
              "      <td>278.0</td>\n",
              "      <td>301963.0</td>\n",
              "      <td>90612.0</td>\n",
              "      <td>33735.0</td>\n",
              "      <td>23991.0</td>\n",
              "      <td>27946.0</td>\n",
              "      <td>45097.0</td>\n",
              "      <td>33228.0</td>\n",
              "      <td>8293.0</td>\n",
              "      <td>0</td>\n",
              "    </tr>\n",
              "    <tr>\n",
              "      <th>1</th>\n",
              "      <td>0</td>\n",
              "      <td>25</td>\n",
              "      <td>Han Chinese</td>\n",
              "      <td>M</td>\n",
              "      <td>40.0</td>\n",
              "      <td>35.0</td>\n",
              "      <td>-50.0</td>\n",
              "      <td>73787.0</td>\n",
              "      <td>28083.0</td>\n",
              "      <td>1439.0</td>\n",
              "      <td>2240.0</td>\n",
              "      <td>2746.0</td>\n",
              "      <td>3687.0</td>\n",
              "      <td>5293.0</td>\n",
              "      <td>2740.0</td>\n",
              "      <td>0</td>\n",
              "    </tr>\n",
              "    <tr>\n",
              "      <th>2</th>\n",
              "      <td>0</td>\n",
              "      <td>25</td>\n",
              "      <td>Han Chinese</td>\n",
              "      <td>M</td>\n",
              "      <td>47.0</td>\n",
              "      <td>48.0</td>\n",
              "      <td>101.0</td>\n",
              "      <td>758353.0</td>\n",
              "      <td>383745.0</td>\n",
              "      <td>201999.0</td>\n",
              "      <td>62107.0</td>\n",
              "      <td>36293.0</td>\n",
              "      <td>130536.0</td>\n",
              "      <td>57243.0</td>\n",
              "      <td>25354.0</td>\n",
              "      <td>0</td>\n",
              "    </tr>\n",
              "    <tr>\n",
              "      <th>3</th>\n",
              "      <td>0</td>\n",
              "      <td>25</td>\n",
              "      <td>Han Chinese</td>\n",
              "      <td>M</td>\n",
              "      <td>47.0</td>\n",
              "      <td>57.0</td>\n",
              "      <td>-5.0</td>\n",
              "      <td>2012240.0</td>\n",
              "      <td>129350.0</td>\n",
              "      <td>61236.0</td>\n",
              "      <td>17084.0</td>\n",
              "      <td>11488.0</td>\n",
              "      <td>62462.0</td>\n",
              "      <td>49960.0</td>\n",
              "      <td>33932.0</td>\n",
              "      <td>0</td>\n",
              "    </tr>\n",
              "    <tr>\n",
              "      <th>4</th>\n",
              "      <td>0</td>\n",
              "      <td>25</td>\n",
              "      <td>Han Chinese</td>\n",
              "      <td>M</td>\n",
              "      <td>44.0</td>\n",
              "      <td>53.0</td>\n",
              "      <td>-8.0</td>\n",
              "      <td>1005145.0</td>\n",
              "      <td>354328.0</td>\n",
              "      <td>37102.0</td>\n",
              "      <td>88881.0</td>\n",
              "      <td>45307.0</td>\n",
              "      <td>99603.0</td>\n",
              "      <td>44790.0</td>\n",
              "      <td>29749.0</td>\n",
              "      <td>0</td>\n",
              "    </tr>\n",
              "  </tbody>\n",
              "</table>\n",
              "</div>"
            ],
            "text/plain": [
              "   SubjectID  age    ethnicity gender  ...     Beta2   Gamma1   Gamma2  Label\n",
              "0          0   25  Han Chinese      M  ...   45097.0  33228.0   8293.0      0\n",
              "1          0   25  Han Chinese      M  ...    3687.0   5293.0   2740.0      0\n",
              "2          0   25  Han Chinese      M  ...  130536.0  57243.0  25354.0      0\n",
              "3          0   25  Han Chinese      M  ...   62462.0  49960.0  33932.0      0\n",
              "4          0   25  Han Chinese      M  ...   99603.0  44790.0  29749.0      0\n",
              "\n",
              "[5 rows x 16 columns]"
            ]
          },
          "metadata": {
            "tags": []
          },
          "execution_count": 68
        }
      ]
    },
    {
      "cell_type": "code",
      "metadata": {
        "id": "s5lmAqnGfNKq",
        "colab": {
          "base_uri": "https://localhost:8080/"
        },
        "outputId": "b7ac1c29-d6bd-4d49-fd53-b011ddaefc28"
      },
      "source": [
        "data.shape"
      ],
      "execution_count": 31,
      "outputs": [
        {
          "output_type": "execute_result",
          "data": {
            "text/plain": [
              "(12811, 16)"
            ]
          },
          "metadata": {
            "tags": []
          },
          "execution_count": 31
        }
      ]
    },
    {
      "cell_type": "code",
      "metadata": {
        "id": "fbBtg9K-XPRu"
      },
      "source": [
        "#혹시 모르니 깊은 복사로 진행\n",
        "y = data['Label'].copy()\n",
        "X = data.drop('Label', axis=1).copy()"
      ],
      "execution_count": 168,
      "outputs": []
    },
    {
      "cell_type": "code",
      "metadata": {
        "id": "8JEhD6NtV4bx"
      },
      "source": [
        "from tensorflow.keras.models import Sequential\n",
        "from tensorflow.keras.layers import Dense, LSTM, Attention\n",
        "import tensorflow.keras.layers as Layer\n",
        "from sklearn.model_selection import train_test_split\n",
        "\n",
        "# 케라스 외의 필요한 라이브러리를 불러옵니다.\n",
        "import numpy as np\n",
        "import pandas as pd\n",
        "import tensorflow as tf\n",
        "# 실행할 때마다 같은 결과를 출력하기 랜덤함수를 고정하는 부분입니다.\n",
        "# 랜덤함수의 Seed를 고정하게 되면 랜덤함수가 항상 일정하게 나옵니다. \n",
        "np.random.seed(3)\n",
        "tf.random.set_seed(3)"
      ],
      "execution_count": 169,
      "outputs": []
    },
    {
      "cell_type": "code",
      "metadata": {
        "id": "eaHkEcLDfAcW"
      },
      "source": [
        "X_train, X_test, y_train, y_test = train_test_split(X, y, test_size= 0.2, random_state=42)\n",
        "X_train, X_val, y_train, y_val = train_test_split(X_train, y_train, test_size=0.2, random_state= 42)"
      ],
      "execution_count": 46,
      "outputs": []
    },
    {
      "cell_type": "code",
      "metadata": {
        "id": "v56RWj89fHY2",
        "colab": {
          "base_uri": "https://localhost:8080/"
        },
        "outputId": "7f904d69-e33c-4ad1-be65-33ee9d2fd05d"
      },
      "source": [
        "X_train.shape"
      ],
      "execution_count": 96,
      "outputs": [
        {
          "output_type": "execute_result",
          "data": {
            "text/plain": [
              "(8198, 18)"
            ]
          },
          "metadata": {
            "tags": []
          },
          "execution_count": 96
        }
      ]
    },
    {
      "cell_type": "code",
      "metadata": {
        "id": "Kwc-jzBMeGK0",
        "outputId": "19362f17-f092-4118-c513-1337d015272d",
        "colab": {
          "base_uri": "https://localhost:8080/"
        }
      },
      "source": [
        "from category_encoders import OneHotEncoder\n",
        "from sklearn.compose import make_column_transformer\n",
        "from sklearn.pipeline import make_pipeline\n",
        "from sklearn.preprocessing import StandardScaler\n",
        "\n",
        "transformer = make_column_transformer( (OneHotEncoder(), ['gender', 'ethnicity']), remainder='passthrough')\n",
        "transformer = make_pipeline(\n",
        "    transformer,\n",
        "    StandardScaler(),  \n",
        ")\n",
        "\n",
        "transformer.fit(X)\n",
        "X= transformer.transform(X)\n",
        "\n",
        "\n"
      ],
      "execution_count": 170,
      "outputs": [
        {
          "output_type": "stream",
          "text": [
            "/usr/local/lib/python3.7/dist-packages/category_encoders/utils.py:21: FutureWarning: is_categorical is deprecated and will be removed in a future version.  Use is_categorical_dtype instead\n",
            "  elif pd.api.types.is_categorical(cols):\n"
          ],
          "name": "stderr"
        }
      ]
    },
    {
      "cell_type": "code",
      "metadata": {
        "id": "91_AeLIAPr6d",
        "outputId": "4f7103d3-d91e-4e0b-a599-656b1d285697",
        "colab": {
          "base_uri": "https://localhost:8080/"
        }
      },
      "source": [
        "X[0]"
      ],
      "execution_count": 177,
      "outputs": [
        {
          "output_type": "execute_result",
          "data": {
            "text/plain": [
              "array([[ 0.50156067, -0.50156067,  0.50204819, -0.33375238, -0.33533899,\n",
              "        -1.56613795, -0.18591779,  0.63433386, -0.1846232 ,  0.35529362,\n",
              "        -0.47651018, -0.31721696, -0.10561319, -0.15764201,  0.09452325,\n",
              "         0.08793838,  0.04554371, -0.16992292]])"
            ]
          },
          "metadata": {
            "tags": []
          },
          "execution_count": 177
        }
      ]
    },
    {
      "cell_type": "code",
      "metadata": {
        "id": "SBdD4CwMSSjj"
      },
      "source": [
        "y = np.array(y)"
      ],
      "execution_count": 172,
      "outputs": []
    },
    {
      "cell_type": "code",
      "metadata": {
        "id": "x5ujHMciSnbQ",
        "outputId": "47473ded-410b-4dac-f59f-abd88549b500",
        "colab": {
          "base_uri": "https://localhost:8080/"
        }
      },
      "source": [
        "y"
      ],
      "execution_count": 173,
      "outputs": [
        {
          "output_type": "execute_result",
          "data": {
            "text/plain": [
              "array([0, 0, 0, ..., 0, 0, 0])"
            ]
          },
          "metadata": {
            "tags": []
          },
          "execution_count": 173
        }
      ]
    },
    {
      "cell_type": "code",
      "metadata": {
        "id": "ay6qh_GEGL7G",
        "outputId": "28e5b132-9b82-4380-cb8b-208f8223dedf",
        "colab": {
          "base_uri": "https://localhost:8080/"
        }
      },
      "source": [
        "X.shape, y.shape"
      ],
      "execution_count": 176,
      "outputs": [
        {
          "output_type": "execute_result",
          "data": {
            "text/plain": [
              "((12811, 1, 18), (12811,))"
            ]
          },
          "metadata": {
            "tags": []
          },
          "execution_count": 176
        }
      ]
    },
    {
      "cell_type": "code",
      "metadata": {
        "id": "2poVy8J6Oe7G"
      },
      "source": [
        "X = X[:,np.newaxis]\n"
      ],
      "execution_count": 175,
      "outputs": []
    },
    {
      "cell_type": "code",
      "metadata": {
        "id": "Zt2LzHTc9qSz"
      },
      "source": [
        "dataset = tf.data.Dataset.from_tensor_slices((X, y))\n",
        "\n",
        "train_size =int(X.shape[0] * 0.7)\n",
        "val_size = int(X.shape[0]* 0.15)\n",
        "test_size = int(X.shape[0]*0.15)\n",
        "\n",
        "dataset = dataset.shuffle(len(X))\n",
        "train_data = dataset.take(train_size)\n",
        "remain = dataset.skip(train_size)\n",
        "val_data = remain.take(val_size)\n",
        "test_data = remain.skip(val_size)"
      ],
      "execution_count": 178,
      "outputs": []
    },
    {
      "cell_type": "code",
      "metadata": {
        "id": "65_jOQcwKiHZ"
      },
      "source": [
        "train_data = train_data.batch(128)"
      ],
      "execution_count": 179,
      "outputs": []
    },
    {
      "cell_type": "code",
      "metadata": {
        "id": "EGus_PLnNRMa",
        "outputId": "29b24438-c522-4c6d-f0cf-5e44f7e15af9",
        "colab": {
          "base_uri": "https://localhost:8080/"
        }
      },
      "source": [
        "train_data"
      ],
      "execution_count": 180,
      "outputs": [
        {
          "output_type": "execute_result",
          "data": {
            "text/plain": [
              "<BatchDataset shapes: ((None, 1, 18), (None,)), types: (tf.float64, tf.int64)>"
            ]
          },
          "metadata": {
            "tags": []
          },
          "execution_count": 180
        }
      ]
    },
    {
      "cell_type": "code",
      "metadata": {
        "id": "HITMchyoWNB5"
      },
      "source": [
        "val_data = val_data.batch(128)"
      ],
      "execution_count": 183,
      "outputs": []
    },
    {
      "cell_type": "code",
      "metadata": {
        "id": "YUVnE8zlWYAw",
        "outputId": "af5a0bc9-2a92-4554-a9f4-7ff33f1e794c",
        "colab": {
          "base_uri": "https://localhost:8080/"
        }
      },
      "source": [
        "val_data"
      ],
      "execution_count": 184,
      "outputs": [
        {
          "output_type": "execute_result",
          "data": {
            "text/plain": [
              "<BatchDataset shapes: ((None, 1, 18), (None,)), types: (tf.float64, tf.int64)>"
            ]
          },
          "metadata": {
            "tags": []
          },
          "execution_count": 184
        }
      ]
    },
    {
      "cell_type": "code",
      "metadata": {
        "id": "6X15J584-gJX"
      },
      "source": [
        "from tensorflow.keras.layers import Dense, LSTM, Conv1D, Lambda, Flatten\n"
      ],
      "execution_count": 163,
      "outputs": []
    },
    {
      "cell_type": "code",
      "metadata": {
        "id": "ioWETyC4uPBf",
        "colab": {
          "base_uri": "https://localhost:8080/"
        },
        "outputId": "d40224bf-fab1-4216-c981-2ad0d7b26ab7"
      },
      "source": [
        "# 모델 구성을 확인합니다.\n",
        "inputs = tf.keras.Input(shape=(1, 18))#lstm takes 3d input of the shape [batch_size, timesteps, feature]\n",
        "#time steps is the number of the input feature and the features is the number corresponding output value we want to predict\n",
        "Dense1 = Dense(64, activation = 'relu')(inputs)\n",
        "Dense2 = Dense(128, activation = 'relu')(Dense1)\n",
        "lstm_1=  LSTM(256, return_sequences = True)(Dense2)\n",
        "drop = Layer.Dropout(0.2)(lstm_1)\n",
        "lstm_3=  LSTM(256, return_sequences = True)(drop)\n",
        "drop2 = Layer.Dropout(0.2)(lstm_3)\n",
        "# att_ = Attention(256)(drop2)\n",
        "Dense_1 = Dense(128, activation = 'relu')(drop2)\n",
        "Dense_2 = Dense(1, activation='sigmoid')(Dense_1)\n",
        "outputs =  Flatten()(Dense_2)\n",
        "\n",
        "model = tf.keras.Model(inputs, outputs)\n",
        "# 업데이트 방식을 설정합니다.\n",
        "model.compile(optimizer='adam'\n",
        "             , loss='binary_crossentropy'\n",
        "             , metrics=['accuracy' , tf.keras.metrics.AUC(name='auc')])\n",
        "model.summary()\n",
        "# 총 7850 parameters (10 bias)"
      ],
      "execution_count": 165,
      "outputs": [
        {
          "output_type": "stream",
          "text": [
            "Model: \"model_8\"\n",
            "_________________________________________________________________\n",
            "Layer (type)                 Output Shape              Param #   \n",
            "=================================================================\n",
            "input_14 (InputLayer)        [(None, 1, 18)]           0         \n",
            "_________________________________________________________________\n",
            "dense_98 (Dense)             (None, 1, 64)             1216      \n",
            "_________________________________________________________________\n",
            "dense_99 (Dense)             (None, 1, 128)            8320      \n",
            "_________________________________________________________________\n",
            "lstm_35 (LSTM)               (None, 1, 256)            394240    \n",
            "_________________________________________________________________\n",
            "dropout_67 (Dropout)         (None, 1, 256)            0         \n",
            "_________________________________________________________________\n",
            "lstm_36 (LSTM)               (None, 1, 256)            525312    \n",
            "_________________________________________________________________\n",
            "dropout_68 (Dropout)         (None, 1, 256)            0         \n",
            "_________________________________________________________________\n",
            "dense_100 (Dense)            (None, 1, 128)            32896     \n",
            "_________________________________________________________________\n",
            "dense_101 (Dense)            (None, 1, 1)              129       \n",
            "_________________________________________________________________\n",
            "flatten_1 (Flatten)          (None, 1)                 0         \n",
            "=================================================================\n",
            "Total params: 962,113\n",
            "Trainable params: 962,113\n",
            "Non-trainable params: 0\n",
            "_________________________________________________________________\n"
          ],
          "name": "stdout"
        }
      ]
    },
    {
      "cell_type": "code",
      "metadata": {
        "id": "HfwFWO23ucIL",
        "colab": {
          "base_uri": "https://localhost:8080/",
          "height": 685
        },
        "outputId": "10167d8e-4496-403a-c84d-382b3132a549"
      },
      "source": [
        "import keras\n",
        "# overfitting을 방지하기 위해서 학습 중 early stop을 수행하기 위한 코드입니다.\n",
        "# early_stop = keras.callbacks.EarlyStopping(monitor='val_loss', min_delta=0, patience=10, verbose=1)\n",
        "\n",
        "# Validation Set을 기준으로 가장 최적의 모델을 찾기 위한 코드입니다.\n",
        "# save_best = tf.keras.callbacks.ModelCheckpoint(\n",
        "#     filepath=checkpoint_filepath, monitor='val_loss', verbose=1, save_best_only=True,\n",
        "#     save_weights_only=True, mode='auto', save_freq='epoch', options=None)\n",
        "\n",
        "history = model.fit(train_data,validation_data=val_data, epochs=50, verbose=1 )"
      ],
      "execution_count": 185,
      "outputs": [
        {
          "output_type": "stream",
          "text": [
            "Epoch 1/50\n"
          ],
          "name": "stdout"
        },
        {
          "output_type": "error",
          "ename": "TypeError",
          "evalue": "ignored",
          "traceback": [
            "\u001b[0;31m---------------------------------------------------------------------------\u001b[0m",
            "\u001b[0;31mTypeError\u001b[0m                                 Traceback (most recent call last)",
            "\u001b[0;32m<ipython-input-185-9fdc53b83663>\u001b[0m in \u001b[0;36m<module>\u001b[0;34m()\u001b[0m\n\u001b[1;32m      8\u001b[0m \u001b[0;31m#     save_weights_only=True, mode='auto', save_freq='epoch', options=None)\u001b[0m\u001b[0;34m\u001b[0m\u001b[0;34m\u001b[0m\u001b[0;34m\u001b[0m\u001b[0m\n\u001b[1;32m      9\u001b[0m \u001b[0;34m\u001b[0m\u001b[0m\n\u001b[0;32m---> 10\u001b[0;31m \u001b[0mhistory\u001b[0m \u001b[0;34m=\u001b[0m \u001b[0mmodel\u001b[0m\u001b[0;34m.\u001b[0m\u001b[0mfit\u001b[0m\u001b[0;34m(\u001b[0m\u001b[0mtrain_data\u001b[0m\u001b[0;34m,\u001b[0m\u001b[0mvalidation_data\u001b[0m\u001b[0;34m=\u001b[0m\u001b[0mval_data\u001b[0m\u001b[0;34m,\u001b[0m \u001b[0mepochs\u001b[0m\u001b[0;34m=\u001b[0m\u001b[0;36m50\u001b[0m\u001b[0;34m,\u001b[0m \u001b[0mverbose\u001b[0m\u001b[0;34m=\u001b[0m\u001b[0;36m1\u001b[0m \u001b[0;34m)\u001b[0m\u001b[0;34m\u001b[0m\u001b[0;34m\u001b[0m\u001b[0m\n\u001b[0m",
            "\u001b[0;32m/usr/local/lib/python3.7/dist-packages/tensorflow/python/keras/engine/training.py\u001b[0m in \u001b[0;36mfit\u001b[0;34m(self, x, y, batch_size, epochs, verbose, callbacks, validation_split, validation_data, shuffle, class_weight, sample_weight, initial_epoch, steps_per_epoch, validation_steps, validation_batch_size, validation_freq, max_queue_size, workers, use_multiprocessing)\u001b[0m\n\u001b[1;32m   1181\u001b[0m                 _r=1):\n\u001b[1;32m   1182\u001b[0m               \u001b[0mcallbacks\u001b[0m\u001b[0;34m.\u001b[0m\u001b[0mon_train_batch_begin\u001b[0m\u001b[0;34m(\u001b[0m\u001b[0mstep\u001b[0m\u001b[0;34m)\u001b[0m\u001b[0;34m\u001b[0m\u001b[0;34m\u001b[0m\u001b[0m\n\u001b[0;32m-> 1183\u001b[0;31m               \u001b[0mtmp_logs\u001b[0m \u001b[0;34m=\u001b[0m \u001b[0mself\u001b[0m\u001b[0;34m.\u001b[0m\u001b[0mtrain_function\u001b[0m\u001b[0;34m(\u001b[0m\u001b[0miterator\u001b[0m\u001b[0;34m)\u001b[0m\u001b[0;34m\u001b[0m\u001b[0;34m\u001b[0m\u001b[0m\n\u001b[0m\u001b[1;32m   1184\u001b[0m               \u001b[0;32mif\u001b[0m \u001b[0mdata_handler\u001b[0m\u001b[0;34m.\u001b[0m\u001b[0mshould_sync\u001b[0m\u001b[0;34m:\u001b[0m\u001b[0;34m\u001b[0m\u001b[0;34m\u001b[0m\u001b[0m\n\u001b[1;32m   1185\u001b[0m                 \u001b[0mcontext\u001b[0m\u001b[0;34m.\u001b[0m\u001b[0masync_wait\u001b[0m\u001b[0;34m(\u001b[0m\u001b[0;34m)\u001b[0m\u001b[0;34m\u001b[0m\u001b[0;34m\u001b[0m\u001b[0m\n",
            "\u001b[0;32m/usr/local/lib/python3.7/dist-packages/tensorflow/python/eager/def_function.py\u001b[0m in \u001b[0;36m__call__\u001b[0;34m(self, *args, **kwds)\u001b[0m\n\u001b[1;32m    887\u001b[0m \u001b[0;34m\u001b[0m\u001b[0m\n\u001b[1;32m    888\u001b[0m       \u001b[0;32mwith\u001b[0m \u001b[0mOptionalXlaContext\u001b[0m\u001b[0;34m(\u001b[0m\u001b[0mself\u001b[0m\u001b[0;34m.\u001b[0m\u001b[0m_jit_compile\u001b[0m\u001b[0;34m)\u001b[0m\u001b[0;34m:\u001b[0m\u001b[0;34m\u001b[0m\u001b[0;34m\u001b[0m\u001b[0m\n\u001b[0;32m--> 889\u001b[0;31m         \u001b[0mresult\u001b[0m \u001b[0;34m=\u001b[0m \u001b[0mself\u001b[0m\u001b[0;34m.\u001b[0m\u001b[0m_call\u001b[0m\u001b[0;34m(\u001b[0m\u001b[0;34m*\u001b[0m\u001b[0margs\u001b[0m\u001b[0;34m,\u001b[0m \u001b[0;34m**\u001b[0m\u001b[0mkwds\u001b[0m\u001b[0;34m)\u001b[0m\u001b[0;34m\u001b[0m\u001b[0;34m\u001b[0m\u001b[0m\n\u001b[0m\u001b[1;32m    890\u001b[0m \u001b[0;34m\u001b[0m\u001b[0m\n\u001b[1;32m    891\u001b[0m       \u001b[0mnew_tracing_count\u001b[0m \u001b[0;34m=\u001b[0m \u001b[0mself\u001b[0m\u001b[0;34m.\u001b[0m\u001b[0mexperimental_get_tracing_count\u001b[0m\u001b[0;34m(\u001b[0m\u001b[0;34m)\u001b[0m\u001b[0;34m\u001b[0m\u001b[0;34m\u001b[0m\u001b[0m\n",
            "\u001b[0;32m/usr/local/lib/python3.7/dist-packages/tensorflow/python/eager/def_function.py\u001b[0m in \u001b[0;36m_call\u001b[0;34m(self, *args, **kwds)\u001b[0m\n\u001b[1;32m    915\u001b[0m       \u001b[0;31m# In this case we have created variables on the first call, so we run the\u001b[0m\u001b[0;34m\u001b[0m\u001b[0;34m\u001b[0m\u001b[0;34m\u001b[0m\u001b[0m\n\u001b[1;32m    916\u001b[0m       \u001b[0;31m# defunned version which is guaranteed to never create variables.\u001b[0m\u001b[0;34m\u001b[0m\u001b[0;34m\u001b[0m\u001b[0;34m\u001b[0m\u001b[0m\n\u001b[0;32m--> 917\u001b[0;31m       \u001b[0;32mreturn\u001b[0m \u001b[0mself\u001b[0m\u001b[0;34m.\u001b[0m\u001b[0m_stateless_fn\u001b[0m\u001b[0;34m(\u001b[0m\u001b[0;34m*\u001b[0m\u001b[0margs\u001b[0m\u001b[0;34m,\u001b[0m \u001b[0;34m**\u001b[0m\u001b[0mkwds\u001b[0m\u001b[0;34m)\u001b[0m  \u001b[0;31m# pylint: disable=not-callable\u001b[0m\u001b[0;34m\u001b[0m\u001b[0;34m\u001b[0m\u001b[0m\n\u001b[0m\u001b[1;32m    918\u001b[0m     \u001b[0;32melif\u001b[0m \u001b[0mself\u001b[0m\u001b[0;34m.\u001b[0m\u001b[0m_stateful_fn\u001b[0m \u001b[0;32mis\u001b[0m \u001b[0;32mnot\u001b[0m \u001b[0;32mNone\u001b[0m\u001b[0;34m:\u001b[0m\u001b[0;34m\u001b[0m\u001b[0;34m\u001b[0m\u001b[0m\n\u001b[1;32m    919\u001b[0m       \u001b[0;31m# Release the lock early so that multiple threads can perform the call\u001b[0m\u001b[0;34m\u001b[0m\u001b[0;34m\u001b[0m\u001b[0;34m\u001b[0m\u001b[0m\n",
            "\u001b[0;31mTypeError\u001b[0m: 'NoneType' object is not callable"
          ]
        }
      ]
    },
    {
      "cell_type": "code",
      "metadata": {
        "id": "Ug2Fzc3j3_Yk"
      },
      "source": [
        "y_true=np.array(y_val) # one dimension\n",
        "y_pred=np.squeeze(model.predict(X_val))#2dimension so write np.squeeze to amke it one dimension\n",
        "y_pred=np.array(y_pred>=0.5,dtype=np.int)"
      ],
      "execution_count": 27,
      "outputs": []
    },
    {
      "cell_type": "code",
      "metadata": {
        "id": "rQJqDcj84NoV",
        "colab": {
          "base_uri": "https://localhost:8080/",
          "height": 295
        },
        "outputId": "7dd67e2c-e10a-4aed-ed17-e83dec683497"
      },
      "source": [
        "from sklearn.metrics import confusion_matrix,classification_report\n",
        "\n",
        "cm = confusion_matrix(y_true, y_pred)\n",
        "\n",
        "plt.figure(figsize=(4, 4))\n",
        "\n",
        "sns.heatmap(cm, annot=True, fmt='g', vmin=0, cbar=False)\n",
        "\n",
        "plt.xlabel(\"Predicted\")\n",
        "plt.ylabel(\"Actual\")\n",
        "plt.title(\"Confusion Matrix\")\n",
        "\n",
        "plt.show()"
      ],
      "execution_count": 28,
      "outputs": [
        {
          "output_type": "display_data",
          "data": {
            "image/png": "[encoded data removed]",
            "text/plain": [
              "<Figure size 288x288 with 1 Axes>"
            ]
          },
          "metadata": {
            "tags": [],
            "needs_background": "light"
          }
        }
      ]
    },
    {
      "cell_type": "code",
      "metadata": {
        "id": "reE5C6O74WJz",
        "colab": {
          "base_uri": "https://localhost:8080/"
        },
        "outputId": "f856ea5c-5783-4290-f334-c43095a873d6"
      },
      "source": [
        "print(classification_report(y_true, y_pred))"
      ],
      "execution_count": 24,
      "outputs": [
        {
          "output_type": "stream",
          "text": [
            "              precision    recall  f1-score   support\n",
            "\n",
            "           0       0.69      0.53      0.60      1023\n",
            "           1       0.62      0.76      0.68      1027\n",
            "\n",
            "    accuracy                           0.64      2050\n",
            "   macro avg       0.65      0.64      0.64      2050\n",
            "weighted avg       0.65      0.64      0.64      2050\n",
            "\n"
          ],
          "name": "stdout"
        }
      ]
    },
    {
      "cell_type": "code",
      "metadata": {
        "id": "VBFuNUj0bVnc",
        "colab": {
          "base_uri": "https://localhost:8080/"
        },
        "outputId": "4daef9fc-c558-4cbb-865a-6ce19da135f1"
      },
      "source": [
        "#base\n",
        "\n",
        "y_base1 = [1] * len(y_val)\n",
        "\n",
        "\n",
        "confusion = confusion_matrix(y_val, y_base1)\n",
        "accuracy = accuracy_score(y_val, y_base1)\n",
        "precision = precision_score(y_val, y_base1)\n",
        "recall = recall_score(y_val, y_base1)\n",
        "F1 = f1_score(y_val, y_base1)\n",
        "roc_auc = roc_auc_score(y_val, y_base1)\n",
        "\n",
        "print('오차행렬')\n",
        "print(confusion)\n",
        "\n",
        "print('정확도: {0}, 정밀도: {1}, 재현율: {2}, F1: {3}, auc:{4}'.format(accuracy, precision, recall, F1, roc_auc))"
      ],
      "execution_count": null,
      "outputs": [
        {
          "output_type": "stream",
          "text": [
            "오차행렬\n",
            "[[   0 1023]\n",
            " [   0 1027]]\n",
            "정확도: 0.5009756097560976, 정밀도: 0.5009756097560976, 재현율: 1.0, F1: 0.6675333116672083, auc:0.5\n"
          ],
          "name": "stdout"
        }
      ]
    },
    {
      "cell_type": "code",
      "metadata": {
        "id": "QD-ho4dSftDF"
      },
      "source": [
        "# 여러 ML 사용해보기- > 트리 계열은 과적합이 나옴 그나마 랜덤포레스트 모델, XGBoost, LGBM 이 70퍼센트 나옴"
      ],
      "execution_count": null,
      "outputs": []
    },
    {
      "cell_type": "code",
      "metadata": {
        "id": "hlWu9HukgaXA",
        "colab": {
          "base_uri": "https://localhost:8080/"
        },
        "outputId": "34836ed4-ea2c-4d41-ecd7-0035741c8e96"
      },
      "source": [
        "from sklearn.ensemble import RandomForestClassifier\n",
        "\n",
        "forest_model = RandomForestClassifier()\n",
        "forest_model.fit(X_train, y_train)\n",
        "y_pred = forest_model.predict(X_val)\n",
        "y_proba = forest_model.predict_proba(X_val)[:,1]\n",
        "\n",
        "eval(y_val, y_pred, y_proba)"
      ],
      "execution_count": null,
      "outputs": [
        {
          "output_type": "stream",
          "text": [
            "오차행렬\n",
            "[[728 295]\n",
            " [276 751]]\n",
            "정확도: 0.7215, 정밀도: 0.7180, 재현율: 0.7313, F1: 0.7246, AUC: 0.7891\n"
          ],
          "name": "stdout"
        }
      ]
    },
    {
      "cell_type": "code",
      "metadata": {
        "id": "n1xtzrI-deRy"
      },
      "source": [
        "forest_param ={   'n_estimators':[10,50,100,200] ,\n",
        "                  'criterion': ['gini', 'entropy'], \n",
        "                  'max_depth':[5, 10, 20, 30, 50, None]\n",
        "                }\n",
        "\n",
        "grid_search_forest = GridSearchCV(forest_model, forest_param, cv =10, scoring='roc_auc')\n",
        "grid_search_forest.fit(X_train, y_train)"
      ],
      "execution_count": null,
      "outputs": []
    },
    {
      "cell_type": "code",
      "metadata": {
        "id": "i9yxQbm_tVze"
      },
      "source": [
        "grid_search_forest.best_estimator_"
      ],
      "execution_count": null,
      "outputs": []
    },
    {
      "cell_type": "code",
      "metadata": {
        "id": "eMw4ZiyBtl5T"
      },
      "source": [
        "grid_search_forest.best_params_"
      ],
      "execution_count": null,
      "outputs": []
    },
    {
      "cell_type": "code",
      "metadata": {
        "id": "ERuyYjVjtrWJ"
      },
      "source": [
        "grid_search_forest.best_score_"
      ],
      "execution_count": null,
      "outputs": []
    },
    {
      "cell_type": "code",
      "metadata": {
        "id": "JbYds5S3tyyS",
        "colab": {
          "base_uri": "https://localhost:8080/"
        },
        "outputId": "e67ee933-32f7-4c0e-d596-f0d5d188c3cd"
      },
      "source": [
        "#fine tunning forest\n",
        "opforest_model = RandomForestClassifier(criterion= 'entropy', max_depth= 30, n_estimators= 200)\n",
        "opforest_model.fit(X_train, y_train)\n",
        "y_pred = opforest_model.predict(X_val)\n",
        "y_proba = opforest_model.predict_proba(X_val)[:,1]\n",
        "\n",
        "eval(y_val, y_pred, y_proba)\n",
        "\n",
        "# forest_model : 0.7185, 정밀도: 0.7103, 재현율: 0.7400, F1: 0.7248, AUC: 0.7908 -> critical하게 변하지 않았다."
      ],
      "execution_count": null,
      "outputs": [
        {
          "output_type": "stream",
          "text": [
            "오차행렬\n",
            "[[699 324]\n",
            " [269 758]]\n",
            "정확도: 0.7107, 정밀도: 0.7006, 재현율: 0.7381, F1: 0.7188, AUC: 0.7916\n"
          ],
          "name": "stdout"
        }
      ]
    },
    {
      "cell_type": "code",
      "metadata": {
        "id": "FYTAQ0u-t_HD",
        "colab": {
          "base_uri": "https://localhost:8080/"
        },
        "outputId": "903481f0-5b7b-46be-c87b-75dad2b7010c"
      },
      "source": [
        "# permuter 정의\n",
        "import eli5\n",
        "from eli5.sklearn import PermutationImportance\n",
        "\n",
        "permuter = PermutationImportance(\n",
        "    forest_model, # model\n",
        "    scoring='accuracy', # metric\n",
        "    n_iter=5, # 다른 random seed를 사용하여 5번 반복\n",
        "    random_state=2\n",
        ")\n",
        "\n",
        "# 실제로 fit 의미보다는 스코어를 다시 계산하는 작업입니다\n",
        "permuter.fit(X_val, y_val);"
      ],
      "execution_count": null,
      "outputs": [
        {
          "output_type": "stream",
          "text": [
            "/usr/local/lib/python3.7/dist-packages/sklearn/utils/deprecation.py:144: FutureWarning: The sklearn.feature_selection.base module is  deprecated in version 0.22 and will be removed in version 0.24. The corresponding classes / functions should instead be imported from sklearn.feature_selection. Anything that cannot be imported from sklearn.feature_selection is now part of the private API.\n",
            "  warnings.warn(message, FutureWarning)\n"
          ],
          "name": "stderr"
        }
      ]
    },
    {
      "cell_type": "code",
      "metadata": {
        "id": "90Xv_e3JuDyh",
        "colab": {
          "base_uri": "https://localhost:8080/"
        },
        "outputId": "d34d36e8-4bc4-40ea-ede3-0a7cbb214910"
      },
      "source": [
        "feature_names = X_val.columns.tolist()\n",
        "pd.Series(permuter.feature_importances_, feature_names).sort_values()"
      ],
      "execution_count": null,
      "outputs": [
        {
          "output_type": "execute_result",
          "data": {
            "text/plain": [
              "gender       0.009463\n",
              "Raw          0.011902\n",
              "Alpha1       0.012000\n",
              "Beta1        0.012390\n",
              "Theta        0.013463\n",
              "Alpha2       0.016585\n",
              "Beta2        0.026927\n",
              "Mediation    0.028000\n",
              "Delta        0.036683\n",
              "age          0.040878\n",
              "Gamma1       0.043512\n",
              "SubjectID    0.053366\n",
              "Gamma2       0.063805\n",
              "Attention    0.074049\n",
              "dtype: float64"
            ]
          },
          "metadata": {
            "tags": []
          },
          "execution_count": 13
        }
      ]
    },
    {
      "cell_type": "code",
      "metadata": {
        "id": "gQ3PoiiZgozo",
        "colab": {
          "base_uri": "https://localhost:8080/"
        },
        "outputId": "5efb04ce-749a-4e59-c653-85ea0def7d7c"
      },
      "source": [
        "from xgboost import XGBClassifier\n",
        "\n",
        "XG_model = XGBClassifier()\n",
        "XG_model.fit(X_train, y_train)\n",
        "\n",
        "y_pred = XG_model.predict(X_val)\n",
        "y_proba = XG_model.predict_proba(X_val)[:,1]\n",
        "\n",
        "eval(y_val, y_pred, y_proba)"
      ],
      "execution_count": null,
      "outputs": [
        {
          "output_type": "stream",
          "text": [
            "오차행렬\n",
            "[[665 358]\n",
            " [289 738]]\n",
            "정확도: 0.6844, 정밀도: 0.6734, 재현율: 0.7186, F1: 0.6952, AUC: 0.7562\n"
          ],
          "name": "stdout"
        }
      ]
    },
    {
      "cell_type": "code",
      "metadata": {
        "id": "fycyLtTNfhU9"
      },
      "source": [
        "XGB_params ={'n_estimators':[10,50,100,200] ,\n",
        "            'criterion': ['gini', 'entropy'], \n",
        "            'max_depth':[5, 10, 20, 30, 50, None],\n",
        "            'learning_rate' : [0.05 , 0.1, 0.2],\n",
        "            'subsample' : [0.7]\n",
        "                }\n",
        "\n",
        "grid_search_XGB = GridSearchCV(XG_model, XGB_params, cv =5, scoring='roc_auc')\n",
        "grid_search_XGB.fit(X_train, y_train)"
      ],
      "execution_count": null,
      "outputs": []
    },
    {
      "cell_type": "code",
      "metadata": {
        "id": "IAId3oe3pQN6"
      },
      "source": [
        "grid_search_XGB.best_estimator_"
      ],
      "execution_count": null,
      "outputs": []
    },
    {
      "cell_type": "code",
      "metadata": {
        "id": "7fCJBMw3pVXw"
      },
      "source": [
        "grid_search_XGB.best_params_"
      ],
      "execution_count": null,
      "outputs": []
    },
    {
      "cell_type": "code",
      "metadata": {
        "id": "TsKfCz4GpZDE"
      },
      "source": [
        "grid_search_XGB.best_score_"
      ],
      "execution_count": null,
      "outputs": []
    },
    {
      "cell_type": "code",
      "metadata": {
        "colab": {
          "base_uri": "https://localhost:8080/"
        },
        "id": "A0fDQkUKpkTM",
        "outputId": "660fb060-80db-4c8f-9df7-2c72b9c89f91"
      },
      "source": [
        "opXG_model = XGBClassifier(criterion = 'gini', learning_rate = 0.05, max_depth = 50, n_estimators = 200, subsample = 0.7)\n",
        "opXG_model.fit(X_train, y_train)\n",
        "\n",
        "y_pred = opXG_model.predict(X_val)\n",
        "y_proba = opXG_model.predict_proba(X_val)[:,1]\n",
        "\n",
        "eval(y_val, y_pred, y_proba)\n",
        "# 정확도: 0.6844, 정밀도: 0.6734, 재현율: 0.7186, F1: 0.6952, AUC: 0.7562 -> 전반적으로 개선이 됨"
      ],
      "execution_count": null,
      "outputs": [
        {
          "output_type": "stream",
          "text": [
            "오차행렬\n",
            "[[700 323]\n",
            " [278 749]]\n",
            "정확도: 0.7068, 정밀도: 0.6987, 재현율: 0.7293, F1: 0.7137, AUC: 0.7883\n"
          ],
          "name": "stdout"
        }
      ]
    },
    {
      "cell_type": "code",
      "metadata": {
        "id": "FAC4UGcbirMl",
        "colab": {
          "base_uri": "https://localhost:8080/"
        },
        "outputId": "d2b1b553-2bd5-4e31-9eb8-5ba59d9b4e15"
      },
      "source": [
        "from lightgbm import LGBMClassifier\n",
        "\n",
        "light_model = LGBMClassifier()\n",
        "light_model.fit(X_train, y_train)\n",
        "y_pred = light_model.predict(X_val)\n",
        "y_proba = light_model.predict_proba(X_val)[:,1]\n",
        "\n",
        "eval(y_val, y_pred, y_proba)"
      ],
      "execution_count": null,
      "outputs": [
        {
          "output_type": "stream",
          "text": [
            "오차행렬\n",
            "[[691 332]\n",
            " [290 737]]\n",
            "정확도: 0.6966, 정밀도: 0.6894, 재현율: 0.7176, F1: 0.7032, AUC: 0.7827\n"
          ],
          "name": "stdout"
        }
      ]
    },
    {
      "cell_type": "code",
      "metadata": {
        "id": "o5z9JLnNjC89"
      },
      "source": [
        "light_params ={'n_estimators':[10,50,100,200],\n",
        "               'criterion': ['gini', 'entropy'], \n",
        "               'max_depth':[5, 10, 20, 30, 50, None],\n",
        "               'learning_rate' : [0.05 , 0.1, 0.2]\n",
        "                }\n",
        "\n",
        "grid_search_light = GridSearchCV(light_model, light_params, cv =5, scoring='roc_auc')\n",
        "grid_search_light.fit(X_train, y_train)"
      ],
      "execution_count": null,
      "outputs": []
    },
    {
      "cell_type": "code",
      "metadata": {
        "id": "8XWIOjt9qRs1"
      },
      "source": [
        "grid_search_light.best_estimator_"
      ],
      "execution_count": null,
      "outputs": []
    },
    {
      "cell_type": "code",
      "metadata": {
        "id": "9X5EUKXKqWw9"
      },
      "source": [
        "grid_search_light.best_params_"
      ],
      "execution_count": null,
      "outputs": []
    },
    {
      "cell_type": "code",
      "metadata": {
        "id": "I8l-B1bzqYla"
      },
      "source": [
        "grid_search_light.best_score_"
      ],
      "execution_count": null,
      "outputs": []
    },
    {
      "cell_type": "code",
      "metadata": {
        "colab": {
          "base_uri": "https://localhost:8080/"
        },
        "id": "ZTvkThDyqfPT",
        "outputId": "c6c1a2ed-f4a0-4b52-e42c-a5c1f34b81a1"
      },
      "source": [
        "oplight_model = LGBMClassifier(criterion = 'gini', learning_rate = 0.05, max_depth = 20, n_estimators = 200)\n",
        "oplight_model.fit(X_train, y_train)\n",
        "y_pred = oplight_model.predict(X_val)\n",
        "y_proba = oplight_model.predict_proba(X_val)[:,1]\n",
        "\n",
        "eval(y_val, y_pred, y_proba)\n",
        "\n",
        "#정확도: 0.6966, 정밀도: 0.6894, 재현율: 0.7176, F1: 0.7032, AUC: 0.7827 -> 크리티컬한 변화는 없었다."
      ],
      "execution_count": null,
      "outputs": [
        {
          "output_type": "stream",
          "text": [
            "오차행렬\n",
            "[[704 319]\n",
            " [293 734]]\n",
            "정확도: 0.7015, 정밀도: 0.6971, 재현율: 0.7147, F1: 0.7058, AUC: 0.7824\n"
          ],
          "name": "stdout"
        }
      ]
    },
    {
      "cell_type": "markdown",
      "metadata": {
        "id": "QaLgmrxZjpNq"
      },
      "source": [
        "RandomForest, XGBoost, LGBM 3가지 머신러닝 모델에 대해 그리드서치 후 최적의 파라미터를 조정하였다. \n",
        "딥러닝 모델또한 적용해보고 결과를 비교 후 피쳐엔지니어링을 조금 더 생각해볼 것"
      ]
    }
  ]
}