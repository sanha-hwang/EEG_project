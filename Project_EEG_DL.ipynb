{
  "nbformat": 4,
  "nbformat_minor": 0,
  "metadata": {
    "colab": {
      "name": "Project_EEG_DL",
      "provenance": [],
      "collapsed_sections": [],
      "include_colab_link": true
    },
    "kernelspec": {
      "display_name": "Python 3",
      "name": "python3"
    }
  },
  "cells": [
    {
      "cell_type": "markdown",
      "metadata": {
        "id": "view-in-github",
        "colab_type": "text"
      },
      "source": [
        "<a href=\"https://colab.research.google.com/github/sanha-hwang/EEG_project/blob/workspace/Project_EEG_DL.ipynb\" target=\"_parent\"><img src=\"https://colab.research.google.com/assets/colab-badge.svg\" alt=\"Open In Colab\"/></a>"
      ]
    },
    {
      "cell_type": "markdown",
      "metadata": {
        "id": "OfwiuHU8_NdF"
      },
      "source": [
        "<H1>Project : EEG signal 분석 </H1>\n",
        "\n",
        "[datasetLink](https://www.kaggle.com/wanghaohan/confused-eeg)\n",
        "\n",
        "1. EEG 신호란 electroencephalography의 약자이며 '뇌전도'라고 번역된다.  전극을 통해 뇌의 전기적인 활동을 기록하는 전기생리학적 측정방법을 말한다. 뇌의 활동은 뇌파라는 전기신호를 방출하게 되고 EEG을 통해 뇌파의 스펙트럼 밀도를 분석하게 된다.    \n",
        "\n",
        "2. 데이터는 10명의 대학생을 대상으로 여러 카테고리별로 10개씩 총 20개의 동영상을 시청하면서 전두엽의 활동을 측정하여, 혼란스러울 때의 뇌파상태와 평온할 때의 뇌파상태를 측정하였습니다. 동영상에는 혼란스럽지않을 기초대수학 또는 기하학을 소개하는 온라인 교육영상이 있으며, 반대로 익숙치 않으면 혼란스러울 양자역학, 줄기세포 연구 등 과 같은 주제의 교육영상이 있습니다. 동영상 길이는 약 2분이며, 영상을 조금 더 혼란스럽게 만들기 위해 주제 중간에 2분클립을 잘랐습니다.\n",
        "\n",
        "\n",
        "3. 학생들은 전두엽의 활동을 측정하는 단일 무선채널의 mindset을 착용하였으며, Mindset은 이마에 있는 전극과 귀에 각각 접촉하는 두 개의 전극 사이의 전압을 측정하였습니다.    \n",
        "\n",
        "4. 각 학생들은 세션이 끝난 후, 자신의 혼란 정도를 1-7의 척도로 평가하였으며, 1은 최저, 7은 최고 레벨입니다. 혼란정도는 정규화되어 labeling 되었다.\n",
        "\n",
        "5. column 분석\n",
        "  - 'SubjectID': 피실험자 ID\n",
        "  - ' age': 피실험자 나이\n",
        "  - ' ethnicity' :피실험자 민족\n",
        "  - ' gender': 피실험자 성별\n",
        "  -  'VideoID': 시청한 비디오영상번호\n",
        "  - 'Attention': 집중도 수치\n",
        "  - 'Mediation': 평온함 수치\n",
        "  - 'Raw': EEG 장비로 측정하여 나온 수치\n",
        "  - 'Delta': Raw를 가공하여 나온 1-3Hz Power Spectrum\n",
        "  - 'Theta': Raw를 가공하여 나온 4-7Hz Power Spectrum\n",
        "  - 'Alpha1': Raw를 가공하여 나온 Lower 8-11Hz Power Spectrum\n",
        "  - 'Alpha2': Raw를 가공하여 나온 High 8-11Hz Power Spectrum\n",
        "  - 'Beta1': Raw를 가공하여 나온 Lower 12-29Hz Power Spectrum\n",
        "  - 'Beta2': Raw를 가공하여 나온 High 12-29Hz Power Spectrum\n",
        "  - 'Gamma1': Raw를 가공하여 나온 Lower 30-100Hz Power Spectrum\n",
        "  - 'Gamma2': Raw를 가공하여 나온 High 30-100Hz Power Spectrum\n",
        "  - 'predefinedlabel': Subject의 expected confusion level\n",
        "  - 'user-definedlabeln': Subject의 actually confusion level\n",
        "\n",
        "6. Brain wave 정리   \n",
        "  - Delta wave: 깊은 수면을 취할 때, 약하게 깨어 있을 때 혹은 무의식 일 때의 뇌파, 잠잘 때 장기기억, 해마가 작용할 때나오는 뇌파    \n",
        "부족한 경우- 불면증,세타파가 나오게 되면 깊은 수면을 취할 수 없음, 과할 경우 - 늘 뇌가 피곤해 있고 무기력해질 우려가 있음\n",
        "\n",
        "  - Theta wave:  꾸벅꾸벅 조는 상태, - 여명상태, 내면의식, 기억력, 창의력, 명상, 퍼포먼스 ,신비하고 미묘한  것이어서 실험자들이 연구하기 어려웟음, 세타파에 있는 동안, 의식을 유지하기 어렵기 때문   \n",
        "부족한 경우- 창의력부족, 예민, 과할 경우- 안정성이 없음,늘 에너지가 없어보임\n",
        "\n",
        "  - Alpha wave : 눈을 감고 편안한 상태, 집중하지 않은 상태일 때, 뇌파활동은 느려짐, 아주 편안하게 이완되고 정신적으로 집중되지 않는 상태, 알파상태에는 두뇌의 '중립' 또는 한가한 상태처럼 보이나, 건강하고 스트레스에 지배받지 않는 사람들은 많은 양의 알파파를 만들어냄,\n",
        "알파파의 결핍: 불안, 스트레스, 뇌 활성 저하, 과도한 의식활동(산만함)에 노출, 이완능력, 에너지, 기억력, 창의력 강화훈련 필요\n",
        "SM알파파: 알파파 끝부분, 생리적으로 이완 상태, 의식적으로 각성된 상태, 면역력이나 스트레스에 대한 저항능력\n",
        "각성능력을 보여주는 지표, 두뇌활동에 가장 중심적 뇌파\n",
        "오감에서 들어오는 외부의 감각센서와 운동능력    \n",
        "부족한 경우-긴장과 불안에 매일 수 있음, 과한경우-급한 것이 없음, 일처리에 맺고 끊는 맛이 없음\n",
        "\n",
        "  - Beta wave: 일반적으로 외부세계에 꺠어 있을 때, 눈을 뜨고 집중하는 상태, 구체적이고특별한 문제를 다루고 있을 때, 상대방이 어떻게 나올지 집중하는 상태\n",
        "특히 14-40, 두뇌에서 가장 지배적이고 강력하게 활동, 민첩성, 각성 ,집중, 인식력과 관련, 과도할 경우 불안 유발   \n",
        "부족한 경우-매사에 의욕이 없음, 과한 경우- 산만한 활동, 행동의 자제가 되지 않아 함부로 행동\n",
        "\n",
        "\n",
        "\n",
        "\n",
        "\n"
      ]
    },
    {
      "cell_type": "markdown",
      "metadata": {
        "id": "uy7X76B-QT2_"
      },
      "source": [
        ""
      ]
    },
    {
      "cell_type": "code",
      "metadata": {
        "id": "2VxIQhjjtRh_",
        "colab": {
          "base_uri": "https://localhost:8080/"
        },
        "outputId": "244ee80d-91cb-47fb-9d44-5273605ba0ea"
      },
      "source": [
        "pip install eli5"
      ],
      "execution_count": null,
      "outputs": [
        {
          "output_type": "stream",
          "text": [
            "Collecting eli5\n",
            "  Downloading eli5-0.11.0-py2.py3-none-any.whl (106 kB)\n",
            "\u001b[K     |████████████████████████████████| 106 kB 5.1 MB/s \n",
            "\u001b[?25hRequirement already satisfied: six in /usr/local/lib/python3.7/dist-packages (from eli5) (1.15.0)\n",
            "Requirement already satisfied: jinja2 in /usr/local/lib/python3.7/dist-packages (from eli5) (2.11.3)\n",
            "Requirement already satisfied: graphviz in /usr/local/lib/python3.7/dist-packages (from eli5) (0.10.1)\n",
            "Requirement already satisfied: numpy>=1.9.0 in /usr/local/lib/python3.7/dist-packages (from eli5) (1.19.5)\n",
            "Requirement already satisfied: tabulate>=0.7.7 in /usr/local/lib/python3.7/dist-packages (from eli5) (0.8.9)\n",
            "Requirement already satisfied: scipy in /usr/local/lib/python3.7/dist-packages (from eli5) (1.4.1)\n",
            "Requirement already satisfied: scikit-learn>=0.20 in /usr/local/lib/python3.7/dist-packages (from eli5) (0.22.2.post1)\n",
            "Requirement already satisfied: attrs>16.0.0 in /usr/local/lib/python3.7/dist-packages (from eli5) (21.2.0)\n",
            "Requirement already satisfied: joblib>=0.11 in /usr/local/lib/python3.7/dist-packages (from scikit-learn>=0.20->eli5) (1.0.1)\n",
            "Requirement already satisfied: MarkupSafe>=0.23 in /usr/local/lib/python3.7/dist-packages (from jinja2->eli5) (2.0.1)\n",
            "Installing collected packages: eli5\n",
            "Successfully installed eli5-0.11.0\n"
          ],
          "name": "stdout"
        }
      ]
    },
    {
      "cell_type": "code",
      "metadata": {
        "id": "p2gMZTla2KHn",
        "colab": {
          "base_uri": "https://localhost:8080/"
        },
        "outputId": "129cb493-4370-4211-d884-5fe0b7fb2387"
      },
      "source": [
        "from google.colab import drive\n",
        "drive.mount('/content/drive')"
      ],
      "execution_count": 1,
      "outputs": [
        {
          "output_type": "stream",
          "text": [
            "Mounted at /content/drive\n"
          ],
          "name": "stdout"
        }
      ]
    },
    {
      "cell_type": "code",
      "metadata": {
        "id": "BXRC2qyx2Xp7"
      },
      "source": [
        "import pandas as pd\n",
        "import numpy as np\n",
        "\n",
        "import matplotlib.pyplot as plt\n",
        "import seaborn as sns\n",
        "\n",
        "EEG_data = pd.read_csv(\"/content/drive/MyDrive/EEG_data.csv\") # EEG 데이터 불러오기\n",
        "person_info = pd.read_csv(\"/content/drive/MyDrive/demographic_info.csv\") #실험군 데이터"
      ],
      "execution_count": 2,
      "outputs": []
    },
    {
      "cell_type": "code",
      "metadata": {
        "id": "ljvaZNYWH6cN"
      },
      "source": [
        "# data정리\n",
        "EEG_data[['SubjectID','VideoID', 'user-definedlabeln']] = EEG_data[['SubjectID','VideoID', 'user-definedlabeln']].astype(int)\n",
        "person_info.rename(columns={'subject ID':'SubjectID'}, inplace= True)\n",
        "data = person_info.merge(EEG_data,on ='SubjectID')\n",
        "data.rename(columns={' age':'age'}, inplace= True)\n",
        "data.rename(columns={' ethnicity':'ethnicity'}, inplace= True)\n",
        "data.rename(columns={' gender':'gender'}, inplace= True)\n",
        "data.rename(columns={'user-definedlabeln':'Label'}, inplace= True)\n"
      ],
      "execution_count": 3,
      "outputs": []
    },
    {
      "cell_type": "code",
      "metadata": {
        "id": "PE97RcxOOtmj"
      },
      "source": [
        "data.head()"
      ],
      "execution_count": null,
      "outputs": []
    },
    {
      "cell_type": "code",
      "metadata": {
        "id": "-chjoiDO9_cQ"
      },
      "source": [
        "data.dtypes"
      ],
      "execution_count": null,
      "outputs": []
    },
    {
      "cell_type": "code",
      "metadata": {
        "id": "nPYJOvmvVS4S"
      },
      "source": [
        "data.isnull().sum()"
      ],
      "execution_count": null,
      "outputs": []
    },
    {
      "cell_type": "code",
      "metadata": {
        "id": "QhSNN_5IVWum"
      },
      "source": [
        "data.duplicated().sum()"
      ],
      "execution_count": null,
      "outputs": []
    },
    {
      "cell_type": "code",
      "metadata": {
        "id": "kf9D0V_0UHdm",
        "colab": {
          "base_uri": "https://localhost:8080/"
        },
        "outputId": "4385a34f-29f7-456e-c060-5d46c3f28a2d"
      },
      "source": [
        "data.columns"
      ],
      "execution_count": null,
      "outputs": [
        {
          "output_type": "execute_result",
          "data": {
            "text/plain": [
              "Index(['SubjectID', 'age', 'ethnicity', 'gender', 'VideoID', 'Attention',\n",
              "       'Mediation', 'Raw', 'Delta', 'Theta', 'Alpha1', 'Alpha2', 'Beta1',\n",
              "       'Beta2', 'Gamma1', 'Gamma2', 'predefinedlabel', 'Label'],\n",
              "      dtype='object')"
            ]
          },
          "metadata": {
            "tags": []
          },
          "execution_count": 42
        }
      ]
    },
    {
      "cell_type": "code",
      "metadata": {
        "id": "IqjpCYz2TCn6"
      },
      "source": [
        "# EDA\n",
        "data.drop(columns=['predefinedlabel', 'ethnicity', 'VideoID'], inplace=True)\n",
        "data = data.replace({'gender' :{'M': 1, 'F': 0}})"
      ],
      "execution_count": 4,
      "outputs": []
    },
    {
      "cell_type": "code",
      "metadata": {
        "id": "CxLnqNoQVKBB",
        "colab": {
          "base_uri": "https://localhost:8080/",
          "height": 206
        },
        "outputId": "f545518a-b591-4528-f11d-ad2e5b827b63"
      },
      "source": [
        "data.head()"
      ],
      "execution_count": null,
      "outputs": [
        {
          "output_type": "execute_result",
          "data": {
            "text/html": [
              "<div>\n",
              "<style scoped>\n",
              "    .dataframe tbody tr th:only-of-type {\n",
              "        vertical-align: middle;\n",
              "    }\n",
              "\n",
              "    .dataframe tbody tr th {\n",
              "        vertical-align: top;\n",
              "    }\n",
              "\n",
              "    .dataframe thead th {\n",
              "        text-align: right;\n",
              "    }\n",
              "</style>\n",
              "<table border=\"1\" class=\"dataframe\">\n",
              "  <thead>\n",
              "    <tr style=\"text-align: right;\">\n",
              "      <th></th>\n",
              "      <th>SubjectID</th>\n",
              "      <th>age</th>\n",
              "      <th>gender</th>\n",
              "      <th>Attention</th>\n",
              "      <th>Mediation</th>\n",
              "      <th>Raw</th>\n",
              "      <th>Delta</th>\n",
              "      <th>Theta</th>\n",
              "      <th>Alpha1</th>\n",
              "      <th>Alpha2</th>\n",
              "      <th>Beta1</th>\n",
              "      <th>Beta2</th>\n",
              "      <th>Gamma1</th>\n",
              "      <th>Gamma2</th>\n",
              "      <th>Label</th>\n",
              "    </tr>\n",
              "  </thead>\n",
              "  <tbody>\n",
              "    <tr>\n",
              "      <th>0</th>\n",
              "      <td>0</td>\n",
              "      <td>25</td>\n",
              "      <td>1</td>\n",
              "      <td>56.0</td>\n",
              "      <td>43.0</td>\n",
              "      <td>278.0</td>\n",
              "      <td>301963.0</td>\n",
              "      <td>90612.0</td>\n",
              "      <td>33735.0</td>\n",
              "      <td>23991.0</td>\n",
              "      <td>27946.0</td>\n",
              "      <td>45097.0</td>\n",
              "      <td>33228.0</td>\n",
              "      <td>8293.0</td>\n",
              "      <td>0</td>\n",
              "    </tr>\n",
              "    <tr>\n",
              "      <th>1</th>\n",
              "      <td>0</td>\n",
              "      <td>25</td>\n",
              "      <td>1</td>\n",
              "      <td>40.0</td>\n",
              "      <td>35.0</td>\n",
              "      <td>-50.0</td>\n",
              "      <td>73787.0</td>\n",
              "      <td>28083.0</td>\n",
              "      <td>1439.0</td>\n",
              "      <td>2240.0</td>\n",
              "      <td>2746.0</td>\n",
              "      <td>3687.0</td>\n",
              "      <td>5293.0</td>\n",
              "      <td>2740.0</td>\n",
              "      <td>0</td>\n",
              "    </tr>\n",
              "    <tr>\n",
              "      <th>2</th>\n",
              "      <td>0</td>\n",
              "      <td>25</td>\n",
              "      <td>1</td>\n",
              "      <td>47.0</td>\n",
              "      <td>48.0</td>\n",
              "      <td>101.0</td>\n",
              "      <td>758353.0</td>\n",
              "      <td>383745.0</td>\n",
              "      <td>201999.0</td>\n",
              "      <td>62107.0</td>\n",
              "      <td>36293.0</td>\n",
              "      <td>130536.0</td>\n",
              "      <td>57243.0</td>\n",
              "      <td>25354.0</td>\n",
              "      <td>0</td>\n",
              "    </tr>\n",
              "    <tr>\n",
              "      <th>3</th>\n",
              "      <td>0</td>\n",
              "      <td>25</td>\n",
              "      <td>1</td>\n",
              "      <td>47.0</td>\n",
              "      <td>57.0</td>\n",
              "      <td>-5.0</td>\n",
              "      <td>2012240.0</td>\n",
              "      <td>129350.0</td>\n",
              "      <td>61236.0</td>\n",
              "      <td>17084.0</td>\n",
              "      <td>11488.0</td>\n",
              "      <td>62462.0</td>\n",
              "      <td>49960.0</td>\n",
              "      <td>33932.0</td>\n",
              "      <td>0</td>\n",
              "    </tr>\n",
              "    <tr>\n",
              "      <th>4</th>\n",
              "      <td>0</td>\n",
              "      <td>25</td>\n",
              "      <td>1</td>\n",
              "      <td>44.0</td>\n",
              "      <td>53.0</td>\n",
              "      <td>-8.0</td>\n",
              "      <td>1005145.0</td>\n",
              "      <td>354328.0</td>\n",
              "      <td>37102.0</td>\n",
              "      <td>88881.0</td>\n",
              "      <td>45307.0</td>\n",
              "      <td>99603.0</td>\n",
              "      <td>44790.0</td>\n",
              "      <td>29749.0</td>\n",
              "      <td>0</td>\n",
              "    </tr>\n",
              "  </tbody>\n",
              "</table>\n",
              "</div>"
            ],
            "text/plain": [
              "   SubjectID  age  gender  Attention  ...     Beta2   Gamma1   Gamma2  Label\n",
              "0          0   25       1       56.0  ...   45097.0  33228.0   8293.0      0\n",
              "1          0   25       1       40.0  ...    3687.0   5293.0   2740.0      0\n",
              "2          0   25       1       47.0  ...  130536.0  57243.0  25354.0      0\n",
              "3          0   25       1       47.0  ...   62462.0  49960.0  33932.0      0\n",
              "4          0   25       1       44.0  ...   99603.0  44790.0  29749.0      0\n",
              "\n",
              "[5 rows x 15 columns]"
            ]
          },
          "metadata": {
            "tags": []
          },
          "execution_count": 5
        }
      ]
    },
    {
      "cell_type": "code",
      "metadata": {
        "id": "s5lmAqnGfNKq",
        "colab": {
          "base_uri": "https://localhost:8080/"
        },
        "outputId": "b69a2c0e-0a65-40fa-84fb-97899f85478b"
      },
      "source": [
        "data.shape"
      ],
      "execution_count": null,
      "outputs": [
        {
          "output_type": "execute_result",
          "data": {
            "text/plain": [
              "(12811, 15)"
            ]
          },
          "metadata": {
            "tags": []
          },
          "execution_count": 6
        }
      ]
    },
    {
      "cell_type": "code",
      "metadata": {
        "id": "fbBtg9K-XPRu"
      },
      "source": [
        "#혹시 모르니 깊은 복사로 진행\n",
        "y = data['Label'].copy()\n",
        "X = data.drop('Label', axis=1).copy()"
      ],
      "execution_count": 5,
      "outputs": []
    },
    {
      "cell_type": "code",
      "metadata": {
        "id": "Kwc-jzBMeGK0"
      },
      "source": [
        "from sklearn.preprocessing import StandardScaler\n",
        "scaler = StandardScaler()\n",
        "X = scaler.fit_transform(X)\n"
      ],
      "execution_count": 31,
      "outputs": []
    },
    {
      "cell_type": "code",
      "metadata": {
        "id": "8JEhD6NtV4bx"
      },
      "source": [
        "from tensorflow.keras.models import Sequential\n",
        "from tensorflow.keras.layers import Dense, Flatten\n",
        "import tensorflow.keras.layers as Layer\n",
        "from sklearn.model_selection import train_test_split\n",
        "\n",
        "# 케라스 외의 필요한 라이브러리를 불러옵니다.\n",
        "import numpy as np\n",
        "import pandas as pd\n",
        "import tensorflow as tf\n",
        "# 실행할 때마다 같은 결과를 출력하기 랜덤함수를 고정하는 부분입니다.\n",
        "# 랜덤함수의 Seed를 고정하게 되면 랜덤함수가 항상 일정하게 나옵니다. \n",
        "np.random.seed(3)\n",
        "tf.random.set_seed(3)"
      ],
      "execution_count": 13,
      "outputs": []
    },
    {
      "cell_type": "code",
      "metadata": {
        "id": "eaHkEcLDfAcW"
      },
      "source": [
        "X_train, X_test, y_train, y_test = train_test_split(X, y, test_size= 0.2, random_state=42)\n",
        "X_train, X_val, y_train, y_val = train_test_split(X_train, y_train, test_size=0.2, random_state= 42)"
      ],
      "execution_count": 32,
      "outputs": []
    },
    {
      "cell_type": "code",
      "metadata": {
        "id": "v56RWj89fHY2",
        "colab": {
          "base_uri": "https://localhost:8080/"
        },
        "outputId": "a32d746a-cb89-4c15-c3c4-7fe6b2f481a3"
      },
      "source": [
        "X.shape"
      ],
      "execution_count": 33,
      "outputs": [
        {
          "output_type": "execute_result",
          "data": {
            "text/plain": [
              "(12811, 14)"
            ]
          },
          "metadata": {
            "tags": []
          },
          "execution_count": 33
        }
      ]
    },
    {
      "cell_type": "code",
      "metadata": {
        "id": "ioWETyC4uPBf",
        "outputId": "926d1bd7-86c7-48bb-8bc5-2dc3a29327ed",
        "colab": {
          "base_uri": "https://localhost:8080/"
        }
      },
      "source": [
        "# 모델 구성을 확인합니다.\n",
        "model = Sequential([\n",
        "    Dense(32, input_dim=14, activation='relu'),\n",
        "    Layer.Dropout(0.5),\n",
        "    Dense(64, activation='relu'),\n",
        "    Layer.Dropout(0.5),\n",
        "    Dense(32, activation='relu'),\n",
        "    Layer.Dropout(0.5),\n",
        "    Dense(1, activation='sigmoid') # 분류할 방법에 따라 개수를 조정해야 합니다. \n",
        "])\n",
        "# 업데이트 방식을 설정합니다.\n",
        "model.compile(optimizer='adam'\n",
        "             , loss='binary_crossentropy'\n",
        "             , metrics=['accuracy' , tf.keras.metrics.AUC(name='auc')])\n",
        "model.summary()\n",
        "# 총 7850 parameters (10 bias)"
      ],
      "execution_count": 39,
      "outputs": [
        {
          "output_type": "stream",
          "text": [
            "Model: \"sequential_8\"\n",
            "_________________________________________________________________\n",
            "Layer (type)                 Output Shape              Param #   \n",
            "=================================================================\n",
            "dense_22 (Dense)             (None, 32)                480       \n",
            "_________________________________________________________________\n",
            "dropout_11 (Dropout)         (None, 32)                0         \n",
            "_________________________________________________________________\n",
            "dense_23 (Dense)             (None, 64)                2112      \n",
            "_________________________________________________________________\n",
            "dropout_12 (Dropout)         (None, 64)                0         \n",
            "_________________________________________________________________\n",
            "dense_24 (Dense)             (None, 32)                2080      \n",
            "_________________________________________________________________\n",
            "dropout_13 (Dropout)         (None, 32)                0         \n",
            "_________________________________________________________________\n",
            "dense_25 (Dense)             (None, 1)                 33        \n",
            "=================================================================\n",
            "Total params: 4,705\n",
            "Trainable params: 4,705\n",
            "Non-trainable params: 0\n",
            "_________________________________________________________________\n"
          ],
          "name": "stdout"
        }
      ]
    },
    {
      "cell_type": "code",
      "metadata": {
        "id": "HfwFWO23ucIL",
        "outputId": "4180083d-5a29-47c8-efeb-2e5b4bc736cd",
        "colab": {
          "base_uri": "https://localhost:8080/"
        }
      },
      "source": [
        "import keras\n",
        "# overfitting을 방지하기 위해서 학습 중 early stop을 수행하기 위한 코드입니다.\n",
        "# early_stop = keras.callbacks.EarlyStopping(monitor='val_loss', min_delta=0, patience=10, verbose=1)\n",
        "\n",
        "# Validation Set을 기준으로 가장 최적의 모델을 찾기 위한 코드입니다.\n",
        "# save_best = tf.keras.callbacks.ModelCheckpoint(\n",
        "#     filepath=checkpoint_filepath, monitor='val_loss', verbose=1, save_best_only=True,\n",
        "#     save_weights_only=True, mode='auto', save_freq='epoch', options=None)\n",
        "\n",
        "model.fit(X_train, y_train, batch_size=128, epochs=50, verbose=1, validation_data=(X_val,y_val)           )"
      ],
      "execution_count": 42,
      "outputs": [
        {
          "output_type": "stream",
          "text": [
            "Epoch 1/50\n",
            "65/65 [==============================] - 0s 4ms/step - loss: 0.6360 - accuracy: 0.6384 - auc: 0.6882 - val_loss: 0.6195 - val_accuracy: 0.6707 - val_auc: 0.7301\n",
            "Epoch 2/50\n",
            "65/65 [==============================] - 0s 3ms/step - loss: 0.6328 - accuracy: 0.6425 - auc: 0.6937 - val_loss: 0.6163 - val_accuracy: 0.6751 - val_auc: 0.7308\n",
            "Epoch 3/50\n",
            "65/65 [==============================] - 0s 3ms/step - loss: 0.6363 - accuracy: 0.6432 - auc: 0.6923 - val_loss: 0.6176 - val_accuracy: 0.6737 - val_auc: 0.7307\n",
            "Epoch 4/50\n",
            "65/65 [==============================] - 0s 4ms/step - loss: 0.6366 - accuracy: 0.6420 - auc: 0.6909 - val_loss: 0.6174 - val_accuracy: 0.6683 - val_auc: 0.7322\n",
            "Epoch 5/50\n",
            "65/65 [==============================] - 0s 3ms/step - loss: 0.6327 - accuracy: 0.6448 - auc: 0.6954 - val_loss: 0.6149 - val_accuracy: 0.6717 - val_auc: 0.7325\n",
            "Epoch 6/50\n",
            "65/65 [==============================] - 0s 4ms/step - loss: 0.6293 - accuracy: 0.6476 - auc: 0.6994 - val_loss: 0.6166 - val_accuracy: 0.6776 - val_auc: 0.7318\n",
            "Epoch 7/50\n",
            "65/65 [==============================] - 0s 3ms/step - loss: 0.6363 - accuracy: 0.6452 - auc: 0.6901 - val_loss: 0.6188 - val_accuracy: 0.6722 - val_auc: 0.7326\n",
            "Epoch 8/50\n",
            "65/65 [==============================] - 0s 4ms/step - loss: 0.6348 - accuracy: 0.6558 - auc: 0.6957 - val_loss: 0.6189 - val_accuracy: 0.6717 - val_auc: 0.7332\n",
            "Epoch 9/50\n",
            "65/65 [==============================] - 0s 4ms/step - loss: 0.6295 - accuracy: 0.6538 - auc: 0.7006 - val_loss: 0.6155 - val_accuracy: 0.6766 - val_auc: 0.7348\n",
            "Epoch 10/50\n",
            "65/65 [==============================] - 0s 4ms/step - loss: 0.6338 - accuracy: 0.6432 - auc: 0.6938 - val_loss: 0.6159 - val_accuracy: 0.6712 - val_auc: 0.7339\n",
            "Epoch 11/50\n",
            "65/65 [==============================] - 0s 3ms/step - loss: 0.6320 - accuracy: 0.6442 - auc: 0.6964 - val_loss: 0.6151 - val_accuracy: 0.6702 - val_auc: 0.7317\n",
            "Epoch 12/50\n",
            "65/65 [==============================] - 0s 4ms/step - loss: 0.6341 - accuracy: 0.6498 - auc: 0.6943 - val_loss: 0.6157 - val_accuracy: 0.6771 - val_auc: 0.7333\n",
            "Epoch 13/50\n",
            "65/65 [==============================] - 0s 3ms/step - loss: 0.6274 - accuracy: 0.6463 - auc: 0.7034 - val_loss: 0.6122 - val_accuracy: 0.6722 - val_auc: 0.7330\n",
            "Epoch 14/50\n",
            "65/65 [==============================] - 0s 3ms/step - loss: 0.6262 - accuracy: 0.6503 - auc: 0.7026 - val_loss: 0.6101 - val_accuracy: 0.6766 - val_auc: 0.7363\n",
            "Epoch 15/50\n",
            "65/65 [==============================] - 0s 3ms/step - loss: 0.6282 - accuracy: 0.6531 - auc: 0.7030 - val_loss: 0.6135 - val_accuracy: 0.6702 - val_auc: 0.7351\n",
            "Epoch 16/50\n",
            "65/65 [==============================] - 0s 3ms/step - loss: 0.6295 - accuracy: 0.6433 - auc: 0.7013 - val_loss: 0.6123 - val_accuracy: 0.6761 - val_auc: 0.7374\n",
            "Epoch 17/50\n",
            "65/65 [==============================] - 0s 3ms/step - loss: 0.6314 - accuracy: 0.6506 - auc: 0.6979 - val_loss: 0.6148 - val_accuracy: 0.6761 - val_auc: 0.7367\n",
            "Epoch 18/50\n",
            "65/65 [==============================] - 0s 4ms/step - loss: 0.6303 - accuracy: 0.6428 - auc: 0.6987 - val_loss: 0.6122 - val_accuracy: 0.6810 - val_auc: 0.7351\n",
            "Epoch 19/50\n",
            "65/65 [==============================] - 0s 4ms/step - loss: 0.6257 - accuracy: 0.6565 - auc: 0.7064 - val_loss: 0.6119 - val_accuracy: 0.6727 - val_auc: 0.7367\n",
            "Epoch 20/50\n",
            "65/65 [==============================] - 0s 3ms/step - loss: 0.6289 - accuracy: 0.6436 - auc: 0.6994 - val_loss: 0.6111 - val_accuracy: 0.6732 - val_auc: 0.7383\n",
            "Epoch 21/50\n",
            "65/65 [==============================] - 0s 4ms/step - loss: 0.6300 - accuracy: 0.6482 - auc: 0.7013 - val_loss: 0.6121 - val_accuracy: 0.6737 - val_auc: 0.7371\n",
            "Epoch 22/50\n",
            "65/65 [==============================] - 0s 3ms/step - loss: 0.6308 - accuracy: 0.6469 - auc: 0.6971 - val_loss: 0.6130 - val_accuracy: 0.6771 - val_auc: 0.7383\n",
            "Epoch 23/50\n",
            "65/65 [==============================] - 0s 4ms/step - loss: 0.6246 - accuracy: 0.6505 - auc: 0.7068 - val_loss: 0.6114 - val_accuracy: 0.6717 - val_auc: 0.7373\n",
            "Epoch 24/50\n",
            "65/65 [==============================] - 0s 3ms/step - loss: 0.6302 - accuracy: 0.6510 - auc: 0.6988 - val_loss: 0.6110 - val_accuracy: 0.6761 - val_auc: 0.7375\n",
            "Epoch 25/50\n",
            "65/65 [==============================] - 0s 3ms/step - loss: 0.6315 - accuracy: 0.6459 - auc: 0.6958 - val_loss: 0.6111 - val_accuracy: 0.6746 - val_auc: 0.7381\n",
            "Epoch 26/50\n",
            "65/65 [==============================] - 0s 4ms/step - loss: 0.6297 - accuracy: 0.6471 - auc: 0.6983 - val_loss: 0.6116 - val_accuracy: 0.6722 - val_auc: 0.7406\n",
            "Epoch 27/50\n",
            "65/65 [==============================] - 0s 3ms/step - loss: 0.6266 - accuracy: 0.6532 - auc: 0.7047 - val_loss: 0.6083 - val_accuracy: 0.6751 - val_auc: 0.7405\n",
            "Epoch 28/50\n",
            "65/65 [==============================] - 0s 4ms/step - loss: 0.6281 - accuracy: 0.6515 - auc: 0.6991 - val_loss: 0.6109 - val_accuracy: 0.6702 - val_auc: 0.7376\n",
            "Epoch 29/50\n",
            "65/65 [==============================] - 0s 3ms/step - loss: 0.6254 - accuracy: 0.6469 - auc: 0.7038 - val_loss: 0.6105 - val_accuracy: 0.6751 - val_auc: 0.7374\n",
            "Epoch 30/50\n",
            "65/65 [==============================] - 0s 3ms/step - loss: 0.6270 - accuracy: 0.6522 - auc: 0.7049 - val_loss: 0.6096 - val_accuracy: 0.6746 - val_auc: 0.7399\n",
            "Epoch 31/50\n",
            "65/65 [==============================] - 0s 3ms/step - loss: 0.6237 - accuracy: 0.6535 - auc: 0.7078 - val_loss: 0.6092 - val_accuracy: 0.6751 - val_auc: 0.7356\n",
            "Epoch 32/50\n",
            "65/65 [==============================] - 0s 4ms/step - loss: 0.6287 - accuracy: 0.6499 - auc: 0.6992 - val_loss: 0.6099 - val_accuracy: 0.6741 - val_auc: 0.7372\n",
            "Epoch 33/50\n",
            "65/65 [==============================] - 0s 3ms/step - loss: 0.6281 - accuracy: 0.6453 - auc: 0.7012 - val_loss: 0.6108 - val_accuracy: 0.6785 - val_auc: 0.7363\n",
            "Epoch 34/50\n",
            "65/65 [==============================] - 0s 3ms/step - loss: 0.6225 - accuracy: 0.6559 - auc: 0.7090 - val_loss: 0.6111 - val_accuracy: 0.6737 - val_auc: 0.7386\n",
            "Epoch 35/50\n",
            "65/65 [==============================] - 0s 3ms/step - loss: 0.6244 - accuracy: 0.6560 - auc: 0.7088 - val_loss: 0.6112 - val_accuracy: 0.6712 - val_auc: 0.7384\n",
            "Epoch 36/50\n",
            "65/65 [==============================] - 0s 3ms/step - loss: 0.6211 - accuracy: 0.6548 - auc: 0.7125 - val_loss: 0.6106 - val_accuracy: 0.6688 - val_auc: 0.7375\n",
            "Epoch 37/50\n",
            "65/65 [==============================] - 0s 4ms/step - loss: 0.6245 - accuracy: 0.6555 - auc: 0.7092 - val_loss: 0.6097 - val_accuracy: 0.6776 - val_auc: 0.7401\n",
            "Epoch 38/50\n",
            "65/65 [==============================] - 0s 3ms/step - loss: 0.6229 - accuracy: 0.6538 - auc: 0.7093 - val_loss: 0.6075 - val_accuracy: 0.6732 - val_auc: 0.7410\n",
            "Epoch 39/50\n",
            "65/65 [==============================] - 0s 3ms/step - loss: 0.6227 - accuracy: 0.6566 - auc: 0.7098 - val_loss: 0.6104 - val_accuracy: 0.6717 - val_auc: 0.7395\n",
            "Epoch 40/50\n",
            "65/65 [==============================] - 0s 3ms/step - loss: 0.6261 - accuracy: 0.6559 - auc: 0.7056 - val_loss: 0.6104 - val_accuracy: 0.6727 - val_auc: 0.7405\n",
            "Epoch 41/50\n",
            "65/65 [==============================] - 0s 4ms/step - loss: 0.6229 - accuracy: 0.6495 - auc: 0.7070 - val_loss: 0.6059 - val_accuracy: 0.6800 - val_auc: 0.7428\n",
            "Epoch 42/50\n",
            "65/65 [==============================] - 0s 3ms/step - loss: 0.6255 - accuracy: 0.6477 - auc: 0.7041 - val_loss: 0.6066 - val_accuracy: 0.6780 - val_auc: 0.7414\n",
            "Epoch 43/50\n",
            "65/65 [==============================] - 0s 3ms/step - loss: 0.6229 - accuracy: 0.6522 - auc: 0.7082 - val_loss: 0.6080 - val_accuracy: 0.6810 - val_auc: 0.7407\n",
            "Epoch 44/50\n",
            "65/65 [==============================] - 0s 4ms/step - loss: 0.6236 - accuracy: 0.6532 - auc: 0.7068 - val_loss: 0.6055 - val_accuracy: 0.6795 - val_auc: 0.7426\n",
            "Epoch 45/50\n",
            "65/65 [==============================] - 0s 4ms/step - loss: 0.6236 - accuracy: 0.6524 - auc: 0.7081 - val_loss: 0.6076 - val_accuracy: 0.6810 - val_auc: 0.7425\n",
            "Epoch 46/50\n",
            "65/65 [==============================] - 0s 4ms/step - loss: 0.6182 - accuracy: 0.6563 - auc: 0.7139 - val_loss: 0.6042 - val_accuracy: 0.6839 - val_auc: 0.7422\n",
            "Epoch 47/50\n",
            "65/65 [==============================] - 0s 3ms/step - loss: 0.6250 - accuracy: 0.6505 - auc: 0.7073 - val_loss: 0.6053 - val_accuracy: 0.6834 - val_auc: 0.7432\n",
            "Epoch 48/50\n",
            "65/65 [==============================] - 0s 3ms/step - loss: 0.6234 - accuracy: 0.6549 - auc: 0.7090 - val_loss: 0.6045 - val_accuracy: 0.6766 - val_auc: 0.7432\n",
            "Epoch 49/50\n",
            "65/65 [==============================] - 0s 4ms/step - loss: 0.6244 - accuracy: 0.6498 - auc: 0.7080 - val_loss: 0.6054 - val_accuracy: 0.6780 - val_auc: 0.7422\n",
            "Epoch 50/50\n",
            "65/65 [==============================] - 0s 3ms/step - loss: 0.6230 - accuracy: 0.6564 - auc: 0.7102 - val_loss: 0.6036 - val_accuracy: 0.6780 - val_auc: 0.7427\n"
          ],
          "name": "stdout"
        },
        {
          "output_type": "execute_result",
          "data": {
            "text/plain": [
              "<tensorflow.python.keras.callbacks.History at 0x7f05d7ca10d0>"
            ]
          },
          "metadata": {
            "tags": []
          },
          "execution_count": 42
        }
      ]
    },
    {
      "cell_type": "code",
      "metadata": {
        "id": "Ug2Fzc3j3_Yk"
      },
      "source": [
        "y_true=np.array(y_val) # one dimension\n",
        "y_pred=np.squeeze(model.predict(X_val))#2dimension so write np.squeeze to amke it one dimension\n",
        "y_pred=np.array(y_pred>=0.5,dtype=np.int)"
      ],
      "execution_count": 43,
      "outputs": []
    },
    {
      "cell_type": "code",
      "metadata": {
        "id": "rQJqDcj84NoV",
        "outputId": "90a113e9-066b-45bf-a4c6-572d2875e2a1",
        "colab": {
          "base_uri": "https://localhost:8080/",
          "height": 295
        }
      },
      "source": [
        "from sklearn.metrics import confusion_matrix,classification_report\n",
        "\n",
        "cm = confusion_matrix(y_true, y_pred)\n",
        "\n",
        "plt.figure(figsize=(4, 4))\n",
        "\n",
        "sns.heatmap(cm, annot=True, fmt='g', vmin=0, cbar=False)\n",
        "\n",
        "plt.xlabel(\"Predicted\")\n",
        "plt.ylabel(\"Actual\")\n",
        "plt.title(\"Confusion Matrix\")\n",
        "\n",
        "plt.show()"
      ],
      "execution_count": 44,
      "outputs": [
        {
          "output_type": "display_data",
          "data": {
            "image/png": "[encoded data removed]",
            "text/plain": [
              "<Figure size 288x288 with 1 Axes>"
            ]
          },
          "metadata": {
            "tags": [],
            "needs_background": "light"
          }
        }
      ]
    },
    {
      "cell_type": "code",
      "metadata": {
        "id": "reE5C6O74WJz",
        "outputId": "6d5c2483-bbe7-460e-f029-a17f9de2448d",
        "colab": {
          "base_uri": "https://localhost:8080/"
        }
      },
      "source": [
        "print(classification_report(y_true, y_pred))"
      ],
      "execution_count": 45,
      "outputs": [
        {
          "output_type": "stream",
          "text": [
            "              precision    recall  f1-score   support\n",
            "\n",
            "           0       0.67      0.70      0.68      1023\n",
            "           1       0.69      0.66      0.67      1027\n",
            "\n",
            "    accuracy                           0.68      2050\n",
            "   macro avg       0.68      0.68      0.68      2050\n",
            "weighted avg       0.68      0.68      0.68      2050\n",
            "\n"
          ],
          "name": "stdout"
        }
      ]
    },
    {
      "cell_type": "code",
      "metadata": {
        "id": "VBFuNUj0bVnc",
        "colab": {
          "base_uri": "https://localhost:8080/"
        },
        "outputId": "4daef9fc-c558-4cbb-865a-6ce19da135f1"
      },
      "source": [
        "#base\n",
        "\n",
        "y_base1 = [1] * len(y_val)\n",
        "\n",
        "\n",
        "confusion = confusion_matrix(y_val, y_base1)\n",
        "accuracy = accuracy_score(y_val, y_base1)\n",
        "precision = precision_score(y_val, y_base1)\n",
        "recall = recall_score(y_val, y_base1)\n",
        "F1 = f1_score(y_val, y_base1)\n",
        "roc_auc = roc_auc_score(y_val, y_base1)\n",
        "\n",
        "print('오차행렬')\n",
        "print(confusion)\n",
        "\n",
        "print('정확도: {0}, 정밀도: {1}, 재현율: {2}, F1: {3}, auc:{4}'.format(accuracy, precision, recall, F1, roc_auc))"
      ],
      "execution_count": null,
      "outputs": [
        {
          "output_type": "stream",
          "text": [
            "오차행렬\n",
            "[[   0 1023]\n",
            " [   0 1027]]\n",
            "정확도: 0.5009756097560976, 정밀도: 0.5009756097560976, 재현율: 1.0, F1: 0.6675333116672083, auc:0.5\n"
          ],
          "name": "stdout"
        }
      ]
    },
    {
      "cell_type": "code",
      "metadata": {
        "id": "QD-ho4dSftDF"
      },
      "source": [
        "# 여러 ML 사용해보기- > 트리 계열은 과적합이 나옴 그나마 랜덤포레스트 모델, XGBoost, LGBM 이 70퍼센트 나옴"
      ],
      "execution_count": null,
      "outputs": []
    },
    {
      "cell_type": "code",
      "metadata": {
        "id": "hlWu9HukgaXA",
        "colab": {
          "base_uri": "https://localhost:8080/"
        },
        "outputId": "34836ed4-ea2c-4d41-ecd7-0035741c8e96"
      },
      "source": [
        "from sklearn.ensemble import RandomForestClassifier\n",
        "\n",
        "forest_model = RandomForestClassifier()\n",
        "forest_model.fit(X_train, y_train)\n",
        "y_pred = forest_model.predict(X_val)\n",
        "y_proba = forest_model.predict_proba(X_val)[:,1]\n",
        "\n",
        "eval(y_val, y_pred, y_proba)"
      ],
      "execution_count": null,
      "outputs": [
        {
          "output_type": "stream",
          "text": [
            "오차행렬\n",
            "[[728 295]\n",
            " [276 751]]\n",
            "정확도: 0.7215, 정밀도: 0.7180, 재현율: 0.7313, F1: 0.7246, AUC: 0.7891\n"
          ],
          "name": "stdout"
        }
      ]
    },
    {
      "cell_type": "code",
      "metadata": {
        "id": "n1xtzrI-deRy"
      },
      "source": [
        "forest_param ={   'n_estimators':[10,50,100,200] ,\n",
        "                  'criterion': ['gini', 'entropy'], \n",
        "                  'max_depth':[5, 10, 20, 30, 50, None]\n",
        "                }\n",
        "\n",
        "grid_search_forest = GridSearchCV(forest_model, forest_param, cv =10, scoring='roc_auc')\n",
        "grid_search_forest.fit(X_train, y_train)"
      ],
      "execution_count": null,
      "outputs": []
    },
    {
      "cell_type": "code",
      "metadata": {
        "id": "i9yxQbm_tVze"
      },
      "source": [
        "grid_search_forest.best_estimator_"
      ],
      "execution_count": null,
      "outputs": []
    },
    {
      "cell_type": "code",
      "metadata": {
        "id": "eMw4ZiyBtl5T"
      },
      "source": [
        "grid_search_forest.best_params_"
      ],
      "execution_count": null,
      "outputs": []
    },
    {
      "cell_type": "code",
      "metadata": {
        "id": "ERuyYjVjtrWJ"
      },
      "source": [
        "grid_search_forest.best_score_"
      ],
      "execution_count": null,
      "outputs": []
    },
    {
      "cell_type": "code",
      "metadata": {
        "id": "JbYds5S3tyyS",
        "colab": {
          "base_uri": "https://localhost:8080/"
        },
        "outputId": "e67ee933-32f7-4c0e-d596-f0d5d188c3cd"
      },
      "source": [
        "#fine tunning forest\n",
        "opforest_model = RandomForestClassifier(criterion= 'entropy', max_depth= 30, n_estimators= 200)\n",
        "opforest_model.fit(X_train, y_train)\n",
        "y_pred = opforest_model.predict(X_val)\n",
        "y_proba = opforest_model.predict_proba(X_val)[:,1]\n",
        "\n",
        "eval(y_val, y_pred, y_proba)\n",
        "\n",
        "# forest_model : 0.7185, 정밀도: 0.7103, 재현율: 0.7400, F1: 0.7248, AUC: 0.7908 -> critical하게 변하지 않았다."
      ],
      "execution_count": null,
      "outputs": [
        {
          "output_type": "stream",
          "text": [
            "오차행렬\n",
            "[[699 324]\n",
            " [269 758]]\n",
            "정확도: 0.7107, 정밀도: 0.7006, 재현율: 0.7381, F1: 0.7188, AUC: 0.7916\n"
          ],
          "name": "stdout"
        }
      ]
    },
    {
      "cell_type": "code",
      "metadata": {
        "id": "FYTAQ0u-t_HD",
        "colab": {
          "base_uri": "https://localhost:8080/"
        },
        "outputId": "903481f0-5b7b-46be-c87b-75dad2b7010c"
      },
      "source": [
        "# permuter 정의\n",
        "import eli5\n",
        "from eli5.sklearn import PermutationImportance\n",
        "\n",
        "permuter = PermutationImportance(\n",
        "    forest_model, # model\n",
        "    scoring='accuracy', # metric\n",
        "    n_iter=5, # 다른 random seed를 사용하여 5번 반복\n",
        "    random_state=2\n",
        ")\n",
        "\n",
        "# 실제로 fit 의미보다는 스코어를 다시 계산하는 작업입니다\n",
        "permuter.fit(X_val, y_val);"
      ],
      "execution_count": null,
      "outputs": [
        {
          "output_type": "stream",
          "text": [
            "/usr/local/lib/python3.7/dist-packages/sklearn/utils/deprecation.py:144: FutureWarning: The sklearn.feature_selection.base module is  deprecated in version 0.22 and will be removed in version 0.24. The corresponding classes / functions should instead be imported from sklearn.feature_selection. Anything that cannot be imported from sklearn.feature_selection is now part of the private API.\n",
            "  warnings.warn(message, FutureWarning)\n"
          ],
          "name": "stderr"
        }
      ]
    },
    {
      "cell_type": "code",
      "metadata": {
        "id": "90Xv_e3JuDyh",
        "colab": {
          "base_uri": "https://localhost:8080/"
        },
        "outputId": "d34d36e8-4bc4-40ea-ede3-0a7cbb214910"
      },
      "source": [
        "feature_names = X_val.columns.tolist()\n",
        "pd.Series(permuter.feature_importances_, feature_names).sort_values()"
      ],
      "execution_count": null,
      "outputs": [
        {
          "output_type": "execute_result",
          "data": {
            "text/plain": [
              "gender       0.009463\n",
              "Raw          0.011902\n",
              "Alpha1       0.012000\n",
              "Beta1        0.012390\n",
              "Theta        0.013463\n",
              "Alpha2       0.016585\n",
              "Beta2        0.026927\n",
              "Mediation    0.028000\n",
              "Delta        0.036683\n",
              "age          0.040878\n",
              "Gamma1       0.043512\n",
              "SubjectID    0.053366\n",
              "Gamma2       0.063805\n",
              "Attention    0.074049\n",
              "dtype: float64"
            ]
          },
          "metadata": {
            "tags": []
          },
          "execution_count": 13
        }
      ]
    },
    {
      "cell_type": "code",
      "metadata": {
        "id": "gQ3PoiiZgozo",
        "colab": {
          "base_uri": "https://localhost:8080/"
        },
        "outputId": "5efb04ce-749a-4e59-c653-85ea0def7d7c"
      },
      "source": [
        "from xgboost import XGBClassifier\n",
        "\n",
        "XG_model = XGBClassifier()\n",
        "XG_model.fit(X_train, y_train)\n",
        "\n",
        "y_pred = XG_model.predict(X_val)\n",
        "y_proba = XG_model.predict_proba(X_val)[:,1]\n",
        "\n",
        "eval(y_val, y_pred, y_proba)"
      ],
      "execution_count": null,
      "outputs": [
        {
          "output_type": "stream",
          "text": [
            "오차행렬\n",
            "[[665 358]\n",
            " [289 738]]\n",
            "정확도: 0.6844, 정밀도: 0.6734, 재현율: 0.7186, F1: 0.6952, AUC: 0.7562\n"
          ],
          "name": "stdout"
        }
      ]
    },
    {
      "cell_type": "code",
      "metadata": {
        "id": "fycyLtTNfhU9"
      },
      "source": [
        "XGB_params ={'n_estimators':[10,50,100,200] ,\n",
        "            'criterion': ['gini', 'entropy'], \n",
        "            'max_depth':[5, 10, 20, 30, 50, None],\n",
        "            'learning_rate' : [0.05 , 0.1, 0.2],\n",
        "            'subsample' : [0.7]\n",
        "                }\n",
        "\n",
        "grid_search_XGB = GridSearchCV(XG_model, XGB_params, cv =5, scoring='roc_auc')\n",
        "grid_search_XGB.fit(X_train, y_train)"
      ],
      "execution_count": null,
      "outputs": []
    },
    {
      "cell_type": "code",
      "metadata": {
        "id": "IAId3oe3pQN6"
      },
      "source": [
        "grid_search_XGB.best_estimator_"
      ],
      "execution_count": null,
      "outputs": []
    },
    {
      "cell_type": "code",
      "metadata": {
        "id": "7fCJBMw3pVXw"
      },
      "source": [
        "grid_search_XGB.best_params_"
      ],
      "execution_count": null,
      "outputs": []
    },
    {
      "cell_type": "code",
      "metadata": {
        "id": "TsKfCz4GpZDE"
      },
      "source": [
        "grid_search_XGB.best_score_"
      ],
      "execution_count": null,
      "outputs": []
    },
    {
      "cell_type": "code",
      "metadata": {
        "colab": {
          "base_uri": "https://localhost:8080/"
        },
        "id": "A0fDQkUKpkTM",
        "outputId": "660fb060-80db-4c8f-9df7-2c72b9c89f91"
      },
      "source": [
        "opXG_model = XGBClassifier(criterion = 'gini', learning_rate = 0.05, max_depth = 50, n_estimators = 200, subsample = 0.7)\n",
        "opXG_model.fit(X_train, y_train)\n",
        "\n",
        "y_pred = opXG_model.predict(X_val)\n",
        "y_proba = opXG_model.predict_proba(X_val)[:,1]\n",
        "\n",
        "eval(y_val, y_pred, y_proba)\n",
        "# 정확도: 0.6844, 정밀도: 0.6734, 재현율: 0.7186, F1: 0.6952, AUC: 0.7562 -> 전반적으로 개선이 됨"
      ],
      "execution_count": null,
      "outputs": [
        {
          "output_type": "stream",
          "text": [
            "오차행렬\n",
            "[[700 323]\n",
            " [278 749]]\n",
            "정확도: 0.7068, 정밀도: 0.6987, 재현율: 0.7293, F1: 0.7137, AUC: 0.7883\n"
          ],
          "name": "stdout"
        }
      ]
    },
    {
      "cell_type": "code",
      "metadata": {
        "id": "FAC4UGcbirMl",
        "colab": {
          "base_uri": "https://localhost:8080/"
        },
        "outputId": "d2b1b553-2bd5-4e31-9eb8-5ba59d9b4e15"
      },
      "source": [
        "from lightgbm import LGBMClassifier\n",
        "\n",
        "light_model = LGBMClassifier()\n",
        "light_model.fit(X_train, y_train)\n",
        "y_pred = light_model.predict(X_val)\n",
        "y_proba = light_model.predict_proba(X_val)[:,1]\n",
        "\n",
        "eval(y_val, y_pred, y_proba)"
      ],
      "execution_count": null,
      "outputs": [
        {
          "output_type": "stream",
          "text": [
            "오차행렬\n",
            "[[691 332]\n",
            " [290 737]]\n",
            "정확도: 0.6966, 정밀도: 0.6894, 재현율: 0.7176, F1: 0.7032, AUC: 0.7827\n"
          ],
          "name": "stdout"
        }
      ]
    },
    {
      "cell_type": "code",
      "metadata": {
        "id": "o5z9JLnNjC89"
      },
      "source": [
        "light_params ={'n_estimators':[10,50,100,200],\n",
        "               'criterion': ['gini', 'entropy'], \n",
        "               'max_depth':[5, 10, 20, 30, 50, None],\n",
        "               'learning_rate' : [0.05 , 0.1, 0.2]\n",
        "                }\n",
        "\n",
        "grid_search_light = GridSearchCV(light_model, light_params, cv =5, scoring='roc_auc')\n",
        "grid_search_light.fit(X_train, y_train)"
      ],
      "execution_count": null,
      "outputs": []
    },
    {
      "cell_type": "code",
      "metadata": {
        "id": "8XWIOjt9qRs1"
      },
      "source": [
        "grid_search_light.best_estimator_"
      ],
      "execution_count": null,
      "outputs": []
    },
    {
      "cell_type": "code",
      "metadata": {
        "id": "9X5EUKXKqWw9"
      },
      "source": [
        "grid_search_light.best_params_"
      ],
      "execution_count": null,
      "outputs": []
    },
    {
      "cell_type": "code",
      "metadata": {
        "id": "I8l-B1bzqYla"
      },
      "source": [
        "grid_search_light.best_score_"
      ],
      "execution_count": null,
      "outputs": []
    },
    {
      "cell_type": "code",
      "metadata": {
        "colab": {
          "base_uri": "https://localhost:8080/"
        },
        "id": "ZTvkThDyqfPT",
        "outputId": "c6c1a2ed-f4a0-4b52-e42c-a5c1f34b81a1"
      },
      "source": [
        "oplight_model = LGBMClassifier(criterion = 'gini', learning_rate = 0.05, max_depth = 20, n_estimators = 200)\n",
        "oplight_model.fit(X_train, y_train)\n",
        "y_pred = oplight_model.predict(X_val)\n",
        "y_proba = oplight_model.predict_proba(X_val)[:,1]\n",
        "\n",
        "eval(y_val, y_pred, y_proba)\n",
        "\n",
        "#정확도: 0.6966, 정밀도: 0.6894, 재현율: 0.7176, F1: 0.7032, AUC: 0.7827 -> 크리티컬한 변화는 없었다."
      ],
      "execution_count": null,
      "outputs": [
        {
          "output_type": "stream",
          "text": [
            "오차행렬\n",
            "[[704 319]\n",
            " [293 734]]\n",
            "정확도: 0.7015, 정밀도: 0.6971, 재현율: 0.7147, F1: 0.7058, AUC: 0.7824\n"
          ],
          "name": "stdout"
        }
      ]
    },
    {
      "cell_type": "markdown",
      "metadata": {
        "id": "QaLgmrxZjpNq"
      },
      "source": [
        "RandomForest, XGBoost, LGBM 3가지 머신러닝 모델에 대해 그리드서치 후 최적의 파라미터를 조정하였다. \n",
        "딥러닝 모델또한 적용해보고 결과를 비교 후 피쳐엔지니어링을 조금 더 생각해볼 것"
      ]
    }
  ]
}