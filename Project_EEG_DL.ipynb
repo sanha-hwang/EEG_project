{
  "nbformat": 4,
  "nbformat_minor": 0,
  "metadata": {
    "colab": {
      "name": "Project_EEG_DL",
      "provenance": [],
      "collapsed_sections": [],
      "include_colab_link": true
    },
    "kernelspec": {
      "display_name": "Python 3",
      "name": "python3"
    }
  },
  "cells": [
    {
      "cell_type": "markdown",
      "metadata": {
        "id": "view-in-github",
        "colab_type": "text"
      },
      "source": [
        "<a href=\"https://colab.research.google.com/github/sanha-hwang/EEG_project/blob/workspace/Project_EEG_DL.ipynb\" target=\"_parent\"><img src=\"https://colab.research.google.com/assets/colab-badge.svg\" alt=\"Open In Colab\"/></a>"
      ]
    },
    {
      "cell_type": "markdown",
      "metadata": {
        "id": "OfwiuHU8_NdF"
      },
      "source": [
        "<H1>Project : EEG signal 분석 </H1>\n",
        "\n",
        "[datasetLink](https://www.kaggle.com/wanghaohan/confused-eeg)\n",
        "\n",
        "1. EEG 신호란 electroencephalography의 약자이며 '뇌전도'라고 번역된다.  전극을 통해 뇌의 전기적인 활동을 기록하는 전기생리학적 측정방법을 말한다. 뇌의 활동은 뇌파라는 전기신호를 방출하게 되고 EEG을 통해 뇌파의 스펙트럼 밀도를 분석하게 된다.    \n",
        "\n",
        "2. 데이터는 10명의 대학생을 대상으로 여러 카테고리별로 10개씩 총 20개의 동영상을 시청하면서 전두엽의 활동을 측정하여, 혼란스러울 때의 뇌파상태와 평온할 때의 뇌파상태를 측정하였습니다. 동영상에는 혼란스럽지않을 기초대수학 또는 기하학을 소개하는 온라인 교육영상이 있으며, 반대로 익숙치 않으면 혼란스러울 양자역학, 줄기세포 연구 등 과 같은 주제의 교육영상이 있습니다. 동영상 길이는 약 2분이며, 영상을 조금 더 혼란스럽게 만들기 위해 주제 중간에 2분클립을 잘랐습니다.\n",
        "\n",
        "\n",
        "3. 학생들은 전두엽의 활동을 측정하는 단일 무선채널의 mindset을 착용하였으며, Mindset은 이마에 있는 전극과 귀에 각각 접촉하는 두 개의 전극 사이의 전압을 측정하였습니다.    \n",
        "\n",
        "4. 각 학생들은 세션이 끝난 후, 자신의 혼란 정도를 1-7의 척도로 평가하였으며, 1은 최저, 7은 최고 레벨입니다. 혼란정도는 정규화되어 labeling 되었다.\n",
        "\n",
        "5. column 분석\n",
        "  - 'SubjectID': 피실험자 ID\n",
        "  - ' age': 피실험자 나이\n",
        "  - ' ethnicity' :피실험자 민족\n",
        "  - ' gender': 피실험자 성별\n",
        "  -  'VideoID': 시청한 비디오영상번호\n",
        "  - 'Attention': 집중도 수치\n",
        "  - 'Mediation': 평온함 수치\n",
        "  - 'Raw': EEG 장비로 측정하여 나온 수치\n",
        "  - 'Delta': Raw를 가공하여 나온 1-3Hz Power Spectrum\n",
        "  - 'Theta': Raw를 가공하여 나온 4-7Hz Power Spectrum\n",
        "  - 'Alpha1': Raw를 가공하여 나온 Lower 8-11Hz Power Spectrum\n",
        "  - 'Alpha2': Raw를 가공하여 나온 High 8-11Hz Power Spectrum\n",
        "  - 'Beta1': Raw를 가공하여 나온 Lower 12-29Hz Power Spectrum\n",
        "  - 'Beta2': Raw를 가공하여 나온 High 12-29Hz Power Spectrum\n",
        "  - 'Gamma1': Raw를 가공하여 나온 Lower 30-100Hz Power Spectrum\n",
        "  - 'Gamma2': Raw를 가공하여 나온 High 30-100Hz Power Spectrum\n",
        "  - 'predefinedlabel': Subject의 expected confusion level\n",
        "  - 'user-definedlabeln': Subject의 actually confusion level\n",
        "\n",
        "6. Brain wave 정리   \n",
        "  - Delta wave: 깊은 수면을 취할 때, 약하게 깨어 있을 때 혹은 무의식 일 때의 뇌파, 잠잘 때 장기기억, 해마가 작용할 때나오는 뇌파    \n",
        "부족한 경우- 불면증,세타파가 나오게 되면 깊은 수면을 취할 수 없음, 과할 경우 - 늘 뇌가 피곤해 있고 무기력해질 우려가 있음\n",
        "\n",
        "  - Theta wave:  꾸벅꾸벅 조는 상태, - 여명상태, 내면의식, 기억력, 창의력, 명상, 퍼포먼스 ,신비하고 미묘한  것이어서 실험자들이 연구하기 어려웟음, 세타파에 있는 동안, 의식을 유지하기 어렵기 때문   \n",
        "부족한 경우- 창의력부족, 예민, 과할 경우- 안정성이 없음,늘 에너지가 없어보임\n",
        "\n",
        "  - Alpha wave : 눈을 감고 편안한 상태, 집중하지 않은 상태일 때, 뇌파활동은 느려짐, 아주 편안하게 이완되고 정신적으로 집중되지 않는 상태, 알파상태에는 두뇌의 '중립' 또는 한가한 상태처럼 보이나, 건강하고 스트레스에 지배받지 않는 사람들은 많은 양의 알파파를 만들어냄,\n",
        "알파파의 결핍: 불안, 스트레스, 뇌 활성 저하, 과도한 의식활동(산만함)에 노출, 이완능력, 에너지, 기억력, 창의력 강화훈련 필요\n",
        "SM알파파: 알파파 끝부분, 생리적으로 이완 상태, 의식적으로 각성된 상태, 면역력이나 스트레스에 대한 저항능력\n",
        "각성능력을 보여주는 지표, 두뇌활동에 가장 중심적 뇌파\n",
        "오감에서 들어오는 외부의 감각센서와 운동능력    \n",
        "부족한 경우-긴장과 불안에 매일 수 있음, 과한경우-급한 것이 없음, 일처리에 맺고 끊는 맛이 없음\n",
        "\n",
        "  - Beta wave: 일반적으로 외부세계에 꺠어 있을 때, 눈을 뜨고 집중하는 상태, 구체적이고특별한 문제를 다루고 있을 때, 상대방이 어떻게 나올지 집중하는 상태\n",
        "특히 14-40, 두뇌에서 가장 지배적이고 강력하게 활동, 민첩성, 각성 ,집중, 인식력과 관련, 과도할 경우 불안 유발   \n",
        "부족한 경우-매사에 의욕이 없음, 과한 경우- 산만한 활동, 행동의 자제가 되지 않아 함부로 행동\n",
        "\n",
        "\n",
        "\n",
        "\n",
        "\n"
      ]
    },
    {
      "cell_type": "markdown",
      "metadata": {
        "id": "uy7X76B-QT2_"
      },
      "source": [
        ""
      ]
    },
    {
      "cell_type": "code",
      "metadata": {
        "id": "2VxIQhjjtRh_",
        "colab": {
          "base_uri": "https://localhost:8080/"
        },
        "outputId": "8edbfb7b-404e-4e08-b0e8-83c7bb4402cc"
      },
      "source": [
        "!pip install eli5\n",
        "!pip install category_encoders"
      ],
      "execution_count": 1,
      "outputs": [
        {
          "output_type": "stream",
          "text": [
            "Collecting eli5\n",
            "  Downloading eli5-0.11.0-py2.py3-none-any.whl (106 kB)\n",
            "\u001b[?25l\r\u001b[K     |███                             | 10 kB 23.9 MB/s eta 0:00:01\r\u001b[K     |██████▏                         | 20 kB 28.0 MB/s eta 0:00:01\r\u001b[K     |█████████▎                      | 30 kB 20.4 MB/s eta 0:00:01\r\u001b[K     |████████████▍                   | 40 kB 20.8 MB/s eta 0:00:01\r\u001b[K     |███████████████▌                | 51 kB 13.7 MB/s eta 0:00:01\r\u001b[K     |██████████████████▌             | 61 kB 14.0 MB/s eta 0:00:01\r\u001b[K     |█████████████████████▋          | 71 kB 10.7 MB/s eta 0:00:01\r\u001b[K     |████████████████████████▊       | 81 kB 11.3 MB/s eta 0:00:01\r\u001b[K     |███████████████████████████▉    | 92 kB 12.4 MB/s eta 0:00:01\r\u001b[K     |███████████████████████████████ | 102 kB 12.7 MB/s eta 0:00:01\r\u001b[K     |████████████████████████████████| 106 kB 12.7 MB/s \n",
            "\u001b[?25hRequirement already satisfied: six in /usr/local/lib/python3.7/dist-packages (from eli5) (1.15.0)\n",
            "Requirement already satisfied: scikit-learn>=0.20 in /usr/local/lib/python3.7/dist-packages (from eli5) (0.22.2.post1)\n",
            "Requirement already satisfied: scipy in /usr/local/lib/python3.7/dist-packages (from eli5) (1.4.1)\n",
            "Requirement already satisfied: graphviz in /usr/local/lib/python3.7/dist-packages (from eli5) (0.10.1)\n",
            "Requirement already satisfied: tabulate>=0.7.7 in /usr/local/lib/python3.7/dist-packages (from eli5) (0.8.9)\n",
            "Requirement already satisfied: attrs>16.0.0 in /usr/local/lib/python3.7/dist-packages (from eli5) (21.2.0)\n",
            "Requirement already satisfied: jinja2 in /usr/local/lib/python3.7/dist-packages (from eli5) (2.11.3)\n",
            "Requirement already satisfied: numpy>=1.9.0 in /usr/local/lib/python3.7/dist-packages (from eli5) (1.19.5)\n",
            "Requirement already satisfied: joblib>=0.11 in /usr/local/lib/python3.7/dist-packages (from scikit-learn>=0.20->eli5) (1.0.1)\n",
            "Requirement already satisfied: MarkupSafe>=0.23 in /usr/local/lib/python3.7/dist-packages (from jinja2->eli5) (2.0.1)\n",
            "Installing collected packages: eli5\n",
            "Successfully installed eli5-0.11.0\n",
            "Collecting category_encoders\n",
            "  Downloading category_encoders-2.2.2-py2.py3-none-any.whl (80 kB)\n",
            "\u001b[K     |████████████████████████████████| 80 kB 5.0 MB/s \n",
            "\u001b[?25hRequirement already satisfied: statsmodels>=0.9.0 in /usr/local/lib/python3.7/dist-packages (from category_encoders) (0.10.2)\n",
            "Requirement already satisfied: scipy>=1.0.0 in /usr/local/lib/python3.7/dist-packages (from category_encoders) (1.4.1)\n",
            "Requirement already satisfied: pandas>=0.21.1 in /usr/local/lib/python3.7/dist-packages (from category_encoders) (1.1.5)\n",
            "Requirement already satisfied: patsy>=0.5.1 in /usr/local/lib/python3.7/dist-packages (from category_encoders) (0.5.1)\n",
            "Requirement already satisfied: scikit-learn>=0.20.0 in /usr/local/lib/python3.7/dist-packages (from category_encoders) (0.22.2.post1)\n",
            "Requirement already satisfied: numpy>=1.14.0 in /usr/local/lib/python3.7/dist-packages (from category_encoders) (1.19.5)\n",
            "Requirement already satisfied: python-dateutil>=2.7.3 in /usr/local/lib/python3.7/dist-packages (from pandas>=0.21.1->category_encoders) (2.8.1)\n",
            "Requirement already satisfied: pytz>=2017.2 in /usr/local/lib/python3.7/dist-packages (from pandas>=0.21.1->category_encoders) (2018.9)\n",
            "Requirement already satisfied: six in /usr/local/lib/python3.7/dist-packages (from patsy>=0.5.1->category_encoders) (1.15.0)\n",
            "Requirement already satisfied: joblib>=0.11 in /usr/local/lib/python3.7/dist-packages (from scikit-learn>=0.20.0->category_encoders) (1.0.1)\n",
            "Installing collected packages: category-encoders\n",
            "Successfully installed category-encoders-2.2.2\n"
          ],
          "name": "stdout"
        }
      ]
    },
    {
      "cell_type": "code",
      "metadata": {
        "id": "p2gMZTla2KHn",
        "colab": {
          "base_uri": "https://localhost:8080/"
        },
        "outputId": "8f66db2e-1d5c-4d32-e294-4a9e64a13c9f"
      },
      "source": [
        "from google.colab import drive\n",
        "drive.mount('/content/drive')"
      ],
      "execution_count": 2,
      "outputs": [
        {
          "output_type": "stream",
          "text": [
            "Mounted at /content/drive\n"
          ],
          "name": "stdout"
        }
      ]
    },
    {
      "cell_type": "code",
      "metadata": {
        "id": "BXRC2qyx2Xp7"
      },
      "source": [
        "import pandas as pd\n",
        "import numpy as np\n",
        "\n",
        "import matplotlib.pyplot as plt\n",
        "import seaborn as sns\n",
        "\n",
        "EEG_data = pd.read_csv(\"/content/drive/MyDrive/EEG_data.csv\") # EEG 데이터 불러오기\n",
        "person_info = pd.read_csv(\"/content/drive/MyDrive/demographic_info.csv\") #실험군 데이터"
      ],
      "execution_count": 3,
      "outputs": []
    },
    {
      "cell_type": "code",
      "metadata": {
        "id": "ljvaZNYWH6cN"
      },
      "source": [
        "# data정리\n",
        "EEG_data[['SubjectID','VideoID', 'user-definedlabeln']] = EEG_data[['SubjectID','VideoID', 'user-definedlabeln']].astype(int)\n",
        "person_info.rename(columns={'subject ID':'SubjectID'}, inplace= True)\n",
        "data = person_info.merge(EEG_data,on ='SubjectID')\n",
        "data.rename(columns={' age':'age'}, inplace= True)\n",
        "data.rename(columns={' ethnicity':'ethnicity'}, inplace= True)\n",
        "data.rename(columns={' gender':'gender'}, inplace= True)\n",
        "data.rename(columns={'user-definedlabeln':'Label'}, inplace= True)\n"
      ],
      "execution_count": 4,
      "outputs": []
    },
    {
      "cell_type": "code",
      "metadata": {
        "id": "PE97RcxOOtmj"
      },
      "source": [
        "data.head()"
      ],
      "execution_count": null,
      "outputs": []
    },
    {
      "cell_type": "code",
      "metadata": {
        "id": "-chjoiDO9_cQ"
      },
      "source": [
        "data.dtypes"
      ],
      "execution_count": null,
      "outputs": []
    },
    {
      "cell_type": "code",
      "metadata": {
        "id": "nPYJOvmvVS4S"
      },
      "source": [
        "data.isnull().sum()"
      ],
      "execution_count": null,
      "outputs": []
    },
    {
      "cell_type": "code",
      "metadata": {
        "id": "QhSNN_5IVWum"
      },
      "source": [
        "data.duplicated().sum()"
      ],
      "execution_count": null,
      "outputs": []
    },
    {
      "cell_type": "code",
      "metadata": {
        "id": "kf9D0V_0UHdm",
        "colab": {
          "base_uri": "https://localhost:8080/"
        },
        "outputId": "e3e0dc67-8f23-4966-c58e-e29f068068de"
      },
      "source": [
        "data.columns"
      ],
      "execution_count": 12,
      "outputs": [
        {
          "output_type": "execute_result",
          "data": {
            "text/plain": [
              "Index(['SubjectID', 'age', 'ethnicity', 'gender', 'Attention', 'Mediation',\n",
              "       'Raw', 'Delta', 'Theta', 'Alpha1', 'Alpha2', 'Beta1', 'Beta2', 'Gamma1',\n",
              "       'Gamma2', 'Label'],\n",
              "      dtype='object')"
            ]
          },
          "metadata": {
            "tags": []
          },
          "execution_count": 12
        }
      ]
    },
    {
      "cell_type": "code",
      "metadata": {
        "id": "IqjpCYz2TCn6"
      },
      "source": [
        "# EDA\n",
        "data.drop(columns=['predefinedlabel', 'VideoID'], inplace=True)\n"
      ],
      "execution_count": 5,
      "outputs": []
    },
    {
      "cell_type": "code",
      "metadata": {
        "id": "CxLnqNoQVKBB",
        "colab": {
          "base_uri": "https://localhost:8080/",
          "height": 617
        },
        "outputId": "57dbd8aa-1934-438d-891d-d098d5ce88b4"
      },
      "source": [
        "data"
      ],
      "execution_count": 15,
      "outputs": [
        {
          "output_type": "execute_result",
          "data": {
            "text/html": [
              "<div>\n",
              "<style scoped>\n",
              "    .dataframe tbody tr th:only-of-type {\n",
              "        vertical-align: middle;\n",
              "    }\n",
              "\n",
              "    .dataframe tbody tr th {\n",
              "        vertical-align: top;\n",
              "    }\n",
              "\n",
              "    .dataframe thead th {\n",
              "        text-align: right;\n",
              "    }\n",
              "</style>\n",
              "<table border=\"1\" class=\"dataframe\">\n",
              "  <thead>\n",
              "    <tr style=\"text-align: right;\">\n",
              "      <th></th>\n",
              "      <th>SubjectID</th>\n",
              "      <th>age</th>\n",
              "      <th>ethnicity</th>\n",
              "      <th>gender</th>\n",
              "      <th>Attention</th>\n",
              "      <th>Mediation</th>\n",
              "      <th>Raw</th>\n",
              "      <th>Delta</th>\n",
              "      <th>Theta</th>\n",
              "      <th>Alpha1</th>\n",
              "      <th>Alpha2</th>\n",
              "      <th>Beta1</th>\n",
              "      <th>Beta2</th>\n",
              "      <th>Gamma1</th>\n",
              "      <th>Gamma2</th>\n",
              "      <th>Label</th>\n",
              "    </tr>\n",
              "  </thead>\n",
              "  <tbody>\n",
              "    <tr>\n",
              "      <th>0</th>\n",
              "      <td>0</td>\n",
              "      <td>25</td>\n",
              "      <td>Han Chinese</td>\n",
              "      <td>M</td>\n",
              "      <td>56.0</td>\n",
              "      <td>43.0</td>\n",
              "      <td>278.0</td>\n",
              "      <td>301963.0</td>\n",
              "      <td>90612.0</td>\n",
              "      <td>33735.0</td>\n",
              "      <td>23991.0</td>\n",
              "      <td>27946.0</td>\n",
              "      <td>45097.0</td>\n",
              "      <td>33228.0</td>\n",
              "      <td>8293.0</td>\n",
              "      <td>0</td>\n",
              "    </tr>\n",
              "    <tr>\n",
              "      <th>1</th>\n",
              "      <td>0</td>\n",
              "      <td>25</td>\n",
              "      <td>Han Chinese</td>\n",
              "      <td>M</td>\n",
              "      <td>40.0</td>\n",
              "      <td>35.0</td>\n",
              "      <td>-50.0</td>\n",
              "      <td>73787.0</td>\n",
              "      <td>28083.0</td>\n",
              "      <td>1439.0</td>\n",
              "      <td>2240.0</td>\n",
              "      <td>2746.0</td>\n",
              "      <td>3687.0</td>\n",
              "      <td>5293.0</td>\n",
              "      <td>2740.0</td>\n",
              "      <td>0</td>\n",
              "    </tr>\n",
              "    <tr>\n",
              "      <th>2</th>\n",
              "      <td>0</td>\n",
              "      <td>25</td>\n",
              "      <td>Han Chinese</td>\n",
              "      <td>M</td>\n",
              "      <td>47.0</td>\n",
              "      <td>48.0</td>\n",
              "      <td>101.0</td>\n",
              "      <td>758353.0</td>\n",
              "      <td>383745.0</td>\n",
              "      <td>201999.0</td>\n",
              "      <td>62107.0</td>\n",
              "      <td>36293.0</td>\n",
              "      <td>130536.0</td>\n",
              "      <td>57243.0</td>\n",
              "      <td>25354.0</td>\n",
              "      <td>0</td>\n",
              "    </tr>\n",
              "    <tr>\n",
              "      <th>3</th>\n",
              "      <td>0</td>\n",
              "      <td>25</td>\n",
              "      <td>Han Chinese</td>\n",
              "      <td>M</td>\n",
              "      <td>47.0</td>\n",
              "      <td>57.0</td>\n",
              "      <td>-5.0</td>\n",
              "      <td>2012240.0</td>\n",
              "      <td>129350.0</td>\n",
              "      <td>61236.0</td>\n",
              "      <td>17084.0</td>\n",
              "      <td>11488.0</td>\n",
              "      <td>62462.0</td>\n",
              "      <td>49960.0</td>\n",
              "      <td>33932.0</td>\n",
              "      <td>0</td>\n",
              "    </tr>\n",
              "    <tr>\n",
              "      <th>4</th>\n",
              "      <td>0</td>\n",
              "      <td>25</td>\n",
              "      <td>Han Chinese</td>\n",
              "      <td>M</td>\n",
              "      <td>44.0</td>\n",
              "      <td>53.0</td>\n",
              "      <td>-8.0</td>\n",
              "      <td>1005145.0</td>\n",
              "      <td>354328.0</td>\n",
              "      <td>37102.0</td>\n",
              "      <td>88881.0</td>\n",
              "      <td>45307.0</td>\n",
              "      <td>99603.0</td>\n",
              "      <td>44790.0</td>\n",
              "      <td>29749.0</td>\n",
              "      <td>0</td>\n",
              "    </tr>\n",
              "    <tr>\n",
              "      <th>...</th>\n",
              "      <td>...</td>\n",
              "      <td>...</td>\n",
              "      <td>...</td>\n",
              "      <td>...</td>\n",
              "      <td>...</td>\n",
              "      <td>...</td>\n",
              "      <td>...</td>\n",
              "      <td>...</td>\n",
              "      <td>...</td>\n",
              "      <td>...</td>\n",
              "      <td>...</td>\n",
              "      <td>...</td>\n",
              "      <td>...</td>\n",
              "      <td>...</td>\n",
              "      <td>...</td>\n",
              "      <td>...</td>\n",
              "    </tr>\n",
              "    <tr>\n",
              "      <th>12806</th>\n",
              "      <td>9</td>\n",
              "      <td>24</td>\n",
              "      <td>Han Chinese</td>\n",
              "      <td>F</td>\n",
              "      <td>64.0</td>\n",
              "      <td>38.0</td>\n",
              "      <td>-39.0</td>\n",
              "      <td>127574.0</td>\n",
              "      <td>9951.0</td>\n",
              "      <td>709.0</td>\n",
              "      <td>21732.0</td>\n",
              "      <td>3872.0</td>\n",
              "      <td>39728.0</td>\n",
              "      <td>2598.0</td>\n",
              "      <td>960.0</td>\n",
              "      <td>0</td>\n",
              "    </tr>\n",
              "    <tr>\n",
              "      <th>12807</th>\n",
              "      <td>9</td>\n",
              "      <td>24</td>\n",
              "      <td>Han Chinese</td>\n",
              "      <td>F</td>\n",
              "      <td>61.0</td>\n",
              "      <td>35.0</td>\n",
              "      <td>-275.0</td>\n",
              "      <td>323061.0</td>\n",
              "      <td>797464.0</td>\n",
              "      <td>153171.0</td>\n",
              "      <td>145805.0</td>\n",
              "      <td>39829.0</td>\n",
              "      <td>571280.0</td>\n",
              "      <td>36574.0</td>\n",
              "      <td>10010.0</td>\n",
              "      <td>0</td>\n",
              "    </tr>\n",
              "    <tr>\n",
              "      <th>12808</th>\n",
              "      <td>9</td>\n",
              "      <td>24</td>\n",
              "      <td>Han Chinese</td>\n",
              "      <td>F</td>\n",
              "      <td>60.0</td>\n",
              "      <td>29.0</td>\n",
              "      <td>-426.0</td>\n",
              "      <td>680989.0</td>\n",
              "      <td>154296.0</td>\n",
              "      <td>40068.0</td>\n",
              "      <td>39122.0</td>\n",
              "      <td>10966.0</td>\n",
              "      <td>26975.0</td>\n",
              "      <td>20427.0</td>\n",
              "      <td>2024.0</td>\n",
              "      <td>0</td>\n",
              "    </tr>\n",
              "    <tr>\n",
              "      <th>12809</th>\n",
              "      <td>9</td>\n",
              "      <td>24</td>\n",
              "      <td>Han Chinese</td>\n",
              "      <td>F</td>\n",
              "      <td>60.0</td>\n",
              "      <td>29.0</td>\n",
              "      <td>-84.0</td>\n",
              "      <td>366269.0</td>\n",
              "      <td>27346.0</td>\n",
              "      <td>11444.0</td>\n",
              "      <td>9932.0</td>\n",
              "      <td>1939.0</td>\n",
              "      <td>3283.0</td>\n",
              "      <td>12323.0</td>\n",
              "      <td>1764.0</td>\n",
              "      <td>0</td>\n",
              "    </tr>\n",
              "    <tr>\n",
              "      <th>12810</th>\n",
              "      <td>9</td>\n",
              "      <td>24</td>\n",
              "      <td>Han Chinese</td>\n",
              "      <td>F</td>\n",
              "      <td>64.0</td>\n",
              "      <td>29.0</td>\n",
              "      <td>-49.0</td>\n",
              "      <td>1164555.0</td>\n",
              "      <td>1184366.0</td>\n",
              "      <td>50014.0</td>\n",
              "      <td>124208.0</td>\n",
              "      <td>10634.0</td>\n",
              "      <td>445383.0</td>\n",
              "      <td>22133.0</td>\n",
              "      <td>4482.0</td>\n",
              "      <td>0</td>\n",
              "    </tr>\n",
              "  </tbody>\n",
              "</table>\n",
              "<p>12811 rows × 16 columns</p>\n",
              "</div>"
            ],
            "text/plain": [
              "       SubjectID  age    ethnicity gender  ...     Beta2   Gamma1   Gamma2  Label\n",
              "0              0   25  Han Chinese      M  ...   45097.0  33228.0   8293.0      0\n",
              "1              0   25  Han Chinese      M  ...    3687.0   5293.0   2740.0      0\n",
              "2              0   25  Han Chinese      M  ...  130536.0  57243.0  25354.0      0\n",
              "3              0   25  Han Chinese      M  ...   62462.0  49960.0  33932.0      0\n",
              "4              0   25  Han Chinese      M  ...   99603.0  44790.0  29749.0      0\n",
              "...          ...  ...          ...    ...  ...       ...      ...      ...    ...\n",
              "12806          9   24  Han Chinese      F  ...   39728.0   2598.0    960.0      0\n",
              "12807          9   24  Han Chinese      F  ...  571280.0  36574.0  10010.0      0\n",
              "12808          9   24  Han Chinese      F  ...   26975.0  20427.0   2024.0      0\n",
              "12809          9   24  Han Chinese      F  ...    3283.0  12323.0   1764.0      0\n",
              "12810          9   24  Han Chinese      F  ...  445383.0  22133.0   4482.0      0\n",
              "\n",
              "[12811 rows x 16 columns]"
            ]
          },
          "metadata": {
            "tags": []
          },
          "execution_count": 15
        }
      ]
    },
    {
      "cell_type": "code",
      "metadata": {
        "id": "fbBtg9K-XPRu"
      },
      "source": [
        "#혹시 모르니 깊은 복사로 진행\n",
        "y = data['Label'].copy()\n",
        "X = data.drop('Label', axis=1).copy()"
      ],
      "execution_count": 86,
      "outputs": []
    },
    {
      "cell_type": "code",
      "metadata": {
        "id": "8JEhD6NtV4bx"
      },
      "source": [
        "\n",
        "from sklearn.model_selection import train_test_split\n",
        "\n",
        "# 케라스 외의 필요한 라이브러리를 불러옵니다.\n",
        "import numpy as np\n",
        "import pandas as pd\n",
        "import tensorflow as tf\n",
        "# 실행할 때마다 같은 결과를 출력하기 랜덤함수를 고정하는 부분입니다.\n",
        "# 랜덤함수의 Seed를 고정하게 되면 랜덤함수가 항상 일정하게 나옵니다. \n",
        "np.random.seed(3)\n",
        "tf.random.set_seed(3)"
      ],
      "execution_count": 87,
      "outputs": []
    },
    {
      "cell_type": "code",
      "metadata": {
        "id": "Kwc-jzBMeGK0",
        "colab": {
          "base_uri": "https://localhost:8080/"
        },
        "outputId": "f549e2c0-9d55-4261-b836-e6bd7c9a87e5"
      },
      "source": [
        "from category_encoders import OneHotEncoder\n",
        "from sklearn.compose import make_column_transformer\n",
        "from sklearn.preprocessing import MinMaxScaler\n",
        "\n",
        "#OneHotencoding\n",
        "X_cat = X[['ethnicity','gender']]\n",
        "X = X.drop(columns=['ethnicity','gender'], axis=1)\n",
        "\n",
        "encoder = OneHotEncoder(use_cat_names=True)\n",
        "X_en = encoder.fit_transform(X_cat)\n",
        "\n",
        "X_data = pd.concat([X, X_en], axis=1)\n",
        "column_label = X_data.columns\n",
        "\n",
        "#MinMaxscaler\n",
        "scaler =MinMaxScaler()\n",
        "X_scaled = scaler.fit_transform(X_data)  "
      ],
      "execution_count": 88,
      "outputs": [
        {
          "output_type": "stream",
          "text": [
            "/usr/local/lib/python3.7/dist-packages/category_encoders/utils.py:21: FutureWarning: is_categorical is deprecated and will be removed in a future version.  Use is_categorical_dtype instead\n",
            "  elif pd.api.types.is_categorical(cols):\n"
          ],
          "name": "stderr"
        }
      ]
    },
    {
      "cell_type": "code",
      "metadata": {
        "id": "eaHkEcLDfAcW"
      },
      "source": [
        "X_train, X_test, y_train, y_test = train_test_split(X_df, y, test_size= 0.2, random_state=42)\n",
        "X_train, X_val, y_train, y_val = train_test_split(X_train, y_train, test_size=0.2, random_state= 42)"
      ],
      "execution_count": 89,
      "outputs": []
    },
    {
      "cell_type": "code",
      "metadata": {
        "id": "v56RWj89fHY2",
        "colab": {
          "base_uri": "https://localhost:8080/"
        },
        "outputId": "103ce1c9-1821-4929-8211-e373425d5484"
      },
      "source": [
        "X_train.shape"
      ],
      "execution_count": 90,
      "outputs": [
        {
          "output_type": "execute_result",
          "data": {
            "text/plain": [
              "(8198, 18)"
            ]
          },
          "metadata": {
            "tags": []
          },
          "execution_count": 90
        }
      ]
    },
    {
      "cell_type": "code",
      "metadata": {
        "id": "91_AeLIAPr6d"
      },
      "source": [
        "X_train =X_train.values\n",
        "X_val =X_val.values\n",
        "X_test = X_test.values\n",
        "\n",
        "y_train =y_train.values\n",
        "y_val =y_val.values\n",
        "y_test = y_test.values"
      ],
      "execution_count": 81,
      "outputs": []
    },
    {
      "cell_type": "code",
      "metadata": {
        "id": "6X15J584-gJX",
        "outputId": "5a2c26eb-25cc-4cfc-f36d-c404817b48ac",
        "colab": {
          "base_uri": "https://localhost:8080/"
        }
      },
      "source": [
        "from tensorflow.keras.layers import Dense\n",
        "from tensorflow.keras.models import Sequential\n",
        "from tensorflow import keras\n",
        "import tensorflow.keras.layers as Layer\n",
        "\n",
        "model = Sequential()\n",
        "model.add(keras.Input(shape=(18,)))\n",
        "model.add(Dense(32, activation='relu'))\n",
        "model.add(Layer.Dropout(0.3))\n",
        "model.add(Dense(64, activation='relu'))\n",
        "model.add(Layer.Dropout(0.3))\n",
        "model.add(Dense(256, activation='relu'))\n",
        "model.add(Layer.Dropout(0.3))\n",
        "model.add(Dense(64, activation='relu'))\n",
        "model.add(Layer.Dropout(0.3))\n",
        "model.add(Dense(1, activation='sigmoid'))\n",
        "\n",
        "model.compile(optimizer='adam' , loss='binary_crossentropy' ,metrics=['accuracy', 'AUC'])\n",
        "model.summary()"
      ],
      "execution_count": 106,
      "outputs": [
        {
          "output_type": "stream",
          "text": [
            "WARNING:tensorflow:Please add `keras.layers.InputLayer` instead of `keras.Input` to Sequential model. `keras.Input` is intended to be used by Functional model.\n",
            "Model: \"sequential_18\"\n",
            "_________________________________________________________________\n",
            "Layer (type)                 Output Shape              Param #   \n",
            "=================================================================\n",
            "dense_44 (Dense)             (None, 32)                608       \n",
            "_________________________________________________________________\n",
            "dropout_27 (Dropout)         (None, 32)                0         \n",
            "_________________________________________________________________\n",
            "dense_45 (Dense)             (None, 64)                2112      \n",
            "_________________________________________________________________\n",
            "dropout_28 (Dropout)         (None, 64)                0         \n",
            "_________________________________________________________________\n",
            "dense_46 (Dense)             (None, 256)               16640     \n",
            "_________________________________________________________________\n",
            "dropout_29 (Dropout)         (None, 256)               0         \n",
            "_________________________________________________________________\n",
            "dense_47 (Dense)             (None, 64)                16448     \n",
            "_________________________________________________________________\n",
            "dropout_30 (Dropout)         (None, 64)                0         \n",
            "_________________________________________________________________\n",
            "dense_48 (Dense)             (None, 1)                 65        \n",
            "=================================================================\n",
            "Total params: 35,873\n",
            "Trainable params: 35,873\n",
            "Non-trainable params: 0\n",
            "_________________________________________________________________\n"
          ],
          "name": "stdout"
        }
      ]
    },
    {
      "cell_type": "code",
      "metadata": {
        "id": "wUEgJu09Hlyp",
        "outputId": "498d24f4-1013-4f1d-9eab-dca5dd7ce901",
        "colab": {
          "base_uri": "https://localhost:8080/"
        }
      },
      "source": [
        "from keras.callbacks import ModelCheckpoint\n",
        "from keras.callbacks import ReduceLROnPlateau\n",
        "from keras.callbacks import EarlyStopping\n",
        "\n",
        "reduced = ReduceLROnPlateau(monitor = 'val_loss', \n",
        "                           patience = 10, \n",
        "                           factor=0.5,\n",
        "                           verbose = 1)\n",
        "\n",
        "save_best = ModelCheckpoint( filepath ='./result_model.h5', \n",
        "                            monitor = 'val_loss', \n",
        "                            save_best_only = True, \n",
        "                            save_weights_only=True,\n",
        "                            verbose = 1, \n",
        "                            mode='auto',\n",
        "                            save_freq = 'epoch'\n",
        "                            )\n",
        "\n",
        "early_stop = EarlyStopping(\n",
        "                            monitor = 'accuracy',\n",
        "                            patience = 20,\n",
        "                            restore_best_weights=True\n",
        "                )\n",
        "\n",
        "\n",
        "history = model.fit(X_train, y_train, validation_data=(X_val,y_val),verbose=2, epochs=200, batch_size=32, callbacks = [save_best, reduced, early_stop])"
      ],
      "execution_count": 107,
      "outputs": [
        {
          "output_type": "stream",
          "text": [
            "Epoch 1/200\n",
            "257/257 - 1s - loss: 0.6904 - accuracy: 0.5313 - auc: 0.5384 - val_loss: 0.6738 - val_accuracy: 0.5893 - val_auc: 0.6467\n",
            "\n",
            "Epoch 00001: val_loss improved from inf to 0.67375, saving model to ./result_model.h5\n",
            "Epoch 2/200\n",
            "257/257 - 0s - loss: 0.6772 - accuracy: 0.5731 - auc: 0.5999 - val_loss: 0.6618 - val_accuracy: 0.6156 - val_auc: 0.6694\n",
            "\n",
            "Epoch 00002: val_loss improved from 0.67375 to 0.66183, saving model to ./result_model.h5\n",
            "Epoch 3/200\n",
            "257/257 - 0s - loss: 0.6688 - accuracy: 0.5928 - auc: 0.6261 - val_loss: 0.6598 - val_accuracy: 0.6195 - val_auc: 0.6705\n",
            "\n",
            "Epoch 00003: val_loss improved from 0.66183 to 0.65984, saving model to ./result_model.h5\n",
            "Epoch 4/200\n",
            "257/257 - 0s - loss: 0.6672 - accuracy: 0.5931 - auc: 0.6294 - val_loss: 0.6498 - val_accuracy: 0.6302 - val_auc: 0.6771\n",
            "\n",
            "Epoch 00004: val_loss improved from 0.65984 to 0.64983, saving model to ./result_model.h5\n",
            "Epoch 5/200\n",
            "257/257 - 0s - loss: 0.6632 - accuracy: 0.6026 - auc: 0.6383 - val_loss: 0.6478 - val_accuracy: 0.6332 - val_auc: 0.6783\n",
            "\n",
            "Epoch 00005: val_loss improved from 0.64983 to 0.64781, saving model to ./result_model.h5\n",
            "Epoch 6/200\n",
            "257/257 - 0s - loss: 0.6561 - accuracy: 0.6105 - auc: 0.6504 - val_loss: 0.6431 - val_accuracy: 0.6259 - val_auc: 0.6851\n",
            "\n",
            "Epoch 00006: val_loss improved from 0.64781 to 0.64308, saving model to ./result_model.h5\n",
            "Epoch 7/200\n",
            "257/257 - 0s - loss: 0.6579 - accuracy: 0.6097 - auc: 0.6489 - val_loss: 0.6435 - val_accuracy: 0.6205 - val_auc: 0.6790\n",
            "\n",
            "Epoch 00007: val_loss did not improve from 0.64308\n",
            "Epoch 8/200\n",
            "257/257 - 0s - loss: 0.6560 - accuracy: 0.6121 - auc: 0.6528 - val_loss: 0.6461 - val_accuracy: 0.6224 - val_auc: 0.6871\n",
            "\n",
            "Epoch 00008: val_loss did not improve from 0.64308\n",
            "Epoch 9/200\n",
            "257/257 - 0s - loss: 0.6528 - accuracy: 0.6158 - auc: 0.6588 - val_loss: 0.6551 - val_accuracy: 0.5995 - val_auc: 0.6798\n",
            "\n",
            "Epoch 00009: val_loss did not improve from 0.64308\n",
            "Epoch 10/200\n",
            "257/257 - 0s - loss: 0.6503 - accuracy: 0.6165 - auc: 0.6623 - val_loss: 0.6391 - val_accuracy: 0.6239 - val_auc: 0.6903\n",
            "\n",
            "Epoch 00010: val_loss improved from 0.64308 to 0.63911, saving model to ./result_model.h5\n",
            "Epoch 11/200\n",
            "257/257 - 0s - loss: 0.6504 - accuracy: 0.6204 - auc: 0.6639 - val_loss: 0.6377 - val_accuracy: 0.6356 - val_auc: 0.6896\n",
            "\n",
            "Epoch 00011: val_loss improved from 0.63911 to 0.63767, saving model to ./result_model.h5\n",
            "Epoch 12/200\n",
            "257/257 - 0s - loss: 0.6505 - accuracy: 0.6182 - auc: 0.6626 - val_loss: 0.6400 - val_accuracy: 0.6288 - val_auc: 0.6873\n",
            "\n",
            "Epoch 00012: val_loss did not improve from 0.63767\n",
            "Epoch 13/200\n",
            "257/257 - 0s - loss: 0.6445 - accuracy: 0.6277 - auc: 0.6724 - val_loss: 0.6332 - val_accuracy: 0.6541 - val_auc: 0.7047\n",
            "\n",
            "Epoch 00013: val_loss improved from 0.63767 to 0.63318, saving model to ./result_model.h5\n",
            "Epoch 14/200\n",
            "257/257 - 0s - loss: 0.6459 - accuracy: 0.6184 - auc: 0.6707 - val_loss: 0.6352 - val_accuracy: 0.6220 - val_auc: 0.6994\n",
            "\n",
            "Epoch 00014: val_loss did not improve from 0.63318\n",
            "Epoch 15/200\n",
            "257/257 - 0s - loss: 0.6421 - accuracy: 0.6292 - auc: 0.6765 - val_loss: 0.6251 - val_accuracy: 0.6473 - val_auc: 0.7075\n",
            "\n",
            "Epoch 00015: val_loss improved from 0.63318 to 0.62514, saving model to ./result_model.h5\n",
            "Epoch 16/200\n",
            "257/257 - 0s - loss: 0.6451 - accuracy: 0.6271 - auc: 0.6716 - val_loss: 0.6279 - val_accuracy: 0.6498 - val_auc: 0.7046\n",
            "\n",
            "Epoch 00016: val_loss did not improve from 0.62514\n",
            "Epoch 17/200\n",
            "257/257 - 0s - loss: 0.6434 - accuracy: 0.6292 - auc: 0.6725 - val_loss: 0.6257 - val_accuracy: 0.6571 - val_auc: 0.7136\n",
            "\n",
            "Epoch 00017: val_loss did not improve from 0.62514\n",
            "Epoch 18/200\n",
            "257/257 - 0s - loss: 0.6394 - accuracy: 0.6387 - auc: 0.6808 - val_loss: 0.6232 - val_accuracy: 0.6561 - val_auc: 0.7078\n",
            "\n",
            "Epoch 00018: val_loss improved from 0.62514 to 0.62320, saving model to ./result_model.h5\n",
            "Epoch 19/200\n",
            "257/257 - 0s - loss: 0.6416 - accuracy: 0.6369 - auc: 0.6771 - val_loss: 0.6269 - val_accuracy: 0.6527 - val_auc: 0.7063\n",
            "\n",
            "Epoch 00019: val_loss did not improve from 0.62320\n",
            "Epoch 20/200\n",
            "257/257 - 0s - loss: 0.6394 - accuracy: 0.6333 - auc: 0.6788 - val_loss: 0.6219 - val_accuracy: 0.6439 - val_auc: 0.7134\n",
            "\n",
            "Epoch 00020: val_loss improved from 0.62320 to 0.62188, saving model to ./result_model.h5\n",
            "Epoch 21/200\n",
            "257/257 - 0s - loss: 0.6349 - accuracy: 0.6444 - auc: 0.6886 - val_loss: 0.6228 - val_accuracy: 0.6444 - val_auc: 0.7149\n",
            "\n",
            "Epoch 00021: val_loss did not improve from 0.62188\n",
            "Epoch 22/200\n",
            "257/257 - 0s - loss: 0.6359 - accuracy: 0.6381 - auc: 0.6855 - val_loss: 0.6188 - val_accuracy: 0.6512 - val_auc: 0.7171\n",
            "\n",
            "Epoch 00022: val_loss improved from 0.62188 to 0.61878, saving model to ./result_model.h5\n",
            "Epoch 23/200\n",
            "257/257 - 0s - loss: 0.6343 - accuracy: 0.6394 - auc: 0.6868 - val_loss: 0.6246 - val_accuracy: 0.6507 - val_auc: 0.7174\n",
            "\n",
            "Epoch 00023: val_loss did not improve from 0.61878\n",
            "Epoch 24/200\n",
            "257/257 - 0s - loss: 0.6350 - accuracy: 0.6365 - auc: 0.6871 - val_loss: 0.6175 - val_accuracy: 0.6527 - val_auc: 0.7170\n",
            "\n",
            "Epoch 00024: val_loss improved from 0.61878 to 0.61753, saving model to ./result_model.h5\n",
            "Epoch 25/200\n",
            "257/257 - 0s - loss: 0.6316 - accuracy: 0.6430 - auc: 0.6931 - val_loss: 0.6177 - val_accuracy: 0.6580 - val_auc: 0.7152\n",
            "\n",
            "Epoch 00025: val_loss did not improve from 0.61753\n",
            "Epoch 26/200\n",
            "257/257 - 0s - loss: 0.6356 - accuracy: 0.6355 - auc: 0.6849 - val_loss: 0.6131 - val_accuracy: 0.6571 - val_auc: 0.7216\n",
            "\n",
            "Epoch 00026: val_loss improved from 0.61753 to 0.61311, saving model to ./result_model.h5\n",
            "Epoch 27/200\n",
            "257/257 - 0s - loss: 0.6331 - accuracy: 0.6408 - auc: 0.6895 - val_loss: 0.6146 - val_accuracy: 0.6673 - val_auc: 0.7243\n",
            "\n",
            "Epoch 00027: val_loss did not improve from 0.61311\n",
            "Epoch 28/200\n",
            "257/257 - 0s - loss: 0.6330 - accuracy: 0.6436 - auc: 0.6902 - val_loss: 0.6098 - val_accuracy: 0.6698 - val_auc: 0.7260\n",
            "\n",
            "Epoch 00028: val_loss improved from 0.61311 to 0.60983, saving model to ./result_model.h5\n",
            "Epoch 29/200\n",
            "257/257 - 0s - loss: 0.6309 - accuracy: 0.6420 - auc: 0.6940 - val_loss: 0.6130 - val_accuracy: 0.6693 - val_auc: 0.7252\n",
            "\n",
            "Epoch 00029: val_loss did not improve from 0.60983\n",
            "Epoch 30/200\n",
            "257/257 - 0s - loss: 0.6299 - accuracy: 0.6504 - auc: 0.6947 - val_loss: 0.6141 - val_accuracy: 0.6639 - val_auc: 0.7190\n",
            "\n",
            "Epoch 00030: val_loss did not improve from 0.60983\n",
            "Epoch 31/200\n",
            "257/257 - 0s - loss: 0.6287 - accuracy: 0.6442 - auc: 0.6954 - val_loss: 0.6089 - val_accuracy: 0.6673 - val_auc: 0.7249\n",
            "\n",
            "Epoch 00031: val_loss improved from 0.60983 to 0.60894, saving model to ./result_model.h5\n",
            "Epoch 32/200\n",
            "257/257 - 0s - loss: 0.6279 - accuracy: 0.6489 - auc: 0.6993 - val_loss: 0.6119 - val_accuracy: 0.6639 - val_auc: 0.7222\n",
            "\n",
            "Epoch 00032: val_loss did not improve from 0.60894\n",
            "Epoch 33/200\n",
            "257/257 - 0s - loss: 0.6251 - accuracy: 0.6478 - auc: 0.7006 - val_loss: 0.6082 - val_accuracy: 0.6595 - val_auc: 0.7274\n",
            "\n",
            "Epoch 00033: val_loss improved from 0.60894 to 0.60815, saving model to ./result_model.h5\n",
            "Epoch 34/200\n",
            "257/257 - 0s - loss: 0.6260 - accuracy: 0.6494 - auc: 0.6989 - val_loss: 0.6058 - val_accuracy: 0.6683 - val_auc: 0.7295\n",
            "\n",
            "Epoch 00034: val_loss improved from 0.60815 to 0.60585, saving model to ./result_model.h5\n",
            "Epoch 35/200\n",
            "257/257 - 0s - loss: 0.6282 - accuracy: 0.6472 - auc: 0.6980 - val_loss: 0.6181 - val_accuracy: 0.6615 - val_auc: 0.7172\n",
            "\n",
            "Epoch 00035: val_loss did not improve from 0.60585\n",
            "Epoch 36/200\n",
            "257/257 - 0s - loss: 0.6265 - accuracy: 0.6469 - auc: 0.6988 - val_loss: 0.6076 - val_accuracy: 0.6620 - val_auc: 0.7263\n",
            "\n",
            "Epoch 00036: val_loss did not improve from 0.60585\n",
            "Epoch 37/200\n",
            "257/257 - 0s - loss: 0.6288 - accuracy: 0.6455 - auc: 0.6973 - val_loss: 0.6106 - val_accuracy: 0.6707 - val_auc: 0.7268\n",
            "\n",
            "Epoch 00037: val_loss did not improve from 0.60585\n",
            "Epoch 38/200\n",
            "257/257 - 0s - loss: 0.6262 - accuracy: 0.6469 - auc: 0.6980 - val_loss: 0.6102 - val_accuracy: 0.6688 - val_auc: 0.7276\n",
            "\n",
            "Epoch 00038: val_loss did not improve from 0.60585\n",
            "Epoch 39/200\n",
            "257/257 - 0s - loss: 0.6226 - accuracy: 0.6514 - auc: 0.7042 - val_loss: 0.6133 - val_accuracy: 0.6605 - val_auc: 0.7267\n",
            "\n",
            "Epoch 00039: val_loss did not improve from 0.60585\n",
            "Epoch 40/200\n",
            "257/257 - 0s - loss: 0.6252 - accuracy: 0.6510 - auc: 0.6995 - val_loss: 0.6122 - val_accuracy: 0.6702 - val_auc: 0.7223\n",
            "\n",
            "Epoch 00040: val_loss did not improve from 0.60585\n",
            "Epoch 41/200\n",
            "257/257 - 0s - loss: 0.6229 - accuracy: 0.6517 - auc: 0.7062 - val_loss: 0.6107 - val_accuracy: 0.6663 - val_auc: 0.7255\n",
            "\n",
            "Epoch 00041: val_loss did not improve from 0.60585\n",
            "Epoch 42/200\n",
            "257/257 - 0s - loss: 0.6239 - accuracy: 0.6475 - auc: 0.7013 - val_loss: 0.6070 - val_accuracy: 0.6678 - val_auc: 0.7312\n",
            "\n",
            "Epoch 00042: val_loss did not improve from 0.60585\n",
            "Epoch 43/200\n",
            "257/257 - 0s - loss: 0.6228 - accuracy: 0.6505 - auc: 0.7062 - val_loss: 0.6087 - val_accuracy: 0.6605 - val_auc: 0.7264\n",
            "\n",
            "Epoch 00043: val_loss did not improve from 0.60585\n",
            "Epoch 44/200\n",
            "257/257 - 0s - loss: 0.6233 - accuracy: 0.6450 - auc: 0.7046 - val_loss: 0.6052 - val_accuracy: 0.6532 - val_auc: 0.7277\n",
            "\n",
            "Epoch 00044: val_loss improved from 0.60585 to 0.60522, saving model to ./result_model.h5\n",
            "Epoch 45/200\n",
            "257/257 - 0s - loss: 0.6212 - accuracy: 0.6541 - auc: 0.7083 - val_loss: 0.6094 - val_accuracy: 0.6576 - val_auc: 0.7264\n",
            "\n",
            "Epoch 00045: val_loss did not improve from 0.60522\n",
            "Epoch 46/200\n",
            "257/257 - 1s - loss: 0.6195 - accuracy: 0.6572 - auc: 0.7091 - val_loss: 0.6150 - val_accuracy: 0.6512 - val_auc: 0.7193\n",
            "\n",
            "Epoch 00046: val_loss did not improve from 0.60522\n",
            "Epoch 47/200\n",
            "257/257 - 0s - loss: 0.6223 - accuracy: 0.6566 - auc: 0.7061 - val_loss: 0.6042 - val_accuracy: 0.6678 - val_auc: 0.7295\n",
            "\n",
            "Epoch 00047: val_loss improved from 0.60522 to 0.60416, saving model to ./result_model.h5\n",
            "Epoch 48/200\n",
            "257/257 - 0s - loss: 0.6228 - accuracy: 0.6504 - auc: 0.7046 - val_loss: 0.6090 - val_accuracy: 0.6654 - val_auc: 0.7238\n",
            "\n",
            "Epoch 00048: val_loss did not improve from 0.60416\n",
            "Epoch 49/200\n",
            "257/257 - 0s - loss: 0.6209 - accuracy: 0.6488 - auc: 0.7073 - val_loss: 0.6074 - val_accuracy: 0.6688 - val_auc: 0.7311\n",
            "\n",
            "Epoch 00049: val_loss did not improve from 0.60416\n",
            "Epoch 50/200\n",
            "257/257 - 0s - loss: 0.6247 - accuracy: 0.6454 - auc: 0.7013 - val_loss: 0.6133 - val_accuracy: 0.6556 - val_auc: 0.7193\n",
            "\n",
            "Epoch 00050: val_loss did not improve from 0.60416\n",
            "Epoch 51/200\n",
            "257/257 - 0s - loss: 0.6239 - accuracy: 0.6531 - auc: 0.7047 - val_loss: 0.6143 - val_accuracy: 0.6590 - val_auc: 0.7171\n",
            "\n",
            "Epoch 00051: val_loss did not improve from 0.60416\n",
            "Epoch 52/200\n",
            "257/257 - 0s - loss: 0.6196 - accuracy: 0.6506 - auc: 0.7098 - val_loss: 0.6041 - val_accuracy: 0.6624 - val_auc: 0.7300\n",
            "\n",
            "Epoch 00052: val_loss improved from 0.60416 to 0.60408, saving model to ./result_model.h5\n",
            "Epoch 53/200\n",
            "257/257 - 0s - loss: 0.6179 - accuracy: 0.6515 - auc: 0.7113 - val_loss: 0.6134 - val_accuracy: 0.6561 - val_auc: 0.7271\n",
            "\n",
            "Epoch 00053: val_loss did not improve from 0.60408\n",
            "Epoch 54/200\n",
            "257/257 - 0s - loss: 0.6221 - accuracy: 0.6474 - auc: 0.7042 - val_loss: 0.6060 - val_accuracy: 0.6659 - val_auc: 0.7299\n",
            "\n",
            "Epoch 00054: val_loss did not improve from 0.60408\n",
            "Epoch 55/200\n",
            "257/257 - 0s - loss: 0.6176 - accuracy: 0.6539 - auc: 0.7111 - val_loss: 0.6062 - val_accuracy: 0.6722 - val_auc: 0.7264\n",
            "\n",
            "Epoch 00055: val_loss did not improve from 0.60408\n",
            "Epoch 56/200\n",
            "257/257 - 0s - loss: 0.6213 - accuracy: 0.6497 - auc: 0.7078 - val_loss: 0.6079 - val_accuracy: 0.6595 - val_auc: 0.7347\n",
            "\n",
            "Epoch 00056: val_loss did not improve from 0.60408\n",
            "Epoch 57/200\n",
            "257/257 - 0s - loss: 0.6202 - accuracy: 0.6491 - auc: 0.7079 - val_loss: 0.6095 - val_accuracy: 0.6668 - val_auc: 0.7305\n",
            "\n",
            "Epoch 00057: val_loss did not improve from 0.60408\n",
            "\n",
            "Epoch 00057: ReduceLROnPlateau reducing learning rate to 0.0005000000237487257.\n",
            "Epoch 58/200\n",
            "257/257 - 0s - loss: 0.6135 - accuracy: 0.6600 - auc: 0.7166 - val_loss: 0.6093 - val_accuracy: 0.6634 - val_auc: 0.7274\n",
            "\n",
            "Epoch 00058: val_loss did not improve from 0.60408\n",
            "Epoch 59/200\n",
            "257/257 - 0s - loss: 0.6172 - accuracy: 0.6543 - auc: 0.7128 - val_loss: 0.6034 - val_accuracy: 0.6717 - val_auc: 0.7315\n",
            "\n",
            "Epoch 00059: val_loss improved from 0.60408 to 0.60345, saving model to ./result_model.h5\n",
            "Epoch 60/200\n",
            "257/257 - 0s - loss: 0.6152 - accuracy: 0.6574 - auc: 0.7163 - val_loss: 0.6010 - val_accuracy: 0.6741 - val_auc: 0.7347\n",
            "\n",
            "Epoch 00060: val_loss improved from 0.60345 to 0.60105, saving model to ./result_model.h5\n",
            "Epoch 61/200\n",
            "257/257 - 0s - loss: 0.6115 - accuracy: 0.6558 - auc: 0.7182 - val_loss: 0.6063 - val_accuracy: 0.6737 - val_auc: 0.7296\n",
            "\n",
            "Epoch 00061: val_loss did not improve from 0.60105\n",
            "Epoch 62/200\n",
            "257/257 - 0s - loss: 0.6155 - accuracy: 0.6542 - auc: 0.7136 - val_loss: 0.6053 - val_accuracy: 0.6590 - val_auc: 0.7311\n",
            "\n",
            "Epoch 00062: val_loss did not improve from 0.60105\n",
            "Epoch 63/200\n",
            "257/257 - 0s - loss: 0.6122 - accuracy: 0.6614 - auc: 0.7182 - val_loss: 0.6025 - val_accuracy: 0.6663 - val_auc: 0.7310\n",
            "\n",
            "Epoch 00063: val_loss did not improve from 0.60105\n",
            "Epoch 64/200\n",
            "257/257 - 0s - loss: 0.6112 - accuracy: 0.6575 - auc: 0.7196 - val_loss: 0.6000 - val_accuracy: 0.6678 - val_auc: 0.7353\n",
            "\n",
            "Epoch 00064: val_loss improved from 0.60105 to 0.59998, saving model to ./result_model.h5\n",
            "Epoch 65/200\n",
            "257/257 - 0s - loss: 0.6143 - accuracy: 0.6555 - auc: 0.7145 - val_loss: 0.5998 - val_accuracy: 0.6829 - val_auc: 0.7349\n",
            "\n",
            "Epoch 00065: val_loss improved from 0.59998 to 0.59980, saving model to ./result_model.h5\n",
            "Epoch 66/200\n",
            "257/257 - 0s - loss: 0.6111 - accuracy: 0.6630 - auc: 0.7206 - val_loss: 0.6049 - val_accuracy: 0.6585 - val_auc: 0.7316\n",
            "\n",
            "Epoch 00066: val_loss did not improve from 0.59980\n",
            "Epoch 67/200\n",
            "257/257 - 0s - loss: 0.6094 - accuracy: 0.6600 - auc: 0.7216 - val_loss: 0.5987 - val_accuracy: 0.6688 - val_auc: 0.7359\n",
            "\n",
            "Epoch 00067: val_loss improved from 0.59980 to 0.59874, saving model to ./result_model.h5\n",
            "Epoch 68/200\n",
            "257/257 - 0s - loss: 0.6110 - accuracy: 0.6586 - auc: 0.7195 - val_loss: 0.6050 - val_accuracy: 0.6746 - val_auc: 0.7332\n",
            "\n",
            "Epoch 00068: val_loss did not improve from 0.59874\n",
            "Epoch 69/200\n",
            "257/257 - 0s - loss: 0.6148 - accuracy: 0.6553 - auc: 0.7145 - val_loss: 0.6036 - val_accuracy: 0.6615 - val_auc: 0.7338\n",
            "\n",
            "Epoch 00069: val_loss did not improve from 0.59874\n",
            "Epoch 70/200\n",
            "257/257 - 0s - loss: 0.6135 - accuracy: 0.6563 - auc: 0.7162 - val_loss: 0.6004 - val_accuracy: 0.6678 - val_auc: 0.7357\n",
            "\n",
            "Epoch 00070: val_loss did not improve from 0.59874\n",
            "Epoch 71/200\n",
            "257/257 - 0s - loss: 0.6101 - accuracy: 0.6628 - auc: 0.7221 - val_loss: 0.6045 - val_accuracy: 0.6663 - val_auc: 0.7311\n",
            "\n",
            "Epoch 00071: val_loss did not improve from 0.59874\n",
            "Epoch 72/200\n",
            "257/257 - 0s - loss: 0.6098 - accuracy: 0.6642 - auc: 0.7207 - val_loss: 0.6019 - val_accuracy: 0.6780 - val_auc: 0.7339\n",
            "\n",
            "Epoch 00072: val_loss did not improve from 0.59874\n",
            "Epoch 73/200\n",
            "257/257 - 0s - loss: 0.6114 - accuracy: 0.6613 - auc: 0.7205 - val_loss: 0.6053 - val_accuracy: 0.6727 - val_auc: 0.7292\n",
            "\n",
            "Epoch 00073: val_loss did not improve from 0.59874\n",
            "Epoch 74/200\n",
            "257/257 - 0s - loss: 0.6147 - accuracy: 0.6544 - auc: 0.7155 - val_loss: 0.6040 - val_accuracy: 0.6741 - val_auc: 0.7317\n",
            "\n",
            "Epoch 00074: val_loss did not improve from 0.59874\n",
            "Epoch 75/200\n",
            "257/257 - 0s - loss: 0.6113 - accuracy: 0.6602 - auc: 0.7197 - val_loss: 0.6013 - val_accuracy: 0.6829 - val_auc: 0.7359\n",
            "\n",
            "Epoch 00075: val_loss did not improve from 0.59874\n",
            "Epoch 76/200\n",
            "257/257 - 0s - loss: 0.6099 - accuracy: 0.6603 - auc: 0.7208 - val_loss: 0.6015 - val_accuracy: 0.6688 - val_auc: 0.7346\n",
            "\n",
            "Epoch 00076: val_loss did not improve from 0.59874\n",
            "Epoch 77/200\n",
            "257/257 - 0s - loss: 0.6136 - accuracy: 0.6586 - auc: 0.7178 - val_loss: 0.6061 - val_accuracy: 0.6610 - val_auc: 0.7290\n",
            "\n",
            "Epoch 00077: val_loss did not improve from 0.59874\n",
            "\n",
            "Epoch 00077: ReduceLROnPlateau reducing learning rate to 0.0002500000118743628.\n",
            "Epoch 78/200\n",
            "257/257 - 0s - loss: 0.6088 - accuracy: 0.6641 - auc: 0.7231 - val_loss: 0.5972 - val_accuracy: 0.6780 - val_auc: 0.7386\n",
            "\n",
            "Epoch 00078: val_loss improved from 0.59874 to 0.59717, saving model to ./result_model.h5\n",
            "Epoch 79/200\n",
            "257/257 - 0s - loss: 0.6079 - accuracy: 0.6644 - auc: 0.7242 - val_loss: 0.6006 - val_accuracy: 0.6590 - val_auc: 0.7369\n",
            "\n",
            "Epoch 00079: val_loss did not improve from 0.59717\n",
            "Epoch 80/200\n",
            "257/257 - 0s - loss: 0.6062 - accuracy: 0.6638 - auc: 0.7264 - val_loss: 0.6004 - val_accuracy: 0.6654 - val_auc: 0.7360\n",
            "\n",
            "Epoch 00080: val_loss did not improve from 0.59717\n",
            "Epoch 81/200\n",
            "257/257 - 0s - loss: 0.6090 - accuracy: 0.6622 - auc: 0.7239 - val_loss: 0.6040 - val_accuracy: 0.6590 - val_auc: 0.7339\n",
            "\n",
            "Epoch 00081: val_loss did not improve from 0.59717\n",
            "Epoch 82/200\n",
            "257/257 - 0s - loss: 0.6072 - accuracy: 0.6597 - auc: 0.7256 - val_loss: 0.6017 - val_accuracy: 0.6702 - val_auc: 0.7346\n",
            "\n",
            "Epoch 00082: val_loss did not improve from 0.59717\n",
            "Epoch 83/200\n",
            "257/257 - 0s - loss: 0.6071 - accuracy: 0.6665 - auc: 0.7242 - val_loss: 0.6033 - val_accuracy: 0.6654 - val_auc: 0.7329\n",
            "\n",
            "Epoch 00083: val_loss did not improve from 0.59717\n",
            "Epoch 84/200\n",
            "257/257 - 0s - loss: 0.6062 - accuracy: 0.6642 - auc: 0.7263 - val_loss: 0.5993 - val_accuracy: 0.6741 - val_auc: 0.7363\n",
            "\n",
            "Epoch 00084: val_loss did not improve from 0.59717\n",
            "Epoch 85/200\n",
            "257/257 - 0s - loss: 0.6077 - accuracy: 0.6664 - auc: 0.7244 - val_loss: 0.6002 - val_accuracy: 0.6717 - val_auc: 0.7355\n",
            "\n",
            "Epoch 00085: val_loss did not improve from 0.59717\n",
            "Epoch 86/200\n",
            "257/257 - 0s - loss: 0.6056 - accuracy: 0.6649 - auc: 0.7275 - val_loss: 0.6041 - val_accuracy: 0.6649 - val_auc: 0.7315\n",
            "\n",
            "Epoch 00086: val_loss did not improve from 0.59717\n",
            "Epoch 87/200\n",
            "257/257 - 0s - loss: 0.6089 - accuracy: 0.6596 - auc: 0.7239 - val_loss: 0.6009 - val_accuracy: 0.6668 - val_auc: 0.7359\n",
            "\n",
            "Epoch 00087: val_loss did not improve from 0.59717\n",
            "Epoch 88/200\n",
            "257/257 - 0s - loss: 0.6060 - accuracy: 0.6654 - auc: 0.7274 - val_loss: 0.6003 - val_accuracy: 0.6746 - val_auc: 0.7350\n",
            "\n",
            "Epoch 00088: val_loss did not improve from 0.59717\n",
            "\n",
            "Epoch 00088: ReduceLROnPlateau reducing learning rate to 0.0001250000059371814.\n",
            "Epoch 89/200\n",
            "257/257 - 0s - loss: 0.6061 - accuracy: 0.6658 - auc: 0.7270 - val_loss: 0.5987 - val_accuracy: 0.6717 - val_auc: 0.7371\n",
            "\n",
            "Epoch 00089: val_loss did not improve from 0.59717\n",
            "Epoch 90/200\n",
            "257/257 - 0s - loss: 0.6033 - accuracy: 0.6683 - auc: 0.7302 - val_loss: 0.6004 - val_accuracy: 0.6600 - val_auc: 0.7362\n",
            "\n",
            "Epoch 00090: val_loss did not improve from 0.59717\n",
            "Epoch 91/200\n",
            "257/257 - 0s - loss: 0.6022 - accuracy: 0.6722 - auc: 0.7319 - val_loss: 0.6000 - val_accuracy: 0.6629 - val_auc: 0.7367\n",
            "\n",
            "Epoch 00091: val_loss did not improve from 0.59717\n",
            "Epoch 92/200\n",
            "257/257 - 0s - loss: 0.6055 - accuracy: 0.6593 - auc: 0.7278 - val_loss: 0.6020 - val_accuracy: 0.6620 - val_auc: 0.7358\n",
            "\n",
            "Epoch 00092: val_loss did not improve from 0.59717\n",
            "Epoch 93/200\n",
            "257/257 - 0s - loss: 0.6039 - accuracy: 0.6635 - auc: 0.7283 - val_loss: 0.5992 - val_accuracy: 0.6639 - val_auc: 0.7373\n",
            "\n",
            "Epoch 00093: val_loss did not improve from 0.59717\n",
            "Epoch 94/200\n",
            "257/257 - 0s - loss: 0.6036 - accuracy: 0.6705 - auc: 0.7293 - val_loss: 0.6015 - val_accuracy: 0.6654 - val_auc: 0.7364\n",
            "\n",
            "Epoch 00094: val_loss did not improve from 0.59717\n",
            "Epoch 95/200\n",
            "257/257 - 0s - loss: 0.6034 - accuracy: 0.6635 - auc: 0.7291 - val_loss: 0.6006 - val_accuracy: 0.6668 - val_auc: 0.7355\n",
            "\n",
            "Epoch 00095: val_loss did not improve from 0.59717\n",
            "Epoch 96/200\n",
            "257/257 - 0s - loss: 0.6006 - accuracy: 0.6761 - auc: 0.7350 - val_loss: 0.5976 - val_accuracy: 0.6698 - val_auc: 0.7393\n",
            "\n",
            "Epoch 00096: val_loss did not improve from 0.59717\n",
            "Epoch 97/200\n",
            "257/257 - 0s - loss: 0.6041 - accuracy: 0.6702 - auc: 0.7299 - val_loss: 0.5980 - val_accuracy: 0.6683 - val_auc: 0.7391\n",
            "\n",
            "Epoch 00097: val_loss did not improve from 0.59717\n",
            "Epoch 98/200\n",
            "257/257 - 0s - loss: 0.6074 - accuracy: 0.6586 - auc: 0.7242 - val_loss: 0.6011 - val_accuracy: 0.6659 - val_auc: 0.7365\n",
            "\n",
            "Epoch 00098: val_loss did not improve from 0.59717\n",
            "\n",
            "Epoch 00098: ReduceLROnPlateau reducing learning rate to 6.25000029685907e-05.\n",
            "Epoch 99/200\n",
            "257/257 - 0s - loss: 0.6020 - accuracy: 0.6702 - auc: 0.7336 - val_loss: 0.5988 - val_accuracy: 0.6712 - val_auc: 0.7382\n",
            "\n",
            "Epoch 00099: val_loss did not improve from 0.59717\n",
            "Epoch 100/200\n",
            "257/257 - 0s - loss: 0.6075 - accuracy: 0.6650 - auc: 0.7247 - val_loss: 0.6002 - val_accuracy: 0.6698 - val_auc: 0.7372\n",
            "\n",
            "Epoch 00100: val_loss did not improve from 0.59717\n",
            "Epoch 101/200\n",
            "257/257 - 0s - loss: 0.5994 - accuracy: 0.6720 - auc: 0.7357 - val_loss: 0.5997 - val_accuracy: 0.6683 - val_auc: 0.7376\n",
            "\n",
            "Epoch 00101: val_loss did not improve from 0.59717\n",
            "Epoch 102/200\n",
            "257/257 - 0s - loss: 0.6011 - accuracy: 0.6659 - auc: 0.7318 - val_loss: 0.5993 - val_accuracy: 0.6707 - val_auc: 0.7372\n",
            "\n",
            "Epoch 00102: val_loss did not improve from 0.59717\n",
            "Epoch 103/200\n",
            "257/257 - 0s - loss: 0.6033 - accuracy: 0.6687 - auc: 0.7300 - val_loss: 0.5997 - val_accuracy: 0.6673 - val_auc: 0.7374\n",
            "\n",
            "Epoch 00103: val_loss did not improve from 0.59717\n",
            "Epoch 104/200\n",
            "257/257 - 0s - loss: 0.6011 - accuracy: 0.6739 - auc: 0.7340 - val_loss: 0.5986 - val_accuracy: 0.6678 - val_auc: 0.7383\n",
            "\n",
            "Epoch 00104: val_loss did not improve from 0.59717\n",
            "Epoch 105/200\n",
            "257/257 - 0s - loss: 0.5998 - accuracy: 0.6692 - auc: 0.7344 - val_loss: 0.5975 - val_accuracy: 0.6727 - val_auc: 0.7390\n",
            "\n",
            "Epoch 00105: val_loss did not improve from 0.59717\n",
            "Epoch 106/200\n",
            "257/257 - 0s - loss: 0.6043 - accuracy: 0.6653 - auc: 0.7283 - val_loss: 0.5988 - val_accuracy: 0.6654 - val_auc: 0.7386\n",
            "\n",
            "Epoch 00106: val_loss did not improve from 0.59717\n",
            "Epoch 107/200\n",
            "257/257 - 0s - loss: 0.6036 - accuracy: 0.6635 - auc: 0.7282 - val_loss: 0.5989 - val_accuracy: 0.6663 - val_auc: 0.7387\n",
            "\n",
            "Epoch 00107: val_loss did not improve from 0.59717\n",
            "Epoch 108/200\n",
            "257/257 - 0s - loss: 0.6018 - accuracy: 0.6687 - auc: 0.7320 - val_loss: 0.5991 - val_accuracy: 0.6678 - val_auc: 0.7380\n",
            "\n",
            "Epoch 00108: val_loss did not improve from 0.59717\n",
            "\n",
            "Epoch 00108: ReduceLROnPlateau reducing learning rate to 3.125000148429535e-05.\n",
            "Epoch 109/200\n",
            "257/257 - 0s - loss: 0.5991 - accuracy: 0.6720 - auc: 0.7357 - val_loss: 0.5995 - val_accuracy: 0.6678 - val_auc: 0.7377\n",
            "\n",
            "Epoch 00109: val_loss did not improve from 0.59717\n",
            "Epoch 110/200\n",
            "257/257 - 0s - loss: 0.6047 - accuracy: 0.6671 - auc: 0.7280 - val_loss: 0.5998 - val_accuracy: 0.6683 - val_auc: 0.7373\n",
            "\n",
            "Epoch 00110: val_loss did not improve from 0.59717\n",
            "Epoch 111/200\n",
            "257/257 - 0s - loss: 0.6034 - accuracy: 0.6688 - auc: 0.7307 - val_loss: 0.5995 - val_accuracy: 0.6663 - val_auc: 0.7375\n",
            "\n",
            "Epoch 00111: val_loss did not improve from 0.59717\n",
            "Epoch 112/200\n",
            "257/257 - 0s - loss: 0.5973 - accuracy: 0.6726 - auc: 0.7380 - val_loss: 0.5991 - val_accuracy: 0.6693 - val_auc: 0.7380\n",
            "\n",
            "Epoch 00112: val_loss did not improve from 0.59717\n",
            "Epoch 113/200\n",
            "257/257 - 0s - loss: 0.6004 - accuracy: 0.6726 - auc: 0.7338 - val_loss: 0.6000 - val_accuracy: 0.6698 - val_auc: 0.7370\n",
            "\n",
            "Epoch 00113: val_loss did not improve from 0.59717\n",
            "Epoch 114/200\n",
            "257/257 - 0s - loss: 0.5998 - accuracy: 0.6713 - auc: 0.7344 - val_loss: 0.5998 - val_accuracy: 0.6688 - val_auc: 0.7368\n",
            "\n",
            "Epoch 00114: val_loss did not improve from 0.59717\n",
            "Epoch 115/200\n",
            "257/257 - 0s - loss: 0.6011 - accuracy: 0.6719 - auc: 0.7342 - val_loss: 0.5995 - val_accuracy: 0.6698 - val_auc: 0.7372\n",
            "\n",
            "Epoch 00115: val_loss did not improve from 0.59717\n",
            "Epoch 116/200\n",
            "257/257 - 0s - loss: 0.6018 - accuracy: 0.6719 - auc: 0.7340 - val_loss: 0.5988 - val_accuracy: 0.6673 - val_auc: 0.7381\n",
            "\n",
            "Epoch 00116: val_loss did not improve from 0.59717\n"
          ],
          "name": "stdout"
        }
      ]
    },
    {
      "cell_type": "code",
      "metadata": {
        "id": "HfwFWO23ucIL",
        "colab": {
          "base_uri": "https://localhost:8080/",
          "height": 363
        },
        "outputId": "7baf26dd-0f9d-4088-991c-cea559250184"
      },
      "source": [
        "plt.figure(figsize = (20,5))\n",
        "plt.subplot(1,2,1)\n",
        "plt.plot(history.history['accuracy'])\n",
        "plt.plot(history.history['val_accuracy'])\n",
        "plt.title('Accuracy (training and validation) vs Epochs')\n",
        "plt.legend(['training accuracy' , 'validation accuracy'])\n",
        "plt.xlabel('Epochs')\n",
        "plt.ylabel('acccuracy')\n",
        "\n",
        "plt.subplot(1,2,2)\n",
        "plt.plot(history.history['loss'])\n",
        "plt.plot(history.history['val_loss'])\n",
        "plt.title('Loss (training and validation) vs Epochs')\n",
        "plt.legend(['training loss', 'validation loss'])\n",
        "plt.xlabel('Epochs')\n",
        "plt.ylabel('losses')"
      ],
      "execution_count": 108,
      "outputs": [
        {
          "output_type": "execute_result",
          "data": {
            "text/plain": [
              "Text(0, 0.5, 'losses')"
            ]
          },
          "metadata": {
            "tags": []
          },
          "execution_count": 108
        },
        {
          "output_type": "display_data",
          "data": {
            "image/png": "[encoded data removed]",
            "text/plain": [
              "<Figure size 1440x360 with 2 Axes>"
            ]
          },
          "metadata": {
            "tags": [],
            "needs_background": "light"
          }
        }
      ]
    },
    {
      "cell_type": "code",
      "metadata": {
        "id": "Ug2Fzc3j3_Yk"
      },
      "source": [
        "y_true=np.array(y_val) # one dimension\n",
        "y_pred=np.squeeze(model.predict(X_val))#2dimension so write np.squeeze to amke it one dimension\n",
        "y_pred=np.array(y_pred>=0.5,dtype=np.int)"
      ],
      "execution_count": 95,
      "outputs": []
    },
    {
      "cell_type": "code",
      "metadata": {
        "id": "rQJqDcj84NoV",
        "colab": {
          "base_uri": "https://localhost:8080/",
          "height": 295
        },
        "outputId": "1d2af87d-36af-43a2-957a-fbef6be1f126"
      },
      "source": [
        "from sklearn.metrics import confusion_matrix,classification_report\n",
        "\n",
        "cm = confusion_matrix(y_true, y_pred)\n",
        "\n",
        "plt.figure(figsize=(4, 4))\n",
        "\n",
        "sns.heatmap(cm, annot=True, fmt='g', vmin=0, cbar=False)\n",
        "\n",
        "plt.xlabel(\"Predicted\")\n",
        "plt.ylabel(\"Actual\")\n",
        "plt.title(\"Confusion Matrix\")\n",
        "\n",
        "plt.show()"
      ],
      "execution_count": 96,
      "outputs": [
        {
          "output_type": "display_data",
          "data": {
            "image/png": "[encoded data removed]",
            "text/plain": [
              "<Figure size 288x288 with 1 Axes>"
            ]
          },
          "metadata": {
            "tags": [],
            "needs_background": "light"
          }
        }
      ]
    },
    {
      "cell_type": "code",
      "metadata": {
        "id": "reE5C6O74WJz",
        "colab": {
          "base_uri": "https://localhost:8080/"
        },
        "outputId": "db7d7669-22ca-45c4-dc44-835ce6775aa8"
      },
      "source": [
        "print(classification_report(y_true, y_pred))"
      ],
      "execution_count": 97,
      "outputs": [
        {
          "output_type": "stream",
          "text": [
            "              precision    recall  f1-score   support\n",
            "\n",
            "           0       0.69      0.65      0.67      1023\n",
            "           1       0.67      0.71      0.69      1027\n",
            "\n",
            "    accuracy                           0.68      2050\n",
            "   macro avg       0.68      0.68      0.68      2050\n",
            "weighted avg       0.68      0.68      0.68      2050\n",
            "\n"
          ],
          "name": "stdout"
        }
      ]
    },
    {
      "cell_type": "code",
      "metadata": {
        "id": "VBFuNUj0bVnc",
        "colab": {
          "base_uri": "https://localhost:8080/"
        },
        "outputId": "4daef9fc-c558-4cbb-865a-6ce19da135f1"
      },
      "source": [
        "#base\n",
        "\n",
        "y_base1 = [1] * len(y_val)\n",
        "\n",
        "\n",
        "confusion = confusion_matrix(y_val, y_base1)\n",
        "accuracy = accuracy_score(y_val, y_base1)\n",
        "precision = precision_score(y_val, y_base1)\n",
        "recall = recall_score(y_val, y_base1)\n",
        "F1 = f1_score(y_val, y_base1)\n",
        "roc_auc = roc_auc_score(y_val, y_base1)\n",
        "\n",
        "print('오차행렬')\n",
        "print(confusion)\n",
        "\n",
        "print('정확도: {0}, 정밀도: {1}, 재현율: {2}, F1: {3}, auc:{4}'.format(accuracy, precision, recall, F1, roc_auc))"
      ],
      "execution_count": null,
      "outputs": [
        {
          "output_type": "stream",
          "text": [
            "오차행렬\n",
            "[[   0 1023]\n",
            " [   0 1027]]\n",
            "정확도: 0.5009756097560976, 정밀도: 0.5009756097560976, 재현율: 1.0, F1: 0.6675333116672083, auc:0.5\n"
          ],
          "name": "stdout"
        }
      ]
    },
    {
      "cell_type": "code",
      "metadata": {
        "id": "QD-ho4dSftDF"
      },
      "source": [
        "# 여러 ML 사용해보기- > 트리 계열은 과적합이 나옴 그나마 랜덤포레스트 모델, XGBoost, LGBM 이 70퍼센트 나옴"
      ],
      "execution_count": null,
      "outputs": []
    },
    {
      "cell_type": "code",
      "metadata": {
        "id": "hlWu9HukgaXA",
        "colab": {
          "base_uri": "https://localhost:8080/"
        },
        "outputId": "34836ed4-ea2c-4d41-ecd7-0035741c8e96"
      },
      "source": [
        "from sklearn.ensemble import RandomForestClassifier\n",
        "\n",
        "forest_model = RandomForestClassifier()\n",
        "forest_model.fit(X_train, y_train)\n",
        "y_pred = forest_model.predict(X_val)\n",
        "y_proba = forest_model.predict_proba(X_val)[:,1]\n",
        "\n",
        "eval(y_val, y_pred, y_proba)"
      ],
      "execution_count": null,
      "outputs": [
        {
          "output_type": "stream",
          "text": [
            "오차행렬\n",
            "[[728 295]\n",
            " [276 751]]\n",
            "정확도: 0.7215, 정밀도: 0.7180, 재현율: 0.7313, F1: 0.7246, AUC: 0.7891\n"
          ],
          "name": "stdout"
        }
      ]
    },
    {
      "cell_type": "code",
      "metadata": {
        "id": "n1xtzrI-deRy"
      },
      "source": [
        "forest_param ={   'n_estimators':[10,50,100,200] ,\n",
        "                  'criterion': ['gini', 'entropy'], \n",
        "                  'max_depth':[5, 10, 20, 30, 50, None]\n",
        "                }\n",
        "\n",
        "grid_search_forest = GridSearchCV(forest_model, forest_param, cv =10, scoring='roc_auc')\n",
        "grid_search_forest.fit(X_train, y_train)"
      ],
      "execution_count": null,
      "outputs": []
    },
    {
      "cell_type": "code",
      "metadata": {
        "id": "i9yxQbm_tVze"
      },
      "source": [
        "grid_search_forest.best_estimator_"
      ],
      "execution_count": null,
      "outputs": []
    },
    {
      "cell_type": "code",
      "metadata": {
        "id": "eMw4ZiyBtl5T"
      },
      "source": [
        "grid_search_forest.best_params_"
      ],
      "execution_count": null,
      "outputs": []
    },
    {
      "cell_type": "code",
      "metadata": {
        "id": "ERuyYjVjtrWJ"
      },
      "source": [
        "grid_search_forest.best_score_"
      ],
      "execution_count": null,
      "outputs": []
    },
    {
      "cell_type": "code",
      "metadata": {
        "id": "JbYds5S3tyyS",
        "colab": {
          "base_uri": "https://localhost:8080/"
        },
        "outputId": "e67ee933-32f7-4c0e-d596-f0d5d188c3cd"
      },
      "source": [
        "#fine tunning forest\n",
        "opforest_model = RandomForestClassifier(criterion= 'entropy', max_depth= 30, n_estimators= 200)\n",
        "opforest_model.fit(X_train, y_train)\n",
        "y_pred = opforest_model.predict(X_val)\n",
        "y_proba = opforest_model.predict_proba(X_val)[:,1]\n",
        "\n",
        "eval(y_val, y_pred, y_proba)\n",
        "\n",
        "# forest_model : 0.7185, 정밀도: 0.7103, 재현율: 0.7400, F1: 0.7248, AUC: 0.7908 -> critical하게 변하지 않았다."
      ],
      "execution_count": null,
      "outputs": [
        {
          "output_type": "stream",
          "text": [
            "오차행렬\n",
            "[[699 324]\n",
            " [269 758]]\n",
            "정확도: 0.7107, 정밀도: 0.7006, 재현율: 0.7381, F1: 0.7188, AUC: 0.7916\n"
          ],
          "name": "stdout"
        }
      ]
    },
    {
      "cell_type": "code",
      "metadata": {
        "id": "FYTAQ0u-t_HD",
        "colab": {
          "base_uri": "https://localhost:8080/"
        },
        "outputId": "903481f0-5b7b-46be-c87b-75dad2b7010c"
      },
      "source": [
        "# permuter 정의\n",
        "import eli5\n",
        "from eli5.sklearn import PermutationImportance\n",
        "\n",
        "permuter = PermutationImportance(\n",
        "    forest_model, # model\n",
        "    scoring='accuracy', # metric\n",
        "    n_iter=5, # 다른 random seed를 사용하여 5번 반복\n",
        "    random_state=2\n",
        ")\n",
        "\n",
        "# 실제로 fit 의미보다는 스코어를 다시 계산하는 작업입니다\n",
        "permuter.fit(X_val, y_val);"
      ],
      "execution_count": null,
      "outputs": [
        {
          "output_type": "stream",
          "text": [
            "/usr/local/lib/python3.7/dist-packages/sklearn/utils/deprecation.py:144: FutureWarning: The sklearn.feature_selection.base module is  deprecated in version 0.22 and will be removed in version 0.24. The corresponding classes / functions should instead be imported from sklearn.feature_selection. Anything that cannot be imported from sklearn.feature_selection is now part of the private API.\n",
            "  warnings.warn(message, FutureWarning)\n"
          ],
          "name": "stderr"
        }
      ]
    },
    {
      "cell_type": "code",
      "metadata": {
        "id": "90Xv_e3JuDyh",
        "colab": {
          "base_uri": "https://localhost:8080/"
        },
        "outputId": "d34d36e8-4bc4-40ea-ede3-0a7cbb214910"
      },
      "source": [
        "feature_names = X_val.columns.tolist()\n",
        "pd.Series(permuter.feature_importances_, feature_names).sort_values()"
      ],
      "execution_count": null,
      "outputs": [
        {
          "output_type": "execute_result",
          "data": {
            "text/plain": [
              "gender       0.009463\n",
              "Raw          0.011902\n",
              "Alpha1       0.012000\n",
              "Beta1        0.012390\n",
              "Theta        0.013463\n",
              "Alpha2       0.016585\n",
              "Beta2        0.026927\n",
              "Mediation    0.028000\n",
              "Delta        0.036683\n",
              "age          0.040878\n",
              "Gamma1       0.043512\n",
              "SubjectID    0.053366\n",
              "Gamma2       0.063805\n",
              "Attention    0.074049\n",
              "dtype: float64"
            ]
          },
          "metadata": {
            "tags": []
          },
          "execution_count": 13
        }
      ]
    },
    {
      "cell_type": "code",
      "metadata": {
        "id": "gQ3PoiiZgozo",
        "colab": {
          "base_uri": "https://localhost:8080/"
        },
        "outputId": "5efb04ce-749a-4e59-c653-85ea0def7d7c"
      },
      "source": [
        "from xgboost import XGBClassifier\n",
        "\n",
        "XG_model = XGBClassifier()\n",
        "XG_model.fit(X_train, y_train)\n",
        "\n",
        "y_pred = XG_model.predict(X_val)\n",
        "y_proba = XG_model.predict_proba(X_val)[:,1]\n",
        "\n",
        "eval(y_val, y_pred, y_proba)"
      ],
      "execution_count": null,
      "outputs": [
        {
          "output_type": "stream",
          "text": [
            "오차행렬\n",
            "[[665 358]\n",
            " [289 738]]\n",
            "정확도: 0.6844, 정밀도: 0.6734, 재현율: 0.7186, F1: 0.6952, AUC: 0.7562\n"
          ],
          "name": "stdout"
        }
      ]
    },
    {
      "cell_type": "code",
      "metadata": {
        "id": "fycyLtTNfhU9"
      },
      "source": [
        "XGB_params ={'n_estimators':[10,50,100,200] ,\n",
        "            'criterion': ['gini', 'entropy'], \n",
        "            'max_depth':[5, 10, 20, 30, 50, None],\n",
        "            'learning_rate' : [0.05 , 0.1, 0.2],\n",
        "            'subsample' : [0.7]\n",
        "                }\n",
        "\n",
        "grid_search_XGB = GridSearchCV(XG_model, XGB_params, cv =5, scoring='roc_auc')\n",
        "grid_search_XGB.fit(X_train, y_train)"
      ],
      "execution_count": null,
      "outputs": []
    },
    {
      "cell_type": "code",
      "metadata": {
        "id": "IAId3oe3pQN6"
      },
      "source": [
        "grid_search_XGB.best_estimator_"
      ],
      "execution_count": null,
      "outputs": []
    },
    {
      "cell_type": "code",
      "metadata": {
        "id": "7fCJBMw3pVXw"
      },
      "source": [
        "grid_search_XGB.best_params_"
      ],
      "execution_count": null,
      "outputs": []
    },
    {
      "cell_type": "code",
      "metadata": {
        "id": "TsKfCz4GpZDE"
      },
      "source": [
        "grid_search_XGB.best_score_"
      ],
      "execution_count": null,
      "outputs": []
    },
    {
      "cell_type": "code",
      "metadata": {
        "colab": {
          "base_uri": "https://localhost:8080/"
        },
        "id": "A0fDQkUKpkTM",
        "outputId": "660fb060-80db-4c8f-9df7-2c72b9c89f91"
      },
      "source": [
        "opXG_model = XGBClassifier(criterion = 'gini', learning_rate = 0.05, max_depth = 50, n_estimators = 200, subsample = 0.7)\n",
        "opXG_model.fit(X_train, y_train)\n",
        "\n",
        "y_pred = opXG_model.predict(X_val)\n",
        "y_proba = opXG_model.predict_proba(X_val)[:,1]\n",
        "\n",
        "eval(y_val, y_pred, y_proba)\n",
        "# 정확도: 0.6844, 정밀도: 0.6734, 재현율: 0.7186, F1: 0.6952, AUC: 0.7562 -> 전반적으로 개선이 됨"
      ],
      "execution_count": null,
      "outputs": [
        {
          "output_type": "stream",
          "text": [
            "오차행렬\n",
            "[[700 323]\n",
            " [278 749]]\n",
            "정확도: 0.7068, 정밀도: 0.6987, 재현율: 0.7293, F1: 0.7137, AUC: 0.7883\n"
          ],
          "name": "stdout"
        }
      ]
    },
    {
      "cell_type": "code",
      "metadata": {
        "id": "FAC4UGcbirMl",
        "colab": {
          "base_uri": "https://localhost:8080/"
        },
        "outputId": "d2b1b553-2bd5-4e31-9eb8-5ba59d9b4e15"
      },
      "source": [
        "from lightgbm import LGBMClassifier\n",
        "\n",
        "light_model = LGBMClassifier()\n",
        "light_model.fit(X_train, y_train)\n",
        "y_pred = light_model.predict(X_val)\n",
        "y_proba = light_model.predict_proba(X_val)[:,1]\n",
        "\n",
        "eval(y_val, y_pred, y_proba)"
      ],
      "execution_count": null,
      "outputs": [
        {
          "output_type": "stream",
          "text": [
            "오차행렬\n",
            "[[691 332]\n",
            " [290 737]]\n",
            "정확도: 0.6966, 정밀도: 0.6894, 재현율: 0.7176, F1: 0.7032, AUC: 0.7827\n"
          ],
          "name": "stdout"
        }
      ]
    },
    {
      "cell_type": "code",
      "metadata": {
        "id": "o5z9JLnNjC89"
      },
      "source": [
        "light_params ={'n_estimators':[10,50,100,200],\n",
        "               'criterion': ['gini', 'entropy'], \n",
        "               'max_depth':[5, 10, 20, 30, 50, None],\n",
        "               'learning_rate' : [0.05 , 0.1, 0.2]\n",
        "                }\n",
        "\n",
        "grid_search_light = GridSearchCV(light_model, light_params, cv =5, scoring='roc_auc')\n",
        "grid_search_light.fit(X_train, y_train)"
      ],
      "execution_count": null,
      "outputs": []
    },
    {
      "cell_type": "code",
      "metadata": {
        "id": "8XWIOjt9qRs1"
      },
      "source": [
        "grid_search_light.best_estimator_"
      ],
      "execution_count": null,
      "outputs": []
    },
    {
      "cell_type": "code",
      "metadata": {
        "id": "9X5EUKXKqWw9"
      },
      "source": [
        "grid_search_light.best_params_"
      ],
      "execution_count": null,
      "outputs": []
    },
    {
      "cell_type": "code",
      "metadata": {
        "id": "I8l-B1bzqYla"
      },
      "source": [
        "grid_search_light.best_score_"
      ],
      "execution_count": null,
      "outputs": []
    },
    {
      "cell_type": "code",
      "metadata": {
        "colab": {
          "base_uri": "https://localhost:8080/"
        },
        "id": "ZTvkThDyqfPT",
        "outputId": "c6c1a2ed-f4a0-4b52-e42c-a5c1f34b81a1"
      },
      "source": [
        "oplight_model = LGBMClassifier(criterion = 'gini', learning_rate = 0.05, max_depth = 20, n_estimators = 200)\n",
        "oplight_model.fit(X_train, y_train)\n",
        "y_pred = oplight_model.predict(X_val)\n",
        "y_proba = oplight_model.predict_proba(X_val)[:,1]\n",
        "\n",
        "eval(y_val, y_pred, y_proba)\n",
        "\n",
        "#정확도: 0.6966, 정밀도: 0.6894, 재현율: 0.7176, F1: 0.7032, AUC: 0.7827 -> 크리티컬한 변화는 없었다."
      ],
      "execution_count": null,
      "outputs": [
        {
          "output_type": "stream",
          "text": [
            "오차행렬\n",
            "[[704 319]\n",
            " [293 734]]\n",
            "정확도: 0.7015, 정밀도: 0.6971, 재현율: 0.7147, F1: 0.7058, AUC: 0.7824\n"
          ],
          "name": "stdout"
        }
      ]
    },
    {
      "cell_type": "markdown",
      "metadata": {
        "id": "QaLgmrxZjpNq"
      },
      "source": [
        "RandomForest, XGBoost, LGBM 3가지 머신러닝 모델에 대해 그리드서치 후 최적의 파라미터를 조정하였다. \n",
        "딥러닝 모델또한 적용해보고 결과를 비교 후 피쳐엔지니어링을 조금 더 생각해볼 것"
      ]
    }
  ]
}